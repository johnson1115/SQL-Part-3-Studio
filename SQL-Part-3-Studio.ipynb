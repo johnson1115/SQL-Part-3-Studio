{
    "metadata": {
        "kernelspec": {
            "name": "SQL",
            "display_name": "SQL",
            "language": "sql"
        },
        "language_info": {
            "name": "sql",
            "version": ""
        },
        "extensions": {
            "azuredatastudio": {
                "version": 1,
                "views": []
            }
        }
    },
    "nbformat_minor": 2,
    "nbformat": 4,
    "cells": [
        {
            "cell_type": "markdown",
            "source": [
                "# SQL Part 3 Studio\n",
                "\n",
                "### Let's practice your SQL quering skills!  For each question, work along in the notebook adding your query and answering the questions. \n",
                "\n",
                "### **DataSet**\n",
                "\n",
                "### <span style=\"font-size: 14px; font-family: -apple-system, BlinkMacSystemFont, sans-serif;\">We will be using the Goodbooks-10k dataset from the exercises in the prep work.&nbsp; Feel free reference your previous notebooks.</span>\n",
                "\n",
                "- The dataset can be found here: [goodbooks-10k](https://www.kaggle.com/zygmunt/goodbooks-10k)\n",
                "- You can access the **BooksDB** in the Launchcode server.\n",
                "\n",
                "### **Business Issue**\n",
                "\n",
                "You are an employee at a small independet bookstore and you have been tasked to increase sales.  You decide to use the BooksDB to find books and themes to highlight in fun promotions throughout each month / season.  We will be starting with March and then you will have a chance to explore another month of your choosing.  We want to come up with a list of events/ promotions to run each month.  If you are looking for ideas to include in your promotions:\n",
                "\n",
                "- [https://www.calendarr.com/united-states/calendar-2022/](https://www.calendarr.com/united-states/calendar-2022/)\n",
                "- [https://www.holidayinsights.com/moreholidays/](https://www.holidayinsights.com/moreholidays/)\n",
                "    - Click on a month and it will take you to a more detailed page"
            ],
            "metadata": {
                "azdata_cell_guid": "b9034d8a-b631-48bf-a895-1012a6ffa784"
            },
            "attachments": {}
        },
        {
            "cell_type": "markdown",
            "source": [
                "## Part 1:  March - Women's History Month, Dr Seuss Day(3/2), National Pie Day3/14, St Patrick's Day (3/17), Season - Spring"
            ],
            "metadata": {
                "azdata_cell_guid": "6e55eb1c-4a14-4076-90d2-95ed17a6309f"
            },
            "attachments": {}
        },
        {
            "cell_type": "markdown",
            "source": [
                "### **Event 1:** Women's History Month\n",
                "\n",
                "Goal: Highlight Popular Womans Authors based on ratings from the Good Reads DB.\n",
                "\n",
                "### **Write a query that returns tag\\_id, the number of times each tag\\_id is used and the tag\\_name.**  \n",
                "\n",
                "### Use the GROUP BY and HAVING clause to narrow your focus.\n",
                "\n",
                "Try multiple keywords, ie woman vs female (female ended up giving better results)"
            ],
            "metadata": {
                "azdata_cell_guid": "d220c097-e9cf-4edd-9abe-312d071217b7"
            },
            "attachments": {}
        },
        {
            "cell_type": "code",
            "source": [
                "-- Solution\r\n",
                "SELECT count(*)\r\n",
                "FROM BooksDB.dbo.tags AS t\r\n",
                "WHERE tag_name LIKE '%female%'\r\n",
                "   or tag_name like '%women%'\r\n",
                "   or tag_name like '%woman%';\r\n",
                ""
            ],
            "metadata": {
                "azdata_cell_guid": "e31b9d26-0386-44c7-828e-85f4f06f3ee6",
                "language": "sql",
                "tags": []
            },
            "outputs": [
                {
                    "output_type": "display_data",
                    "data": {
                        "text/html": "(1 row affected)"
                    },
                    "metadata": {}
                },
                {
                    "output_type": "display_data",
                    "data": {
                        "text/html": "Total execution time: 00:00:00.164"
                    },
                    "metadata": {}
                },
                {
                    "output_type": "execute_result",
                    "execution_count": 7,
                    "data": {
                        "application/vnd.dataresource+json": {
                            "schema": {
                                "fields": [
                                    {
                                        "name": "(No column name)"
                                    }
                                ]
                            },
                            "data": [
                                {
                                    "0": "151"
                                }
                            ]
                        },
                        "text/html": "<table><tr><th>(No column name)</th></tr><tr><td>151</td></tr></table>"
                    },
                    "metadata": {}
                }
            ],
            "execution_count": 7
        },
        {
            "cell_type": "code",
            "source": [
                "select top 10 *\r\n",
                "from BooksDB.dbo.ratings"
            ],
            "metadata": {
                "language": "sql",
                "azdata_cell_guid": "a1947ea7-d197-4c8c-81e3-c22a4472e70c"
            },
            "outputs": [
                {
                    "output_type": "display_data",
                    "data": {
                        "text/html": "(10 rows affected)"
                    },
                    "metadata": {}
                },
                {
                    "output_type": "display_data",
                    "data": {
                        "text/html": "Total execution time: 00:00:00.033"
                    },
                    "metadata": {}
                },
                {
                    "output_type": "execute_result",
                    "execution_count": 9,
                    "data": {
                        "application/vnd.dataresource+json": {
                            "schema": {
                                "fields": [
                                    {
                                        "name": "book_id"
                                    },
                                    {
                                        "name": "user_id"
                                    },
                                    {
                                        "name": "rating"
                                    }
                                ]
                            },
                            "data": [
                                {
                                    "0": "59",
                                    "1": "35146",
                                    "2": "4"
                                },
                                {
                                    "0": "59",
                                    "1": "36099",
                                    "2": "5"
                                },
                                {
                                    "0": "59",
                                    "1": "36695",
                                    "2": "4"
                                },
                                {
                                    "0": "59",
                                    "1": "37284",
                                    "2": "3"
                                },
                                {
                                    "0": "59",
                                    "1": "37834",
                                    "2": "4"
                                },
                                {
                                    "0": "59",
                                    "1": "42508",
                                    "2": "5"
                                },
                                {
                                    "0": "59",
                                    "1": "42574",
                                    "2": "2"
                                },
                                {
                                    "0": "59",
                                    "1": "44397",
                                    "2": "5"
                                },
                                {
                                    "0": "59",
                                    "1": "46421",
                                    "2": "5"
                                },
                                {
                                    "0": "59",
                                    "1": "47411",
                                    "2": "3"
                                }
                            ]
                        },
                        "text/html": "<table><tr><th>book_id</th><th>user_id</th><th>rating</th></tr><tr><td>59</td><td>35146</td><td>4</td></tr><tr><td>59</td><td>36099</td><td>5</td></tr><tr><td>59</td><td>36695</td><td>4</td></tr><tr><td>59</td><td>37284</td><td>3</td></tr><tr><td>59</td><td>37834</td><td>4</td></tr><tr><td>59</td><td>42508</td><td>5</td></tr><tr><td>59</td><td>42574</td><td>2</td></tr><tr><td>59</td><td>44397</td><td>5</td></tr><tr><td>59</td><td>46421</td><td>5</td></tr><tr><td>59</td><td>47411</td><td>3</td></tr></table>"
                    },
                    "metadata": {}
                }
            ],
            "execution_count": 9
        },
        {
            "cell_type": "code",
            "source": [
                "SELECT t.tag_id, t.tag_name, count(*) as user_count\r\n",
                "FROM BooksDB.dbo.tags AS t\r\n",
                "INNER JOIN BooksDB.dbo.ratings AS r\r\n",
                "ON t.tag_id = r.user_id\r\n",
                "WHERE tag_name LIKE '%female%'\r\n",
                "   or tag_name like '%women%'\r\n",
                "   or tag_name like '%woman%'\r\n",
                "group by t.tag_id, t.tag_name\r\n",
                "order by user_count desc;"
            ],
            "metadata": {
                "azdata_cell_guid": "7ba55eee-37c1-4ded-9ff1-37ae708e5b99",
                "language": "sql"
            },
            "outputs": [
                {
                    "output_type": "display_data",
                    "data": {
                        "text/html": "(151 rows affected)"
                    },
                    "metadata": {}
                },
                {
                    "output_type": "display_data",
                    "data": {
                        "text/html": "Total execution time: 00:00:00.243"
                    },
                    "metadata": {}
                },
                {
                    "output_type": "execute_result",
                    "execution_count": 12,
                    "data": {
                        "application/vnd.dataresource+json": {
                            "schema": {
                                "fields": [
                                    {
                                        "name": "tag_id"
                                    },
                                    {
                                        "name": "tag_name"
                                    },
                                    {
                                        "name": "user_count"
                                    }
                                ]
                            },
                            "data": [
                                {
                                    "0": "28831",
                                    "1": "strong-female-character",
                                    "2": "134"
                                },
                                {
                                    "0": "23892",
                                    "1": "policewomen",
                                    "2": "113"
                                },
                                {
                                    "0": "16123",
                                    "1": "james-patterson-womens-murder-club",
                                    "2": "109"
                                },
                                {
                                    "0": "20722",
                                    "1": "muslim-women",
                                    "2": "103"
                                },
                                {
                                    "0": "11644",
                                    "1": "female-authors",
                                    "2": "103"
                                },
                                {
                                    "0": "32710",
                                    "1": "women-s-history",
                                    "2": "95"
                                },
                                {
                                    "0": "32690",
                                    "1": "women-feminism",
                                    "2": "94"
                                },
                                {
                                    "0": "16121",
                                    "1": "james-patterson-women-s-murder-cl",
                                    "2": "90"
                                },
                                {
                                    "0": "28834",
                                    "1": "strong-female-lead",
                                    "2": "86"
                                },
                                {
                                    "0": "22270",
                                    "1": "older-woman",
                                    "2": "68"
                                },
                                {
                                    "0": "11649",
                                    "1": "female-fiction",
                                    "2": "66"
                                },
                                {
                                    "0": "32702",
                                    "1": "women-of-the-otherworld",
                                    "2": "65"
                                },
                                {
                                    "0": "23891",
                                    "1": "policewoman-potential-victim",
                                    "2": "62"
                                },
                                {
                                    "0": "22740",
                                    "1": "own-written-by-women",
                                    "2": "60"
                                },
                                {
                                    "0": "32687",
                                    "1": "women-and-religion",
                                    "2": "57"
                                },
                                {
                                    "0": "11662",
                                    "1": "female-writers",
                                    "2": "54"
                                },
                                {
                                    "0": "32703",
                                    "1": "women-of-the-otherworld-series",
                                    "2": "53"
                                },
                                {
                                    "0": "11642",
                                    "1": "female",
                                    "2": "52"
                                },
                                {
                                    "0": "18423",
                                    "1": "little-women",
                                    "2": "48"
                                },
                                {
                                    "0": "937",
                                    "1": "21-books-every-woman-should-read",
                                    "2": "43"
                                },
                                {
                                    "0": "32727",
                                    "1": "womens-fiction-chick-lit",
                                    "2": "38"
                                },
                                {
                                    "0": "11652",
                                    "1": "female-lead",
                                    "2": "36"
                                },
                                {
                                    "0": "32717",
                                    "1": "women-s-murder-club-series",
                                    "2": "34"
                                },
                                {
                                    "0": "22269",
                                    "1": "older-man-younger-woman",
                                    "2": "33"
                                },
                                {
                                    "0": "32705",
                                    "1": "women-read",
                                    "2": "32"
                                },
                                {
                                    "0": "6038",
                                    "1": "by-women",
                                    "2": "30"
                                },
                                {
                                    "0": "19757",
                                    "1": "memorable-woman-characters",
                                    "2": "29"
                                },
                                {
                                    "0": "7332",
                                    "1": "cis-women",
                                    "2": "29"
                                },
                                {
                                    "0": "452",
                                    "1": "1960s-women-s-status",
                                    "2": "28"
                                },
                                {
                                    "0": "32725",
                                    "1": "womens",
                                    "2": "26"
                                },
                                {
                                    "0": "1386",
                                    "1": "a-woman-after-god-s-own-heart",
                                    "2": "26"
                                },
                                {
                                    "0": "5129",
                                    "1": "books-by-women",
                                    "2": "26"
                                },
                                {
                                    "0": "32692",
                                    "1": "women-friends",
                                    "2": "25"
                                },
                                {
                                    "0": "32682",
                                    "1": "woman-trans-agender-authors",
                                    "2": "25"
                                },
                                {
                                    "0": "32719",
                                    "1": "women-s-rights",
                                    "2": "22"
                                },
                                {
                                    "0": "16122",
                                    "1": "james-patterson-women-s-murder-club",
                                    "2": "22"
                                },
                                {
                                    "0": "28836",
                                    "1": "strong-female-supporting-characters",
                                    "2": "21"
                                },
                                {
                                    "0": "4006",
                                    "1": "batwoman",
                                    "2": "21"
                                },
                                {
                                    "0": "12694",
                                    "1": "funny-women",
                                    "2": "21"
                                },
                                {
                                    "0": "28839",
                                    "1": "strong-women",
                                    "2": "20"
                                },
                                {
                                    "0": "4729",
                                    "1": "black-ops-woman-team-cia-sean-case",
                                    "2": "20"
                                },
                                {
                                    "0": "32718",
                                    "1": "women-s-prize-for-fiction",
                                    "2": "19"
                                },
                                {
                                    "0": "32689",
                                    "1": "women-entrepeneurs",
                                    "2": "19"
                                },
                                {
                                    "0": "11653",
                                    "1": "female-main-character",
                                    "2": "19"
                                },
                                {
                                    "0": "14494",
                                    "1": "historical-fiction-civil-war-women",
                                    "2": "19"
                                },
                                {
                                    "0": "32733",
                                    "1": "womens-murder-club-series",
                                    "2": "18"
                                },
                                {
                                    "0": "11654",
                                    "1": "female-persuasion",
                                    "2": "18"
                                },
                                {
                                    "0": "27324",
                                    "1": "series-women-of-the-otherworld",
                                    "2": "17"
                                },
                                {
                                    "0": "3476",
                                    "1": "australian-women-writers",
                                    "2": "16"
                                },
                                {
                                    "0": "23125",
                                    "1": "patterson-womens-murder-club",
                                    "2": "15"
                                },
                                {
                                    "0": "32707",
                                    "1": "women-s-bible-study",
                                    "2": "14"
                                },
                                {
                                    "0": "32697",
                                    "1": "women-literature",
                                    "2": "13"
                                },
                                {
                                    "0": "32681",
                                    "1": "woman-s-murder-club",
                                    "2": "13"
                                },
                                {
                                    "0": "32680",
                                    "1": "woman-s-fiction",
                                    "2": "13"
                                },
                                {
                                    "0": "2824",
                                    "1": "arab-women",
                                    "2": "13"
                                },
                                {
                                    "0": "28833",
                                    "1": "strong-female-characters",
                                    "2": "13"
                                },
                                {
                                    "0": "23672",
                                    "1": "pioneer-women",
                                    "2": "13"
                                },
                                {
                                    "0": "11656",
                                    "1": "female-pov",
                                    "2": "13"
                                },
                                {
                                    "0": "11657",
                                    "1": "female-povs",
                                    "2": "12"
                                },
                                {
                                    "0": "32740",
                                    "1": "wonder-woman",
                                    "2": "10"
                                },
                                {
                                    "0": "1149",
                                    "1": "500-women",
                                    "2": "10"
                                },
                                {
                                    "0": "1387",
                                    "1": "a-woman-after-gods-own-heart",
                                    "2": "9"
                                },
                                {
                                    "0": "1503",
                                    "1": "abused-women",
                                    "2": "9"
                                },
                                {
                                    "0": "32728",
                                    "1": "womens-health",
                                    "2": "9"
                                },
                                {
                                    "0": "23124",
                                    "1": "patterson-women-s-murder-club",
                                    "2": "9"
                                },
                                {
                                    "0": "1741",
                                    "1": "afghan-female-entrepreneur-under-ta",
                                    "2": "9"
                                },
                                {
                                    "0": "28830",
                                    "1": "strong-female",
                                    "2": "9"
                                },
                                {
                                    "0": "19772",
                                    "1": "men-women-relations",
                                    "2": "8"
                                },
                                {
                                    "0": "23671",
                                    "1": "pioneer-woman",
                                    "2": "8"
                                },
                                {
                                    "0": "32685",
                                    "1": "womans-murder-club",
                                    "2": "8"
                                },
                                {
                                    "0": "11660",
                                    "1": "female-spy",
                                    "2": "8"
                                },
                                {
                                    "0": "15331",
                                    "1": "important-female-authors",
                                    "2": "7"
                                },
                                {
                                    "0": "32735",
                                    "1": "womens-studies",
                                    "2": "7"
                                },
                                {
                                    "0": "11648",
                                    "1": "female-doctor",
                                    "2": "7"
                                },
                                {
                                    "0": "32695",
                                    "1": "women-in-translation",
                                    "2": "7"
                                },
                                {
                                    "0": "7194",
                                    "1": "christian-woman",
                                    "2": "7"
                                },
                                {
                                    "0": "11650",
                                    "1": "female-friendship",
                                    "2": "7"
                                },
                                {
                                    "0": "32686",
                                    "1": "women",
                                    "2": "7"
                                },
                                {
                                    "0": "11647",
                                    "1": "female-detectives",
                                    "2": "6"
                                },
                                {
                                    "0": "1082",
                                    "1": "4-women-intertwined-stories",
                                    "2": "6"
                                },
                                {
                                    "0": "32684",
                                    "1": "womans-literature",
                                    "2": "6"
                                },
                                {
                                    "0": "32683",
                                    "1": "womanhood",
                                    "2": "6"
                                },
                                {
                                    "0": "7195",
                                    "1": "christian-women",
                                    "2": "6"
                                },
                                {
                                    "0": "32723",
                                    "1": "women-write-big-books",
                                    "2": "6"
                                },
                                {
                                    "0": "24455",
                                    "1": "protagonist-female",
                                    "2": "6"
                                },
                                {
                                    "0": "11661",
                                    "1": "female-writer",
                                    "2": "6"
                                },
                                {
                                    "0": "10308",
                                    "1": "education-for-women",
                                    "2": "6"
                                },
                                {
                                    "0": "12601",
                                    "1": "friendship-women",
                                    "2": "6"
                                },
                                {
                                    "0": "4622",
                                    "1": "biography-women",
                                    "2": "6"
                                },
                                {
                                    "0": "27824",
                                    "1": "single-women",
                                    "2": "5"
                                },
                                {
                                    "0": "11659",
                                    "1": "female-serial-killer",
                                    "2": "5"
                                },
                                {
                                    "0": "32724",
                                    "1": "women-writers",
                                    "2": "5"
                                },
                                {
                                    "0": "29324",
                                    "1": "tbr-ax-female",
                                    "2": "5"
                                },
                                {
                                    "0": "32715",
                                    "1": "women-s-murder",
                                    "2": "5"
                                },
                                {
                                    "0": "32679",
                                    "1": "woman-author",
                                    "2": "5"
                                },
                                {
                                    "0": "11655",
                                    "1": "female-pi",
                                    "2": "5"
                                },
                                {
                                    "0": "32712",
                                    "1": "women-s-lit",
                                    "2": "5"
                                },
                                {
                                    "0": "32730",
                                    "1": "womens-lit",
                                    "2": "5"
                                },
                                {
                                    "0": "19771",
                                    "1": "men-women",
                                    "2": "5"
                                },
                                {
                                    "0": "32709",
                                    "1": "women-s-health",
                                    "2": "5"
                                },
                                {
                                    "0": "19038",
                                    "1": "man-woman",
                                    "2": "5"
                                },
                                {
                                    "0": "32720",
                                    "1": "women-s-studies",
                                    "2": "4"
                                },
                                {
                                    "0": "32721",
                                    "1": "women-studies",
                                    "2": "4"
                                },
                                {
                                    "0": "3514",
                                    "1": "author-female",
                                    "2": "4"
                                },
                                {
                                    "0": "12328",
                                    "1": "for-women",
                                    "2": "4"
                                },
                                {
                                    "0": "32711",
                                    "1": "women-s-issues",
                                    "2": "4"
                                },
                                {
                                    "0": "32691",
                                    "1": "women-fiction",
                                    "2": "4"
                                },
                                {
                                    "0": "32694",
                                    "1": "women-in-medicine",
                                    "2": "4"
                                },
                                {
                                    "0": "32696",
                                    "1": "women-in-war",
                                    "2": "4"
                                },
                                {
                                    "0": "32706",
                                    "1": "women-s",
                                    "2": "4"
                                },
                                {
                                    "0": "15869",
                                    "1": "islamic-women",
                                    "2": "4"
                                },
                                {
                                    "0": "11645",
                                    "1": "female-biographies",
                                    "2": "3"
                                },
                                {
                                    "0": "891",
                                    "1": "2017-read-women",
                                    "2": "3"
                                },
                                {
                                    "0": "32713",
                                    "1": "women-s-literature",
                                    "2": "3"
                                },
                                {
                                    "0": "32731",
                                    "1": "womens-lit-to-read",
                                    "2": "3"
                                },
                                {
                                    "0": "10986",
                                    "1": "every-woman-should-read",
                                    "2": "3"
                                },
                                {
                                    "0": "32708",
                                    "1": "women-s-fiction",
                                    "2": "3"
                                },
                                {
                                    "0": "32734",
                                    "1": "womens-stories",
                                    "2": "3"
                                },
                                {
                                    "0": "32704",
                                    "1": "women-of-the-underworld",
                                    "2": "3"
                                },
                                {
                                    "0": "32701",
                                    "1": "women-of-faith",
                                    "2": "3"
                                },
                                {
                                    "0": "32700",
                                    "1": "women-of-color",
                                    "2": "3"
                                },
                                {
                                    "0": "32699",
                                    "1": "women-of-a-certain-age",
                                    "2": "3"
                                },
                                {
                                    "0": "11651",
                                    "1": "female-genre-authors",
                                    "2": "3"
                                },
                                {
                                    "0": "7033",
                                    "1": "chinese-women",
                                    "2": "3"
                                },
                                {
                                    "0": "28835",
                                    "1": "strong-female-protagonist",
                                    "2": "3"
                                },
                                {
                                    "0": "28832",
                                    "1": "strong-female-character-s",
                                    "2": "3"
                                },
                                {
                                    "0": "3162",
                                    "1": "artist-women-bio",
                                    "2": "3"
                                },
                                {
                                    "0": "6267",
                                    "1": "career-women",
                                    "2": "3"
                                },
                                {
                                    "0": "4309",
                                    "1": "best-adult-female-friendship-books",
                                    "2": "3"
                                },
                                {
                                    "0": "13810",
                                    "1": "gutsy-women",
                                    "2": "3"
                                },
                                {
                                    "0": "17079",
                                    "1": "kick-ass-female",
                                    "2": "3"
                                },
                                {
                                    "0": "5132",
                                    "1": "books-every-woman-should-read",
                                    "2": "3"
                                },
                                {
                                    "0": "11646",
                                    "1": "female-detective",
                                    "2": "2"
                                },
                                {
                                    "0": "32698",
                                    "1": "women-murder-club",
                                    "2": "2"
                                },
                                {
                                    "0": "32693",
                                    "1": "women-friendships",
                                    "2": "2"
                                },
                                {
                                    "0": "32688",
                                    "1": "women-authors",
                                    "2": "2"
                                },
                                {
                                    "0": "32714",
                                    "1": "women-s-ministry",
                                    "2": "2"
                                },
                                {
                                    "0": "29914",
                                    "1": "the-life-of-women-in-royal-family-o",
                                    "2": "2"
                                },
                                {
                                    "0": "32716",
                                    "1": "women-s-murder-club",
                                    "2": "2"
                                },
                                {
                                    "0": "11658",
                                    "1": "female-protagonist",
                                    "2": "2"
                                },
                                {
                                    "0": "27325",
                                    "1": "series-womens-murder-club",
                                    "2": "2"
                                },
                                {
                                    "0": "32722",
                                    "1": "women-words-wine",
                                    "2": "2"
                                },
                                {
                                    "0": "25409",
                                    "1": "readwomen2016",
                                    "2": "2"
                                },
                                {
                                    "0": "25408",
                                    "1": "readwomen2014",
                                    "2": "2"
                                },
                                {
                                    "0": "11643",
                                    "1": "female-author",
                                    "2": "2"
                                },
                                {
                                    "0": "32726",
                                    "1": "womens-fiction",
                                    "2": "2"
                                },
                                {
                                    "0": "22271",
                                    "1": "older-woman-younger-man",
                                    "2": "2"
                                },
                                {
                                    "0": "32729",
                                    "1": "womens-issues",
                                    "2": "2"
                                },
                                {
                                    "0": "4455",
                                    "1": "biblical-womanhood",
                                    "2": "2"
                                },
                                {
                                    "0": "32732",
                                    "1": "womens-murder-club",
                                    "2": "2"
                                },
                                {
                                    "0": "4603",
                                    "1": "biographies-of-women",
                                    "2": "2"
                                }
                            ]
                        },
                        "text/html": "<table><tr><th>tag_id</th><th>tag_name</th><th>user_count</th></tr><tr><td>28831</td><td>strong-female-character</td><td>134</td></tr><tr><td>23892</td><td>policewomen</td><td>113</td></tr><tr><td>16123</td><td>james-patterson-womens-murder-club</td><td>109</td></tr><tr><td>20722</td><td>muslim-women</td><td>103</td></tr><tr><td>11644</td><td>female-authors</td><td>103</td></tr><tr><td>32710</td><td>women-s-history</td><td>95</td></tr><tr><td>32690</td><td>women-feminism</td><td>94</td></tr><tr><td>16121</td><td>james-patterson-women-s-murder-cl</td><td>90</td></tr><tr><td>28834</td><td>strong-female-lead</td><td>86</td></tr><tr><td>22270</td><td>older-woman</td><td>68</td></tr><tr><td>11649</td><td>female-fiction</td><td>66</td></tr><tr><td>32702</td><td>women-of-the-otherworld</td><td>65</td></tr><tr><td>23891</td><td>policewoman-potential-victim</td><td>62</td></tr><tr><td>22740</td><td>own-written-by-women</td><td>60</td></tr><tr><td>32687</td><td>women-and-religion</td><td>57</td></tr><tr><td>11662</td><td>female-writers</td><td>54</td></tr><tr><td>32703</td><td>women-of-the-otherworld-series</td><td>53</td></tr><tr><td>11642</td><td>female</td><td>52</td></tr><tr><td>18423</td><td>little-women</td><td>48</td></tr><tr><td>937</td><td>21-books-every-woman-should-read</td><td>43</td></tr><tr><td>32727</td><td>womens-fiction-chick-lit</td><td>38</td></tr><tr><td>11652</td><td>female-lead</td><td>36</td></tr><tr><td>32717</td><td>women-s-murder-club-series</td><td>34</td></tr><tr><td>22269</td><td>older-man-younger-woman</td><td>33</td></tr><tr><td>32705</td><td>women-read</td><td>32</td></tr><tr><td>6038</td><td>by-women</td><td>30</td></tr><tr><td>19757</td><td>memorable-woman-characters</td><td>29</td></tr><tr><td>7332</td><td>cis-women</td><td>29</td></tr><tr><td>452</td><td>1960s-women-s-status</td><td>28</td></tr><tr><td>32725</td><td>womens</td><td>26</td></tr><tr><td>1386</td><td>a-woman-after-god-s-own-heart</td><td>26</td></tr><tr><td>5129</td><td>books-by-women</td><td>26</td></tr><tr><td>32692</td><td>women-friends</td><td>25</td></tr><tr><td>32682</td><td>woman-trans-agender-authors</td><td>25</td></tr><tr><td>32719</td><td>women-s-rights</td><td>22</td></tr><tr><td>16122</td><td>james-patterson-women-s-murder-club</td><td>22</td></tr><tr><td>28836</td><td>strong-female-supporting-characters</td><td>21</td></tr><tr><td>4006</td><td>batwoman</td><td>21</td></tr><tr><td>12694</td><td>funny-women</td><td>21</td></tr><tr><td>28839</td><td>strong-women</td><td>20</td></tr><tr><td>4729</td><td>black-ops-woman-team-cia-sean-case</td><td>20</td></tr><tr><td>32718</td><td>women-s-prize-for-fiction</td><td>19</td></tr><tr><td>32689</td><td>women-entrepeneurs</td><td>19</td></tr><tr><td>11653</td><td>female-main-character</td><td>19</td></tr><tr><td>14494</td><td>historical-fiction-civil-war-women</td><td>19</td></tr><tr><td>32733</td><td>womens-murder-club-series</td><td>18</td></tr><tr><td>11654</td><td>female-persuasion</td><td>18</td></tr><tr><td>27324</td><td>series-women-of-the-otherworld</td><td>17</td></tr><tr><td>3476</td><td>australian-women-writers</td><td>16</td></tr><tr><td>23125</td><td>patterson-womens-murder-club</td><td>15</td></tr><tr><td>32707</td><td>women-s-bible-study</td><td>14</td></tr><tr><td>32697</td><td>women-literature</td><td>13</td></tr><tr><td>32681</td><td>woman-s-murder-club</td><td>13</td></tr><tr><td>32680</td><td>woman-s-fiction</td><td>13</td></tr><tr><td>2824</td><td>arab-women</td><td>13</td></tr><tr><td>28833</td><td>strong-female-characters</td><td>13</td></tr><tr><td>23672</td><td>pioneer-women</td><td>13</td></tr><tr><td>11656</td><td>female-pov</td><td>13</td></tr><tr><td>11657</td><td>female-povs</td><td>12</td></tr><tr><td>32740</td><td>wonder-woman</td><td>10</td></tr><tr><td>1149</td><td>500-women</td><td>10</td></tr><tr><td>1387</td><td>a-woman-after-gods-own-heart</td><td>9</td></tr><tr><td>1503</td><td>abused-women</td><td>9</td></tr><tr><td>32728</td><td>womens-health</td><td>9</td></tr><tr><td>23124</td><td>patterson-women-s-murder-club</td><td>9</td></tr><tr><td>1741</td><td>afghan-female-entrepreneur-under-ta</td><td>9</td></tr><tr><td>28830</td><td>strong-female</td><td>9</td></tr><tr><td>19772</td><td>men-women-relations</td><td>8</td></tr><tr><td>23671</td><td>pioneer-woman</td><td>8</td></tr><tr><td>32685</td><td>womans-murder-club</td><td>8</td></tr><tr><td>11660</td><td>female-spy</td><td>8</td></tr><tr><td>15331</td><td>important-female-authors</td><td>7</td></tr><tr><td>32735</td><td>womens-studies</td><td>7</td></tr><tr><td>11648</td><td>female-doctor</td><td>7</td></tr><tr><td>32695</td><td>women-in-translation</td><td>7</td></tr><tr><td>7194</td><td>christian-woman</td><td>7</td></tr><tr><td>11650</td><td>female-friendship</td><td>7</td></tr><tr><td>32686</td><td>women</td><td>7</td></tr><tr><td>11647</td><td>female-detectives</td><td>6</td></tr><tr><td>1082</td><td>4-women-intertwined-stories</td><td>6</td></tr><tr><td>32684</td><td>womans-literature</td><td>6</td></tr><tr><td>32683</td><td>womanhood</td><td>6</td></tr><tr><td>7195</td><td>christian-women</td><td>6</td></tr><tr><td>32723</td><td>women-write-big-books</td><td>6</td></tr><tr><td>24455</td><td>protagonist-female</td><td>6</td></tr><tr><td>11661</td><td>female-writer</td><td>6</td></tr><tr><td>10308</td><td>education-for-women</td><td>6</td></tr><tr><td>12601</td><td>friendship-women</td><td>6</td></tr><tr><td>4622</td><td>biography-women</td><td>6</td></tr><tr><td>27824</td><td>single-women</td><td>5</td></tr><tr><td>11659</td><td>female-serial-killer</td><td>5</td></tr><tr><td>32724</td><td>women-writers</td><td>5</td></tr><tr><td>29324</td><td>tbr-ax-female</td><td>5</td></tr><tr><td>32715</td><td>women-s-murder</td><td>5</td></tr><tr><td>32679</td><td>woman-author</td><td>5</td></tr><tr><td>11655</td><td>female-pi</td><td>5</td></tr><tr><td>32712</td><td>women-s-lit</td><td>5</td></tr><tr><td>32730</td><td>womens-lit</td><td>5</td></tr><tr><td>19771</td><td>men-women</td><td>5</td></tr><tr><td>32709</td><td>women-s-health</td><td>5</td></tr><tr><td>19038</td><td>man-woman</td><td>5</td></tr><tr><td>32720</td><td>women-s-studies</td><td>4</td></tr><tr><td>32721</td><td>women-studies</td><td>4</td></tr><tr><td>3514</td><td>author-female</td><td>4</td></tr><tr><td>12328</td><td>for-women</td><td>4</td></tr><tr><td>32711</td><td>women-s-issues</td><td>4</td></tr><tr><td>32691</td><td>women-fiction</td><td>4</td></tr><tr><td>32694</td><td>women-in-medicine</td><td>4</td></tr><tr><td>32696</td><td>women-in-war</td><td>4</td></tr><tr><td>32706</td><td>women-s</td><td>4</td></tr><tr><td>15869</td><td>islamic-women</td><td>4</td></tr><tr><td>11645</td><td>female-biographies</td><td>3</td></tr><tr><td>891</td><td>2017-read-women</td><td>3</td></tr><tr><td>32713</td><td>women-s-literature</td><td>3</td></tr><tr><td>32731</td><td>womens-lit-to-read</td><td>3</td></tr><tr><td>10986</td><td>every-woman-should-read</td><td>3</td></tr><tr><td>32708</td><td>women-s-fiction</td><td>3</td></tr><tr><td>32734</td><td>womens-stories</td><td>3</td></tr><tr><td>32704</td><td>women-of-the-underworld</td><td>3</td></tr><tr><td>32701</td><td>women-of-faith</td><td>3</td></tr><tr><td>32700</td><td>women-of-color</td><td>3</td></tr><tr><td>32699</td><td>women-of-a-certain-age</td><td>3</td></tr><tr><td>11651</td><td>female-genre-authors</td><td>3</td></tr><tr><td>7033</td><td>chinese-women</td><td>3</td></tr><tr><td>28835</td><td>strong-female-protagonist</td><td>3</td></tr><tr><td>28832</td><td>strong-female-character-s</td><td>3</td></tr><tr><td>3162</td><td>artist-women-bio</td><td>3</td></tr><tr><td>6267</td><td>career-women</td><td>3</td></tr><tr><td>4309</td><td>best-adult-female-friendship-books</td><td>3</td></tr><tr><td>13810</td><td>gutsy-women</td><td>3</td></tr><tr><td>17079</td><td>kick-ass-female</td><td>3</td></tr><tr><td>5132</td><td>books-every-woman-should-read</td><td>3</td></tr><tr><td>11646</td><td>female-detective</td><td>2</td></tr><tr><td>32698</td><td>women-murder-club</td><td>2</td></tr><tr><td>32693</td><td>women-friendships</td><td>2</td></tr><tr><td>32688</td><td>women-authors</td><td>2</td></tr><tr><td>32714</td><td>women-s-ministry</td><td>2</td></tr><tr><td>29914</td><td>the-life-of-women-in-royal-family-o</td><td>2</td></tr><tr><td>32716</td><td>women-s-murder-club</td><td>2</td></tr><tr><td>11658</td><td>female-protagonist</td><td>2</td></tr><tr><td>27325</td><td>series-womens-murder-club</td><td>2</td></tr><tr><td>32722</td><td>women-words-wine</td><td>2</td></tr><tr><td>25409</td><td>readwomen2016</td><td>2</td></tr><tr><td>25408</td><td>readwomen2014</td><td>2</td></tr><tr><td>11643</td><td>female-author</td><td>2</td></tr><tr><td>32726</td><td>womens-fiction</td><td>2</td></tr><tr><td>22271</td><td>older-woman-younger-man</td><td>2</td></tr><tr><td>32729</td><td>womens-issues</td><td>2</td></tr><tr><td>4455</td><td>biblical-womanhood</td><td>2</td></tr><tr><td>32732</td><td>womens-murder-club</td><td>2</td></tr><tr><td>4603</td><td>biographies-of-women</td><td>2</td></tr></table>"
                    },
                    "metadata": {}
                }
            ],
            "execution_count": 12
        },
        {
            "cell_type": "markdown",
            "source": [
                "### **Which keyword(s) and tag(s) would you like to explore more?**\n",
                "\n",
                "Double click to edit. key workds: women, woman, female, author, writer, by. tags: female-authors, own-written-by-women, female-writers, by-women, books-by-women, important-female-authors,"
            ],
            "metadata": {
                "azdata_cell_guid": "e9acd8b5-a62b-4ac0-bd07-19915b379ba6"
            },
            "attachments": {}
        },
        {
            "cell_type": "markdown",
            "source": [
                "### **Write a query to return authors, titles, ratings and** **selected tag(s)\\_id.**"
            ],
            "metadata": {
                "azdata_cell_guid": "59b84464-c0bc-4dac-9e02-0c803765b063"
            },
            "attachments": {}
        },
        {
            "cell_type": "code",
            "source": [
                "-- Solution\r\n",
                "\r\n",
                "select b.authors\r\n",
                "     , b.title\r\n",
                "     , b.average_rating\r\n",
                "     , t.tag_id\r\n",
                "     , t.tag_name \r\n",
                "  from BooksDB.dbo.books as b \r\n",
                "  left join BooksDB.dbo.book_tags as bt\r\n",
                "    on b.book_id = bt.goodreads_book_id\r\n",
                "  left join BooksDB.dbo.tags as t\r\n",
                "    on bt.tag_id = t.tag_id\r\n",
                " where t.tag_name in ( 'female-authors'\r\n",
                "                     , 'female-writers'\r\n",
                "                     , 'books-by-women')\r\n",
                " order by b.average_rating DESC, b.authors, b.title"
            ],
            "metadata": {
                "azdata_cell_guid": "51ffeaaf-6dde-4906-95f3-eb8757babf27",
                "tags": [],
                "language": "sql"
            },
            "outputs": [
                {
                    "output_type": "display_data",
                    "data": {
                        "text/html": "(746 rows affected)"
                    },
                    "metadata": {}
                },
                {
                    "output_type": "display_data",
                    "data": {
                        "text/html": "Total execution time: 00:00:00.222"
                    },
                    "metadata": {}
                },
                {
                    "output_type": "execute_result",
                    "execution_count": 27,
                    "data": {
                        "application/vnd.dataresource+json": {
                            "schema": {
                                "fields": [
                                    {
                                        "name": "authors"
                                    },
                                    {
                                        "name": "title"
                                    },
                                    {
                                        "name": "average_rating"
                                    },
                                    {
                                        "name": "tag_id"
                                    },
                                    {
                                        "name": "tag_name"
                                    }
                                ]
                            },
                            "data": [
                                {
                                    "0": "Jane Austen",
                                    "1": "The Complete Novels",
                                    "2": "4.55",
                                    "3": "11644",
                                    "4": "female-authors"
                                },
                                {
                                    "0": "Robin Hobb",
                                    "1": "Fool's Quest  (The Fitz and The Fool, #2)",
                                    "2": "4.53",
                                    "3": "11644",
                                    "4": "female-authors"
                                },
                                {
                                    "0": "C.S. Pacat",
                                    "1": "Kings Rising (Captive Prince, #3)",
                                    "2": "4.5",
                                    "3": "11644",
                                    "4": "female-authors"
                                },
                                {
                                    "0": "Hiromu Arakawa, Akira Watanabe",
                                    "1": "Fullmetal Alchemist, Vol. 1 (Fullmetal Alchemist, #1)",
                                    "2": "4.49",
                                    "3": "11644",
                                    "4": "female-authors"
                                },
                                {
                                    "0": "Chimamanda Ngozi Adichie",
                                    "1": "We Should All Be Feminists",
                                    "2": "4.47",
                                    "3": "11644",
                                    "4": "female-authors"
                                },
                                {
                                    "0": "Flannery O'Connor",
                                    "1": "The Complete Stories",
                                    "2": "4.44",
                                    "3": "11644",
                                    "4": "female-authors"
                                },
                                {
                                    "0": "Barbara Demick",
                                    "1": "Nothing to Envy: Ordinary Lives in North Korea",
                                    "2": "4.42",
                                    "3": "11644",
                                    "4": "female-authors"
                                },
                                {
                                    "0": "Yaa Gyasi",
                                    "1": "Homegoing",
                                    "2": "4.41",
                                    "3": "11644",
                                    "4": "female-authors"
                                },
                                {
                                    "0": "Bernadette Rossetti-Shustak, Caroline Jayne Church",
                                    "1": "I Love You Through and Through",
                                    "2": "4.39",
                                    "3": "11644",
                                    "4": "female-authors"
                                },
                                {
                                    "0": "Elena Ferrante, Ann Goldstein",
                                    "1": "The Story of the Lost Child (The Neapolitan Novels, #4)",
                                    "2": "4.39",
                                    "3": "11644",
                                    "4": "female-authors"
                                },
                                {
                                    "0": "Elena Ferrante, Ann Goldstein",
                                    "1": "The Story of a New Name (The Neapolitan Novels #2)",
                                    "2": "4.37",
                                    "3": "11644",
                                    "4": "female-authors"
                                },
                                {
                                    "0": "Marjane Satrapi, Mattias Ripa, Blake Ferris, Anjali Singh",
                                    "1": "The Complete Persepolis",
                                    "2": "4.36",
                                    "3": "11644",
                                    "4": "female-authors"
                                },
                                {
                                    "0": "Susan Abulhawa",
                                    "1": "Mornings in Jenin",
                                    "2": "4.35",
                                    "3": "11644",
                                    "4": "female-authors"
                                },
                                {
                                    "0": "Julia Child, Simone Beck, Louisette Bertholle",
                                    "1": "Mastering the Art of French Cooking",
                                    "2": "4.33",
                                    "3": "11644",
                                    "4": "female-authors"
                                },
                                {
                                    "0": "Enid Blyton",
                                    "1": "The Folk of the Faraway Tree (The Faraway Tree, #3)",
                                    "2": "4.32",
                                    "3": "11644",
                                    "4": "female-authors"
                                },
                                {
                                    "0": "Tamora Pierce",
                                    "1": "Wild Magic (Immortals, #1)",
                                    "2": "4.32",
                                    "3": "11644",
                                    "4": "female-authors"
                                },
                                {
                                    "0": "Julia Child",
                                    "1": "The Way to Cook",
                                    "2": "4.31",
                                    "3": "11644",
                                    "4": "female-authors"
                                },
                                {
                                    "0": "N.K. Jemisin",
                                    "1": "The Fifth Season (The Broken Earth, #1)",
                                    "2": "4.31",
                                    "3": "11644",
                                    "4": "female-authors"
                                },
                                {
                                    "0": "Barbara Shook Hazen, Robert Lewis May, Richard Scarry",
                                    "1": "Rudolph the Red-Nosed Reindeer",
                                    "2": "4.3",
                                    "3": "11644",
                                    "4": "female-authors"
                                },
                                {
                                    "0": "Claudia Rankine",
                                    "1": "Citizen: An American Lyric",
                                    "2": "4.3",
                                    "3": "11644",
                                    "4": "female-authors"
                                },
                                {
                                    "0": "Diana Wynne Jones",
                                    "1": "Howl's Moving Castle (Howl's Moving Castle, #1)",
                                    "2": "4.3",
                                    "3": "11644",
                                    "4": "female-authors"
                                },
                                {
                                    "0": "Cheryl Strayed",
                                    "1": "Tiny Beautiful Things: Advice on Love and Life from Dear Sugar",
                                    "2": "4.29",
                                    "3": "11644",
                                    "4": "female-authors"
                                },
                                {
                                    "0": "Elena Ferrante, Ann Goldstein",
                                    "1": "Those Who Leave and Those Who Stay (The Neapolitan Novels #3)",
                                    "2": "4.29",
                                    "3": "11644",
                                    "4": "female-authors"
                                },
                                {
                                    "0": "Enid Blyton",
                                    "1": "The Magic Faraway Tree (The Faraway Tree, #2)",
                                    "2": "4.29",
                                    "3": "11644",
                                    "4": "female-authors"
                                },
                                {
                                    "0": "Lois McMaster Bujold",
                                    "1": "The Warrior's Apprentice (Vorkosigan Saga, #2)",
                                    "2": "4.29",
                                    "3": "11644",
                                    "4": "female-authors"
                                },
                                {
                                    "0": "Loung Ung",
                                    "1": "First They Killed My Father: A Daughter of Cambodia Remembers",
                                    "2": "4.29",
                                    "3": "11644",
                                    "4": "female-authors"
                                },
                                {
                                    "0": "Sylvia Plath, Karen V. Kukil",
                                    "1": "The Unabridged Journals of Sylvia Plath",
                                    "2": "4.29",
                                    "3": "11644",
                                    "4": "female-authors"
                                },
                                {
                                    "0": "Anne Sexton, Maxine Kumin",
                                    "1": "The Complete Poems",
                                    "2": "4.28",
                                    "3": "11662",
                                    "4": "female-writers"
                                },
                                {
                                    "0": "Anne Sexton, Maxine Kumin",
                                    "1": "The Complete Poems",
                                    "2": "4.28",
                                    "3": "11644",
                                    "4": "female-authors"
                                },
                                {
                                    "0": "Enid Blyton",
                                    "1": "The Faraway Tree Stories (The Faraway Tree #1-3)",
                                    "2": "4.28",
                                    "3": "11644",
                                    "4": "female-authors"
                                },
                                {
                                    "0": "Michelle Magorian",
                                    "1": "Good Night, Mr. Tom",
                                    "2": "4.28",
                                    "3": "11644",
                                    "4": "female-authors"
                                },
                                {
                                    "0": "Tamora Pierce",
                                    "1": "Lioness Rampant (Song of the Lioness, #4)",
                                    "2": "4.28",
                                    "3": "11644",
                                    "4": "female-authors"
                                },
                                {
                                    "0": "Tamora Pierce",
                                    "1": "Trickster's Queen (Daughter of the Lioness, #2)",
                                    "2": "4.28",
                                    "3": "11644",
                                    "4": "female-authors"
                                },
                                {
                                    "0": "Flannery O'Connor, Robert Fitzgerald",
                                    "1": "Everything That Rises Must Converge: Stories",
                                    "2": "4.27",
                                    "3": "11644",
                                    "4": "female-authors"
                                },
                                {
                                    "0": "Hanya Yanagihara",
                                    "1": "A Little Life",
                                    "2": "4.27",
                                    "3": "11644",
                                    "4": "female-authors"
                                },
                                {
                                    "0": "Kate Beaton",
                                    "1": "Hark! A Vagrant",
                                    "2": "4.27",
                                    "3": "11644",
                                    "4": "female-authors"
                                },
                                {
                                    "0": "Madeline Miller",
                                    "1": "The Song of Achilles",
                                    "2": "4.27",
                                    "3": "11644",
                                    "4": "female-authors"
                                },
                                {
                                    "0": "Marjane Satrapi",
                                    "1": "Persepolis, Volume 1",
                                    "2": "4.27",
                                    "3": "11644",
                                    "4": "female-authors"
                                },
                                {
                                    "0": "Ntozake Shange",
                                    "1": "for colored girls who have considered suicide/when the rainbow is enuf",
                                    "2": "4.27",
                                    "3": "11644",
                                    "4": "female-authors"
                                },
                                {
                                    "0": "Rupi Kaur",
                                    "1": "Milk and Honey",
                                    "2": "4.27",
                                    "3": "11644",
                                    "4": "female-authors"
                                },
                                {
                                    "0": "Tamora Pierce",
                                    "1": "Alanna: The First Adventure (Song of the Lioness, #1)",
                                    "2": "4.27",
                                    "3": "11644",
                                    "4": "female-authors"
                                },
                                {
                                    "0": "Tamora Pierce",
                                    "1": "Squire (Protector of the Small, #3)",
                                    "2": "4.27",
                                    "3": "11644",
                                    "4": "female-authors"
                                },
                                {
                                    "0": "Tamora Pierce",
                                    "1": "Trickster's Choice (Daughter of the Lioness, #1)",
                                    "2": "4.27",
                                    "3": "11644",
                                    "4": "female-authors"
                                },
                                {
                                    "0": "Chimamanda Ngozi Adichie",
                                    "1": "Americanah",
                                    "2": "4.26",
                                    "3": "11644",
                                    "4": "female-authors"
                                },
                                {
                                    "0": "Fannie Flagg",
                                    "1": "Fried Green Tomatoes at the Whistle Stop Cafe",
                                    "2": "4.26",
                                    "3": "11644",
                                    "4": "female-authors"
                                },
                                {
                                    "0": "Hilary Mantel",
                                    "1": "Bring Up the Bodies (Thomas Cromwell, #2)",
                                    "2": "4.26",
                                    "3": "11644",
                                    "4": "female-authors"
                                },
                                {
                                    "0": "Joanna Cole, Bruce Degen",
                                    "1": "Inside the Human Body (The Magic School Bus, #3)",
                                    "2": "4.26",
                                    "3": "11644",
                                    "4": "female-authors"
                                },
                                {
                                    "0": "Tamora Pierce",
                                    "1": "Bloodhound (Beka Cooper, #2)",
                                    "2": "4.26",
                                    "3": "11644",
                                    "4": "female-authors"
                                },
                                {
                                    "0": "Margaret George",
                                    "1": "The Autobiography of Henry VIII: With Notes by His Fool, Will Somers",
                                    "2": "4.25",
                                    "3": "11644",
                                    "4": "female-authors"
                                },
                                {
                                    "0": "Tamora Pierce",
                                    "1": "In the Hand of the Goddess (Song of the Lioness, #2)",
                                    "2": "4.25",
                                    "3": "11644",
                                    "4": "female-authors"
                                },
                                {
                                    "0": "Ursula K. Le Guin",
                                    "1": "The Earthsea Trilogy",
                                    "2": "4.25",
                                    "3": "11644",
                                    "4": "female-authors"
                                },
                                {
                                    "0": "Betty  Smith",
                                    "1": "A Tree Grows in Brooklyn",
                                    "2": "4.24",
                                    "3": "11644",
                                    "4": "female-authors"
                                },
                                {
                                    "0": "Betty MacDonald, Alexandra Boiger",
                                    "1": "Hello, Mrs. Piggle-Wiggle (Mrs. Piggle Wiggle, #4)",
                                    "2": "4.24",
                                    "3": "11644",
                                    "4": "female-authors"
                                },
                                {
                                    "0": "Enid Blyton",
                                    "1": "The Enchanted Wood (The Faraway Tree, #1)",
                                    "2": "4.24",
                                    "3": "11644",
                                    "4": "female-authors"
                                },
                                {
                                    "0": "Flannery O'Connor",
                                    "1": "A Good Man is Hard to Find and Other Stories",
                                    "2": "4.24",
                                    "3": "11644",
                                    "4": "female-authors"
                                },
                                {
                                    "0": "Joan Didion",
                                    "1": "Slouching Towards Bethlehem",
                                    "2": "4.24",
                                    "3": "11662",
                                    "4": "female-writers"
                                },
                                {
                                    "0": "Joan Didion",
                                    "1": "Slouching Towards Bethlehem",
                                    "2": "4.24",
                                    "3": "11644",
                                    "4": "female-authors"
                                },
                                {
                                    "0": "Tamora Pierce",
                                    "1": "Mastiff (Beka Cooper, #3)",
                                    "2": "4.24",
                                    "3": "11644",
                                    "4": "female-authors"
                                },
                                {
                                    "0": "Judith Kerr",
                                    "1": "The Tiger Who Came to Tea",
                                    "2": "4.23",
                                    "3": "11644",
                                    "4": "female-authors"
                                },
                                {
                                    "0": "Jung Chang",
                                    "1": "Wild Swans: Three Daughters of China",
                                    "2": "4.23",
                                    "3": "11644",
                                    "4": "female-authors"
                                },
                                {
                                    "0": "Lindy West",
                                    "1": "Shrill: Notes from a Loud Woman",
                                    "2": "4.23",
                                    "3": "11644",
                                    "4": "female-authors"
                                },
                                {
                                    "0": "Malorie Blackman",
                                    "1": "Noughts & Crosses (Noughts & Crosses, #1)",
                                    "2": "4.23",
                                    "3": "11644",
                                    "4": "female-authors"
                                },
                                {
                                    "0": "Marjane Satrapi, Anjali Singh",
                                    "1": "Persepolis 2: The Story of a Return (Persepolis, #2)",
                                    "2": "4.23",
                                    "3": "11644",
                                    "4": "female-authors"
                                },
                                {
                                    "0": "Marjane Satrapi, Mattias Ripa",
                                    "1": "Persepolis: The Story of a Childhood (Persepolis, #1)",
                                    "2": "4.23",
                                    "3": "11644",
                                    "4": "female-authors"
                                },
                                {
                                    "0": "Mary  Stewart",
                                    "1": "The Hollow Hills (Arthurian Saga, #2)",
                                    "2": "4.23",
                                    "3": "11644",
                                    "4": "female-authors"
                                },
                                {
                                    "0": "Sylvia Plath",
                                    "1": "Ariel",
                                    "2": "4.23",
                                    "3": "11662",
                                    "4": "female-writers"
                                },
                                {
                                    "0": "Sylvia Plath",
                                    "1": "Ariel",
                                    "2": "4.23",
                                    "3": "11644",
                                    "4": "female-authors"
                                },
                                {
                                    "0": "Tachibana Higuchi, 樋口 橘",
                                    "1": "Gakuen Alice, Vol. 01 (Gakuen Alice, #1)",
                                    "2": "4.23",
                                    "3": "11644",
                                    "4": "female-authors"
                                },
                                {
                                    "0": "Anne McCaffrey",
                                    "1": "The Dragonriders of Pern (Dragonriders of Pern, #1-3)",
                                    "2": "4.22",
                                    "3": "11644",
                                    "4": "female-authors"
                                },
                                {
                                    "0": "Colleen McCullough",
                                    "1": "The Thorn Birds",
                                    "2": "4.22",
                                    "3": "11644",
                                    "4": "female-authors"
                                },
                                {
                                    "0": "Elyn R. Saks",
                                    "1": "The Center Cannot Hold: My Journey Through Madness",
                                    "2": "4.22",
                                    "3": "11644",
                                    "4": "female-authors"
                                },
                                {
                                    "0": "Irin Carmon, Shana Knizhnik",
                                    "1": "Notorious RBG: The Life and Times of Ruth Bader Ginsburg",
                                    "2": "4.22",
                                    "3": "11644",
                                    "4": "female-authors"
                                },
                                {
                                    "0": "Naomi Klein",
                                    "1": "The Shock Doctrine: The Rise of Disaster Capitalism",
                                    "2": "4.22",
                                    "3": "11644",
                                    "4": "female-authors"
                                },
                                {
                                    "0": "Octavia E. Butler",
                                    "1": "Wild Seed (Patternmaster, #1)",
                                    "2": "4.22",
                                    "3": "11644",
                                    "4": "female-authors"
                                },
                                {
                                    "0": "Wendy Mass",
                                    "1": "A Mango-Shaped Space",
                                    "2": "4.22",
                                    "3": "11644",
                                    "4": "female-authors"
                                },
                                {
                                    "0": "Ai Yazawa",
                                    "1": "Nana, Vol. 1 (Nana, #1)",
                                    "2": "4.21",
                                    "3": "11644",
                                    "4": "female-authors"
                                },
                                {
                                    "0": "Emily Dickinson, Thomas H. Johnson",
                                    "1": "The Complete Poems of Emily Dickinson",
                                    "2": "4.21",
                                    "3": "11662",
                                    "4": "female-writers"
                                },
                                {
                                    "0": "Emily Dickinson, Thomas H. Johnson",
                                    "1": "The Complete Poems of Emily Dickinson",
                                    "2": "4.21",
                                    "3": "11644",
                                    "4": "female-authors"
                                },
                                {
                                    "0": "L.M. Montgomery",
                                    "1": "Anne of Avonlea (Anne of Green Gables, #2)",
                                    "2": "4.21",
                                    "3": "11644",
                                    "4": "female-authors"
                                },
                                {
                                    "0": "Marian Potter",
                                    "1": "The Little Red Caboose (Little Golden Book)",
                                    "2": "4.21",
                                    "3": "11644",
                                    "4": "female-authors"
                                },
                                {
                                    "0": "Octavia E. Butler",
                                    "1": "Parable of the Talents (Earthseed, #2)",
                                    "2": "4.21",
                                    "3": "11644",
                                    "4": "female-authors"
                                },
                                {
                                    "0": "Robin Hobb",
                                    "1": "Ship of Destiny (Liveship Traders, #3)",
                                    "2": "4.21",
                                    "3": "11644",
                                    "4": "female-authors"
                                },
                                {
                                    "0": "Robin Hobb",
                                    "1": "The Mad Ship (Liveship Traders, #2)",
                                    "2": "4.21",
                                    "3": "11644",
                                    "4": "female-authors"
                                },
                                {
                                    "0": "Tamora Pierce",
                                    "1": "Wolf-Speaker (Immortals, #2)",
                                    "2": "4.21",
                                    "3": "11644",
                                    "4": "female-authors"
                                },
                                {
                                    "0": "Agatha Christie",
                                    "1": "The Murder of Roger Ackroyd (Hercule Poirot, #4)",
                                    "2": "4.2",
                                    "3": "11644",
                                    "4": "female-authors"
                                },
                                {
                                    "0": "Ann Leckie",
                                    "1": "Ancillary Mercy (Imperial Radch #3)",
                                    "2": "4.2",
                                    "3": "11644",
                                    "4": "female-authors"
                                },
                                {
                                    "0": "Ann Rule",
                                    "1": "Small Sacrifices: A True Story of Passion and Murder",
                                    "2": "4.2",
                                    "3": "11644",
                                    "4": "female-authors"
                                },
                                {
                                    "0": "Audre Lorde",
                                    "1": "Zami: A New Spelling of My Name",
                                    "2": "4.2",
                                    "3": "11662",
                                    "4": "female-writers"
                                },
                                {
                                    "0": "Audre Lorde",
                                    "1": "Zami: A New Spelling of My Name",
                                    "2": "4.2",
                                    "3": "11644",
                                    "4": "female-authors"
                                },
                                {
                                    "0": "Daphne du Maurier, Sally Beauman",
                                    "1": "Rebecca",
                                    "2": "4.2",
                                    "3": "11644",
                                    "4": "female-authors"
                                },
                                {
                                    "0": "Isabel Allende, Magda Bogin",
                                    "1": "The House of the Spirits",
                                    "2": "4.2",
                                    "3": "11644",
                                    "4": "female-authors"
                                },
                                {
                                    "0": "Margaret Edson",
                                    "1": "Wit",
                                    "2": "4.2",
                                    "3": "11644",
                                    "4": "female-authors"
                                },
                                {
                                    "0": "Noelle Stevenson",
                                    "1": "Nimona",
                                    "2": "4.2",
                                    "3": "11644",
                                    "4": "female-authors"
                                },
                                {
                                    "0": "Patricia C. Wrede, Peter de Sève",
                                    "1": "Calling on Dragons (Enchanted Forest Chronicles, #3)",
                                    "2": "4.2",
                                    "3": "11644",
                                    "4": "female-authors"
                                },
                                {
                                    "0": "Sylvia Plath, Ted Hughes",
                                    "1": "The Collected Poems",
                                    "2": "4.2",
                                    "3": "11644",
                                    "4": "female-authors"
                                },
                                {
                                    "0": "Tamora Pierce",
                                    "1": "The Woman Who Rides Like a Man (Song of the Lioness, #3)",
                                    "2": "4.2",
                                    "3": "11644",
                                    "4": "female-authors"
                                },
                                {
                                    "0": "Beatrix Potter",
                                    "1": "The Tale of Mrs. Tiggy-Winkle",
                                    "2": "4.19",
                                    "3": "11644",
                                    "4": "female-authors"
                                },
                                {
                                    "0": "Elizabeth Bishop",
                                    "1": "The Complete Poems 1927-1979",
                                    "2": "4.19",
                                    "3": "11662",
                                    "4": "female-writers"
                                },
                                {
                                    "0": "Esther Earl, Lori Earl, Wayne Earl, John Green",
                                    "1": "This Star Won't Go Out: The Life and Words of Esther Grace Earl",
                                    "2": "4.19",
                                    "3": "11644",
                                    "4": "female-authors"
                                },
                                {
                                    "0": "Maya Angelou",
                                    "1": "I Know Why the Caged Bird Sings",
                                    "2": "4.19",
                                    "3": "11644",
                                    "4": "female-authors"
                                },
                                {
                                    "0": "Maya Angelou",
                                    "1": "The Heart of a Woman",
                                    "2": "4.19",
                                    "3": "11644",
                                    "4": "female-authors"
                                },
                                {
                                    "0": "Becky  Chambers",
                                    "1": "The Long Way to a Small, Angry Planet (Wayfarers, #1)",
                                    "2": "4.18",
                                    "3": "11644",
                                    "4": "female-authors"
                                },
                                {
                                    "0": "Beryl Markham",
                                    "1": "West with the Night",
                                    "2": "4.18",
                                    "3": "11644",
                                    "4": "female-authors"
                                },
                                {
                                    "0": "Chimamanda Ngozi Adichie",
                                    "1": "The Thing Around Your Neck",
                                    "2": "4.18",
                                    "3": "11644",
                                    "4": "female-authors"
                                },
                                {
                                    "0": "Octavia E. Butler",
                                    "1": "Kindred",
                                    "2": "4.18",
                                    "3": "11644",
                                    "4": "female-authors"
                                },
                                {
                                    "0": "Ursula K. Le Guin",
                                    "1": "The Dispossessed",
                                    "2": "4.18",
                                    "3": "11644",
                                    "4": "female-authors"
                                },
                                {
                                    "0": "Alice Walker",
                                    "1": "The Color Purple",
                                    "2": "4.17",
                                    "3": "11644",
                                    "4": "female-authors"
                                },
                                {
                                    "0": "Allie Brosh",
                                    "1": "Hyperbole and a Half: Unfortunate Situations, Flawed Coping Mechanisms, Mayhem, and Other Things That Happened",
                                    "2": "4.17",
                                    "3": "11644",
                                    "4": "female-authors"
                                },
                                {
                                    "0": "Brené Brown",
                                    "1": "The Gifts of Imperfection: Let Go of Who You Think You're Supposed to Be and Embrace Who You Are",
                                    "2": "4.17",
                                    "3": "11644",
                                    "4": "female-authors"
                                },
                                {
                                    "0": "Margaret George",
                                    "1": "The Memoirs of Cleopatra",
                                    "2": "4.17",
                                    "3": "11644",
                                    "4": "female-authors"
                                },
                                {
                                    "0": "Mary Doria Russell",
                                    "1": "The Sparrow (The Sparrow, #1)",
                                    "2": "4.17",
                                    "3": "11644",
                                    "4": "female-authors"
                                },
                                {
                                    "0": "Natalie Goldberg",
                                    "1": "Writing Down the Bones: Freeing the Writer Within",
                                    "2": "4.17",
                                    "3": "11644",
                                    "4": "female-authors"
                                },
                                {
                                    "0": "Agatha Christie",
                                    "1": "Murder on the Orient Express (Hercule Poirot, #10)",
                                    "2": "4.16",
                                    "3": "11644",
                                    "4": "female-authors"
                                },
                                {
                                    "0": "Christiane F., Kai Hermann, Horst Rieck",
                                    "1": "Wir Kinder vom Bahnhof Zoo",
                                    "2": "4.16",
                                    "3": "11644",
                                    "4": "female-authors"
                                },
                                {
                                    "0": "Emily Dickinson",
                                    "1": "Selected Poems",
                                    "2": "4.16",
                                    "3": "11644",
                                    "4": "female-authors"
                                },
                                {
                                    "0": "L.M. Montgomery",
                                    "1": "Rilla of Ingleside (Anne of Green Gables, #8)",
                                    "2": "4.16",
                                    "3": "11644",
                                    "4": "female-authors"
                                },
                                {
                                    "0": "Lois McMaster Bujold",
                                    "1": "The Curse of Chalion (World of the Five Gods, #1)",
                                    "2": "4.16",
                                    "3": "11644",
                                    "4": "female-authors"
                                },
                                {
                                    "0": "Tamora Pierce",
                                    "1": "Shatterglass (The Circle Opens, #4)",
                                    "2": "4.16",
                                    "3": "11644",
                                    "4": "female-authors"
                                },
                                {
                                    "0": "Elisabeth Kübler-Ross",
                                    "1": "On Death and Dying",
                                    "2": "4.15",
                                    "3": "11644",
                                    "4": "female-authors"
                                },
                                {
                                    "0": "Tamora Pierce",
                                    "1": "The Will of the Empress (Circle Reforged, #1)",
                                    "2": "4.15",
                                    "3": "11644",
                                    "4": "female-authors"
                                },
                                {
                                    "0": "Anne Fadiman",
                                    "1": "The Spirit Catches You and You Fall Down: A Hmong Child, Her American Doctors, and the Collision of Two Cultures",
                                    "2": "4.14",
                                    "3": "11644",
                                    "4": "female-authors"
                                },
                                {
                                    "0": "Felicia Day, Joss Whedon",
                                    "1": "You're Never Weird on the Internet (Almost)",
                                    "2": "4.14",
                                    "3": "11644",
                                    "4": "female-authors"
                                },
                                {
                                    "0": "G. Willow Wilson, Adrian Alphona, Jacob Wyatt",
                                    "1": "Ms. Marvel, Vol. 2: Generation Why",
                                    "2": "4.14",
                                    "3": "11644",
                                    "4": "female-authors"
                                },
                                {
                                    "0": "Iris Rainer Dart",
                                    "1": "Beaches",
                                    "2": "4.14",
                                    "3": "11644",
                                    "4": "female-authors"
                                },
                                {
                                    "0": "Irma S. Rombauer, Marion Rombauer Becker, Ethan Becker",
                                    "1": "The Joy of Cooking",
                                    "2": "4.14",
                                    "3": "11644",
                                    "4": "female-authors"
                                },
                                {
                                    "0": "Madeleine L'Engle",
                                    "1": "A Ring of Endless Light (Austin Family, #4)",
                                    "2": "4.14",
                                    "3": "11644",
                                    "4": "female-authors"
                                },
                                {
                                    "0": "Mary Westmacott, Agatha Christie",
                                    "1": "Absent In The Spring",
                                    "2": "4.14",
                                    "3": "11644",
                                    "4": "female-authors"
                                },
                                {
                                    "0": "Octavia E. Butler",
                                    "1": "Parable of the Sower (Earthseed, #1)",
                                    "2": "4.14",
                                    "3": "11644",
                                    "4": "female-authors"
                                },
                                {
                                    "0": "Patti Smith",
                                    "1": "Just Kids",
                                    "2": "4.14",
                                    "3": "11644",
                                    "4": "female-authors"
                                },
                                {
                                    "0": "Sarah Andersen",
                                    "1": "Adulthood Is a Myth (Sarah's Scribbles, #1)",
                                    "2": "4.14",
                                    "3": "11644",
                                    "4": "female-authors"
                                },
                                {
                                    "0": "Tamora Pierce",
                                    "1": "Briar's Book (Circle of Magic, #4)",
                                    "2": "4.14",
                                    "3": "11644",
                                    "4": "female-authors"
                                },
                                {
                                    "0": "Tess Gerritsen",
                                    "1": "The Apprentice (Rizzoli & Isles, #2)",
                                    "2": "4.14",
                                    "3": "11644",
                                    "4": "female-authors"
                                },
                                {
                                    "0": "Virginia Woolf",
                                    "1": "The Waves",
                                    "2": "4.14",
                                    "3": "11662",
                                    "4": "female-writers"
                                },
                                {
                                    "0": "Virginia Woolf",
                                    "1": "The Waves",
                                    "2": "4.14",
                                    "3": "11644",
                                    "4": "female-authors"
                                },
                                {
                                    "0": "Ann Rule",
                                    "1": "The Stranger Beside Me: Ted Bundy The Shocking Inside Story",
                                    "2": "4.13",
                                    "3": "11644",
                                    "4": "female-authors"
                                },
                                {
                                    "0": "Elizabeth Gaskell, Alan Shelston",
                                    "1": "North and South",
                                    "2": "4.13",
                                    "3": "11644",
                                    "4": "female-authors"
                                },
                                {
                                    "0": "G. Willow Wilson, Adrian Alphona",
                                    "1": "Ms. Marvel, Vol. 1: No Normal",
                                    "2": "4.13",
                                    "3": "11644",
                                    "4": "female-authors"
                                },
                                {
                                    "0": "Gloria Naylor",
                                    "1": "The Women of Brewster Place",
                                    "2": "4.13",
                                    "3": "11644",
                                    "4": "female-authors"
                                },
                                {
                                    "0": "Jane Austen, James Kinsley, Deidre Shauna Lynch",
                                    "1": "Persuasion",
                                    "2": "4.13",
                                    "3": "11644",
                                    "4": "female-authors"
                                },
                                {
                                    "0": "Julia Alvarez",
                                    "1": "In the Time of the Butterflies",
                                    "2": "4.13",
                                    "3": "11644",
                                    "4": "female-authors"
                                },
                                {
                                    "0": "Lois McMaster Bujold",
                                    "1": "Shards of Honour  (Vorkosigan Saga, #1)",
                                    "2": "4.13",
                                    "3": "11644",
                                    "4": "female-authors"
                                },
                                {
                                    "0": "Madeleine L'Engle",
                                    "1": "A Swiftly Tilting Planet (A Wrinkle in Time Quintet, #3)",
                                    "2": "4.13",
                                    "3": "11644",
                                    "4": "female-authors"
                                },
                                {
                                    "0": "Virginia M. Axline",
                                    "1": "Dibs in Search of Self",
                                    "2": "4.13",
                                    "3": "11644",
                                    "4": "female-authors"
                                },
                                {
                                    "0": "Alison Bechdel",
                                    "1": "Fun Home: A Family Tragicomic",
                                    "2": "4.12",
                                    "3": "11644",
                                    "4": "female-authors"
                                },
                                {
                                    "0": "Jeanette Winterson",
                                    "1": "The Passion",
                                    "2": "4.12",
                                    "3": "11662",
                                    "4": "female-writers"
                                },
                                {
                                    "0": "Jeanette Winterson",
                                    "1": "The Passion",
                                    "2": "4.12",
                                    "3": "11644",
                                    "4": "female-authors"
                                },
                                {
                                    "0": "Jhumpa Lahiri",
                                    "1": "Interpreter of Maladies",
                                    "2": "4.12",
                                    "3": "11644",
                                    "4": "female-authors"
                                },
                                {
                                    "0": "Lorrie Moore",
                                    "1": "Birds of America",
                                    "2": "4.12",
                                    "3": "11644",
                                    "4": "female-authors"
                                },
                                {
                                    "0": "Marion Zimmer Bradley",
                                    "1": "The Mists of Avalon (Avalon, #1)",
                                    "2": "4.12",
                                    "3": "11644",
                                    "4": "female-authors"
                                },
                                {
                                    "0": "Mary  Stewart",
                                    "1": "The Crystal Cave (Arthurian Saga, #1)",
                                    "2": "4.12",
                                    "3": "11644",
                                    "4": "female-authors"
                                },
                                {
                                    "0": "S.A.R.K.",
                                    "1": "Succulent Wild Woman",
                                    "2": "4.12",
                                    "3": "11644",
                                    "4": "female-authors"
                                },
                                {
                                    "0": "Tamora Pierce",
                                    "1": "Street Magic (The Circle Opens, #2)",
                                    "2": "4.12",
                                    "3": "11644",
                                    "4": "female-authors"
                                },
                                {
                                    "0": "Charlotte Perkins Gilman, Elaine Hedges",
                                    "1": "The Yellow Wall-Paper",
                                    "2": "4.11",
                                    "3": "11644",
                                    "4": "female-authors"
                                },
                                {
                                    "0": "Chimamanda Ngozi Adichie",
                                    "1": "Purple Hibiscus",
                                    "2": "4.11",
                                    "3": "11644",
                                    "4": "female-authors"
                                },
                                {
                                    "0": "Chitra Banerjee Divakaruni",
                                    "1": "The Palace of Illusions",
                                    "2": "4.11",
                                    "3": "11644",
                                    "4": "female-authors"
                                },
                                {
                                    "0": "Dorothy L. Sayers",
                                    "1": "Unnatural Death (Lord Peter Wimsey, #3)",
                                    "2": "4.11",
                                    "3": "11644",
                                    "4": "female-authors"
                                },
                                {
                                    "0": "Jhumpa Lahiri",
                                    "1": "Unaccustomed Earth",
                                    "2": "4.11",
                                    "3": "11644",
                                    "4": "female-authors"
                                },
                                {
                                    "0": "Meg Jay",
                                    "1": "The Defining Decade: Why Your Twenties Matter--And How to Make the Most of Them Now",
                                    "2": "4.11",
                                    "3": "11644",
                                    "4": "female-authors"
                                },
                                {
                                    "0": "Ursula K. Le Guin",
                                    "1": "The Farthest Shore (Earthsea Cycle, #3)",
                                    "2": "4.11",
                                    "3": "11644",
                                    "4": "female-authors"
                                },
                                {
                                    "0": "Anna Gavalda, Alison Anderson",
                                    "1": "Hunting and Gathering",
                                    "2": "4.1",
                                    "3": "11644",
                                    "4": "female-authors"
                                },
                                {
                                    "0": "Anne Frank, Eleanor Roosevelt, B.M. Mooyaart-Doubleday",
                                    "1": "The Diary of a Young Girl",
                                    "2": "4.1",
                                    "3": "11644",
                                    "4": "female-authors"
                                },
                                {
                                    "0": "Annie Dillard",
                                    "1": "Pilgrim at Tinker Creek",
                                    "2": "4.1",
                                    "3": "11644",
                                    "4": "female-authors"
                                },
                                {
                                    "0": "Charlotte Brontë, Michael Mason",
                                    "1": "Jane Eyre",
                                    "2": "4.1",
                                    "3": "11644",
                                    "4": "female-authors"
                                },
                                {
                                    "0": "Helene Wecker",
                                    "1": "The Golem and the Jinni (The Golem and the Jinni, #1)",
                                    "2": "4.1",
                                    "3": "11644",
                                    "4": "female-authors"
                                },
                                {
                                    "0": "Janet Stevens, Hans Christian Andersen",
                                    "1": "The Princess and the Pea",
                                    "2": "4.1",
                                    "3": "11644",
                                    "4": "female-authors"
                                },
                                {
                                    "0": "Marion Cunningham, Fannie Merritt Farmer, Archibald Candy Corporation",
                                    "1": "The Fannie Farmer Cookbook: Anniversary",
                                    "2": "4.1",
                                    "3": "11644",
                                    "4": "female-authors"
                                },
                                {
                                    "0": "Octavia E. Butler",
                                    "1": "Dawn (Xenogenesis, #1)",
                                    "2": "4.1",
                                    "3": "11644",
                                    "4": "female-authors"
                                },
                                {
                                    "0": "Roz Chast",
                                    "1": "Can't We Talk about Something More Pleasant?",
                                    "2": "4.1",
                                    "3": "11644",
                                    "4": "female-authors"
                                },
                                {
                                    "0": "Stacy King, SunNeko Lee, Crystal S. Chan, Victor Hugo",
                                    "1": "Manga Classics: Les Misérables",
                                    "2": "4.1",
                                    "3": "11644",
                                    "4": "female-authors"
                                },
                                {
                                    "0": "Virginia Woolf",
                                    "1": "A Room of One's Own",
                                    "2": "4.1",
                                    "3": "11644",
                                    "4": "female-authors"
                                },
                                {
                                    "0": "Alice  Miller, Ruth Ward",
                                    "1": "The Drama of the Gifted Child: The Search for the True Self",
                                    "2": "4.09",
                                    "3": "11644",
                                    "4": "female-authors"
                                },
                                {
                                    "0": "Dorothy Allison",
                                    "1": "Bastard Out of Carolina",
                                    "2": "4.09",
                                    "3": "11644",
                                    "4": "female-authors"
                                },
                                {
                                    "0": "Elizabeth Kolbert",
                                    "1": "The Sixth Extinction: An Unnatural History",
                                    "2": "4.09",
                                    "3": "11644",
                                    "4": "female-authors"
                                },
                                {
                                    "0": "Sandra Gulland",
                                    "1": "The Many Lives & Secret Sorrows of Josephine B. (Josephine Bonaparte, #1)",
                                    "2": "4.09",
                                    "3": "11644",
                                    "4": "female-authors"
                                },
                                {
                                    "0": "Shirley Jackson",
                                    "1": "The Lottery",
                                    "2": "4.09",
                                    "3": "11644",
                                    "4": "female-authors"
                                },
                                {
                                    "0": "Simone de Beauvoir, H.M. Parshley, Deirdre Bair",
                                    "1": "The Second Sex",
                                    "2": "4.09",
                                    "3": "11662",
                                    "4": "female-writers"
                                },
                                {
                                    "0": "Simone de Beauvoir, H.M. Parshley, Deirdre Bair",
                                    "1": "The Second Sex",
                                    "2": "4.09",
                                    "3": "11644",
                                    "4": "female-authors"
                                },
                                {
                                    "0": "Ursula K. Le Guin",
                                    "1": "The Lathe of Heaven",
                                    "2": "4.09",
                                    "3": "11644",
                                    "4": "female-authors"
                                },
                                {
                                    "0": "Waris Dirie, Cathleen Miller",
                                    "1": "Desert Flower",
                                    "2": "4.09",
                                    "3": "11644",
                                    "4": "female-authors"
                                },
                                {
                                    "0": "Gloria Steinem",
                                    "1": "My Life on the Road",
                                    "2": "4.08",
                                    "3": "11644",
                                    "4": "female-authors"
                                },
                                {
                                    "0": "Harriet Jacobs",
                                    "1": "Incidents in the Life of a Slave Girl",
                                    "2": "4.08",
                                    "3": "11644",
                                    "4": "female-authors"
                                },
                                {
                                    "0": "Jeanette Winterson",
                                    "1": "Written on the Body",
                                    "2": "4.08",
                                    "3": "11644",
                                    "4": "female-authors"
                                },
                                {
                                    "0": "Kate Chopin",
                                    "1": "The Story of an Hour",
                                    "2": "4.08",
                                    "3": "11644",
                                    "4": "female-authors"
                                },
                                {
                                    "0": "Lynn Flewelling",
                                    "1": "Luck in the Shadows (Nightrunner, #1)",
                                    "2": "4.08",
                                    "3": "11644",
                                    "4": "female-authors"
                                },
                                {
                                    "0": "Maya Angelou",
                                    "1": "Letter to My Daughter",
                                    "2": "4.08",
                                    "3": "11644",
                                    "4": "female-authors"
                                },
                                {
                                    "0": "Donna Tartt",
                                    "1": "The Secret History",
                                    "2": "4.07",
                                    "3": "11644",
                                    "4": "female-authors"
                                },
                                {
                                    "0": "Elizabeth Gaskell, Pam Morris",
                                    "1": "Wives and Daughters",
                                    "2": "4.07",
                                    "3": "11644",
                                    "4": "female-authors"
                                },
                                {
                                    "0": "Helen Keller",
                                    "1": "The Story of My Life",
                                    "2": "4.07",
                                    "3": "11644",
                                    "4": "female-authors"
                                },
                                {
                                    "0": "Isabel Allende",
                                    "1": "Paula",
                                    "2": "4.07",
                                    "3": "11644",
                                    "4": "female-authors"
                                },
                                {
                                    "0": "Rachel Maddow",
                                    "1": "Drift: The Unmooring of American Military Power",
                                    "2": "4.07",
                                    "3": "11644",
                                    "4": "female-authors"
                                },
                                {
                                    "0": "Sara Gruen",
                                    "1": "Water for Elephants",
                                    "2": "4.07",
                                    "3": "11644",
                                    "4": "female-authors"
                                },
                                {
                                    "0": "Tamora Pierce",
                                    "1": "Tris's Book (Circle of Magic, #2)",
                                    "2": "4.07",
                                    "3": "11644",
                                    "4": "female-authors"
                                },
                                {
                                    "0": "Ursula Hegi",
                                    "1": "Stones from the River",
                                    "2": "4.07",
                                    "3": "11644",
                                    "4": "female-authors"
                                },
                                {
                                    "0": "Ursula K. Le Guin",
                                    "1": "The Tombs of Atuan (Earthsea Cycle, #2)",
                                    "2": "4.07",
                                    "3": "11644",
                                    "4": "female-authors"
                                },
                                {
                                    "0": "Alice Munro",
                                    "1": "Hateship, Friendship, Courtship, Loveship, Marriage: Stories",
                                    "2": "4.06",
                                    "3": "11644",
                                    "4": "female-authors"
                                },
                                {
                                    "0": "Alice Walker",
                                    "1": "Possessing the Secret of Joy",
                                    "2": "4.06",
                                    "3": "11644",
                                    "4": "female-authors"
                                },
                                {
                                    "0": "Enid Blyton",
                                    "1": "Five on a Treasure Island (Famous Five, #1)",
                                    "2": "4.06",
                                    "3": "11644",
                                    "4": "female-authors"
                                },
                                {
                                    "0": "Jane Austen, Tony Tanner, Ros Ballaster",
                                    "1": "Sense and Sensibility",
                                    "2": "4.06",
                                    "3": "11644",
                                    "4": "female-authors"
                                },
                                {
                                    "0": "Keri Hulme",
                                    "1": "The Bone People",
                                    "2": "4.06",
                                    "3": "11644",
                                    "4": "female-authors"
                                },
                                {
                                    "0": "Malala Yousafzai, Christina Lamb",
                                    "1": "I Am Malala: The Story of the Girl Who Stood Up for Education and Was Shot by the Taliban",
                                    "2": "4.06",
                                    "3": "11644",
                                    "4": "female-authors"
                                },
                                {
                                    "0": "Margaret Atwood",
                                    "1": "The Handmaid's Tale",
                                    "2": "4.06",
                                    "3": "11644",
                                    "4": "female-authors"
                                },
                                {
                                    "0": "Marguerite Henry",
                                    "1": "Stormy, Misty's Foal (Misty, #3)",
                                    "2": "4.06",
                                    "3": "11644",
                                    "4": "female-authors"
                                },
                                {
                                    "0": "Shirley Jackson",
                                    "1": "The Lottery and Other Stories",
                                    "2": "4.06",
                                    "3": "11644",
                                    "4": "female-authors"
                                },
                                {
                                    "0": "Tamora Pierce",
                                    "1": "Daja's Book (Circle of Magic, #3)",
                                    "2": "4.06",
                                    "3": "11644",
                                    "4": "female-authors"
                                },
                                {
                                    "0": "Ursula K. Le Guin",
                                    "1": "The Other Wind (Earthsea Cycle, #6)",
                                    "2": "4.06",
                                    "3": "11644",
                                    "4": "female-authors"
                                },
                                {
                                    "0": "Alice Walker",
                                    "1": "The Temple of My Familiar",
                                    "2": "4.05",
                                    "3": "11644",
                                    "4": "female-authors"
                                },
                                {
                                    "0": "Anne Rice",
                                    "1": "The Vampire Lestat (The Vampire Chronicles, #2)",
                                    "2": "4.05",
                                    "3": "11644",
                                    "4": "female-authors"
                                },
                                {
                                    "0": "Barbara Kingsolver",
                                    "1": "Animal Dreams",
                                    "2": "4.05",
                                    "3": "11644",
                                    "4": "female-authors"
                                },
                                {
                                    "0": "Chelsea Cain",
                                    "1": "Sweetheart (Archie Sheridan & Gretchen Lowell, #2)",
                                    "2": "4.05",
                                    "3": "11644",
                                    "4": "female-authors"
                                },
                                {
                                    "0": "Katherine Addison",
                                    "1": "The Goblin Emperor",
                                    "2": "4.05",
                                    "3": "11644",
                                    "4": "female-authors"
                                },
                                {
                                    "0": "L.M. Montgomery",
                                    "1": "Anne of Ingleside (Anne of Green Gables, #6)",
                                    "2": "4.05",
                                    "3": "11644",
                                    "4": "female-authors"
                                },
                                {
                                    "0": "Lisa See",
                                    "1": "Snow Flower and the Secret Fan",
                                    "2": "4.05",
                                    "3": "11644",
                                    "4": "female-authors"
                                },
                                {
                                    "0": "Margaret Atwood",
                                    "1": "The Year of the Flood  (MaddAddam, #2)",
                                    "2": "4.05",
                                    "3": "11644",
                                    "4": "female-authors"
                                },
                                {
                                    "0": "Mary Doria Russell",
                                    "1": "Children of God (The Sparrow, #2)",
                                    "2": "4.05",
                                    "3": "11644",
                                    "4": "female-authors"
                                },
                                {
                                    "0": "Mary Roach",
                                    "1": "Stiff: The Curious Lives of Human Cadavers",
                                    "2": "4.05",
                                    "3": "11644",
                                    "4": "female-authors"
                                },
                                {
                                    "0": "Robin Hobb",
                                    "1": "City of Dragons (Rain Wild Chronicles, #3)",
                                    "2": "4.05",
                                    "3": "11644",
                                    "4": "female-authors"
                                },
                                {
                                    "0": "Roxane Gay",
                                    "1": "An Untamed State",
                                    "2": "4.05",
                                    "3": "11644",
                                    "4": "female-authors"
                                },
                                {
                                    "0": "Shirley Jackson, Jonathan Lethem",
                                    "1": "We Have Always Lived in the Castle",
                                    "2": "4.05",
                                    "3": "11644",
                                    "4": "female-authors"
                                },
                                {
                                    "0": "Shonda Rhimes",
                                    "1": "Year of Yes: How to Dance It Out, Stand In the Sun and Be Your Own Person",
                                    "2": "4.05",
                                    "3": "11644",
                                    "4": "female-authors"
                                },
                                {
                                    "0": "Tamora Pierce",
                                    "1": "Cold Fire (The Circle Opens, #3)",
                                    "2": "4.05",
                                    "3": "11644",
                                    "4": "female-authors"
                                },
                                {
                                    "0": "Tana French",
                                    "1": "The Likeness (Dublin Murder Squad, #2)",
                                    "2": "4.05",
                                    "3": "11644",
                                    "4": "female-authors"
                                },
                                {
                                    "0": "Ursula K. Le Guin, Lech Jęczmyk",
                                    "1": "The Left Hand of Darkness",
                                    "2": "4.05",
                                    "3": "11644",
                                    "4": "female-authors"
                                },
                                {
                                    "0": "Betty Mahmoody",
                                    "1": "Not Without My Daughter",
                                    "2": "4.04",
                                    "3": "11644",
                                    "4": "female-authors"
                                },
                                {
                                    "0": "Caitlin Doughty",
                                    "1": "Smoke Gets in Your Eyes: And Other Lessons from the Crematory",
                                    "2": "4.04",
                                    "3": "11644",
                                    "4": "female-authors"
                                },
                                {
                                    "0": "Caroline Knapp",
                                    "1": "Drinking: A Love Story",
                                    "2": "4.04",
                                    "3": "11644",
                                    "4": "female-authors"
                                },
                                {
                                    "0": "Cate Tiernan",
                                    "1": "Book of Shadows (Sweep, #1)",
                                    "2": "4.04",
                                    "3": "11644",
                                    "4": "female-authors"
                                },
                                {
                                    "0": "Geraldine Brooks",
                                    "1": "Nine Parts of Desire: The Hidden World of Islamic Women",
                                    "2": "4.04",
                                    "3": "11644",
                                    "4": "female-authors"
                                },
                                {
                                    "0": "Hope Jahren",
                                    "1": "Lab Girl",
                                    "2": "4.04",
                                    "3": "11644",
                                    "4": "female-authors"
                                },
                                {
                                    "0": "Jen Sincero",
                                    "1": "You Are a Badass: How to Stop Doubting Your Greatness and Start Living an Awesome Life",
                                    "2": "4.04",
                                    "3": "11644",
                                    "4": "female-authors"
                                },
                                {
                                    "0": "L.M. Montgomery",
                                    "1": "Anne of Windy Poplars (Anne of Green Gables, #4)",
                                    "2": "4.04",
                                    "3": "11644",
                                    "4": "female-authors"
                                },
                                {
                                    "0": "Laurie R. King",
                                    "1": "A Monstrous Regiment of Women (Mary Russell, #2)",
                                    "2": "4.04",
                                    "3": "11644",
                                    "4": "female-authors"
                                },
                                {
                                    "0": "Louisa May Alcott",
                                    "1": "Little Women (Little Women, #1)",
                                    "2": "4.04",
                                    "3": "11644",
                                    "4": "female-authors"
                                },
                                {
                                    "0": "Martha Stewart, Victor Schrager",
                                    "1": "Martha Stewart's Cookies: The Very Best Treats to Bake and to Share",
                                    "2": "4.04",
                                    "3": "11644",
                                    "4": "female-authors"
                                },
                                {
                                    "0": "N.K. Jemisin",
                                    "1": "The Broken Kingdoms (Inheritance, #2)",
                                    "2": "4.04",
                                    "3": "11644",
                                    "4": "female-authors"
                                },
                                {
                                    "0": "Agatha Christie",
                                    "1": "Murder at the Vicarage (Miss Marple, #1)",
                                    "2": "4.03",
                                    "3": "11644",
                                    "4": "female-authors"
                                },
                                {
                                    "0": "Ann Leckie",
                                    "1": "Ancillary Sword (Imperial Radch, #2)",
                                    "2": "4.03",
                                    "3": "11644",
                                    "4": "female-authors"
                                },
                                {
                                    "0": "Chelsea Cain",
                                    "1": "Evil at Heart (Archie Sheridan & Gretchen Lowell, #3)",
                                    "2": "4.03",
                                    "3": "11644",
                                    "4": "female-authors"
                                },
                                {
                                    "0": "Emma Donoghue",
                                    "1": "Room",
                                    "2": "4.03",
                                    "3": "11644",
                                    "4": "female-authors"
                                },
                                {
                                    "0": "Kay Redfield Jamison",
                                    "1": "An Unquiet Mind: A Memoir of Moods and Madness",
                                    "2": "4.03",
                                    "3": "11644",
                                    "4": "female-authors"
                                },
                                {
                                    "0": "Marion Zimmer Bradley, Diana L. Paxson",
                                    "1": "Priestess of Avalon (Avalon, #4)",
                                    "2": "4.03",
                                    "3": "11644",
                                    "4": "female-authors"
                                },
                                {
                                    "0": "Pat Barker",
                                    "1": "Regeneration (Regeneration, #1)",
                                    "2": "4.03",
                                    "3": "11644",
                                    "4": "female-authors"
                                },
                                {
                                    "0": "Truddi Chase, Robert A. Phillips Jr.",
                                    "1": "When Rabbit Howls",
                                    "2": "4.03",
                                    "3": "11644",
                                    "4": "female-authors"
                                },
                                {
                                    "0": "Angela Carter",
                                    "1": "The Bloody Chamber and Other Stories",
                                    "2": "4.02",
                                    "3": "11644",
                                    "4": "female-authors"
                                },
                                {
                                    "0": "Barbara Kingsolver",
                                    "1": "The Poisonwood Bible",
                                    "2": "4.02",
                                    "3": "11644",
                                    "4": "female-authors"
                                },
                                {
                                    "0": "Cecelia Ahern",
                                    "1": "How to Fall in Love",
                                    "2": "4.02",
                                    "3": "11644",
                                    "4": "female-authors"
                                },
                                {
                                    "0": "Charlotte Perkins Gilman",
                                    "1": "The Yellow Wallpaper and Other Stories",
                                    "2": "4.02",
                                    "3": "11644",
                                    "4": "female-authors"
                                },
                                {
                                    "0": "Emily St. John Mandel",
                                    "1": "Station Eleven",
                                    "2": "4.02",
                                    "3": "11644",
                                    "4": "female-authors"
                                },
                                {
                                    "0": "Fannie Flagg",
                                    "1": "Standing in the Rainbow (Elmwood Springs, #2)",
                                    "2": "4.02",
                                    "3": "11644",
                                    "4": "female-authors"
                                },
                                {
                                    "0": "Louise Erdrich",
                                    "1": "The Master Butchers Singing Club",
                                    "2": "4.02",
                                    "3": "11644",
                                    "4": "female-authors"
                                },
                                {
                                    "0": "Sarah Waters",
                                    "1": "Fingersmith",
                                    "2": "4.02",
                                    "3": "11644",
                                    "4": "female-authors"
                                },
                                {
                                    "0": "Siri Hustvedt",
                                    "1": "What I Loved",
                                    "2": "4.02",
                                    "3": "11644",
                                    "4": "female-authors"
                                },
                                {
                                    "0": "Hannah Kent",
                                    "1": "Burial Rites",
                                    "2": "4.01",
                                    "3": "11644",
                                    "4": "female-authors"
                                },
                                {
                                    "0": "Isabel Allende, Margaret Sayers Peden",
                                    "1": "Island Beneath the Sea",
                                    "2": "4.01",
                                    "3": "11644",
                                    "4": "female-authors"
                                },
                                {
                                    "0": "Louise Rennison",
                                    "1": "Dancing in My Nuddy-Pants (Confessions of Georgia Nicolson, #4)",
                                    "2": "4.01",
                                    "3": "11644",
                                    "4": "female-authors"
                                },
                                {
                                    "0": "Rosalind Miles",
                                    "1": "I, Elizabeth",
                                    "2": "4.01",
                                    "3": "11644",
                                    "4": "female-authors"
                                },
                                {
                                    "0": "Sue Monk Kidd",
                                    "1": "The Secret Life of Bees",
                                    "2": "4.01",
                                    "3": "11644",
                                    "4": "female-authors"
                                },
                                {
                                    "0": "Tess Gerritsen",
                                    "1": "The Mephisto Club (Rizzoli & Isles, #6)",
                                    "2": "4.01",
                                    "3": "11644",
                                    "4": "female-authors"
                                },
                                {
                                    "0": "Toni Morrison",
                                    "1": "Song of Solomon",
                                    "2": "4.01",
                                    "3": "11644",
                                    "4": "female-authors"
                                },
                                {
                                    "0": "V.C. Andrews",
                                    "1": "Heaven (Casteel, #1)",
                                    "2": "4.01",
                                    "3": "11644",
                                    "4": "female-authors"
                                },
                                {
                                    "0": "Deborah Blum",
                                    "1": "The Poisoner's Handbook: Murder and the Birth of Forensic Medicine in Jazz Age New York",
                                    "2": "4",
                                    "3": "11644",
                                    "4": "female-authors"
                                },
                                {
                                    "0": "Dodie Smith",
                                    "1": "I Capture the Castle",
                                    "2": "4",
                                    "3": "11644",
                                    "4": "female-authors"
                                },
                                {
                                    "0": "L.M. Montgomery",
                                    "1": "Rainbow Valley (Anne of Green Gables, #7)",
                                    "2": "4",
                                    "3": "11644",
                                    "4": "female-authors"
                                },
                                {
                                    "0": "Margaret Atwood",
                                    "1": "Oryx and Crake (MaddAddam, #1)",
                                    "2": "4",
                                    "3": "11644",
                                    "4": "female-authors"
                                },
                                {
                                    "0": "Sarah Waters",
                                    "1": "Tipping the Velvet",
                                    "2": "4",
                                    "3": "11644",
                                    "4": "female-authors"
                                },
                                {
                                    "0": "Twyla Tharp",
                                    "1": "The Creative Habit: Learn It and Use It for Life",
                                    "2": "4",
                                    "3": "11644",
                                    "4": "female-authors"
                                },
                                {
                                    "0": "Ursula K. Le Guin",
                                    "1": "Tales from Earthsea (Earthsea Cycle, #5)",
                                    "2": "4",
                                    "3": "11644",
                                    "4": "female-authors"
                                },
                                {
                                    "0": "Annie Proulx",
                                    "1": "Close Range",
                                    "2": "3.99",
                                    "3": "11644",
                                    "4": "female-authors"
                                },
                                {
                                    "0": "Emily M. Danforth",
                                    "1": "The Miseducation of Cameron Post",
                                    "2": "3.99",
                                    "3": "11644",
                                    "4": "female-authors"
                                },
                                {
                                    "0": "Enid Blyton",
                                    "1": "Five Go Adventuring Again (Famous Five, #2)",
                                    "2": "3.99",
                                    "3": "11644",
                                    "4": "female-authors"
                                },
                                {
                                    "0": "Giulia Enders, Jill Enders",
                                    "1": "Gut: The Inside Story of Our Body’s Most Underrated Organ",
                                    "2": "3.99",
                                    "3": "11644",
                                    "4": "female-authors"
                                },
                                {
                                    "0": "Jane Austen, Fiona Stafford",
                                    "1": "Emma",
                                    "2": "3.99",
                                    "3": "11644",
                                    "4": "female-authors"
                                },
                                {
                                    "0": "Maggie Nelson",
                                    "1": "The Argonauts",
                                    "2": "3.99",
                                    "3": "11644",
                                    "4": "female-authors"
                                },
                                {
                                    "0": "Tamora Pierce",
                                    "1": "Sandry's Book (Circle of Magic, #1)",
                                    "2": "3.99",
                                    "3": "11644",
                                    "4": "female-authors"
                                },
                                {
                                    "0": "Toni Morrison",
                                    "1": "The Bluest Eye",
                                    "2": "3.99",
                                    "3": "11644",
                                    "4": "female-authors"
                                },
                                {
                                    "0": "Ursula K. Le Guin",
                                    "1": "A Wizard of Earthsea (Earthsea Cycle, #1)",
                                    "2": "3.99",
                                    "3": "11644",
                                    "4": "female-authors"
                                },
                                {
                                    "0": "A.N. Roquelaure, Anne Rice",
                                    "1": "Sleeping Beauty Box Set",
                                    "2": "3.98",
                                    "3": "11644",
                                    "4": "female-authors"
                                },
                                {
                                    "0": "Agatha Christie, Ροζίτα Σώκου",
                                    "1": "The Mysterious Affair at Styles (Hercule Poirot, #1)",
                                    "2": "3.98",
                                    "3": "11644",
                                    "4": "female-authors"
                                },
                                {
                                    "0": "Alice Munro",
                                    "1": "Runaway",
                                    "2": "3.98",
                                    "3": "11644",
                                    "4": "female-authors"
                                },
                                {
                                    "0": "Amy Tan",
                                    "1": "The Bonesetter's Daughter",
                                    "2": "3.98",
                                    "3": "11644",
                                    "4": "female-authors"
                                },
                                {
                                    "0": "Amy Tan",
                                    "1": "The Hundred Secret Senses",
                                    "2": "3.98",
                                    "3": "11644",
                                    "4": "female-authors"
                                },
                                {
                                    "0": "Amy Tan",
                                    "1": "The Kitchen God's Wife",
                                    "2": "3.98",
                                    "3": "11644",
                                    "4": "female-authors"
                                },
                                {
                                    "0": "Barbara Kingsolver",
                                    "1": "Prodigal Summer",
                                    "2": "3.98",
                                    "3": "11644",
                                    "4": "female-authors"
                                },
                                {
                                    "0": "Julie Anne Peters",
                                    "1": "Keeping You a Secret",
                                    "2": "3.98",
                                    "3": "11644",
                                    "4": "female-authors"
                                },
                                {
                                    "0": "Katherine Dunn",
                                    "1": "Geek Love",
                                    "2": "3.98",
                                    "3": "11644",
                                    "4": "female-authors"
                                },
                                {
                                    "0": "Louise Erdrich",
                                    "1": "Love Medicine",
                                    "2": "3.98",
                                    "3": "11644",
                                    "4": "female-authors"
                                },
                                {
                                    "0": "Margaret Atwood",
                                    "1": "MaddAddam (MaddAddam, #3)",
                                    "2": "3.98",
                                    "3": "11644",
                                    "4": "female-authors"
                                },
                                {
                                    "0": "Margaret Peterson Haddix",
                                    "1": "Running Out of Time",
                                    "2": "3.98",
                                    "3": "11644",
                                    "4": "female-authors"
                                },
                                {
                                    "0": "Ruth Ozeki",
                                    "1": "A Tale for the Time Being",
                                    "2": "3.98",
                                    "3": "11644",
                                    "4": "female-authors"
                                },
                                {
                                    "0": "Sara Nović",
                                    "1": "Girl at War",
                                    "2": "3.98",
                                    "3": "11644",
                                    "4": "female-authors"
                                },
                                {
                                    "0": "Sarah Vowell",
                                    "1": "Assassination Vacation",
                                    "2": "3.98",
                                    "3": "11644",
                                    "4": "female-authors"
                                },
                                {
                                    "0": "Tamora Pierce",
                                    "1": "Magic Steps (The Circle Opens, #1)",
                                    "2": "3.98",
                                    "3": "11644",
                                    "4": "female-authors"
                                },
                                {
                                    "0": "Thrity Umrigar",
                                    "1": "The Space Between Us",
                                    "2": "3.98",
                                    "3": "11644",
                                    "4": "female-authors"
                                },
                                {
                                    "0": "Amanda Palmer",
                                    "1": "The Art of Asking; or, How I Learned to Stop Worrying and Let People Help",
                                    "2": "3.97",
                                    "3": "11644",
                                    "4": "female-authors"
                                },
                                {
                                    "0": "Ann Leckie",
                                    "1": "Ancillary Justice (Imperial Radch #1)",
                                    "2": "3.97",
                                    "3": "11644",
                                    "4": "female-authors"
                                },
                                {
                                    "0": "Anne Rice",
                                    "1": "Interview with the Vampire (The Vampire Chronicles, #1)",
                                    "2": "3.97",
                                    "3": "11644",
                                    "4": "female-authors"
                                },
                                {
                                    "0": "Carson McCullers",
                                    "1": "The Heart is a Lonely Hunter",
                                    "2": "3.97",
                                    "3": "11644",
                                    "4": "female-authors"
                                },
                                {
                                    "0": "Catherynne M. Valente, Ana Juan",
                                    "1": "The Girl Who Circumnavigated Fairyland in a Ship of Her Own Making (Fairyland, #1)",
                                    "2": "3.97",
                                    "3": "11644",
                                    "4": "female-authors"
                                },
                                {
                                    "0": "Johanna Spyri, Angelo  Rinaldi, Beverly Cleary",
                                    "1": "Heidi",
                                    "2": "3.97",
                                    "3": "11644",
                                    "4": "female-authors"
                                },
                                {
                                    "0": "Katherine Boo",
                                    "1": "Behind the Beautiful Forevers: Life, Death, and Hope in a Mumbai Undercity",
                                    "2": "3.97",
                                    "3": "11644",
                                    "4": "female-authors"
                                },
                                {
                                    "0": "Louise Rennison",
                                    "1": "Knocked Out by My Nunga-Nungas (Confessions of Georgia Nicolson, #3)",
                                    "2": "3.97",
                                    "3": "11644",
                                    "4": "female-authors"
                                },
                                {
                                    "0": "Margaret Atwood, Brigitte Walitzek",
                                    "1": "Alias Grace",
                                    "2": "3.97",
                                    "3": "11644",
                                    "4": "female-authors"
                                },
                                {
                                    "0": "Nancy Garden",
                                    "1": "Annie on My Mind",
                                    "2": "3.97",
                                    "3": "11644",
                                    "4": "female-authors"
                                },
                                {
                                    "0": "Pearl S. Buck",
                                    "1": "The Good Earth (House of Earth, #1)",
                                    "2": "3.97",
                                    "3": "11644",
                                    "4": "female-authors"
                                },
                                {
                                    "0": "Tana French",
                                    "1": "Faithful Place (Dublin Murder Squad, #3)",
                                    "2": "3.97",
                                    "3": "11644",
                                    "4": "female-authors"
                                },
                                {
                                    "0": "Agatha Christie",
                                    "1": "A Murder Is Announced (Miss Marple, #5)",
                                    "2": "3.96",
                                    "3": "11644",
                                    "4": "female-authors"
                                },
                                {
                                    "0": "Alexandra Fuller",
                                    "1": "Don't Let's Go to the Dogs Tonight",
                                    "2": "3.96",
                                    "3": "11644",
                                    "4": "female-authors"
                                },
                                {
                                    "0": "Isabel Allende",
                                    "1": "The Stories of Eva Luna",
                                    "2": "3.96",
                                    "3": "11644",
                                    "4": "female-authors"
                                },
                                {
                                    "0": "Jean Kwok",
                                    "1": "Girl in Translation",
                                    "2": "3.96",
                                    "3": "11644",
                                    "4": "female-authors"
                                },
                                {
                                    "0": "Jhumpa Lahiri",
                                    "1": "The Namesake",
                                    "2": "3.96",
                                    "3": "11644",
                                    "4": "female-authors"
                                },
                                {
                                    "0": "Liz Moore",
                                    "1": "Heft",
                                    "2": "3.96",
                                    "3": "11644",
                                    "4": "female-authors"
                                },
                                {
                                    "0": "Louise Fitzhugh",
                                    "1": "Harriet the Spy (Harriet the Spy #1)",
                                    "2": "3.96",
                                    "3": "11644",
                                    "4": "female-authors"
                                },
                                {
                                    "0": "Louise Rennison",
                                    "1": "On the Bright Side, I'm Now the Girlfriend of a Sex God (Confessions of Georgia Nicolson, #2)",
                                    "2": "3.96",
                                    "3": "11644",
                                    "4": "female-authors"
                                },
                                {
                                    "0": "Masami Tsuda, Darcy Lockman, Jack Niida",
                                    "1": "Kare Kano: His and Her Circumstances, Vol. 1",
                                    "2": "3.96",
                                    "3": "5129",
                                    "4": "books-by-women"
                                },
                                {
                                    "0": "Nigella Lawson",
                                    "1": "Nigella Express: Good Food, Fast",
                                    "2": "3.96",
                                    "3": "11644",
                                    "4": "female-authors"
                                },
                                {
                                    "0": "Rene Denfeld",
                                    "1": "The Enchanted",
                                    "2": "3.96",
                                    "3": "11644",
                                    "4": "female-authors"
                                },
                                {
                                    "0": "Sarah Ban Breathnach",
                                    "1": "Simple Abundance:  A Daybook of Comfort and Joy",
                                    "2": "3.96",
                                    "3": "11644",
                                    "4": "female-authors"
                                },
                                {
                                    "0": "Sarah Hepola",
                                    "1": "Blackout: Remembering the Things I Drank to Forget",
                                    "2": "3.96",
                                    "3": "11644",
                                    "4": "female-authors"
                                },
                                {
                                    "0": "V.C. Andrews",
                                    "1": "Dark Angel (Casteel, #2)",
                                    "2": "3.96",
                                    "3": "11644",
                                    "4": "female-authors"
                                },
                                {
                                    "0": "Anne Michaels",
                                    "1": "Fugitive Pieces",
                                    "2": "3.95",
                                    "3": "11644",
                                    "4": "female-authors"
                                },
                                {
                                    "0": "Ann-Marie MacDonald",
                                    "1": "Fall on Your Knees",
                                    "2": "3.95",
                                    "3": "11644",
                                    "4": "female-authors"
                                },
                                {
                                    "0": "Audrey Niffenegger",
                                    "1": "The Time Traveler's Wife",
                                    "2": "3.95",
                                    "3": "11644",
                                    "4": "female-authors"
                                },
                                {
                                    "0": "Eowyn Ivey",
                                    "1": "The Snow Child",
                                    "2": "3.95",
                                    "3": "11644",
                                    "4": "female-authors"
                                },
                                {
                                    "0": "Heather O'Neill",
                                    "1": "Lullabies for Little Criminals",
                                    "2": "3.95",
                                    "3": "11644",
                                    "4": "female-authors"
                                },
                                {
                                    "0": "Isabel Allende, Margaret Sayers Peden",
                                    "1": "Eva Luna",
                                    "2": "3.95",
                                    "3": "11644",
                                    "4": "female-authors"
                                },
                                {
                                    "0": "Joanne Harris",
                                    "1": "Chocolat (Chocolat, #1)",
                                    "2": "3.95",
                                    "3": "11644",
                                    "4": "female-authors"
                                },
                                {
                                    "0": "Margaret Atwood",
                                    "1": "The Blind Assassin",
                                    "2": "3.95",
                                    "3": "11644",
                                    "4": "female-authors"
                                },
                                {
                                    "0": "Mollie Katzen",
                                    "1": "The Moosewood Cookbook: Recipes from Moosewood Restaurant, Ithaca, New York",
                                    "2": "3.95",
                                    "3": "11644",
                                    "4": "female-authors"
                                },
                                {
                                    "0": "Newt Scamander, J.K. Rowling, Albus Dumbledore",
                                    "1": "Fantastic Beasts and Where to Find Them",
                                    "2": "3.95",
                                    "3": "11644",
                                    "4": "female-authors"
                                },
                                {
                                    "0": "Pamela Druckerman, Abby Craden",
                                    "1": "Bringing Up Bébé: One American Mother Discovers the Wisdom of French Parenting",
                                    "2": "3.95",
                                    "3": "11644",
                                    "4": "female-authors"
                                },
                                {
                                    "0": "Agatha Christie",
                                    "1": "Evil Under the Sun (Hercule Poirot, #23)",
                                    "2": "3.94",
                                    "3": "11644",
                                    "4": "female-authors"
                                },
                                {
                                    "0": "Alison Weir",
                                    "1": "Innocent Traitor",
                                    "2": "3.94",
                                    "3": "11644",
                                    "4": "female-authors"
                                },
                                {
                                    "0": "Ann M. Martin",
                                    "1": "Kristy's Great Idea (The Baby-Sitters Club, #1)",
                                    "2": "3.94",
                                    "3": "11644",
                                    "4": "female-authors"
                                },
                                {
                                    "0": "Anna Sewell",
                                    "1": "Black Beauty",
                                    "2": "3.94",
                                    "3": "11644",
                                    "4": "female-authors"
                                },
                                {
                                    "0": "Barbara Kingsolver",
                                    "1": "The Bean Trees (Greer Family, #1)",
                                    "2": "3.94",
                                    "3": "11644",
                                    "4": "female-authors"
                                },
                                {
                                    "0": "Edith Wharton, Nina Bawden",
                                    "1": "The House of Mirth",
                                    "2": "3.94",
                                    "3": "11644",
                                    "4": "female-authors"
                                },
                                {
                                    "0": "Gail Tsukiyama",
                                    "1": "Women of the Silk",
                                    "2": "3.94",
                                    "3": "11644",
                                    "4": "female-authors"
                                },
                                {
                                    "0": "Jeanette Winterson",
                                    "1": "Why Be Happy When You Could Be Normal?",
                                    "2": "3.94",
                                    "3": "11644",
                                    "4": "female-authors"
                                },
                                {
                                    "0": "Jill Murphy",
                                    "1": "The Worst Witch (Worst Witch, #1)",
                                    "2": "3.94",
                                    "3": "11644",
                                    "4": "female-authors"
                                },
                                {
                                    "0": "Judy Blume",
                                    "1": "Otherwise Known as Sheila the Great (Fudge #2)",
                                    "2": "3.94",
                                    "3": "11644",
                                    "4": "female-authors"
                                },
                                {
                                    "0": "Laura Esquivel, Thomas  Christensen, Carol Christensen",
                                    "1": "Like Water for Chocolate",
                                    "2": "3.94",
                                    "3": "11644",
                                    "4": "female-authors"
                                },
                                {
                                    "0": "Melanie Rawn",
                                    "1": "Dragon Prince (Dragon Prince, #1)",
                                    "2": "3.94",
                                    "3": "11644",
                                    "4": "female-authors"
                                },
                                {
                                    "0": "Noelle Stevenson, Grace Ellis, Shannon Waters, Shannon Watters, Brooke A. Allen, Faith Hicks, Kat Leyh, Brooke Allen, Carolyn Nowak, Various, Carey Pietsch",
                                    "1": "Lumberjanes, Vol. 1: Beware the Kitten Holy",
                                    "2": "3.94",
                                    "3": "11644",
                                    "4": "female-authors"
                                },
                                {
                                    "0": "P.D. James",
                                    "1": "Cover Her Face (Adam Dalgliesh #1)",
                                    "2": "3.94",
                                    "3": "11644",
                                    "4": "female-authors"
                                },
                                {
                                    "0": "Patti Smith",
                                    "1": "M Train",
                                    "2": "3.94",
                                    "3": "11644",
                                    "4": "female-authors"
                                },
                                {
                                    "0": "Rachel Carson, Linda Lear, Edward O. Wilson",
                                    "1": "Silent Spring",
                                    "2": "3.94",
                                    "3": "11644",
                                    "4": "female-authors"
                                },
                                {
                                    "0": "Terry McMillan",
                                    "1": "Waiting to Exhale (Waiting To Exhale #1)",
                                    "2": "3.94",
                                    "3": "11644",
                                    "4": "female-authors"
                                },
                                {
                                    "0": "Tina Fey",
                                    "1": "Bossypants",
                                    "2": "3.94",
                                    "3": "11644",
                                    "4": "female-authors"
                                },
                                {
                                    "0": "Yōko Ogawa, Stephen Snyder",
                                    "1": "The Housekeeper and the Professor",
                                    "2": "3.94",
                                    "3": "11644",
                                    "4": "female-authors"
                                },
                                {
                                    "0": "Annie Proulx",
                                    "1": "Brokeback Mountain",
                                    "2": "3.93",
                                    "3": "11644",
                                    "4": "female-authors"
                                },
                                {
                                    "0": "Edith Wharton, Maureen Howard",
                                    "1": "The Age of Innocence",
                                    "2": "3.93",
                                    "3": "11644",
                                    "4": "female-authors"
                                },
                                {
                                    "0": "George Eliot, Michel Faber",
                                    "1": "Middlemarch",
                                    "2": "3.93",
                                    "3": "11644",
                                    "4": "female-authors"
                                },
                                {
                                    "0": "Isabel Allende, Margaret Sayers Peden",
                                    "1": "Portrait in Sepia",
                                    "2": "3.93",
                                    "3": "11644",
                                    "4": "female-authors"
                                },
                                {
                                    "0": "Janet Fitch",
                                    "1": "White Oleander",
                                    "2": "3.93",
                                    "3": "11644",
                                    "4": "female-authors"
                                },
                                {
                                    "0": "Jenny  Lawson",
                                    "1": "Furiously Happy: A Funny Book About Horrible Things",
                                    "2": "3.93",
                                    "3": "11644",
                                    "4": "female-authors"
                                },
                                {
                                    "0": "Margaret Atwood",
                                    "1": "Stone Mattress: Nine Tales",
                                    "2": "3.93",
                                    "3": "11644",
                                    "4": "female-authors"
                                },
                                {
                                    "0": "Marian Keyes",
                                    "1": "Rachel's Holiday (Walsh Family, #2)",
                                    "2": "3.93",
                                    "3": "11644",
                                    "4": "female-authors"
                                },
                                {
                                    "0": "Mary Roach",
                                    "1": "Packing for Mars: The Curious Science of Life in the Void",
                                    "2": "3.93",
                                    "3": "11644",
                                    "4": "female-authors"
                                },
                                {
                                    "0": "Natsuo Kirino, Stephen Snyder",
                                    "1": "Out",
                                    "2": "3.93",
                                    "3": "11644",
                                    "4": "female-authors"
                                },
                                {
                                    "0": "Patricia Highsmith",
                                    "1": "The Price of Salt",
                                    "2": "3.93",
                                    "3": "11644",
                                    "4": "female-authors"
                                },
                                {
                                    "0": "Patricia Highsmith",
                                    "1": "The Talented Mr. Ripley (Ripley, #1)",
                                    "2": "3.93",
                                    "3": "11644",
                                    "4": "female-authors"
                                },
                                {
                                    "0": "Phyllis T. Smith",
                                    "1": "I Am Livia",
                                    "2": "3.93",
                                    "3": "11644",
                                    "4": "female-authors"
                                },
                                {
                                    "0": "Rebecca Solnit",
                                    "1": "Men Explain Things to Me",
                                    "2": "3.93",
                                    "3": "11644",
                                    "4": "female-authors"
                                },
                                {
                                    "0": "Rebecca Solnit",
                                    "1": "Men Explain Things to Me",
                                    "2": "3.93",
                                    "3": "11662",
                                    "4": "female-writers"
                                },
                                {
                                    "0": "Ruth Ozeki",
                                    "1": "My Year of Meats",
                                    "2": "3.93",
                                    "3": "11644",
                                    "4": "female-authors"
                                },
                                {
                                    "0": "Sara Douglass",
                                    "1": "The Wayfarer Redemption (Wayfarer Redemption, #1)",
                                    "2": "3.93",
                                    "3": "11644",
                                    "4": "female-authors"
                                },
                                {
                                    "0": "Agatha Christie",
                                    "1": "4:50 from Paddington (Miss Marple, #8)",
                                    "2": "3.92",
                                    "3": "11644",
                                    "4": "female-authors"
                                },
                                {
                                    "0": "Ann Patchett",
                                    "1": "Bel Canto",
                                    "2": "3.92",
                                    "3": "11644",
                                    "4": "female-authors"
                                },
                                {
                                    "0": "Chelsea Cain",
                                    "1": "Heartsick (Archie Sheridan & Gretchen Lowell, #1)",
                                    "2": "3.92",
                                    "3": "11644",
                                    "4": "female-authors"
                                },
                                {
                                    "0": "Cynthia Voigt",
                                    "1": "Homecoming (Tillerman Cycle, #1)",
                                    "2": "3.92",
                                    "3": "11644",
                                    "4": "female-authors"
                                },
                                {
                                    "0": "Daphne du Maurier",
                                    "1": "My Cousin Rachel",
                                    "2": "3.92",
                                    "3": "11644",
                                    "4": "female-authors"
                                },
                                {
                                    "0": "Emily Carroll",
                                    "1": "Through the Woods",
                                    "2": "3.92",
                                    "3": "11644",
                                    "4": "female-authors"
                                },
                                {
                                    "0": "Gillian Flynn",
                                    "1": "Sharp Objects",
                                    "2": "3.92",
                                    "3": "11644",
                                    "4": "female-authors"
                                },
                                {
                                    "0": "Julie Maroh",
                                    "1": "Le bleu est une couleur chaude",
                                    "2": "3.92",
                                    "3": "11644",
                                    "4": "female-authors"
                                },
                                {
                                    "0": "Kate Atkinson",
                                    "1": "A God in Ruins",
                                    "2": "3.92",
                                    "3": "11644",
                                    "4": "female-authors"
                                },
                                {
                                    "0": "Louisa May Alcott",
                                    "1": "Good Wives (Little Women, #1.5)",
                                    "2": "3.92",
                                    "3": "11644",
                                    "4": "female-authors"
                                },
                                {
                                    "0": "Margaret Atwood",
                                    "1": "Cat's Eye",
                                    "2": "3.92",
                                    "3": "11644",
                                    "4": "female-authors"
                                },
                                {
                                    "0": "Mary Karr",
                                    "1": "The Liars' Club",
                                    "2": "3.92",
                                    "3": "11644",
                                    "4": "female-authors"
                                },
                                {
                                    "0": "Mary Roach",
                                    "1": "Gulp: Adventures on the Alimentary Canal",
                                    "2": "3.92",
                                    "3": "11644",
                                    "4": "female-authors"
                                },
                                {
                                    "0": "Mineko Iwasaki, Rande Brown",
                                    "1": "Geisha, a Life",
                                    "2": "3.92",
                                    "3": "11644",
                                    "4": "female-authors"
                                },
                                {
                                    "0": "Stella Gibbons, Lynne Truss, Roz Chast",
                                    "1": "Cold Comfort Farm",
                                    "2": "3.92",
                                    "3": "11644",
                                    "4": "female-authors"
                                },
                                {
                                    "0": "Anne Brontë, Stevie Davies",
                                    "1": "The Tenant of Wildfell Hall",
                                    "2": "3.91",
                                    "3": "11644",
                                    "4": "female-authors"
                                },
                                {
                                    "0": "Arundhati Roy",
                                    "1": "The God of Small Things",
                                    "2": "3.91",
                                    "3": "11644",
                                    "4": "female-authors"
                                },
                                {
                                    "0": "Danielle Steel",
                                    "1": "The Gift",
                                    "2": "3.91",
                                    "3": "11644",
                                    "4": "female-authors"
                                },
                                {
                                    "0": "Dorothy L. Sayers",
                                    "1": "Whose Body?  (Lord Peter Wimsey, #1)",
                                    "2": "3.91",
                                    "3": "11644",
                                    "4": "female-authors"
                                },
                                {
                                    "0": "Elizabeth Berg",
                                    "1": "What We Keep ",
                                    "2": "3.91",
                                    "3": "11644",
                                    "4": "female-authors"
                                },
                                {
                                    "0": "Jodi Picoult",
                                    "1": "Change of Heart",
                                    "2": "3.91",
                                    "3": "11644",
                                    "4": "female-authors"
                                },
                                {
                                    "0": "Louise Erdrich",
                                    "1": "The Round House",
                                    "2": "3.91",
                                    "3": "11644",
                                    "4": "female-authors"
                                },
                                {
                                    "0": "Nicole Krauss",
                                    "1": "The History of Love",
                                    "2": "3.91",
                                    "3": "11644",
                                    "4": "female-authors"
                                },
                                {
                                    "0": "Roxane Gay",
                                    "1": "Bad Feminist",
                                    "2": "3.91",
                                    "3": "11644",
                                    "4": "female-authors"
                                },
                                {
                                    "0": "Toni Morrison",
                                    "1": "Tar Baby",
                                    "2": "3.91",
                                    "3": "11644",
                                    "4": "female-authors"
                                },
                                {
                                    "0": "Agatha Christie",
                                    "1": "Hercule Poirot's Christmas (Hercule Poirot, #20)",
                                    "2": "3.9",
                                    "3": "11644",
                                    "4": "female-authors"
                                },
                                {
                                    "0": "Amy Tan",
                                    "1": "The Joy Luck Club",
                                    "2": "3.9",
                                    "3": "11644",
                                    "4": "female-authors"
                                },
                                {
                                    "0": "Iris Murdoch, Mary Kinzie",
                                    "1": "The Sea, the Sea",
                                    "2": "3.9",
                                    "3": "11662",
                                    "4": "female-writers"
                                },
                                {
                                    "0": "Iris Murdoch, Mary Kinzie",
                                    "1": "The Sea, the Sea",
                                    "2": "3.9",
                                    "3": "11644",
                                    "4": "female-authors"
                                },
                                {
                                    "0": "Isabel Allende, Margaret Sayers Peden",
                                    "1": "Inés of My Soul",
                                    "2": "3.9",
                                    "3": "11644",
                                    "4": "female-authors"
                                },
                                {
                                    "0": "Judith Guest",
                                    "1": "Ordinary People",
                                    "2": "3.9",
                                    "3": "11644",
                                    "4": "female-authors"
                                },
                                {
                                    "0": "Octavia E. Butler",
                                    "1": "Fledgling",
                                    "2": "3.9",
                                    "3": "11644",
                                    "4": "female-authors"
                                },
                                {
                                    "0": "Octavia E. Butler",
                                    "1": "Fledgling",
                                    "2": "3.9",
                                    "3": "5129",
                                    "4": "books-by-women"
                                },
                                {
                                    "0": "Sarah Vowell, Katherine Streeter",
                                    "1": "The Partly Cloudy Patriot",
                                    "2": "3.9",
                                    "3": "11644",
                                    "4": "female-authors"
                                },
                                {
                                    "0": "Susanna Kaysen",
                                    "1": "Girl, Interrupted",
                                    "2": "3.9",
                                    "3": "11644",
                                    "4": "female-authors"
                                },
                                {
                                    "0": "Agatha Christie",
                                    "1": "Peril at End House (Hercule Poirot, #8)",
                                    "2": "3.89",
                                    "3": "11644",
                                    "4": "female-authors"
                                },
                                {
                                    "0": "Agatha Christie",
                                    "1": "The Mirror Crack'd from Side to Side (Miss Marple, #9)",
                                    "2": "3.89",
                                    "3": "11644",
                                    "4": "female-authors"
                                },
                                {
                                    "0": "Isabel Allende, Margaret Sayers Peden",
                                    "1": "Daughter of Fortune",
                                    "2": "3.89",
                                    "3": "11644",
                                    "4": "female-authors"
                                },
                                {
                                    "0": "Judy Blume",
                                    "1": "Are You There God? It's Me, Margaret",
                                    "2": "3.89",
                                    "3": "11644",
                                    "4": "female-authors"
                                },
                                {
                                    "0": "Liz Kessler, Sarah Gibb",
                                    "1": "The Tail of Emily Windsnap (Emily Windsnap, #1)",
                                    "2": "3.89",
                                    "3": "11644",
                                    "4": "female-authors"
                                },
                                {
                                    "0": "Louise Erdrich",
                                    "1": "The Beet Queen",
                                    "2": "3.89",
                                    "3": "5129",
                                    "4": "books-by-women"
                                },
                                {
                                    "0": "Louise Erdrich",
                                    "1": "The Beet Queen",
                                    "2": "3.89",
                                    "3": "11644",
                                    "4": "female-authors"
                                },
                                {
                                    "0": "Lucy Knisley",
                                    "1": "Relish: My Life in the Kitchen",
                                    "2": "3.89",
                                    "3": "11644",
                                    "4": "female-authors"
                                },
                                {
                                    "0": "Mindy Kaling",
                                    "1": "Why Not Me?",
                                    "2": "3.89",
                                    "3": "11644",
                                    "4": "female-authors"
                                },
                                {
                                    "0": "Naomi Wolf",
                                    "1": "The Beauty Myth",
                                    "2": "3.89",
                                    "3": "11644",
                                    "4": "female-authors"
                                },
                                {
                                    "0": "S.E. Hinton",
                                    "1": "That Was Then, This Is Now",
                                    "2": "3.89",
                                    "3": "11644",
                                    "4": "female-authors"
                                },
                                {
                                    "0": "Shirley Jackson, Laura   Miller",
                                    "1": "The Haunting of Hill House",
                                    "2": "3.89",
                                    "3": "11644",
                                    "4": "female-authors"
                                },
                                {
                                    "0": "Ursula K. Le Guin",
                                    "1": "Tehanu (Earthsea Cycle, #4)",
                                    "2": "3.89",
                                    "3": "11644",
                                    "4": "female-authors"
                                },
                                {
                                    "0": "A.S. Byatt",
                                    "1": "Possession",
                                    "2": "3.88",
                                    "3": "11644",
                                    "4": "female-authors"
                                },
                                {
                                    "0": "Carrie Brownstein",
                                    "1": "Hunger Makes Me a Modern Girl",
                                    "2": "3.88",
                                    "3": "11644",
                                    "4": "female-authors"
                                },
                                {
                                    "0": "Elena Ferrante, Ann Goldstein",
                                    "1": "My Brilliant Friend (The Neapolitan Novels #1)",
                                    "2": "3.88",
                                    "3": "11644",
                                    "4": "female-authors"
                                },
                                {
                                    "0": "Flannery O'Connor",
                                    "1": "Wise Blood",
                                    "2": "3.88",
                                    "3": "11644",
                                    "4": "female-authors"
                                },
                                {
                                    "0": "Frida Kahlo, Carlos Fuentes, Sarah M. Lowe",
                                    "1": "The Diary of Frida Kahlo: An Intimate Self-Portrait",
                                    "2": "3.88",
                                    "3": "11644",
                                    "4": "female-authors"
                                },
                                {
                                    "0": "Inga Muscio, Betty Dodson",
                                    "1": "Cunt: A Declaration of Independence",
                                    "2": "3.88",
                                    "3": "11644",
                                    "4": "female-authors"
                                },
                                {
                                    "0": "Inga Muscio, Betty Dodson",
                                    "1": "Cunt: A Declaration of Independence",
                                    "2": "3.88",
                                    "3": "5129",
                                    "4": "books-by-women"
                                },
                                {
                                    "0": "Jean M. Auel",
                                    "1": "The Mammoth Hunters (Earth's Children, #3)",
                                    "2": "3.88",
                                    "3": "11644",
                                    "4": "female-authors"
                                },
                                {
                                    "0": "Miranda July, Brigitte Sire",
                                    "1": "It Chooses You",
                                    "2": "3.88",
                                    "3": "5129",
                                    "4": "books-by-women"
                                },
                                {
                                    "0": "Rita Mae Brown",
                                    "1": "Rubyfruit Jungle",
                                    "2": "3.88",
                                    "3": "11644",
                                    "4": "female-authors"
                                },
                                {
                                    "0": "Vera Brosgol",
                                    "1": "Anya's Ghost",
                                    "2": "3.88",
                                    "3": "11644",
                                    "4": "female-authors"
                                },
                                {
                                    "0": "Willa Cather",
                                    "1": "Death Comes for the Archbishop",
                                    "2": "3.88",
                                    "3": "11644",
                                    "4": "female-authors"
                                },
                                {
                                    "0": "Anchee Min",
                                    "1": "Empress Orchid (Empress Orchid, #1)",
                                    "2": "3.87",
                                    "3": "11644",
                                    "4": "female-authors"
                                },
                                {
                                    "0": "Donna Tartt",
                                    "1": "The Goldfinch",
                                    "2": "3.87",
                                    "3": "11644",
                                    "4": "female-authors"
                                },
                                {
                                    "0": "Georgia Byng",
                                    "1": "Molly Moon's Incredible Book of Hypnotism (Molly Moon, #1)",
                                    "2": "3.87",
                                    "3": "11644",
                                    "4": "female-authors"
                                },
                                {
                                    "0": "Jacqueline Woodson",
                                    "1": "Another Brooklyn",
                                    "2": "3.87",
                                    "3": "11644",
                                    "4": "female-authors"
                                },
                                {
                                    "0": "Sheri  Fink",
                                    "1": "Five Days at Memorial: Life and Death in a Storm-Ravaged Hospital",
                                    "2": "3.87",
                                    "3": "11644",
                                    "4": "female-authors"
                                },
                                {
                                    "0": "V.C. Andrews",
                                    "1": "Dawn (Cutler, #1)",
                                    "2": "3.87",
                                    "3": "11644",
                                    "4": "female-authors"
                                },
                                {
                                    "0": "Zora Neale Hurston",
                                    "1": "Their Eyes Were Watching God",
                                    "2": "3.87",
                                    "3": "11644",
                                    "4": "female-authors"
                                },
                                {
                                    "0": "Anne Rice",
                                    "1": "The Queen of the Damned (The Vampire Chronicles, #3)",
                                    "2": "3.86",
                                    "3": "11644",
                                    "4": "female-authors"
                                },
                                {
                                    "0": "Edwidge Danticat",
                                    "1": "Breath, Eyes, Memory",
                                    "2": "3.86",
                                    "3": "11644",
                                    "4": "female-authors"
                                },
                                {
                                    "0": "Eve Ensler, Gloria Steinem",
                                    "1": "The Vagina Monologues",
                                    "2": "3.86",
                                    "3": "11662",
                                    "4": "female-writers"
                                },
                                {
                                    "0": "Eve Ensler, Gloria Steinem",
                                    "1": "The Vagina Monologues",
                                    "2": "3.86",
                                    "3": "11644",
                                    "4": "female-authors"
                                },
                                {
                                    "0": "Jill Bolte Taylor",
                                    "1": "My Stroke of Insight: A Brain Scientist's Personal Journey",
                                    "2": "3.86",
                                    "3": "11644",
                                    "4": "female-authors"
                                },
                                {
                                    "0": "Joan Didion",
                                    "1": "The Year of Magical Thinking",
                                    "2": "3.86",
                                    "3": "11644",
                                    "4": "female-authors"
                                },
                                {
                                    "0": "Joan Didion, David Thomson",
                                    "1": "Play It as It Lays",
                                    "2": "3.86",
                                    "3": "11662",
                                    "4": "female-writers"
                                },
                                {
                                    "0": "Joan Didion, David Thomson",
                                    "1": "Play It as It Lays",
                                    "2": "3.86",
                                    "3": "11644",
                                    "4": "female-authors"
                                },
                                {
                                    "0": "Louise Erdrich",
                                    "1": "LaRose",
                                    "2": "3.86",
                                    "3": "11644",
                                    "4": "female-authors"
                                },
                                {
                                    "0": "Madeleine L'Engle",
                                    "1": "An Acceptable Time (A Wrinkle in Time Quintet, #5)",
                                    "2": "3.86",
                                    "3": "11644",
                                    "4": "female-authors"
                                },
                                {
                                    "0": "Mary Higgins Clark",
                                    "1": "Pretend You Don't See Her",
                                    "2": "3.86",
                                    "3": "11644",
                                    "4": "female-authors"
                                },
                                {
                                    "0": "Naomi Klein",
                                    "1": "No Logo",
                                    "2": "3.86",
                                    "3": "11644",
                                    "4": "female-authors"
                                },
                                {
                                    "0": "Sarah Vowell",
                                    "1": "Take the Cannoli",
                                    "2": "3.86",
                                    "3": "11644",
                                    "4": "female-authors"
                                },
                                {
                                    "0": "Susan Vreeland",
                                    "1": "The Passion of Artemisia",
                                    "2": "3.86",
                                    "3": "11644",
                                    "4": "female-authors"
                                },
                                {
                                    "0": "Toni Morrison",
                                    "1": "Sula",
                                    "2": "3.86",
                                    "3": "11644",
                                    "4": "female-authors"
                                },
                                {
                                    "0": "Virginia Woolf",
                                    "1": "Orlando",
                                    "2": "3.86",
                                    "3": "11662",
                                    "4": "female-writers"
                                },
                                {
                                    "0": "Virginia Woolf",
                                    "1": "Orlando",
                                    "2": "3.86",
                                    "3": "11644",
                                    "4": "female-authors"
                                },
                                {
                                    "0": "Agatha Christie",
                                    "1": "The Body in the Library (Miss Marple, #3)",
                                    "2": "3.85",
                                    "3": "11644",
                                    "4": "female-authors"
                                },
                                {
                                    "0": "Ayn Rand, Leonard Peikoff",
                                    "1": "The Fountainhead",
                                    "2": "3.85",
                                    "3": "11644",
                                    "4": "female-authors"
                                },
                                {
                                    "0": "Betty Friedan, Anna Quindlen",
                                    "1": "The Feminine Mystique",
                                    "2": "3.85",
                                    "3": "11644",
                                    "4": "female-authors"
                                },
                                {
                                    "0": "Cristina Henriquez",
                                    "1": "The Book of Unknown Americans",
                                    "2": "3.85",
                                    "3": "11644",
                                    "4": "female-authors"
                                },
                                {
                                    "0": "Daphne du Maurier",
                                    "1": "Jamaica Inn",
                                    "2": "3.85",
                                    "3": "11644",
                                    "4": "female-authors"
                                },
                                {
                                    "0": "Elizabeth Gaskell",
                                    "1": "Cranford",
                                    "2": "3.85",
                                    "3": "11644",
                                    "4": "female-authors"
                                },
                                {
                                    "0": "Hannah  Green, Joanne Greenberg",
                                    "1": "I Never Promised You a Rose Garden",
                                    "2": "3.85",
                                    "3": "11644",
                                    "4": "female-authors"
                                },
                                {
                                    "0": "Hilary Mantel",
                                    "1": "Wolf Hall (Thomas Cromwell, #1)",
                                    "2": "3.85",
                                    "3": "11644",
                                    "4": "female-authors"
                                },
                                {
                                    "0": "Melina Marchetta",
                                    "1": "Looking for Alibrandi",
                                    "2": "3.85",
                                    "3": "11644",
                                    "4": "female-authors"
                                },
                                {
                                    "0": "Susan Cooper",
                                    "1": "Over Sea, Under Stone (The Dark Is Rising, #1)",
                                    "2": "3.85",
                                    "3": "11644",
                                    "4": "female-authors"
                                },
                                {
                                    "0": "Susanna Clarke, Charles Vess",
                                    "1": "The Ladies of Grace Adieu and Other Stories",
                                    "2": "3.85",
                                    "3": "11644",
                                    "4": "female-authors"
                                },
                                {
                                    "0": "Tracy Chevalier",
                                    "1": "Girl with a Pearl Earring",
                                    "2": "3.85",
                                    "3": "11644",
                                    "4": "female-authors"
                                },
                                {
                                    "0": "Agatha Christie",
                                    "1": "After the Funeral (Hercule Poirot, #29)",
                                    "2": "3.84",
                                    "3": "11644",
                                    "4": "female-authors"
                                },
                                {
                                    "0": "Agatha Christie",
                                    "1": "Nemesis (Miss Marple, #12)",
                                    "2": "3.84",
                                    "3": "11644",
                                    "4": "female-authors"
                                },
                                {
                                    "0": "Agatha Christie",
                                    "1": "The Moving Finger (Miss Marple, #4)",
                                    "2": "3.84",
                                    "3": "11644",
                                    "4": "female-authors"
                                },
                                {
                                    "0": "Ann Patchett",
                                    "1": "Commonwealth",
                                    "2": "3.84",
                                    "3": "11644",
                                    "4": "female-authors"
                                },
                                {
                                    "0": "Carol Shields",
                                    "1": "The Stone Diaries",
                                    "2": "3.84",
                                    "3": "11644",
                                    "4": "female-authors"
                                },
                                {
                                    "0": "Fannie Flagg",
                                    "1": "Welcome to the World, Baby Girl! (Elmwood Springs, #1)",
                                    "2": "3.84",
                                    "3": "11644",
                                    "4": "female-authors"
                                },
                                {
                                    "0": "G. Willow Wilson",
                                    "1": "Alif the Unseen",
                                    "2": "3.84",
                                    "3": "11644",
                                    "4": "female-authors"
                                },
                                {
                                    "0": "Jane Austen, Kathryn Sutherland, Tony Tanner, Claire Lamont",
                                    "1": "Mansfield Park",
                                    "2": "3.84",
                                    "3": "11644",
                                    "4": "female-authors"
                                },
                                {
                                    "0": "Lilian Jackson Braun",
                                    "1": "The Cat Who Could Read Backwards (Cat Who..., #1)",
                                    "2": "3.84",
                                    "3": "11644",
                                    "4": "female-authors"
                                },
                                {
                                    "0": "Lily King",
                                    "1": "Euphoria",
                                    "2": "3.84",
                                    "3": "11644",
                                    "4": "female-authors"
                                },
                                {
                                    "0": "Marilynne Robinson",
                                    "1": "Gilead (Gilead, #1)",
                                    "2": "3.84",
                                    "3": "11644",
                                    "4": "female-authors"
                                },
                                {
                                    "0": "Mindy Kaling",
                                    "1": "Is Everyone Hanging Out Without Me? (And Other Concerns)",
                                    "2": "3.84",
                                    "3": "11644",
                                    "4": "female-authors"
                                },
                                {
                                    "0": "Rita Golden Gelman",
                                    "1": "Tales of a Female Nomad: Living at Large in the World",
                                    "2": "3.84",
                                    "3": "11644",
                                    "4": "female-authors"
                                },
                                {
                                    "0": "Susan Sontag",
                                    "1": "On Photography",
                                    "2": "3.84",
                                    "3": "11644",
                                    "4": "female-authors"
                                },
                                {
                                    "0": "Willa Cather",
                                    "1": "O Pioneers!",
                                    "2": "3.84",
                                    "3": "11644",
                                    "4": "female-authors"
                                },
                                {
                                    "0": "Annie Proulx",
                                    "1": "The Shipping News",
                                    "2": "3.83",
                                    "3": "11644",
                                    "4": "female-authors"
                                },
                                {
                                    "0": "Banana Yoshimoto, Megan Backus",
                                    "1": "Kitchen",
                                    "2": "3.83",
                                    "3": "11644",
                                    "4": "female-authors"
                                },
                                {
                                    "0": "Harriet Beecher Stowe",
                                    "1": "Uncle Tom's Cabin",
                                    "2": "3.83",
                                    "3": "11644",
                                    "4": "female-authors"
                                },
                                {
                                    "0": "Jeanette Winterson",
                                    "1": "Sexing the Cherry",
                                    "2": "3.83",
                                    "3": "11662",
                                    "4": "female-writers"
                                },
                                {
                                    "0": "Jeanette Winterson",
                                    "1": "Sexing the Cherry",
                                    "2": "3.83",
                                    "3": "11644",
                                    "4": "female-authors"
                                },
                                {
                                    "0": "Jessi Klein",
                                    "1": "You'll Grow Out of It",
                                    "2": "3.83",
                                    "3": "11644",
                                    "4": "female-authors"
                                },
                                {
                                    "0": "Joanne Harris",
                                    "1": "Five Quarters of the Orange",
                                    "2": "3.83",
                                    "3": "11644",
                                    "4": "female-authors"
                                },
                                {
                                    "0": "Mary Roach",
                                    "1": "Bonk: The Curious Coupling of Science and Sex",
                                    "2": "3.83",
                                    "3": "11644",
                                    "4": "female-authors"
                                },
                                {
                                    "0": "Patricia Schultz",
                                    "1": "1,000 Places to See Before You Die",
                                    "2": "3.83",
                                    "3": "11644",
                                    "4": "female-authors"
                                },
                                {
                                    "0": "Portia de Rossi",
                                    "1": "Unbearable Lightness: A Story of Loss and Gain",
                                    "2": "3.83",
                                    "3": "11644",
                                    "4": "female-authors"
                                },
                                {
                                    "0": "Agatha Christie",
                                    "1": "Cat Among the Pigeons (Hercule Poirot, #32)",
                                    "2": "3.82",
                                    "3": "11644",
                                    "4": "female-authors"
                                },
                                {
                                    "0": "Alice Munro",
                                    "1": "Too Much Happiness",
                                    "2": "3.82",
                                    "3": "11644",
                                    "4": "female-authors"
                                },
                                {
                                    "0": "Anne Tyler",
                                    "1": "Dinner at the Homesick Restaurant",
                                    "2": "3.82",
                                    "3": "11644",
                                    "4": "female-authors"
                                },
                                {
                                    "0": "Camille Pagán",
                                    "1": "Life and Other Near-Death Experiences",
                                    "2": "3.82",
                                    "3": "11644",
                                    "4": "female-authors"
                                },
                                {
                                    "0": "Emily Brontë, Richard J. Dunn",
                                    "1": "Wuthering Heights",
                                    "2": "3.82",
                                    "3": "11644",
                                    "4": "female-authors"
                                },
                                {
                                    "0": "George Eliot, Edmund White",
                                    "1": "Daniel Deronda",
                                    "2": "3.82",
                                    "3": "11644",
                                    "4": "female-authors"
                                },
                                {
                                    "0": "Irène Némirovsky, Sandra Smith",
                                    "1": "Suite Française",
                                    "2": "3.82",
                                    "3": "11644",
                                    "4": "female-authors"
                                },
                                {
                                    "0": "Jhumpa Lahiri",
                                    "1": "The Lowland",
                                    "2": "3.82",
                                    "3": "11644",
                                    "4": "female-authors"
                                },
                                {
                                    "0": "Margaret Atwood",
                                    "1": "The Robber Bride",
                                    "2": "3.82",
                                    "3": "11644",
                                    "4": "female-authors"
                                },
                                {
                                    "0": "Marie Kondō",
                                    "1": "Spark Joy: An Illustrated Master Class on the Art of Organizing and Tidying Up",
                                    "2": "3.82",
                                    "3": "11644",
                                    "4": "female-authors"
                                },
                                {
                                    "0": "Marilynne Robinson",
                                    "1": "Housekeeping",
                                    "2": "3.82",
                                    "3": "11644",
                                    "4": "female-authors"
                                },
                                {
                                    "0": "Marina Keegan",
                                    "1": "The Opposite of Loneliness: Essays and Stories",
                                    "2": "3.82",
                                    "3": "11644",
                                    "4": "female-authors"
                                },
                                {
                                    "0": "Marjane Satrapi, Anjali Singh",
                                    "1": "Embroideries",
                                    "2": "3.82",
                                    "3": "11644",
                                    "4": "female-authors"
                                },
                                {
                                    "0": "Patricia Highsmith",
                                    "1": "Strangers on a Train",
                                    "2": "3.82",
                                    "3": "11644",
                                    "4": "female-authors"
                                },
                                {
                                    "0": "Therese Anne Fowler",
                                    "1": "Z: A Novel of Zelda Fitzgerald",
                                    "2": "3.82",
                                    "3": "11644",
                                    "4": "female-authors"
                                },
                                {
                                    "0": "Amy Poehler",
                                    "1": "Yes Please",
                                    "2": "3.81",
                                    "3": "11644",
                                    "4": "female-authors"
                                },
                                {
                                    "0": "Donna Leon",
                                    "1": "Death at La Fenice (Commissario Brunetti, #1)",
                                    "2": "3.81",
                                    "3": "11644",
                                    "4": "female-authors"
                                },
                                {
                                    "0": "Elizabeth Gilbert",
                                    "1": "The Signature of All Things",
                                    "2": "3.81",
                                    "3": "11644",
                                    "4": "female-authors"
                                },
                                {
                                    "0": "Miranda July",
                                    "1": "No One Belongs Here More Than You",
                                    "2": "3.81",
                                    "3": "11644",
                                    "4": "female-authors"
                                },
                                {
                                    "0": "Tracy Chevalier",
                                    "1": "Remarkable Creatures ",
                                    "2": "3.81",
                                    "3": "11644",
                                    "4": "female-authors"
                                },
                                {
                                    "0": "V.C. Andrews",
                                    "1": "Seeds of Yesterday (Dollanganger, #4)",
                                    "2": "3.81",
                                    "3": "11644",
                                    "4": "female-authors"
                                },
                                {
                                    "0": "Agatha Christie",
                                    "1": "The Murder on the Links (Hercule Poirot, #2)",
                                    "2": "3.8",
                                    "3": "11644",
                                    "4": "female-authors"
                                },
                                {
                                    "0": "Isabel Allende, Nick Caistor, Amanda Hopkinson",
                                    "1": "The Japanese Lover",
                                    "2": "3.8",
                                    "3": "11644",
                                    "4": "female-authors"
                                },
                                {
                                    "0": "Jane Austen, Alfred MacAdam",
                                    "1": "Northanger Abbey",
                                    "2": "3.8",
                                    "3": "11644",
                                    "4": "female-authors"
                                },
                                {
                                    "0": "Jodi Picoult",
                                    "1": "Salem Falls",
                                    "2": "3.8",
                                    "3": "11644",
                                    "4": "female-authors"
                                },
                                {
                                    "0": "Miranda Hart",
                                    "1": "Is It Just Me?",
                                    "2": "3.8",
                                    "3": "11644",
                                    "4": "female-authors"
                                },
                                {
                                    "0": "N.K. Jemisin",
                                    "1": "The Hundred Thousand Kingdoms (Inheritance Trilogy, #1)",
                                    "2": "3.8",
                                    "3": "11644",
                                    "4": "female-authors"
                                },
                                {
                                    "0": "Nella Larsen, Ntozake Shange, Thadious M. Davis",
                                    "1": "Passing",
                                    "2": "3.8",
                                    "3": "11644",
                                    "4": "female-authors"
                                },
                                {
                                    "0": "Sheri Reynolds",
                                    "1": "The Rapture of Canaan",
                                    "2": "3.8",
                                    "3": "11644",
                                    "4": "female-authors"
                                },
                                {
                                    "0": "Susanna Clarke",
                                    "1": "Jonathan Strange & Mr Norrell",
                                    "2": "3.8",
                                    "3": "11644",
                                    "4": "female-authors"
                                },
                                {
                                    "0": "Elif Shafak",
                                    "1": "The Bastard of Istanbul",
                                    "2": "3.79",
                                    "3": "11644",
                                    "4": "female-authors"
                                },
                                {
                                    "0": "Kate Atkinson",
                                    "1": "One Good Turn (Jackson Brodie, #2)",
                                    "2": "3.79",
                                    "3": "11644",
                                    "4": "female-authors"
                                },
                                {
                                    "0": "Marian Keyes",
                                    "1": "Watermelon (Walsh Family, #1)",
                                    "2": "3.79",
                                    "3": "11644",
                                    "4": "female-authors"
                                },
                                {
                                    "0": "Robin McKinley",
                                    "1": "Spindle's End",
                                    "2": "3.79",
                                    "3": "11644",
                                    "4": "female-authors"
                                },
                                {
                                    "0": "Sarah Dunant",
                                    "1": "The Birth of Venus",
                                    "2": "3.79",
                                    "3": "11644",
                                    "4": "female-authors"
                                },
                                {
                                    "0": "Scarlett Thomas",
                                    "1": "The End of Mr. Y",
                                    "2": "3.79",
                                    "3": "11644",
                                    "4": "female-authors"
                                },
                                {
                                    "0": "Agatha Christie",
                                    "1": "Death in the Clouds (Hercule Poirot, #12)",
                                    "2": "3.78",
                                    "3": "11644",
                                    "4": "female-authors"
                                },
                                {
                                    "0": "Celeste Ng",
                                    "1": "Everything I Never Told You",
                                    "2": "3.78",
                                    "3": "11644",
                                    "4": "female-authors"
                                },
                                {
                                    "0": "Jane Hamilton, Frank  Muller, C.J. Critt",
                                    "1": "A Map of the World",
                                    "2": "3.78",
                                    "3": "11644",
                                    "4": "female-authors"
                                },
                                {
                                    "0": "Judy Blume",
                                    "1": "Blubber",
                                    "2": "3.78",
                                    "3": "11644",
                                    "4": "female-authors"
                                },
                                {
                                    "0": "Lauren Oliver",
                                    "1": "Annabel (Delirium, #0.5)",
                                    "2": "3.78",
                                    "3": "11644",
                                    "4": "female-authors"
                                },
                                {
                                    "0": "Marian Keyes",
                                    "1": "Last Chance Saloon",
                                    "2": "3.78",
                                    "3": "11644",
                                    "4": "female-authors"
                                },
                                {
                                    "0": "Toni Morrison",
                                    "1": "Jazz",
                                    "2": "3.78",
                                    "3": "11644",
                                    "4": "female-authors"
                                },
                                {
                                    "0": "Virginia Woolf, Maureen Howard",
                                    "1": "Mrs. Dalloway",
                                    "2": "3.78",
                                    "3": "11644",
                                    "4": "female-authors"
                                },
                                {
                                    "0": "Agatha Christie",
                                    "1": "The Mystery of the Blue Train (Hercule Poirot, #6)",
                                    "2": "3.77",
                                    "3": "11644",
                                    "4": "female-authors"
                                },
                                {
                                    "0": "Alice Sebold",
                                    "1": "Lucky",
                                    "2": "3.77",
                                    "3": "11644",
                                    "4": "female-authors"
                                },
                                {
                                    "0": "Alice Sebold",
                                    "1": "The Lovely Bones",
                                    "2": "3.77",
                                    "3": "11644",
                                    "4": "female-authors"
                                },
                                {
                                    "0": "Beatrice Sparks, Anonymous",
                                    "1": "Go Ask Alice",
                                    "2": "3.77",
                                    "3": "11644",
                                    "4": "female-authors"
                                },
                                {
                                    "0": "Elizabeth  Smart, Chris Stewart",
                                    "1": "My Story",
                                    "2": "3.77",
                                    "3": "11644",
                                    "4": "female-authors"
                                },
                                {
                                    "0": "George Eliot, A.S. Byatt",
                                    "1": "The Mill on the Floss",
                                    "2": "3.77",
                                    "3": "11644",
                                    "4": "female-authors"
                                },
                                {
                                    "0": "George Eliot, Joanna Trollope, Hugh Osborne",
                                    "1": "Adam Bede",
                                    "2": "3.77",
                                    "3": "11644",
                                    "4": "female-authors"
                                },
                                {
                                    "0": "Marian Keyes",
                                    "1": "The Other Side of the Story",
                                    "2": "3.77",
                                    "3": "11644",
                                    "4": "female-authors"
                                },
                                {
                                    "0": "Marie Kondō, Cathy Hirano",
                                    "1": "The Life-Changing Magic of Tidying Up: The Japanese Art of Decluttering and Organizing",
                                    "2": "3.77",
                                    "3": "11644",
                                    "4": "female-authors"
                                },
                                {
                                    "0": "S.E. Hinton",
                                    "1": "Rumble Fish",
                                    "2": "3.77",
                                    "3": "11644",
                                    "4": "female-authors"
                                },
                                {
                                    "0": "Toni Morrison",
                                    "1": "Beloved",
                                    "2": "3.77",
                                    "3": "11644",
                                    "4": "female-authors"
                                },
                                {
                                    "0": "Toni Morrison",
                                    "1": "Paradise",
                                    "2": "3.77",
                                    "3": "11644",
                                    "4": "female-authors"
                                },
                                {
                                    "0": "Iris Murdoch",
                                    "1": "Under the Net",
                                    "2": "3.76",
                                    "3": "11644",
                                    "4": "female-authors"
                                },
                                {
                                    "0": "Kyung-Sook Shin, 신경숙, Chi-Young Kim",
                                    "1": "Please Look After Mom",
                                    "2": "3.76",
                                    "3": "11644",
                                    "4": "female-authors"
                                },
                                {
                                    "0": "Marguerite Duras, Barbara Bray, Maxine Hong Kingston",
                                    "1": "The Lover",
                                    "2": "3.76",
                                    "3": "11644",
                                    "4": "female-authors"
                                },
                                {
                                    "0": "Muriel Spark",
                                    "1": "The Prime of Miss Jean Brodie",
                                    "2": "3.76",
                                    "3": "11644",
                                    "4": "female-authors"
                                },
                                {
                                    "0": "Virginia Woolf",
                                    "1": "To the Lighthouse",
                                    "2": "3.76",
                                    "3": "11644",
                                    "4": "female-authors"
                                },
                                {
                                    "0": "Willa Cather",
                                    "1": "My Ántonia",
                                    "2": "3.76",
                                    "3": "11644",
                                    "4": "female-authors"
                                },
                                {
                                    "0": "Alice Munro",
                                    "1": "Dear Life: Stories",
                                    "2": "3.75",
                                    "3": "11644",
                                    "4": "female-authors"
                                },
                                {
                                    "0": "Ann Brashares",
                                    "1": "The Sisterhood of the Traveling Pants (Sisterhood, #1)",
                                    "2": "3.75",
                                    "3": "11644",
                                    "4": "female-authors"
                                },
                                {
                                    "0": "Charlotte Brontë, A.S. Byatt, Μαρία Λαϊνά, Ignes Sodre",
                                    "1": "Villette",
                                    "2": "3.75",
                                    "3": "11644",
                                    "4": "female-authors"
                                },
                                {
                                    "0": "Doris Lessing",
                                    "1": "The Golden Notebook",
                                    "2": "3.75",
                                    "3": "11644",
                                    "4": "female-authors"
                                },
                                {
                                    "0": "Helen Fielding",
                                    "1": "Bridget Jones's Diary (Bridget Jones, #1)",
                                    "2": "3.75",
                                    "3": "11644",
                                    "4": "female-authors"
                                },
                                {
                                    "0": "Hillary Rodham Clinton",
                                    "1": "Living History",
                                    "2": "3.75",
                                    "3": "11644",
                                    "4": "female-authors"
                                },
                                {
                                    "0": "Isabel Allende, Margaret Sayers Peden",
                                    "1": "Zorro",
                                    "2": "3.75",
                                    "3": "11644",
                                    "4": "female-authors"
                                },
                                {
                                    "0": "Jeanette Winterson",
                                    "1": "Oranges Are Not the Only Fruit",
                                    "2": "3.75",
                                    "3": "11644",
                                    "4": "female-authors"
                                },
                                {
                                    "0": "Joan Didion",
                                    "1": "Blue Nights",
                                    "2": "3.75",
                                    "3": "11644",
                                    "4": "female-authors"
                                },
                                {
                                    "0": "Linda Lafferty",
                                    "1": "The Bloodletter's Daughter: A Novel of Old Bohemia",
                                    "2": "3.75",
                                    "3": "11644",
                                    "4": "female-authors"
                                },
                                {
                                    "0": "Marian Keyes",
                                    "1": "This Charming Man",
                                    "2": "3.75",
                                    "3": "11644",
                                    "4": "female-authors"
                                },
                                {
                                    "0": "Mary Wollstonecraft Shelley, Percy Bysshe Shelley, Maurice Hindle",
                                    "1": "Frankenstein",
                                    "2": "3.75",
                                    "3": "11644",
                                    "4": "female-authors"
                                },
                                {
                                    "0": "Zadie Smith",
                                    "1": "White Teeth",
                                    "2": "3.75",
                                    "3": "11644",
                                    "4": "female-authors"
                                },
                                {
                                    "0": "Agatha Christie",
                                    "1": "They Do It with Mirrors (Miss Marple, #6)",
                                    "2": "3.74",
                                    "3": "11644",
                                    "4": "female-authors"
                                },
                                {
                                    "0": "Agatha Christie, Hugh Fraser",
                                    "1": "One, Two, Buckle My Shoe (Hercule Poirot, #22)",
                                    "2": "3.74",
                                    "3": "11644",
                                    "4": "female-authors"
                                },
                                {
                                    "0": "Chelsea Handler, Johnny Kansas, Stephanie Stehling, Heather McDonald, Roy Handler, Brad Wollack, Amber Mazzola, Josh Wolf, Shoshanna Handler, Eva Magdalenski, Amy Meyer, Glen Handler, Dave Mallow, Sarah Colonna",
                                    "1": "Lies That Chelsea Handler Told Me",
                                    "2": "3.74",
                                    "3": "11644",
                                    "4": "female-authors"
                                },
                                {
                                    "0": "Corina Bomann, Alison Layland",
                                    "1": "The Moonlit Garden",
                                    "2": "3.74",
                                    "3": "5129",
                                    "4": "books-by-women"
                                },
                                {
                                    "0": "Helen Macdonald",
                                    "1": "H is for Hawk",
                                    "2": "3.74",
                                    "3": "11644",
                                    "4": "female-authors"
                                },
                                {
                                    "0": "Jacqueline Wilson, Nick Sharratt",
                                    "1": "The Illustrated Mum",
                                    "2": "3.74",
                                    "3": "11644",
                                    "4": "female-authors"
                                },
                                {
                                    "0": "Tana French",
                                    "1": "In the Woods (Dublin Murder Squad, #1)",
                                    "2": "3.74",
                                    "3": "11644",
                                    "4": "female-authors"
                                },
                                {
                                    "0": "Victoria Finlay",
                                    "1": "Color: A Natural History of the Palette",
                                    "2": "3.74",
                                    "3": "11662",
                                    "4": "female-writers"
                                },
                                {
                                    "0": "Anne Rice",
                                    "1": "Memnoch the Devil (The Vampire Chronicles, #5)",
                                    "2": "3.73",
                                    "3": "11644",
                                    "4": "female-authors"
                                },
                                {
                                    "0": "Caitlin Moran",
                                    "1": "How to Be a Woman",
                                    "2": "3.73",
                                    "3": "11644",
                                    "4": "female-authors"
                                },
                                {
                                    "0": "Leslie Marmon Silko",
                                    "1": "Ceremony",
                                    "2": "3.73",
                                    "3": "11644",
                                    "4": "female-authors"
                                },
                                {
                                    "0": "Marian Keyes",
                                    "1": " Angels (Walsh Family, #3)",
                                    "2": "3.73",
                                    "3": "11644",
                                    "4": "female-authors"
                                },
                                {
                                    "0": "Mary Elizabeth Braddon",
                                    "1": "Lady Audley's Secret",
                                    "2": "3.73",
                                    "3": "11644",
                                    "4": "female-authors"
                                },
                                {
                                    "0": "Rachel Cohn, David Levithan",
                                    "1": "Nick & Norah's Infinite Playlist",
                                    "2": "3.73",
                                    "3": "11644",
                                    "4": "female-authors"
                                },
                                {
                                    "0": "Sarah Waters",
                                    "1": "Affinity",
                                    "2": "3.73",
                                    "3": "11644",
                                    "4": "female-authors"
                                },
                                {
                                    "0": "Amélie Nothomb",
                                    "1": "Stupeur et tremblements",
                                    "2": "3.72",
                                    "3": "11644",
                                    "4": "female-authors"
                                },
                                {
                                    "0": "Ellen DeGeneres",
                                    "1": "Seriously... I'm Kidding",
                                    "2": "3.72",
                                    "3": "11644",
                                    "4": "female-authors"
                                },
                                {
                                    "0": "Jenny Offill",
                                    "1": "Dept. of Speculation",
                                    "2": "3.72",
                                    "3": "11644",
                                    "4": "female-authors"
                                },
                                {
                                    "0": "Julie Gregory",
                                    "1": "Sickened: The Memoir of a Munchausen by Proxy Childhood",
                                    "2": "3.72",
                                    "3": "11644",
                                    "4": "female-authors"
                                },
                                {
                                    "0": "Lorraine Hansberry",
                                    "1": "A Raisin in the Sun",
                                    "2": "3.72",
                                    "3": "11644",
                                    "4": "female-authors"
                                },
                                {
                                    "0": "Maxine Hong Kingston",
                                    "1": "The Woman Warrior",
                                    "2": "3.72",
                                    "3": "11644",
                                    "4": "female-authors"
                                },
                                {
                                    "0": "Agatha Christie, Robin Bailey",
                                    "1": "The Clocks (Hercule Poirot, #34)",
                                    "2": "3.71",
                                    "3": "11644",
                                    "4": "female-authors"
                                },
                                {
                                    "0": "Carrie Fisher",
                                    "1": "Wishful Drinking",
                                    "2": "3.71",
                                    "3": "11644",
                                    "4": "female-authors"
                                },
                                {
                                    "0": "Charlotte Brontë, Lucasta Miller, collaborative, Jessica Cox",
                                    "1": "Shirley",
                                    "2": "3.71",
                                    "3": "11644",
                                    "4": "female-authors"
                                },
                                {
                                    "0": "Karen Joy Fowler",
                                    "1": "We Are All Completely Beside Ourselves",
                                    "2": "3.71",
                                    "3": "11644",
                                    "4": "female-authors"
                                },
                                {
                                    "0": "NoViolet Bulawayo",
                                    "1": "We Need New Names",
                                    "2": "3.71",
                                    "3": "11644",
                                    "4": "female-authors"
                                },
                                {
                                    "0": "Toni Morrison",
                                    "1": "Home",
                                    "2": "3.71",
                                    "3": "11644",
                                    "4": "female-authors"
                                },
                                {
                                    "0": "Agatha Christie",
                                    "1": "At Bertram's Hotel (Miss Marple, #11)",
                                    "2": "3.7",
                                    "3": "11644",
                                    "4": "female-authors"
                                },
                                {
                                    "0": "Anne Rice",
                                    "1": "The Tale of the Body Thief (The Vampire Chronicles, #4)",
                                    "2": "3.7",
                                    "3": "11644",
                                    "4": "female-authors"
                                },
                                {
                                    "0": "Eleanor Catton",
                                    "1": "The Luminaries",
                                    "2": "3.7",
                                    "3": "11644",
                                    "4": "female-authors"
                                },
                                {
                                    "0": "Elizabeth Gaskell, Shirley Foster",
                                    "1": "Mary Barton",
                                    "2": "3.7",
                                    "3": "11644",
                                    "4": "female-authors"
                                },
                                {
                                    "0": "Emma Healey",
                                    "1": "Elizabeth Is Missing",
                                    "2": "3.7",
                                    "3": "11644",
                                    "4": "female-authors"
                                },
                                {
                                    "0": "Jacqueline Susann",
                                    "1": "Valley of the Dolls",
                                    "2": "3.7",
                                    "3": "11644",
                                    "4": "female-authors"
                                },
                                {
                                    "0": "Joyce Carol Oates",
                                    "1": "We Were the Mulvaneys",
                                    "2": "3.7",
                                    "3": "11644",
                                    "4": "female-authors"
                                },
                                {
                                    "0": "Julie Otsuka",
                                    "1": "When the Emperor Was Divine",
                                    "2": "3.7",
                                    "3": "11644",
                                    "4": "female-authors"
                                },
                                {
                                    "0": "Marisha Pessl",
                                    "1": "Special Topics in Calamity Physics",
                                    "2": "3.7",
                                    "3": "11644",
                                    "4": "female-authors"
                                },
                                {
                                    "0": "Pearl Cleage",
                                    "1": "What Looks Like Crazy on an Ordinary Day (Idlewild, #1)",
                                    "2": "3.7",
                                    "3": "11644",
                                    "4": "female-authors"
                                },
                                {
                                    "0": "Piper Kerman",
                                    "1": "Orange Is the New Black",
                                    "2": "3.7",
                                    "3": "11644",
                                    "4": "female-authors"
                                },
                                {
                                    "0": "Sonali Deraniyagala",
                                    "1": "Wave",
                                    "2": "3.7",
                                    "3": "11644",
                                    "4": "female-authors"
                                },
                                {
                                    "0": "Toni Morrison",
                                    "1": "God Help the Child",
                                    "2": "3.7",
                                    "3": "11644",
                                    "4": "female-authors"
                                },
                                {
                                    "0": "Anaïs Nin",
                                    "1": "Delta of Venus",
                                    "2": "3.69",
                                    "3": "11644",
                                    "4": "female-authors"
                                },
                                {
                                    "0": "Caitlin Moran",
                                    "1": "How to Build a Girl",
                                    "2": "3.69",
                                    "3": "11644",
                                    "4": "female-authors"
                                },
                                {
                                    "0": "Cecelia Ahern",
                                    "1": "Thanks for the Memories",
                                    "2": "3.69",
                                    "3": "11644",
                                    "4": "female-authors"
                                },
                                {
                                    "0": "Emma Donoghue",
                                    "1": "Slammerkin",
                                    "2": "3.69",
                                    "3": "11644",
                                    "4": "female-authors"
                                },
                                {
                                    "0": "Jacqueline Wilson, Nick Sharratt",
                                    "1": "The Story of Tracy Beaker",
                                    "2": "3.69",
                                    "3": "11644",
                                    "4": "female-authors"
                                },
                                {
                                    "0": "Jacqueline Wilson, Nick Sharratt, Sue Heap",
                                    "1": "Double Act",
                                    "2": "3.69",
                                    "3": "11644",
                                    "4": "female-authors"
                                },
                                {
                                    "0": "Marian Keyes",
                                    "1": "Sushi for Beginners",
                                    "2": "3.69",
                                    "3": "11644",
                                    "4": "female-authors"
                                },
                                {
                                    "0": "P.D. James",
                                    "1": "The Children of Men",
                                    "2": "3.69",
                                    "3": "11644",
                                    "4": "female-authors"
                                },
                                {
                                    "0": "Zoë Heller",
                                    "1": "What Was She Thinking? [Notes on a Scandal]",
                                    "2": "3.69",
                                    "3": "11644",
                                    "4": "female-authors"
                                },
                                {
                                    "0": "Amanda Brown",
                                    "1": "Legally Blonde",
                                    "2": "3.68",
                                    "3": "11644",
                                    "4": "female-authors"
                                },
                                {
                                    "0": "Elizabeth Berg",
                                    "1": "Open House",
                                    "2": "3.68",
                                    "3": "11644",
                                    "4": "female-authors"
                                },
                                {
                                    "0": "Gwyn Hyman Rubio",
                                    "1": "Icy Sparks",
                                    "2": "3.68",
                                    "3": "11644",
                                    "4": "female-authors"
                                },
                                {
                                    "0": "Rachael Ray",
                                    "1": "Rachael Ray 365: No Repeats: A Year of Deliciously Different Dinners",
                                    "2": "3.68",
                                    "3": "11644",
                                    "4": "female-authors"
                                },
                                {
                                    "0": "Susan Hill, John Lawrence",
                                    "1": "The Woman in Black",
                                    "2": "3.68",
                                    "3": "11644",
                                    "4": "female-authors"
                                },
                                {
                                    "0": "Zadie Smith",
                                    "1": "On Beauty",
                                    "2": "3.68",
                                    "3": "11644",
                                    "4": "female-authors"
                                },
                                {
                                    "0": "Jennifer McMahon",
                                    "1": "The Night Sister",
                                    "2": "3.67",
                                    "3": "11644",
                                    "4": "female-authors"
                                },
                                {
                                    "0": "Karen Russell",
                                    "1": "Vampires in the Lemon Grove",
                                    "2": "3.67",
                                    "3": "11644",
                                    "4": "female-authors"
                                },
                                {
                                    "0": "Laline Paull",
                                    "1": "The Bees",
                                    "2": "3.67",
                                    "3": "11644",
                                    "4": "female-authors"
                                },
                                {
                                    "0": "Margaret Atwood",
                                    "1": "The Edible Woman",
                                    "2": "3.67",
                                    "3": "11644",
                                    "4": "female-authors"
                                },
                                {
                                    "0": "Mariko Tamaki, Jillian Tamaki",
                                    "1": "This One Summer",
                                    "2": "3.67",
                                    "3": "11644",
                                    "4": "female-authors"
                                },
                                {
                                    "0": "Melinda Haynes",
                                    "1": "Mother of Pearl",
                                    "2": "3.67",
                                    "3": "11644",
                                    "4": "female-authors"
                                },
                                {
                                    "0": "Sarah Winman",
                                    "1": "When God Was a Rabbit",
                                    "2": "3.67",
                                    "3": "11644",
                                    "4": "female-authors"
                                },
                                {
                                    "0": "Tracy Chevalier",
                                    "1": "The Lady and the Unicorn",
                                    "2": "3.67",
                                    "3": "11644",
                                    "4": "female-authors"
                                },
                                {
                                    "0": "Agatha Christie",
                                    "1": "Hallowe'en Party (Hercule Poirot, #36)",
                                    "2": "3.66",
                                    "3": "11644",
                                    "4": "female-authors"
                                },
                                {
                                    "0": "Alison Bechdel",
                                    "1": "Are You My Mother?",
                                    "2": "3.66",
                                    "3": "11644",
                                    "4": "female-authors"
                                },
                                {
                                    "0": "Carrie Fisher",
                                    "1": "The Princess Diarist",
                                    "2": "3.66",
                                    "3": "11644",
                                    "4": "female-authors"
                                },
                                {
                                    "0": "Cecelia Ahern",
                                    "1": "A Place Called Here",
                                    "2": "3.66",
                                    "3": "11644",
                                    "4": "female-authors"
                                },
                                {
                                    "0": "Cecelia Ahern",
                                    "1": "The Book of Tomorrow",
                                    "2": "3.66",
                                    "3": "11644",
                                    "4": "female-authors"
                                },
                                {
                                    "0": "Margaret Atwood",
                                    "1": "The Penelopiad",
                                    "2": "3.66",
                                    "3": "11644",
                                    "4": "female-authors"
                                },
                                {
                                    "0": "Anne Brontë, Angeline Goreau",
                                    "1": "Agnes Grey",
                                    "2": "3.65",
                                    "3": "11644",
                                    "4": "female-authors"
                                },
                                {
                                    "0": "Emma Donoghue",
                                    "1": "The Wonder",
                                    "2": "3.65",
                                    "3": "11644",
                                    "4": "female-authors"
                                },
                                {
                                    "0": "Nora Ephron",
                                    "1": "I Feel Bad about My Neck: And Other Thoughts on Being a Woman",
                                    "2": "3.65",
                                    "3": "11644",
                                    "4": "female-authors"
                                },
                                {
                                    "0": "Pattie Boyd, Penny Junor",
                                    "1": "Wonderful Tonight",
                                    "2": "3.65",
                                    "3": "11644",
                                    "4": "female-authors"
                                },
                                {
                                    "0": "Peggy Orenstein",
                                    "1": "Cinderella Ate My Daughter: Dispatches from the Frontlines of the New Girlie-Girl Culture",
                                    "2": "3.65",
                                    "3": "11644",
                                    "4": "female-authors"
                                },
                                {
                                    "0": "Toni Morrison",
                                    "1": "A Mercy",
                                    "2": "3.65",
                                    "3": "11644",
                                    "4": "female-authors"
                                },
                                {
                                    "0": "Tracy Chevalier",
                                    "1": "The Virgin Blue",
                                    "2": "3.65",
                                    "3": "11644",
                                    "4": "female-authors"
                                },
                                {
                                    "0": "Angela Flournoy",
                                    "1": "The Turner House",
                                    "2": "3.64",
                                    "3": "11644",
                                    "4": "female-authors"
                                },
                                {
                                    "0": "Jennifer Egan",
                                    "1": "A Visit from the Goon Squad",
                                    "2": "3.64",
                                    "3": "11644",
                                    "4": "female-authors"
                                },
                                {
                                    "0": "Karen Thompson Walker",
                                    "1": "The Age of Miracles",
                                    "2": "3.64",
                                    "3": "11644",
                                    "4": "female-authors"
                                },
                                {
                                    "0": "Kim Edwards",
                                    "1": "The Memory Keeper's Daughter",
                                    "2": "3.64",
                                    "3": "11644",
                                    "4": "female-authors"
                                },
                                {
                                    "0": "Miriam Toews",
                                    "1": "A Complicated Kindness",
                                    "2": "3.64",
                                    "3": "11644",
                                    "4": "female-authors"
                                },
                                {
                                    "0": "Chelsea Handler",
                                    "1": "Uganda Be Kidding Me",
                                    "2": "3.63",
                                    "3": "11644",
                                    "4": "female-authors"
                                },
                                {
                                    "0": "Deborah Rodriguez",
                                    "1": "Kabul Beauty School: An American Woman Goes Behind the Veil",
                                    "2": "3.63",
                                    "3": "11644",
                                    "4": "female-authors"
                                },
                                {
                                    "0": "Esi Edugyan",
                                    "1": "Half Blood Blues",
                                    "2": "3.63",
                                    "3": "11644",
                                    "4": "female-authors"
                                },
                                {
                                    "0": "Kate Chopin",
                                    "1": "The Awakening",
                                    "2": "3.63",
                                    "3": "11644",
                                    "4": "female-authors"
                                },
                                {
                                    "0": "Agatha Christie",
                                    "1": "Elephants Can Remember (Hercule Poirot, #37)",
                                    "2": "3.62",
                                    "3": "11644",
                                    "4": "female-authors"
                                },
                                {
                                    "0": "Anita Shreve",
                                    "1": "The Weight of Water",
                                    "2": "3.62",
                                    "3": "11644",
                                    "4": "female-authors"
                                },
                                {
                                    "0": "Ayn Rand",
                                    "1": "Anthem",
                                    "2": "3.62",
                                    "3": "11644",
                                    "4": "female-authors"
                                },
                                {
                                    "0": "Françoise Sagan",
                                    "1": "Bonjour tristesse",
                                    "2": "3.62",
                                    "3": "11662",
                                    "4": "female-writers"
                                },
                                {
                                    "0": "Françoise Sagan",
                                    "1": "Bonjour tristesse",
                                    "2": "3.62",
                                    "3": "11644",
                                    "4": "female-authors"
                                },
                                {
                                    "0": "Jane Green",
                                    "1": "The Beach House",
                                    "2": "3.62",
                                    "3": "11644",
                                    "4": "female-authors"
                                },
                                {
                                    "0": "Julia Alvarez",
                                    "1": "How the García Girls Lost Their Accents ",
                                    "2": "3.62",
                                    "3": "11644",
                                    "4": "female-authors"
                                },
                                {
                                    "0": "Leslie Jamison",
                                    "1": "The Empathy Exams: Essays",
                                    "2": "3.62",
                                    "3": "11644",
                                    "4": "female-authors"
                                },
                                {
                                    "0": "Ali Smith",
                                    "1": "How to Be Both",
                                    "2": "3.61",
                                    "3": "11644",
                                    "4": "female-authors"
                                },
                                {
                                    "0": "Amy Chua",
                                    "1": "Battle Hymn of the Tiger Mother",
                                    "2": "3.61",
                                    "3": "11644",
                                    "4": "female-authors"
                                },
                                {
                                    "0": "Agatha Christie",
                                    "1": "The Big Four (Hercule Poirot, #5)",
                                    "2": "3.6",
                                    "3": "11644",
                                    "4": "female-authors"
                                },
                                {
                                    "0": "Barbara Ehrenreich",
                                    "1": "Nickel and Dimed: On (Not) Getting By in America",
                                    "2": "3.6",
                                    "3": "11644",
                                    "4": "female-authors"
                                },
                                {
                                    "0": "George Eliot",
                                    "1": "Silas Marner",
                                    "2": "3.6",
                                    "3": "11644",
                                    "4": "female-authors"
                                },
                                {
                                    "0": "Sarah Vowell",
                                    "1": "Unfamiliar Fishes",
                                    "2": "3.6",
                                    "3": "11644",
                                    "4": "female-authors"
                                },
                                {
                                    "0": "Zadie Smith",
                                    "1": "Swing Time",
                                    "2": "3.6",
                                    "3": "11644",
                                    "4": "female-authors"
                                },
                                {
                                    "0": "Han Kang, Deborah     Smith",
                                    "1": "The Vegetarian",
                                    "2": "3.59",
                                    "3": "11644",
                                    "4": "female-authors"
                                },
                                {
                                    "0": "Julie Otsuka",
                                    "1": "The Buddha in the Attic",
                                    "2": "3.59",
                                    "3": "11644",
                                    "4": "female-authors"
                                },
                                {
                                    "0": "Lauren Beukes",
                                    "1": "Broken Monsters",
                                    "2": "3.59",
                                    "3": "11644",
                                    "4": "female-authors"
                                },
                                {
                                    "0": "Jessie Burton",
                                    "1": "The Miniaturist",
                                    "2": "3.58",
                                    "3": "11644",
                                    "4": "female-authors"
                                },
                                {
                                    "0": "Kim Gordon",
                                    "1": "Girl in a Band",
                                    "2": "3.58",
                                    "3": "11644",
                                    "4": "female-authors"
                                },
                                {
                                    "0": "Lauren Groff",
                                    "1": "The Monsters of Templeton",
                                    "2": "3.58",
                                    "3": "11644",
                                    "4": "female-authors"
                                },
                                {
                                    "0": "Miranda July",
                                    "1": "The First Bad Man",
                                    "2": "3.58",
                                    "3": "11644",
                                    "4": "female-authors"
                                },
                                {
                                    "0": "Azar Nafisi",
                                    "1": "Reading Lolita in Tehran",
                                    "2": "3.57",
                                    "3": "11644",
                                    "4": "female-authors"
                                },
                                {
                                    "0": "Elizabeth Wurtzel",
                                    "1": "Prozac Nation",
                                    "2": "3.57",
                                    "3": "11644",
                                    "4": "female-authors"
                                },
                                {
                                    "0": "Hillary Rodham Clinton",
                                    "1": "Hard Choices",
                                    "2": "3.57",
                                    "3": "11644",
                                    "4": "female-authors"
                                },
                                {
                                    "0": "Laura  Barnett",
                                    "1": "The Versions of Us",
                                    "2": "3.57",
                                    "3": "11644",
                                    "4": "female-authors"
                                },
                                {
                                    "0": "Mary Roach",
                                    "1": "Spook: Science Tackles the Afterlife",
                                    "2": "3.57",
                                    "3": "11644",
                                    "4": "female-authors"
                                },
                                {
                                    "0": "Nora Ephron",
                                    "1": "Heartburn",
                                    "2": "3.57",
                                    "3": "11644",
                                    "4": "female-authors"
                                },
                                {
                                    "0": "Rachel Dratch",
                                    "1": "Girl Walks into a Bar . . .: Comedy Calamities, Dating Disasters, and a Midlife Miracle",
                                    "2": "3.57",
                                    "3": "11644",
                                    "4": "female-authors"
                                },
                                {
                                    "0": "Rachel Dratch",
                                    "1": "Girl Walks into a Bar . . .: Comedy Calamities, Dating Disasters, and a Midlife Miracle",
                                    "2": "3.57",
                                    "3": "5129",
                                    "4": "books-by-women"
                                },
                                {
                                    "0": "Sandra Cisneros",
                                    "1": "The House on Mango Street",
                                    "2": "3.57",
                                    "3": "11644",
                                    "4": "female-authors"
                                },
                                {
                                    "0": "Charlotte Brontë",
                                    "1": "The Professor",
                                    "2": "3.56",
                                    "3": "11644",
                                    "4": "female-authors"
                                },
                                {
                                    "0": "Jane Austen, Robert William Chapman",
                                    "1": "Lady Susan",
                                    "2": "3.56",
                                    "3": "11644",
                                    "4": "female-authors"
                                },
                                {
                                    "0": "Jean Rhys",
                                    "1": "Wide Sargasso Sea",
                                    "2": "3.56",
                                    "3": "11644",
                                    "4": "female-authors"
                                },
                                {
                                    "0": "Lauren Groff",
                                    "1": "Fates and Furies",
                                    "2": "3.56",
                                    "3": "11644",
                                    "4": "female-authors"
                                },
                                {
                                    "0": "Suzanne Rindell",
                                    "1": "The Other Typist",
                                    "2": "3.55",
                                    "3": "11644",
                                    "4": "female-authors"
                                },
                                {
                                    "0": "Tracy Chevalier",
                                    "1": "Falling Angels",
                                    "2": "3.55",
                                    "3": "11644",
                                    "4": "female-authors"
                                },
                                {
                                    "0": "Diablo Cody",
                                    "1": "Candy Girl: A Year in the Life of an Unlikely Stripper",
                                    "2": "3.54",
                                    "3": "11644",
                                    "4": "female-authors"
                                },
                                {
                                    "0": "Gillian Flynn",
                                    "1": "The Grownup",
                                    "2": "3.54",
                                    "3": "11644",
                                    "4": "female-authors"
                                },
                                {
                                    "0": "Meg Wolitzer",
                                    "1": "The Interestings",
                                    "2": "3.54",
                                    "3": "11644",
                                    "4": "female-authors"
                                },
                                {
                                    "0": "Helen Fielding",
                                    "1": "Bridget Jones: The Edge of Reason (Bridget Jones, #2)",
                                    "2": "3.53",
                                    "3": "11644",
                                    "4": "female-authors"
                                },
                                {
                                    "0": "Jacqueline Wilson",
                                    "1": "Girls in Love (Girls, #1)",
                                    "2": "3.53",
                                    "3": "11644",
                                    "4": "female-authors"
                                },
                                {
                                    "0": "Kate Hamer",
                                    "1": "The Girl in the Red Coat",
                                    "2": "3.53",
                                    "3": "11644",
                                    "4": "female-authors"
                                },
                                {
                                    "0": "Lionel Shriver",
                                    "1": "The Post-Birthday World",
                                    "2": "3.52",
                                    "3": "11644",
                                    "4": "female-authors"
                                },
                                {
                                    "0": "Sarah Macdonald",
                                    "1": "Holy Cow: An Indian Adventure",
                                    "2": "3.51",
                                    "3": "11644",
                                    "4": "female-authors"
                                },
                                {
                                    "0": "Emma Cline",
                                    "1": "The Girls",
                                    "2": "3.49",
                                    "3": "11644",
                                    "4": "female-authors"
                                },
                                {
                                    "0": "Lauren Beukes",
                                    "1": "The Shining Girls",
                                    "2": "3.49",
                                    "3": "11644",
                                    "4": "female-authors"
                                },
                                {
                                    "0": "Anita Shreve",
                                    "1": "The Last Time They Met",
                                    "2": "3.48",
                                    "3": "11644",
                                    "4": "female-authors"
                                },
                                {
                                    "0": "Gretchen Rubin, Käthe Mazur",
                                    "1": "Happier at Home: Kiss More, Jump More, Abandon a Project, Read Samuel Johnson, and My Other Experiments in the Practice of Everyday Life",
                                    "2": "3.48",
                                    "3": "11644",
                                    "4": "female-authors"
                                },
                                {
                                    "0": "Janet Fitch",
                                    "1": "Paint it Black",
                                    "2": "3.47",
                                    "3": "11644",
                                    "4": "female-authors"
                                },
                                {
                                    "0": "Alisa Valdes, Alisa Valdes-Rodriguez",
                                    "1": "The Dirty Girls Social Club (Dirty Girls, #1)",
                                    "2": "3.46",
                                    "3": "11644",
                                    "4": "female-authors"
                                },
                                {
                                    "0": "Rachel Kushner",
                                    "1": "The Flamethrowers",
                                    "2": "3.46",
                                    "3": "11644",
                                    "4": "female-authors"
                                },
                                {
                                    "0": "Margaret Atwood",
                                    "1": "Surfacing",
                                    "2": "3.45",
                                    "3": "11644",
                                    "4": "female-authors"
                                },
                                {
                                    "0": "Nicole Krauss",
                                    "1": "Great House",
                                    "2": "3.45",
                                    "3": "11644",
                                    "4": "female-authors"
                                },
                                {
                                    "0": "Sloane Crosley",
                                    "1": "I Was Told There'd Be Cake",
                                    "2": "3.45",
                                    "3": "11644",
                                    "4": "female-authors"
                                },
                                {
                                    "0": "Alexandra Ripley",
                                    "1": "Scarlett",
                                    "2": "3.44",
                                    "3": "11644",
                                    "4": "female-authors"
                                },
                                {
                                    "0": "Erica Jong",
                                    "1": "Fear of Flying",
                                    "2": "3.44",
                                    "3": "11662",
                                    "4": "female-writers"
                                },
                                {
                                    "0": "Erica Jong",
                                    "1": "Fear of Flying",
                                    "2": "3.44",
                                    "3": "11644",
                                    "4": "female-authors"
                                },
                                {
                                    "0": "Donna Tartt",
                                    "1": "The Little Friend",
                                    "2": "3.43",
                                    "3": "11644",
                                    "4": "female-authors"
                                },
                                {
                                    "0": "Jennifer Egan",
                                    "1": "The Keep",
                                    "2": "3.43",
                                    "3": "11644",
                                    "4": "female-authors"
                                },
                                {
                                    "0": "Kate Summerscale",
                                    "1": "The Suspicions of Mr. Whicher: A Shocking Murder and the Undoing of a Great Victorian Detective",
                                    "2": "3.43",
                                    "3": "11644",
                                    "4": "female-authors"
                                },
                                {
                                    "0": "Anne Tyler",
                                    "1": "Vinegar Girl",
                                    "2": "3.42",
                                    "3": "11644",
                                    "4": "female-authors"
                                },
                                {
                                    "0": "Amy Tan",
                                    "1": "Saving Fish from Drowning",
                                    "2": "3.41",
                                    "3": "11644",
                                    "4": "female-authors"
                                },
                                {
                                    "0": "Kate Jacobs",
                                    "1": "The Friday Night Knitting Club (Friday Night Knitting Club, #1)",
                                    "2": "3.41",
                                    "3": "11644",
                                    "4": "female-authors"
                                },
                                {
                                    "0": "Kiran Desai",
                                    "1": "The Inheritance of Loss",
                                    "2": "3.41",
                                    "3": "11644",
                                    "4": "female-authors"
                                },
                                {
                                    "0": "Zadie Smith",
                                    "1": "NW",
                                    "2": "3.41",
                                    "3": "11644",
                                    "4": "female-authors"
                                },
                                {
                                    "0": "Holly Madison",
                                    "1": "Down the Rabbit Hole: Curious Adventures and Cautionary Tales of a Former Playboy Bunny",
                                    "2": "3.4",
                                    "3": "11644",
                                    "4": "female-authors"
                                },
                                {
                                    "0": "Lionel Shriver",
                                    "1": "Big Brother",
                                    "2": "3.4",
                                    "3": "11644",
                                    "4": "female-authors"
                                },
                                {
                                    "0": "Sarah Waters",
                                    "1": "The Paying Guests",
                                    "2": "3.39",
                                    "3": "11644",
                                    "4": "female-authors"
                                },
                                {
                                    "0": "Monica Ali",
                                    "1": "Brick Lane",
                                    "2": "3.38",
                                    "3": "11644",
                                    "4": "female-authors"
                                },
                                {
                                    "0": "Ottessa Moshfegh",
                                    "1": "Eileen",
                                    "2": "3.38",
                                    "3": "11644",
                                    "4": "female-authors"
                                },
                                {
                                    "0": "Candace Bushnell",
                                    "1": "Sex and the City",
                                    "2": "3.37",
                                    "3": "11644",
                                    "4": "female-authors"
                                },
                                {
                                    "0": "Courtney Maum",
                                    "1": "I Am Having So Much Fun Here Without You",
                                    "2": "3.37",
                                    "3": "11644",
                                    "4": "female-authors"
                                },
                                {
                                    "0": "Margaret Atwood",
                                    "1": "The Heart Goes Last",
                                    "2": "3.37",
                                    "3": "11644",
                                    "4": "female-authors"
                                },
                                {
                                    "0": "Téa Obreht",
                                    "1": "The Tiger's Wife",
                                    "2": "3.37",
                                    "3": "11644",
                                    "4": "female-authors"
                                },
                                {
                                    "0": "Curtis Sittenfeld",
                                    "1": "Prep",
                                    "2": "3.36",
                                    "3": "11644",
                                    "4": "female-authors"
                                },
                                {
                                    "0": "J. Courtney Sullivan",
                                    "1": "Commencement ",
                                    "2": "3.36",
                                    "3": "11644",
                                    "4": "female-authors"
                                },
                                {
                                    "0": "Edith Wharton",
                                    "1": "Ethan Frome",
                                    "2": "3.35",
                                    "3": "11644",
                                    "4": "female-authors"
                                },
                                {
                                    "0": "Alissa Nutting",
                                    "1": "Tampa",
                                    "2": "3.34",
                                    "3": "11644",
                                    "4": "female-authors"
                                },
                                {
                                    "0": "Helen Oyeyemi",
                                    "1": "Boy, Snow, Bird",
                                    "2": "3.34",
                                    "3": "11644",
                                    "4": "female-authors"
                                },
                                {
                                    "0": "Pauline Réage, Sabine d'Estree",
                                    "1": "Story of O (Story of O #1)",
                                    "2": "3.34",
                                    "3": "11644",
                                    "4": "female-authors"
                                },
                                {
                                    "0": "Lena Dunham, Joana Avillez",
                                    "1": "Not That Kind of Girl: A Young Woman Tells You What She's \"Learned\"",
                                    "2": "3.33",
                                    "3": "11644",
                                    "4": "female-authors"
                                },
                                {
                                    "0": "Adelle Waldman",
                                    "1": "The Love Affairs of Nathaniel P.",
                                    "2": "3.3",
                                    "3": "11644",
                                    "4": "female-authors"
                                },
                                {
                                    "0": "Sarah Blake, Orlagh Cassidy",
                                    "1": "The Postmistress",
                                    "2": "3.3",
                                    "3": "11644",
                                    "4": "female-authors"
                                },
                                {
                                    "0": "Stephanie Danler",
                                    "1": "Sweetbitter",
                                    "2": "3.28",
                                    "3": "11644",
                                    "4": "female-authors"
                                },
                                {
                                    "0": "Isabel Allende, Oliver Brock, Frank Wynne",
                                    "1": "Ripper",
                                    "2": "3.24",
                                    "3": "11644",
                                    "4": "female-authors"
                                },
                                {
                                    "0": "Jill Alexander Essbaum",
                                    "1": "Hausfrau",
                                    "2": "3.24",
                                    "3": "11644",
                                    "4": "female-authors"
                                },
                                {
                                    "0": "Edan Lepucki",
                                    "1": "California",
                                    "2": "3.22",
                                    "3": "11644",
                                    "4": "female-authors"
                                },
                                {
                                    "0": "Karen Russell",
                                    "1": "Swamplandia!",
                                    "2": "3.21",
                                    "3": "11644",
                                    "4": "female-authors"
                                },
                                {
                                    "0": "Charlotte Rogan",
                                    "1": "The Lifeboat",
                                    "2": "3.2",
                                    "3": "11644",
                                    "4": "female-authors"
                                },
                                {
                                    "0": "Aimee Bender",
                                    "1": "The Particular Sadness of Lemon Cake",
                                    "2": "3.19",
                                    "3": "11644",
                                    "4": "female-authors"
                                },
                                {
                                    "0": "Jodi Picoult",
                                    "1": "Songs of the Humpback Whale",
                                    "2": "3.19",
                                    "3": "11644",
                                    "4": "female-authors"
                                },
                                {
                                    "0": "Maria Semple",
                                    "1": "Today Will Be Different",
                                    "2": "3.19",
                                    "3": "11644",
                                    "4": "female-authors"
                                },
                                {
                                    "0": "Anita Shreve",
                                    "1": "All He Ever Wanted",
                                    "2": "3.18",
                                    "3": "11644",
                                    "4": "female-authors"
                                },
                                {
                                    "0": "Lorrie Moore",
                                    "1": "A Gate at the Stairs",
                                    "2": "3.14",
                                    "3": "11644",
                                    "4": "female-authors"
                                },
                                {
                                    "0": "Zadie Smith",
                                    "1": "The Autograph Man",
                                    "2": "3.14",
                                    "3": "11644",
                                    "4": "female-authors"
                                },
                                {
                                    "0": "Emma Donoghue",
                                    "1": "Frog Music",
                                    "2": "3.13",
                                    "3": "11644",
                                    "4": "female-authors"
                                },
                                {
                                    "0": "Claire Messud",
                                    "1": "The Emperor's Children",
                                    "2": "2.93",
                                    "3": "11644",
                                    "4": "female-authors"
                                },
                                {
                                    "0": "Candace Bushnell",
                                    "1": "Four Blondes",
                                    "2": "2.8",
                                    "3": "11644",
                                    "4": "female-authors"
                                },
                                {
                                    "0": "Alice Sebold",
                                    "1": "The Almost Moon",
                                    "2": "2.67",
                                    "3": "11644",
                                    "4": "female-authors"
                                }
                            ]
                        },
                        "text/html": "<table><tr><th>authors</th><th>title</th><th>average_rating</th><th>tag_id</th><th>tag_name</th></tr><tr><td>Jane Austen</td><td>The Complete Novels</td><td>4.55</td><td>11644</td><td>female-authors</td></tr><tr><td>Robin Hobb</td><td>Fool's Quest  (The Fitz and The Fool, #2)</td><td>4.53</td><td>11644</td><td>female-authors</td></tr><tr><td>C.S. Pacat</td><td>Kings Rising (Captive Prince, #3)</td><td>4.5</td><td>11644</td><td>female-authors</td></tr><tr><td>Hiromu Arakawa, Akira Watanabe</td><td>Fullmetal Alchemist, Vol. 1 (Fullmetal Alchemist, #1)</td><td>4.49</td><td>11644</td><td>female-authors</td></tr><tr><td>Chimamanda Ngozi Adichie</td><td>We Should All Be Feminists</td><td>4.47</td><td>11644</td><td>female-authors</td></tr><tr><td>Flannery O'Connor</td><td>The Complete Stories</td><td>4.44</td><td>11644</td><td>female-authors</td></tr><tr><td>Barbara Demick</td><td>Nothing to Envy: Ordinary Lives in North Korea</td><td>4.42</td><td>11644</td><td>female-authors</td></tr><tr><td>Yaa Gyasi</td><td>Homegoing</td><td>4.41</td><td>11644</td><td>female-authors</td></tr><tr><td>Bernadette Rossetti-Shustak, Caroline Jayne Church</td><td>I Love You Through and Through</td><td>4.39</td><td>11644</td><td>female-authors</td></tr><tr><td>Elena Ferrante, Ann Goldstein</td><td>The Story of the Lost Child (The Neapolitan Novels, #4)</td><td>4.39</td><td>11644</td><td>female-authors</td></tr><tr><td>Elena Ferrante, Ann Goldstein</td><td>The Story of a New Name (The Neapolitan Novels #2)</td><td>4.37</td><td>11644</td><td>female-authors</td></tr><tr><td>Marjane Satrapi, Mattias Ripa, Blake Ferris, Anjali Singh</td><td>The Complete Persepolis</td><td>4.36</td><td>11644</td><td>female-authors</td></tr><tr><td>Susan Abulhawa</td><td>Mornings in Jenin</td><td>4.35</td><td>11644</td><td>female-authors</td></tr><tr><td>Julia Child, Simone Beck, Louisette Bertholle</td><td>Mastering the Art of French Cooking</td><td>4.33</td><td>11644</td><td>female-authors</td></tr><tr><td>Enid Blyton</td><td>The Folk of the Faraway Tree (The Faraway Tree, #3)</td><td>4.32</td><td>11644</td><td>female-authors</td></tr><tr><td>Tamora Pierce</td><td>Wild Magic (Immortals, #1)</td><td>4.32</td><td>11644</td><td>female-authors</td></tr><tr><td>Julia Child</td><td>The Way to Cook</td><td>4.31</td><td>11644</td><td>female-authors</td></tr><tr><td>N.K. Jemisin</td><td>The Fifth Season (The Broken Earth, #1)</td><td>4.31</td><td>11644</td><td>female-authors</td></tr><tr><td>Barbara Shook Hazen, Robert Lewis May, Richard Scarry</td><td>Rudolph the Red-Nosed Reindeer</td><td>4.3</td><td>11644</td><td>female-authors</td></tr><tr><td>Claudia Rankine</td><td>Citizen: An American Lyric</td><td>4.3</td><td>11644</td><td>female-authors</td></tr><tr><td>Diana Wynne Jones</td><td>Howl's Moving Castle (Howl's Moving Castle, #1)</td><td>4.3</td><td>11644</td><td>female-authors</td></tr><tr><td>Cheryl Strayed</td><td>Tiny Beautiful Things: Advice on Love and Life from Dear Sugar</td><td>4.29</td><td>11644</td><td>female-authors</td></tr><tr><td>Elena Ferrante, Ann Goldstein</td><td>Those Who Leave and Those Who Stay (The Neapolitan Novels #3)</td><td>4.29</td><td>11644</td><td>female-authors</td></tr><tr><td>Enid Blyton</td><td>The Magic Faraway Tree (The Faraway Tree, #2)</td><td>4.29</td><td>11644</td><td>female-authors</td></tr><tr><td>Lois McMaster Bujold</td><td>The Warrior's Apprentice (Vorkosigan Saga, #2)</td><td>4.29</td><td>11644</td><td>female-authors</td></tr><tr><td>Loung Ung</td><td>First They Killed My Father: A Daughter of Cambodia Remembers</td><td>4.29</td><td>11644</td><td>female-authors</td></tr><tr><td>Sylvia Plath, Karen V. Kukil</td><td>The Unabridged Journals of Sylvia Plath</td><td>4.29</td><td>11644</td><td>female-authors</td></tr><tr><td>Anne Sexton, Maxine Kumin</td><td>The Complete Poems</td><td>4.28</td><td>11662</td><td>female-writers</td></tr><tr><td>Anne Sexton, Maxine Kumin</td><td>The Complete Poems</td><td>4.28</td><td>11644</td><td>female-authors</td></tr><tr><td>Enid Blyton</td><td>The Faraway Tree Stories (The Faraway Tree #1-3)</td><td>4.28</td><td>11644</td><td>female-authors</td></tr><tr><td>Michelle Magorian</td><td>Good Night, Mr. Tom</td><td>4.28</td><td>11644</td><td>female-authors</td></tr><tr><td>Tamora Pierce</td><td>Lioness Rampant (Song of the Lioness, #4)</td><td>4.28</td><td>11644</td><td>female-authors</td></tr><tr><td>Tamora Pierce</td><td>Trickster's Queen (Daughter of the Lioness, #2)</td><td>4.28</td><td>11644</td><td>female-authors</td></tr><tr><td>Flannery O'Connor, Robert Fitzgerald</td><td>Everything That Rises Must Converge: Stories</td><td>4.27</td><td>11644</td><td>female-authors</td></tr><tr><td>Hanya Yanagihara</td><td>A Little Life</td><td>4.27</td><td>11644</td><td>female-authors</td></tr><tr><td>Kate Beaton</td><td>Hark! A Vagrant</td><td>4.27</td><td>11644</td><td>female-authors</td></tr><tr><td>Madeline Miller</td><td>The Song of Achilles</td><td>4.27</td><td>11644</td><td>female-authors</td></tr><tr><td>Marjane Satrapi</td><td>Persepolis, Volume 1</td><td>4.27</td><td>11644</td><td>female-authors</td></tr><tr><td>Ntozake Shange</td><td>for colored girls who have considered suicide/when the rainbow is enuf</td><td>4.27</td><td>11644</td><td>female-authors</td></tr><tr><td>Rupi Kaur</td><td>Milk and Honey</td><td>4.27</td><td>11644</td><td>female-authors</td></tr><tr><td>Tamora Pierce</td><td>Alanna: The First Adventure (Song of the Lioness, #1)</td><td>4.27</td><td>11644</td><td>female-authors</td></tr><tr><td>Tamora Pierce</td><td>Squire (Protector of the Small, #3)</td><td>4.27</td><td>11644</td><td>female-authors</td></tr><tr><td>Tamora Pierce</td><td>Trickster's Choice (Daughter of the Lioness, #1)</td><td>4.27</td><td>11644</td><td>female-authors</td></tr><tr><td>Chimamanda Ngozi Adichie</td><td>Americanah</td><td>4.26</td><td>11644</td><td>female-authors</td></tr><tr><td>Fannie Flagg</td><td>Fried Green Tomatoes at the Whistle Stop Cafe</td><td>4.26</td><td>11644</td><td>female-authors</td></tr><tr><td>Hilary Mantel</td><td>Bring Up the Bodies (Thomas Cromwell, #2)</td><td>4.26</td><td>11644</td><td>female-authors</td></tr><tr><td>Joanna Cole, Bruce Degen</td><td>Inside the Human Body (The Magic School Bus, #3)</td><td>4.26</td><td>11644</td><td>female-authors</td></tr><tr><td>Tamora Pierce</td><td>Bloodhound (Beka Cooper, #2)</td><td>4.26</td><td>11644</td><td>female-authors</td></tr><tr><td>Margaret George</td><td>The Autobiography of Henry VIII: With Notes by His Fool, Will Somers</td><td>4.25</td><td>11644</td><td>female-authors</td></tr><tr><td>Tamora Pierce</td><td>In the Hand of the Goddess (Song of the Lioness, #2)</td><td>4.25</td><td>11644</td><td>female-authors</td></tr><tr><td>Ursula K. Le Guin</td><td>The Earthsea Trilogy</td><td>4.25</td><td>11644</td><td>female-authors</td></tr><tr><td>Betty  Smith</td><td>A Tree Grows in Brooklyn</td><td>4.24</td><td>11644</td><td>female-authors</td></tr><tr><td>Betty MacDonald, Alexandra Boiger</td><td>Hello, Mrs. Piggle-Wiggle (Mrs. Piggle Wiggle, #4)</td><td>4.24</td><td>11644</td><td>female-authors</td></tr><tr><td>Enid Blyton</td><td>The Enchanted Wood (The Faraway Tree, #1)</td><td>4.24</td><td>11644</td><td>female-authors</td></tr><tr><td>Flannery O'Connor</td><td>A Good Man is Hard to Find and Other Stories</td><td>4.24</td><td>11644</td><td>female-authors</td></tr><tr><td>Joan Didion</td><td>Slouching Towards Bethlehem</td><td>4.24</td><td>11662</td><td>female-writers</td></tr><tr><td>Joan Didion</td><td>Slouching Towards Bethlehem</td><td>4.24</td><td>11644</td><td>female-authors</td></tr><tr><td>Tamora Pierce</td><td>Mastiff (Beka Cooper, #3)</td><td>4.24</td><td>11644</td><td>female-authors</td></tr><tr><td>Judith Kerr</td><td>The Tiger Who Came to Tea</td><td>4.23</td><td>11644</td><td>female-authors</td></tr><tr><td>Jung Chang</td><td>Wild Swans: Three Daughters of China</td><td>4.23</td><td>11644</td><td>female-authors</td></tr><tr><td>Lindy West</td><td>Shrill: Notes from a Loud Woman</td><td>4.23</td><td>11644</td><td>female-authors</td></tr><tr><td>Malorie Blackman</td><td>Noughts &amp; Crosses (Noughts &amp; Crosses, #1)</td><td>4.23</td><td>11644</td><td>female-authors</td></tr><tr><td>Marjane Satrapi, Anjali Singh</td><td>Persepolis 2: The Story of a Return (Persepolis, #2)</td><td>4.23</td><td>11644</td><td>female-authors</td></tr><tr><td>Marjane Satrapi, Mattias Ripa</td><td>Persepolis: The Story of a Childhood (Persepolis, #1)</td><td>4.23</td><td>11644</td><td>female-authors</td></tr><tr><td>Mary  Stewart</td><td>The Hollow Hills (Arthurian Saga, #2)</td><td>4.23</td><td>11644</td><td>female-authors</td></tr><tr><td>Sylvia Plath</td><td>Ariel</td><td>4.23</td><td>11662</td><td>female-writers</td></tr><tr><td>Sylvia Plath</td><td>Ariel</td><td>4.23</td><td>11644</td><td>female-authors</td></tr><tr><td>Tachibana Higuchi, 樋口 橘</td><td>Gakuen Alice, Vol. 01 (Gakuen Alice, #1)</td><td>4.23</td><td>11644</td><td>female-authors</td></tr><tr><td>Anne McCaffrey</td><td>The Dragonriders of Pern (Dragonriders of Pern, #1-3)</td><td>4.22</td><td>11644</td><td>female-authors</td></tr><tr><td>Colleen McCullough</td><td>The Thorn Birds</td><td>4.22</td><td>11644</td><td>female-authors</td></tr><tr><td>Elyn R. Saks</td><td>The Center Cannot Hold: My Journey Through Madness</td><td>4.22</td><td>11644</td><td>female-authors</td></tr><tr><td>Irin Carmon, Shana Knizhnik</td><td>Notorious RBG: The Life and Times of Ruth Bader Ginsburg</td><td>4.22</td><td>11644</td><td>female-authors</td></tr><tr><td>Naomi Klein</td><td>The Shock Doctrine: The Rise of Disaster Capitalism</td><td>4.22</td><td>11644</td><td>female-authors</td></tr><tr><td>Octavia E. Butler</td><td>Wild Seed (Patternmaster, #1)</td><td>4.22</td><td>11644</td><td>female-authors</td></tr><tr><td>Wendy Mass</td><td>A Mango-Shaped Space</td><td>4.22</td><td>11644</td><td>female-authors</td></tr><tr><td>Ai Yazawa</td><td>Nana, Vol. 1 (Nana, #1)</td><td>4.21</td><td>11644</td><td>female-authors</td></tr><tr><td>Emily Dickinson, Thomas H. Johnson</td><td>The Complete Poems of Emily Dickinson</td><td>4.21</td><td>11662</td><td>female-writers</td></tr><tr><td>Emily Dickinson, Thomas H. Johnson</td><td>The Complete Poems of Emily Dickinson</td><td>4.21</td><td>11644</td><td>female-authors</td></tr><tr><td>L.M. Montgomery</td><td>Anne of Avonlea (Anne of Green Gables, #2)</td><td>4.21</td><td>11644</td><td>female-authors</td></tr><tr><td>Marian Potter</td><td>The Little Red Caboose (Little Golden Book)</td><td>4.21</td><td>11644</td><td>female-authors</td></tr><tr><td>Octavia E. Butler</td><td>Parable of the Talents (Earthseed, #2)</td><td>4.21</td><td>11644</td><td>female-authors</td></tr><tr><td>Robin Hobb</td><td>Ship of Destiny (Liveship Traders, #3)</td><td>4.21</td><td>11644</td><td>female-authors</td></tr><tr><td>Robin Hobb</td><td>The Mad Ship (Liveship Traders, #2)</td><td>4.21</td><td>11644</td><td>female-authors</td></tr><tr><td>Tamora Pierce</td><td>Wolf-Speaker (Immortals, #2)</td><td>4.21</td><td>11644</td><td>female-authors</td></tr><tr><td>Agatha Christie</td><td>The Murder of Roger Ackroyd (Hercule Poirot, #4)</td><td>4.2</td><td>11644</td><td>female-authors</td></tr><tr><td>Ann Leckie</td><td>Ancillary Mercy (Imperial Radch #3)</td><td>4.2</td><td>11644</td><td>female-authors</td></tr><tr><td>Ann Rule</td><td>Small Sacrifices: A True Story of Passion and Murder</td><td>4.2</td><td>11644</td><td>female-authors</td></tr><tr><td>Audre Lorde</td><td>Zami: A New Spelling of My Name</td><td>4.2</td><td>11662</td><td>female-writers</td></tr><tr><td>Audre Lorde</td><td>Zami: A New Spelling of My Name</td><td>4.2</td><td>11644</td><td>female-authors</td></tr><tr><td>Daphne du Maurier, Sally Beauman</td><td>Rebecca</td><td>4.2</td><td>11644</td><td>female-authors</td></tr><tr><td>Isabel Allende, Magda Bogin</td><td>The House of the Spirits</td><td>4.2</td><td>11644</td><td>female-authors</td></tr><tr><td>Margaret Edson</td><td>Wit</td><td>4.2</td><td>11644</td><td>female-authors</td></tr><tr><td>Noelle Stevenson</td><td>Nimona</td><td>4.2</td><td>11644</td><td>female-authors</td></tr><tr><td>Patricia C. Wrede, Peter de Sève</td><td>Calling on Dragons (Enchanted Forest Chronicles, #3)</td><td>4.2</td><td>11644</td><td>female-authors</td></tr><tr><td>Sylvia Plath, Ted Hughes</td><td>The Collected Poems</td><td>4.2</td><td>11644</td><td>female-authors</td></tr><tr><td>Tamora Pierce</td><td>The Woman Who Rides Like a Man (Song of the Lioness, #3)</td><td>4.2</td><td>11644</td><td>female-authors</td></tr><tr><td>Beatrix Potter</td><td>The Tale of Mrs. Tiggy-Winkle</td><td>4.19</td><td>11644</td><td>female-authors</td></tr><tr><td>Elizabeth Bishop</td><td>The Complete Poems 1927-1979</td><td>4.19</td><td>11662</td><td>female-writers</td></tr><tr><td>Esther Earl, Lori Earl, Wayne Earl, John Green</td><td>This Star Won't Go Out: The Life and Words of Esther Grace Earl</td><td>4.19</td><td>11644</td><td>female-authors</td></tr><tr><td>Maya Angelou</td><td>I Know Why the Caged Bird Sings</td><td>4.19</td><td>11644</td><td>female-authors</td></tr><tr><td>Maya Angelou</td><td>The Heart of a Woman</td><td>4.19</td><td>11644</td><td>female-authors</td></tr><tr><td>Becky  Chambers</td><td>The Long Way to a Small, Angry Planet (Wayfarers, #1)</td><td>4.18</td><td>11644</td><td>female-authors</td></tr><tr><td>Beryl Markham</td><td>West with the Night</td><td>4.18</td><td>11644</td><td>female-authors</td></tr><tr><td>Chimamanda Ngozi Adichie</td><td>The Thing Around Your Neck</td><td>4.18</td><td>11644</td><td>female-authors</td></tr><tr><td>Octavia E. Butler</td><td>Kindred</td><td>4.18</td><td>11644</td><td>female-authors</td></tr><tr><td>Ursula K. Le Guin</td><td>The Dispossessed</td><td>4.18</td><td>11644</td><td>female-authors</td></tr><tr><td>Alice Walker</td><td>The Color Purple</td><td>4.17</td><td>11644</td><td>female-authors</td></tr><tr><td>Allie Brosh</td><td>Hyperbole and a Half: Unfortunate Situations, Flawed Coping Mechanisms, Mayhem, and Other Things That Happened</td><td>4.17</td><td>11644</td><td>female-authors</td></tr><tr><td>Brené Brown</td><td>The Gifts of Imperfection: Let Go of Who You Think You're Supposed to Be and Embrace Who You Are</td><td>4.17</td><td>11644</td><td>female-authors</td></tr><tr><td>Margaret George</td><td>The Memoirs of Cleopatra</td><td>4.17</td><td>11644</td><td>female-authors</td></tr><tr><td>Mary Doria Russell</td><td>The Sparrow (The Sparrow, #1)</td><td>4.17</td><td>11644</td><td>female-authors</td></tr><tr><td>Natalie Goldberg</td><td>Writing Down the Bones: Freeing the Writer Within</td><td>4.17</td><td>11644</td><td>female-authors</td></tr><tr><td>Agatha Christie</td><td>Murder on the Orient Express (Hercule Poirot, #10)</td><td>4.16</td><td>11644</td><td>female-authors</td></tr><tr><td>Christiane F., Kai Hermann, Horst Rieck</td><td>Wir Kinder vom Bahnhof Zoo</td><td>4.16</td><td>11644</td><td>female-authors</td></tr><tr><td>Emily Dickinson</td><td>Selected Poems</td><td>4.16</td><td>11644</td><td>female-authors</td></tr><tr><td>L.M. Montgomery</td><td>Rilla of Ingleside (Anne of Green Gables, #8)</td><td>4.16</td><td>11644</td><td>female-authors</td></tr><tr><td>Lois McMaster Bujold</td><td>The Curse of Chalion (World of the Five Gods, #1)</td><td>4.16</td><td>11644</td><td>female-authors</td></tr><tr><td>Tamora Pierce</td><td>Shatterglass (The Circle Opens, #4)</td><td>4.16</td><td>11644</td><td>female-authors</td></tr><tr><td>Elisabeth Kübler-Ross</td><td>On Death and Dying</td><td>4.15</td><td>11644</td><td>female-authors</td></tr><tr><td>Tamora Pierce</td><td>The Will of the Empress (Circle Reforged, #1)</td><td>4.15</td><td>11644</td><td>female-authors</td></tr><tr><td>Anne Fadiman</td><td>The Spirit Catches You and You Fall Down: A Hmong Child, Her American Doctors, and the Collision of Two Cultures</td><td>4.14</td><td>11644</td><td>female-authors</td></tr><tr><td>Felicia Day, Joss Whedon</td><td>You're Never Weird on the Internet (Almost)</td><td>4.14</td><td>11644</td><td>female-authors</td></tr><tr><td>G. Willow Wilson, Adrian Alphona, Jacob Wyatt</td><td>Ms. Marvel, Vol. 2: Generation Why</td><td>4.14</td><td>11644</td><td>female-authors</td></tr><tr><td>Iris Rainer Dart</td><td>Beaches</td><td>4.14</td><td>11644</td><td>female-authors</td></tr><tr><td>Irma S. Rombauer, Marion Rombauer Becker, Ethan Becker</td><td>The Joy of Cooking</td><td>4.14</td><td>11644</td><td>female-authors</td></tr><tr><td>Madeleine L'Engle</td><td>A Ring of Endless Light (Austin Family, #4)</td><td>4.14</td><td>11644</td><td>female-authors</td></tr><tr><td>Mary Westmacott, Agatha Christie</td><td>Absent In The Spring</td><td>4.14</td><td>11644</td><td>female-authors</td></tr><tr><td>Octavia E. Butler</td><td>Parable of the Sower (Earthseed, #1)</td><td>4.14</td><td>11644</td><td>female-authors</td></tr><tr><td>Patti Smith</td><td>Just Kids</td><td>4.14</td><td>11644</td><td>female-authors</td></tr><tr><td>Sarah Andersen</td><td>Adulthood Is a Myth (Sarah's Scribbles, #1)</td><td>4.14</td><td>11644</td><td>female-authors</td></tr><tr><td>Tamora Pierce</td><td>Briar's Book (Circle of Magic, #4)</td><td>4.14</td><td>11644</td><td>female-authors</td></tr><tr><td>Tess Gerritsen</td><td>The Apprentice (Rizzoli &amp; Isles, #2)</td><td>4.14</td><td>11644</td><td>female-authors</td></tr><tr><td>Virginia Woolf</td><td>The Waves</td><td>4.14</td><td>11662</td><td>female-writers</td></tr><tr><td>Virginia Woolf</td><td>The Waves</td><td>4.14</td><td>11644</td><td>female-authors</td></tr><tr><td>Ann Rule</td><td>The Stranger Beside Me: Ted Bundy The Shocking Inside Story</td><td>4.13</td><td>11644</td><td>female-authors</td></tr><tr><td>Elizabeth Gaskell, Alan Shelston</td><td>North and South</td><td>4.13</td><td>11644</td><td>female-authors</td></tr><tr><td>G. Willow Wilson, Adrian Alphona</td><td>Ms. Marvel, Vol. 1: No Normal</td><td>4.13</td><td>11644</td><td>female-authors</td></tr><tr><td>Gloria Naylor</td><td>The Women of Brewster Place</td><td>4.13</td><td>11644</td><td>female-authors</td></tr><tr><td>Jane Austen, James Kinsley, Deidre Shauna Lynch</td><td>Persuasion</td><td>4.13</td><td>11644</td><td>female-authors</td></tr><tr><td>Julia Alvarez</td><td>In the Time of the Butterflies</td><td>4.13</td><td>11644</td><td>female-authors</td></tr><tr><td>Lois McMaster Bujold</td><td>Shards of Honour  (Vorkosigan Saga, #1)</td><td>4.13</td><td>11644</td><td>female-authors</td></tr><tr><td>Madeleine L'Engle</td><td>A Swiftly Tilting Planet (A Wrinkle in Time Quintet, #3)</td><td>4.13</td><td>11644</td><td>female-authors</td></tr><tr><td>Virginia M. Axline</td><td>Dibs in Search of Self</td><td>4.13</td><td>11644</td><td>female-authors</td></tr><tr><td>Alison Bechdel</td><td>Fun Home: A Family Tragicomic</td><td>4.12</td><td>11644</td><td>female-authors</td></tr><tr><td>Jeanette Winterson</td><td>The Passion</td><td>4.12</td><td>11662</td><td>female-writers</td></tr><tr><td>Jeanette Winterson</td><td>The Passion</td><td>4.12</td><td>11644</td><td>female-authors</td></tr><tr><td>Jhumpa Lahiri</td><td>Interpreter of Maladies</td><td>4.12</td><td>11644</td><td>female-authors</td></tr><tr><td>Lorrie Moore</td><td>Birds of America</td><td>4.12</td><td>11644</td><td>female-authors</td></tr><tr><td>Marion Zimmer Bradley</td><td>The Mists of Avalon (Avalon, #1)</td><td>4.12</td><td>11644</td><td>female-authors</td></tr><tr><td>Mary  Stewart</td><td>The Crystal Cave (Arthurian Saga, #1)</td><td>4.12</td><td>11644</td><td>female-authors</td></tr><tr><td>S.A.R.K.</td><td>Succulent Wild Woman</td><td>4.12</td><td>11644</td><td>female-authors</td></tr><tr><td>Tamora Pierce</td><td>Street Magic (The Circle Opens, #2)</td><td>4.12</td><td>11644</td><td>female-authors</td></tr><tr><td>Charlotte Perkins Gilman, Elaine Hedges</td><td>The Yellow Wall-Paper</td><td>4.11</td><td>11644</td><td>female-authors</td></tr><tr><td>Chimamanda Ngozi Adichie</td><td>Purple Hibiscus</td><td>4.11</td><td>11644</td><td>female-authors</td></tr><tr><td>Chitra Banerjee Divakaruni</td><td>The Palace of Illusions</td><td>4.11</td><td>11644</td><td>female-authors</td></tr><tr><td>Dorothy L. Sayers</td><td>Unnatural Death (Lord Peter Wimsey, #3)</td><td>4.11</td><td>11644</td><td>female-authors</td></tr><tr><td>Jhumpa Lahiri</td><td>Unaccustomed Earth</td><td>4.11</td><td>11644</td><td>female-authors</td></tr><tr><td>Meg Jay</td><td>The Defining Decade: Why Your Twenties Matter--And How to Make the Most of Them Now</td><td>4.11</td><td>11644</td><td>female-authors</td></tr><tr><td>Ursula K. Le Guin</td><td>The Farthest Shore (Earthsea Cycle, #3)</td><td>4.11</td><td>11644</td><td>female-authors</td></tr><tr><td>Anna Gavalda, Alison Anderson</td><td>Hunting and Gathering</td><td>4.1</td><td>11644</td><td>female-authors</td></tr><tr><td>Anne Frank, Eleanor Roosevelt, B.M. Mooyaart-Doubleday</td><td>The Diary of a Young Girl</td><td>4.1</td><td>11644</td><td>female-authors</td></tr><tr><td>Annie Dillard</td><td>Pilgrim at Tinker Creek</td><td>4.1</td><td>11644</td><td>female-authors</td></tr><tr><td>Charlotte Brontë, Michael Mason</td><td>Jane Eyre</td><td>4.1</td><td>11644</td><td>female-authors</td></tr><tr><td>Helene Wecker</td><td>The Golem and the Jinni (The Golem and the Jinni, #1)</td><td>4.1</td><td>11644</td><td>female-authors</td></tr><tr><td>Janet Stevens, Hans Christian Andersen</td><td>The Princess and the Pea</td><td>4.1</td><td>11644</td><td>female-authors</td></tr><tr><td>Marion Cunningham, Fannie Merritt Farmer, Archibald Candy Corporation</td><td>The Fannie Farmer Cookbook: Anniversary</td><td>4.1</td><td>11644</td><td>female-authors</td></tr><tr><td>Octavia E. Butler</td><td>Dawn (Xenogenesis, #1)</td><td>4.1</td><td>11644</td><td>female-authors</td></tr><tr><td>Roz Chast</td><td>Can't We Talk about Something More Pleasant?</td><td>4.1</td><td>11644</td><td>female-authors</td></tr><tr><td>Stacy King, SunNeko Lee, Crystal S. Chan, Victor Hugo</td><td>Manga Classics: Les Misérables</td><td>4.1</td><td>11644</td><td>female-authors</td></tr><tr><td>Virginia Woolf</td><td>A Room of One's Own</td><td>4.1</td><td>11644</td><td>female-authors</td></tr><tr><td>Alice  Miller, Ruth Ward</td><td>The Drama of the Gifted Child: The Search for the True Self</td><td>4.09</td><td>11644</td><td>female-authors</td></tr><tr><td>Dorothy Allison</td><td>Bastard Out of Carolina</td><td>4.09</td><td>11644</td><td>female-authors</td></tr><tr><td>Elizabeth Kolbert</td><td>The Sixth Extinction: An Unnatural History</td><td>4.09</td><td>11644</td><td>female-authors</td></tr><tr><td>Sandra Gulland</td><td>The Many Lives &amp; Secret Sorrows of Josephine B. (Josephine Bonaparte, #1)</td><td>4.09</td><td>11644</td><td>female-authors</td></tr><tr><td>Shirley Jackson</td><td>The Lottery</td><td>4.09</td><td>11644</td><td>female-authors</td></tr><tr><td>Simone de Beauvoir, H.M. Parshley, Deirdre Bair</td><td>The Second Sex</td><td>4.09</td><td>11662</td><td>female-writers</td></tr><tr><td>Simone de Beauvoir, H.M. Parshley, Deirdre Bair</td><td>The Second Sex</td><td>4.09</td><td>11644</td><td>female-authors</td></tr><tr><td>Ursula K. Le Guin</td><td>The Lathe of Heaven</td><td>4.09</td><td>11644</td><td>female-authors</td></tr><tr><td>Waris Dirie, Cathleen Miller</td><td>Desert Flower</td><td>4.09</td><td>11644</td><td>female-authors</td></tr><tr><td>Gloria Steinem</td><td>My Life on the Road</td><td>4.08</td><td>11644</td><td>female-authors</td></tr><tr><td>Harriet Jacobs</td><td>Incidents in the Life of a Slave Girl</td><td>4.08</td><td>11644</td><td>female-authors</td></tr><tr><td>Jeanette Winterson</td><td>Written on the Body</td><td>4.08</td><td>11644</td><td>female-authors</td></tr><tr><td>Kate Chopin</td><td>The Story of an Hour</td><td>4.08</td><td>11644</td><td>female-authors</td></tr><tr><td>Lynn Flewelling</td><td>Luck in the Shadows (Nightrunner, #1)</td><td>4.08</td><td>11644</td><td>female-authors</td></tr><tr><td>Maya Angelou</td><td>Letter to My Daughter</td><td>4.08</td><td>11644</td><td>female-authors</td></tr><tr><td>Donna Tartt</td><td>The Secret History</td><td>4.07</td><td>11644</td><td>female-authors</td></tr><tr><td>Elizabeth Gaskell, Pam Morris</td><td>Wives and Daughters</td><td>4.07</td><td>11644</td><td>female-authors</td></tr><tr><td>Helen Keller</td><td>The Story of My Life</td><td>4.07</td><td>11644</td><td>female-authors</td></tr><tr><td>Isabel Allende</td><td>Paula</td><td>4.07</td><td>11644</td><td>female-authors</td></tr><tr><td>Rachel Maddow</td><td>Drift: The Unmooring of American Military Power</td><td>4.07</td><td>11644</td><td>female-authors</td></tr><tr><td>Sara Gruen</td><td>Water for Elephants</td><td>4.07</td><td>11644</td><td>female-authors</td></tr><tr><td>Tamora Pierce</td><td>Tris's Book (Circle of Magic, #2)</td><td>4.07</td><td>11644</td><td>female-authors</td></tr><tr><td>Ursula Hegi</td><td>Stones from the River</td><td>4.07</td><td>11644</td><td>female-authors</td></tr><tr><td>Ursula K. Le Guin</td><td>The Tombs of Atuan (Earthsea Cycle, #2)</td><td>4.07</td><td>11644</td><td>female-authors</td></tr><tr><td>Alice Munro</td><td>Hateship, Friendship, Courtship, Loveship, Marriage: Stories</td><td>4.06</td><td>11644</td><td>female-authors</td></tr><tr><td>Alice Walker</td><td>Possessing the Secret of Joy</td><td>4.06</td><td>11644</td><td>female-authors</td></tr><tr><td>Enid Blyton</td><td>Five on a Treasure Island (Famous Five, #1)</td><td>4.06</td><td>11644</td><td>female-authors</td></tr><tr><td>Jane Austen, Tony Tanner, Ros Ballaster</td><td>Sense and Sensibility</td><td>4.06</td><td>11644</td><td>female-authors</td></tr><tr><td>Keri Hulme</td><td>The Bone People</td><td>4.06</td><td>11644</td><td>female-authors</td></tr><tr><td>Malala Yousafzai, Christina Lamb</td><td>I Am Malala: The Story of the Girl Who Stood Up for Education and Was Shot by the Taliban</td><td>4.06</td><td>11644</td><td>female-authors</td></tr><tr><td>Margaret Atwood</td><td>The Handmaid's Tale</td><td>4.06</td><td>11644</td><td>female-authors</td></tr><tr><td>Marguerite Henry</td><td>Stormy, Misty's Foal (Misty, #3)</td><td>4.06</td><td>11644</td><td>female-authors</td></tr><tr><td>Shirley Jackson</td><td>The Lottery and Other Stories</td><td>4.06</td><td>11644</td><td>female-authors</td></tr><tr><td>Tamora Pierce</td><td>Daja's Book (Circle of Magic, #3)</td><td>4.06</td><td>11644</td><td>female-authors</td></tr><tr><td>Ursula K. Le Guin</td><td>The Other Wind (Earthsea Cycle, #6)</td><td>4.06</td><td>11644</td><td>female-authors</td></tr><tr><td>Alice Walker</td><td>The Temple of My Familiar</td><td>4.05</td><td>11644</td><td>female-authors</td></tr><tr><td>Anne Rice</td><td>The Vampire Lestat (The Vampire Chronicles, #2)</td><td>4.05</td><td>11644</td><td>female-authors</td></tr><tr><td>Barbara Kingsolver</td><td>Animal Dreams</td><td>4.05</td><td>11644</td><td>female-authors</td></tr><tr><td>Chelsea Cain</td><td>Sweetheart (Archie Sheridan &amp; Gretchen Lowell, #2)</td><td>4.05</td><td>11644</td><td>female-authors</td></tr><tr><td>Katherine Addison</td><td>The Goblin Emperor</td><td>4.05</td><td>11644</td><td>female-authors</td></tr><tr><td>L.M. Montgomery</td><td>Anne of Ingleside (Anne of Green Gables, #6)</td><td>4.05</td><td>11644</td><td>female-authors</td></tr><tr><td>Lisa See</td><td>Snow Flower and the Secret Fan</td><td>4.05</td><td>11644</td><td>female-authors</td></tr><tr><td>Margaret Atwood</td><td>The Year of the Flood  (MaddAddam, #2)</td><td>4.05</td><td>11644</td><td>female-authors</td></tr><tr><td>Mary Doria Russell</td><td>Children of God (The Sparrow, #2)</td><td>4.05</td><td>11644</td><td>female-authors</td></tr><tr><td>Mary Roach</td><td>Stiff: The Curious Lives of Human Cadavers</td><td>4.05</td><td>11644</td><td>female-authors</td></tr><tr><td>Robin Hobb</td><td>City of Dragons (Rain Wild Chronicles, #3)</td><td>4.05</td><td>11644</td><td>female-authors</td></tr><tr><td>Roxane Gay</td><td>An Untamed State</td><td>4.05</td><td>11644</td><td>female-authors</td></tr><tr><td>Shirley Jackson, Jonathan Lethem</td><td>We Have Always Lived in the Castle</td><td>4.05</td><td>11644</td><td>female-authors</td></tr><tr><td>Shonda Rhimes</td><td>Year of Yes: How to Dance It Out, Stand In the Sun and Be Your Own Person</td><td>4.05</td><td>11644</td><td>female-authors</td></tr><tr><td>Tamora Pierce</td><td>Cold Fire (The Circle Opens, #3)</td><td>4.05</td><td>11644</td><td>female-authors</td></tr><tr><td>Tana French</td><td>The Likeness (Dublin Murder Squad, #2)</td><td>4.05</td><td>11644</td><td>female-authors</td></tr><tr><td>Ursula K. Le Guin, Lech Jęczmyk</td><td>The Left Hand of Darkness</td><td>4.05</td><td>11644</td><td>female-authors</td></tr><tr><td>Betty Mahmoody</td><td>Not Without My Daughter</td><td>4.04</td><td>11644</td><td>female-authors</td></tr><tr><td>Caitlin Doughty</td><td>Smoke Gets in Your Eyes: And Other Lessons from the Crematory</td><td>4.04</td><td>11644</td><td>female-authors</td></tr><tr><td>Caroline Knapp</td><td>Drinking: A Love Story</td><td>4.04</td><td>11644</td><td>female-authors</td></tr><tr><td>Cate Tiernan</td><td>Book of Shadows (Sweep, #1)</td><td>4.04</td><td>11644</td><td>female-authors</td></tr><tr><td>Geraldine Brooks</td><td>Nine Parts of Desire: The Hidden World of Islamic Women</td><td>4.04</td><td>11644</td><td>female-authors</td></tr><tr><td>Hope Jahren</td><td>Lab Girl</td><td>4.04</td><td>11644</td><td>female-authors</td></tr><tr><td>Jen Sincero</td><td>You Are a Badass: How to Stop Doubting Your Greatness and Start Living an Awesome Life</td><td>4.04</td><td>11644</td><td>female-authors</td></tr><tr><td>L.M. Montgomery</td><td>Anne of Windy Poplars (Anne of Green Gables, #4)</td><td>4.04</td><td>11644</td><td>female-authors</td></tr><tr><td>Laurie R. King</td><td>A Monstrous Regiment of Women (Mary Russell, #2)</td><td>4.04</td><td>11644</td><td>female-authors</td></tr><tr><td>Louisa May Alcott</td><td>Little Women (Little Women, #1)</td><td>4.04</td><td>11644</td><td>female-authors</td></tr><tr><td>Martha Stewart, Victor Schrager</td><td>Martha Stewart's Cookies: The Very Best Treats to Bake and to Share</td><td>4.04</td><td>11644</td><td>female-authors</td></tr><tr><td>N.K. Jemisin</td><td>The Broken Kingdoms (Inheritance, #2)</td><td>4.04</td><td>11644</td><td>female-authors</td></tr><tr><td>Agatha Christie</td><td>Murder at the Vicarage (Miss Marple, #1)</td><td>4.03</td><td>11644</td><td>female-authors</td></tr><tr><td>Ann Leckie</td><td>Ancillary Sword (Imperial Radch, #2)</td><td>4.03</td><td>11644</td><td>female-authors</td></tr><tr><td>Chelsea Cain</td><td>Evil at Heart (Archie Sheridan &amp; Gretchen Lowell, #3)</td><td>4.03</td><td>11644</td><td>female-authors</td></tr><tr><td>Emma Donoghue</td><td>Room</td><td>4.03</td><td>11644</td><td>female-authors</td></tr><tr><td>Kay Redfield Jamison</td><td>An Unquiet Mind: A Memoir of Moods and Madness</td><td>4.03</td><td>11644</td><td>female-authors</td></tr><tr><td>Marion Zimmer Bradley, Diana L. Paxson</td><td>Priestess of Avalon (Avalon, #4)</td><td>4.03</td><td>11644</td><td>female-authors</td></tr><tr><td>Pat Barker</td><td>Regeneration (Regeneration, #1)</td><td>4.03</td><td>11644</td><td>female-authors</td></tr><tr><td>Truddi Chase, Robert A. Phillips Jr.</td><td>When Rabbit Howls</td><td>4.03</td><td>11644</td><td>female-authors</td></tr><tr><td>Angela Carter</td><td>The Bloody Chamber and Other Stories</td><td>4.02</td><td>11644</td><td>female-authors</td></tr><tr><td>Barbara Kingsolver</td><td>The Poisonwood Bible</td><td>4.02</td><td>11644</td><td>female-authors</td></tr><tr><td>Cecelia Ahern</td><td>How to Fall in Love</td><td>4.02</td><td>11644</td><td>female-authors</td></tr><tr><td>Charlotte Perkins Gilman</td><td>The Yellow Wallpaper and Other Stories</td><td>4.02</td><td>11644</td><td>female-authors</td></tr><tr><td>Emily St. John Mandel</td><td>Station Eleven</td><td>4.02</td><td>11644</td><td>female-authors</td></tr><tr><td>Fannie Flagg</td><td>Standing in the Rainbow (Elmwood Springs, #2)</td><td>4.02</td><td>11644</td><td>female-authors</td></tr><tr><td>Louise Erdrich</td><td>The Master Butchers Singing Club</td><td>4.02</td><td>11644</td><td>female-authors</td></tr><tr><td>Sarah Waters</td><td>Fingersmith</td><td>4.02</td><td>11644</td><td>female-authors</td></tr><tr><td>Siri Hustvedt</td><td>What I Loved</td><td>4.02</td><td>11644</td><td>female-authors</td></tr><tr><td>Hannah Kent</td><td>Burial Rites</td><td>4.01</td><td>11644</td><td>female-authors</td></tr><tr><td>Isabel Allende, Margaret Sayers Peden</td><td>Island Beneath the Sea</td><td>4.01</td><td>11644</td><td>female-authors</td></tr><tr><td>Louise Rennison</td><td>Dancing in My Nuddy-Pants (Confessions of Georgia Nicolson, #4)</td><td>4.01</td><td>11644</td><td>female-authors</td></tr><tr><td>Rosalind Miles</td><td>I, Elizabeth</td><td>4.01</td><td>11644</td><td>female-authors</td></tr><tr><td>Sue Monk Kidd</td><td>The Secret Life of Bees</td><td>4.01</td><td>11644</td><td>female-authors</td></tr><tr><td>Tess Gerritsen</td><td>The Mephisto Club (Rizzoli &amp; Isles, #6)</td><td>4.01</td><td>11644</td><td>female-authors</td></tr><tr><td>Toni Morrison</td><td>Song of Solomon</td><td>4.01</td><td>11644</td><td>female-authors</td></tr><tr><td>V.C. Andrews</td><td>Heaven (Casteel, #1)</td><td>4.01</td><td>11644</td><td>female-authors</td></tr><tr><td>Deborah Blum</td><td>The Poisoner's Handbook: Murder and the Birth of Forensic Medicine in Jazz Age New York</td><td>4</td><td>11644</td><td>female-authors</td></tr><tr><td>Dodie Smith</td><td>I Capture the Castle</td><td>4</td><td>11644</td><td>female-authors</td></tr><tr><td>L.M. Montgomery</td><td>Rainbow Valley (Anne of Green Gables, #7)</td><td>4</td><td>11644</td><td>female-authors</td></tr><tr><td>Margaret Atwood</td><td>Oryx and Crake (MaddAddam, #1)</td><td>4</td><td>11644</td><td>female-authors</td></tr><tr><td>Sarah Waters</td><td>Tipping the Velvet</td><td>4</td><td>11644</td><td>female-authors</td></tr><tr><td>Twyla Tharp</td><td>The Creative Habit: Learn It and Use It for Life</td><td>4</td><td>11644</td><td>female-authors</td></tr><tr><td>Ursula K. Le Guin</td><td>Tales from Earthsea (Earthsea Cycle, #5)</td><td>4</td><td>11644</td><td>female-authors</td></tr><tr><td>Annie Proulx</td><td>Close Range</td><td>3.99</td><td>11644</td><td>female-authors</td></tr><tr><td>Emily M. Danforth</td><td>The Miseducation of Cameron Post</td><td>3.99</td><td>11644</td><td>female-authors</td></tr><tr><td>Enid Blyton</td><td>Five Go Adventuring Again (Famous Five, #2)</td><td>3.99</td><td>11644</td><td>female-authors</td></tr><tr><td>Giulia Enders, Jill Enders</td><td>Gut: The Inside Story of Our Body’s Most Underrated Organ</td><td>3.99</td><td>11644</td><td>female-authors</td></tr><tr><td>Jane Austen, Fiona Stafford</td><td>Emma</td><td>3.99</td><td>11644</td><td>female-authors</td></tr><tr><td>Maggie Nelson</td><td>The Argonauts</td><td>3.99</td><td>11644</td><td>female-authors</td></tr><tr><td>Tamora Pierce</td><td>Sandry's Book (Circle of Magic, #1)</td><td>3.99</td><td>11644</td><td>female-authors</td></tr><tr><td>Toni Morrison</td><td>The Bluest Eye</td><td>3.99</td><td>11644</td><td>female-authors</td></tr><tr><td>Ursula K. Le Guin</td><td>A Wizard of Earthsea (Earthsea Cycle, #1)</td><td>3.99</td><td>11644</td><td>female-authors</td></tr><tr><td>A.N. Roquelaure, Anne Rice</td><td>Sleeping Beauty Box Set</td><td>3.98</td><td>11644</td><td>female-authors</td></tr><tr><td>Agatha Christie, Ροζίτα Σώκου</td><td>The Mysterious Affair at Styles (Hercule Poirot, #1)</td><td>3.98</td><td>11644</td><td>female-authors</td></tr><tr><td>Alice Munro</td><td>Runaway</td><td>3.98</td><td>11644</td><td>female-authors</td></tr><tr><td>Amy Tan</td><td>The Bonesetter's Daughter</td><td>3.98</td><td>11644</td><td>female-authors</td></tr><tr><td>Amy Tan</td><td>The Hundred Secret Senses</td><td>3.98</td><td>11644</td><td>female-authors</td></tr><tr><td>Amy Tan</td><td>The Kitchen God's Wife</td><td>3.98</td><td>11644</td><td>female-authors</td></tr><tr><td>Barbara Kingsolver</td><td>Prodigal Summer</td><td>3.98</td><td>11644</td><td>female-authors</td></tr><tr><td>Julie Anne Peters</td><td>Keeping You a Secret</td><td>3.98</td><td>11644</td><td>female-authors</td></tr><tr><td>Katherine Dunn</td><td>Geek Love</td><td>3.98</td><td>11644</td><td>female-authors</td></tr><tr><td>Louise Erdrich</td><td>Love Medicine</td><td>3.98</td><td>11644</td><td>female-authors</td></tr><tr><td>Margaret Atwood</td><td>MaddAddam (MaddAddam, #3)</td><td>3.98</td><td>11644</td><td>female-authors</td></tr><tr><td>Margaret Peterson Haddix</td><td>Running Out of Time</td><td>3.98</td><td>11644</td><td>female-authors</td></tr><tr><td>Ruth Ozeki</td><td>A Tale for the Time Being</td><td>3.98</td><td>11644</td><td>female-authors</td></tr><tr><td>Sara Nović</td><td>Girl at War</td><td>3.98</td><td>11644</td><td>female-authors</td></tr><tr><td>Sarah Vowell</td><td>Assassination Vacation</td><td>3.98</td><td>11644</td><td>female-authors</td></tr><tr><td>Tamora Pierce</td><td>Magic Steps (The Circle Opens, #1)</td><td>3.98</td><td>11644</td><td>female-authors</td></tr><tr><td>Thrity Umrigar</td><td>The Space Between Us</td><td>3.98</td><td>11644</td><td>female-authors</td></tr><tr><td>Amanda Palmer</td><td>The Art of Asking; or, How I Learned to Stop Worrying and Let People Help</td><td>3.97</td><td>11644</td><td>female-authors</td></tr><tr><td>Ann Leckie</td><td>Ancillary Justice (Imperial Radch #1)</td><td>3.97</td><td>11644</td><td>female-authors</td></tr><tr><td>Anne Rice</td><td>Interview with the Vampire (The Vampire Chronicles, #1)</td><td>3.97</td><td>11644</td><td>female-authors</td></tr><tr><td>Carson McCullers</td><td>The Heart is a Lonely Hunter</td><td>3.97</td><td>11644</td><td>female-authors</td></tr><tr><td>Catherynne M. Valente, Ana Juan</td><td>The Girl Who Circumnavigated Fairyland in a Ship of Her Own Making (Fairyland, #1)</td><td>3.97</td><td>11644</td><td>female-authors</td></tr><tr><td>Johanna Spyri, Angelo  Rinaldi, Beverly Cleary</td><td>Heidi</td><td>3.97</td><td>11644</td><td>female-authors</td></tr><tr><td>Katherine Boo</td><td>Behind the Beautiful Forevers: Life, Death, and Hope in a Mumbai Undercity</td><td>3.97</td><td>11644</td><td>female-authors</td></tr><tr><td>Louise Rennison</td><td>Knocked Out by My Nunga-Nungas (Confessions of Georgia Nicolson, #3)</td><td>3.97</td><td>11644</td><td>female-authors</td></tr><tr><td>Margaret Atwood, Brigitte Walitzek</td><td>Alias Grace</td><td>3.97</td><td>11644</td><td>female-authors</td></tr><tr><td>Nancy Garden</td><td>Annie on My Mind</td><td>3.97</td><td>11644</td><td>female-authors</td></tr><tr><td>Pearl S. Buck</td><td>The Good Earth (House of Earth, #1)</td><td>3.97</td><td>11644</td><td>female-authors</td></tr><tr><td>Tana French</td><td>Faithful Place (Dublin Murder Squad, #3)</td><td>3.97</td><td>11644</td><td>female-authors</td></tr><tr><td>Agatha Christie</td><td>A Murder Is Announced (Miss Marple, #5)</td><td>3.96</td><td>11644</td><td>female-authors</td></tr><tr><td>Alexandra Fuller</td><td>Don't Let's Go to the Dogs Tonight</td><td>3.96</td><td>11644</td><td>female-authors</td></tr><tr><td>Isabel Allende</td><td>The Stories of Eva Luna</td><td>3.96</td><td>11644</td><td>female-authors</td></tr><tr><td>Jean Kwok</td><td>Girl in Translation</td><td>3.96</td><td>11644</td><td>female-authors</td></tr><tr><td>Jhumpa Lahiri</td><td>The Namesake</td><td>3.96</td><td>11644</td><td>female-authors</td></tr><tr><td>Liz Moore</td><td>Heft</td><td>3.96</td><td>11644</td><td>female-authors</td></tr><tr><td>Louise Fitzhugh</td><td>Harriet the Spy (Harriet the Spy #1)</td><td>3.96</td><td>11644</td><td>female-authors</td></tr><tr><td>Louise Rennison</td><td>On the Bright Side, I'm Now the Girlfriend of a Sex God (Confessions of Georgia Nicolson, #2)</td><td>3.96</td><td>11644</td><td>female-authors</td></tr><tr><td>Masami Tsuda, Darcy Lockman, Jack Niida</td><td>Kare Kano: His and Her Circumstances, Vol. 1</td><td>3.96</td><td>5129</td><td>books-by-women</td></tr><tr><td>Nigella Lawson</td><td>Nigella Express: Good Food, Fast</td><td>3.96</td><td>11644</td><td>female-authors</td></tr><tr><td>Rene Denfeld</td><td>The Enchanted</td><td>3.96</td><td>11644</td><td>female-authors</td></tr><tr><td>Sarah Ban Breathnach</td><td>Simple Abundance:  A Daybook of Comfort and Joy</td><td>3.96</td><td>11644</td><td>female-authors</td></tr><tr><td>Sarah Hepola</td><td>Blackout: Remembering the Things I Drank to Forget</td><td>3.96</td><td>11644</td><td>female-authors</td></tr><tr><td>V.C. Andrews</td><td>Dark Angel (Casteel, #2)</td><td>3.96</td><td>11644</td><td>female-authors</td></tr><tr><td>Anne Michaels</td><td>Fugitive Pieces</td><td>3.95</td><td>11644</td><td>female-authors</td></tr><tr><td>Ann-Marie MacDonald</td><td>Fall on Your Knees</td><td>3.95</td><td>11644</td><td>female-authors</td></tr><tr><td>Audrey Niffenegger</td><td>The Time Traveler's Wife</td><td>3.95</td><td>11644</td><td>female-authors</td></tr><tr><td>Eowyn Ivey</td><td>The Snow Child</td><td>3.95</td><td>11644</td><td>female-authors</td></tr><tr><td>Heather O'Neill</td><td>Lullabies for Little Criminals</td><td>3.95</td><td>11644</td><td>female-authors</td></tr><tr><td>Isabel Allende, Margaret Sayers Peden</td><td>Eva Luna</td><td>3.95</td><td>11644</td><td>female-authors</td></tr><tr><td>Joanne Harris</td><td>Chocolat (Chocolat, #1)</td><td>3.95</td><td>11644</td><td>female-authors</td></tr><tr><td>Margaret Atwood</td><td>The Blind Assassin</td><td>3.95</td><td>11644</td><td>female-authors</td></tr><tr><td>Mollie Katzen</td><td>The Moosewood Cookbook: Recipes from Moosewood Restaurant, Ithaca, New York</td><td>3.95</td><td>11644</td><td>female-authors</td></tr><tr><td>Newt Scamander, J.K. Rowling, Albus Dumbledore</td><td>Fantastic Beasts and Where to Find Them</td><td>3.95</td><td>11644</td><td>female-authors</td></tr><tr><td>Pamela Druckerman, Abby Craden</td><td>Bringing Up Bébé: One American Mother Discovers the Wisdom of French Parenting</td><td>3.95</td><td>11644</td><td>female-authors</td></tr><tr><td>Agatha Christie</td><td>Evil Under the Sun (Hercule Poirot, #23)</td><td>3.94</td><td>11644</td><td>female-authors</td></tr><tr><td>Alison Weir</td><td>Innocent Traitor</td><td>3.94</td><td>11644</td><td>female-authors</td></tr><tr><td>Ann M. Martin</td><td>Kristy's Great Idea (The Baby-Sitters Club, #1)</td><td>3.94</td><td>11644</td><td>female-authors</td></tr><tr><td>Anna Sewell</td><td>Black Beauty</td><td>3.94</td><td>11644</td><td>female-authors</td></tr><tr><td>Barbara Kingsolver</td><td>The Bean Trees (Greer Family, #1)</td><td>3.94</td><td>11644</td><td>female-authors</td></tr><tr><td>Edith Wharton, Nina Bawden</td><td>The House of Mirth</td><td>3.94</td><td>11644</td><td>female-authors</td></tr><tr><td>Gail Tsukiyama</td><td>Women of the Silk</td><td>3.94</td><td>11644</td><td>female-authors</td></tr><tr><td>Jeanette Winterson</td><td>Why Be Happy When You Could Be Normal?</td><td>3.94</td><td>11644</td><td>female-authors</td></tr><tr><td>Jill Murphy</td><td>The Worst Witch (Worst Witch, #1)</td><td>3.94</td><td>11644</td><td>female-authors</td></tr><tr><td>Judy Blume</td><td>Otherwise Known as Sheila the Great (Fudge #2)</td><td>3.94</td><td>11644</td><td>female-authors</td></tr><tr><td>Laura Esquivel, Thomas  Christensen, Carol Christensen</td><td>Like Water for Chocolate</td><td>3.94</td><td>11644</td><td>female-authors</td></tr><tr><td>Melanie Rawn</td><td>Dragon Prince (Dragon Prince, #1)</td><td>3.94</td><td>11644</td><td>female-authors</td></tr><tr><td>Noelle Stevenson, Grace Ellis, Shannon Waters, Shannon Watters, Brooke A. Allen, Faith Hicks, Kat Leyh, Brooke Allen, Carolyn Nowak, Various, Carey Pietsch</td><td>Lumberjanes, Vol. 1: Beware the Kitten Holy</td><td>3.94</td><td>11644</td><td>female-authors</td></tr><tr><td>P.D. James</td><td>Cover Her Face (Adam Dalgliesh #1)</td><td>3.94</td><td>11644</td><td>female-authors</td></tr><tr><td>Patti Smith</td><td>M Train</td><td>3.94</td><td>11644</td><td>female-authors</td></tr><tr><td>Rachel Carson, Linda Lear, Edward O. Wilson</td><td>Silent Spring</td><td>3.94</td><td>11644</td><td>female-authors</td></tr><tr><td>Terry McMillan</td><td>Waiting to Exhale (Waiting To Exhale #1)</td><td>3.94</td><td>11644</td><td>female-authors</td></tr><tr><td>Tina Fey</td><td>Bossypants</td><td>3.94</td><td>11644</td><td>female-authors</td></tr><tr><td>Yōko Ogawa, Stephen Snyder</td><td>The Housekeeper and the Professor</td><td>3.94</td><td>11644</td><td>female-authors</td></tr><tr><td>Annie Proulx</td><td>Brokeback Mountain</td><td>3.93</td><td>11644</td><td>female-authors</td></tr><tr><td>Edith Wharton, Maureen Howard</td><td>The Age of Innocence</td><td>3.93</td><td>11644</td><td>female-authors</td></tr><tr><td>George Eliot, Michel Faber</td><td>Middlemarch</td><td>3.93</td><td>11644</td><td>female-authors</td></tr><tr><td>Isabel Allende, Margaret Sayers Peden</td><td>Portrait in Sepia</td><td>3.93</td><td>11644</td><td>female-authors</td></tr><tr><td>Janet Fitch</td><td>White Oleander</td><td>3.93</td><td>11644</td><td>female-authors</td></tr><tr><td>Jenny  Lawson</td><td>Furiously Happy: A Funny Book About Horrible Things</td><td>3.93</td><td>11644</td><td>female-authors</td></tr><tr><td>Margaret Atwood</td><td>Stone Mattress: Nine Tales</td><td>3.93</td><td>11644</td><td>female-authors</td></tr><tr><td>Marian Keyes</td><td>Rachel's Holiday (Walsh Family, #2)</td><td>3.93</td><td>11644</td><td>female-authors</td></tr><tr><td>Mary Roach</td><td>Packing for Mars: The Curious Science of Life in the Void</td><td>3.93</td><td>11644</td><td>female-authors</td></tr><tr><td>Natsuo Kirino, Stephen Snyder</td><td>Out</td><td>3.93</td><td>11644</td><td>female-authors</td></tr><tr><td>Patricia Highsmith</td><td>The Price of Salt</td><td>3.93</td><td>11644</td><td>female-authors</td></tr><tr><td>Patricia Highsmith</td><td>The Talented Mr. Ripley (Ripley, #1)</td><td>3.93</td><td>11644</td><td>female-authors</td></tr><tr><td>Phyllis T. Smith</td><td>I Am Livia</td><td>3.93</td><td>11644</td><td>female-authors</td></tr><tr><td>Rebecca Solnit</td><td>Men Explain Things to Me</td><td>3.93</td><td>11644</td><td>female-authors</td></tr><tr><td>Rebecca Solnit</td><td>Men Explain Things to Me</td><td>3.93</td><td>11662</td><td>female-writers</td></tr><tr><td>Ruth Ozeki</td><td>My Year of Meats</td><td>3.93</td><td>11644</td><td>female-authors</td></tr><tr><td>Sara Douglass</td><td>The Wayfarer Redemption (Wayfarer Redemption, #1)</td><td>3.93</td><td>11644</td><td>female-authors</td></tr><tr><td>Agatha Christie</td><td>4:50 from Paddington (Miss Marple, #8)</td><td>3.92</td><td>11644</td><td>female-authors</td></tr><tr><td>Ann Patchett</td><td>Bel Canto</td><td>3.92</td><td>11644</td><td>female-authors</td></tr><tr><td>Chelsea Cain</td><td>Heartsick (Archie Sheridan &amp; Gretchen Lowell, #1)</td><td>3.92</td><td>11644</td><td>female-authors</td></tr><tr><td>Cynthia Voigt</td><td>Homecoming (Tillerman Cycle, #1)</td><td>3.92</td><td>11644</td><td>female-authors</td></tr><tr><td>Daphne du Maurier</td><td>My Cousin Rachel</td><td>3.92</td><td>11644</td><td>female-authors</td></tr><tr><td>Emily Carroll</td><td>Through the Woods</td><td>3.92</td><td>11644</td><td>female-authors</td></tr><tr><td>Gillian Flynn</td><td>Sharp Objects</td><td>3.92</td><td>11644</td><td>female-authors</td></tr><tr><td>Julie Maroh</td><td>Le bleu est une couleur chaude</td><td>3.92</td><td>11644</td><td>female-authors</td></tr><tr><td>Kate Atkinson</td><td>A God in Ruins</td><td>3.92</td><td>11644</td><td>female-authors</td></tr><tr><td>Louisa May Alcott</td><td>Good Wives (Little Women, #1.5)</td><td>3.92</td><td>11644</td><td>female-authors</td></tr><tr><td>Margaret Atwood</td><td>Cat's Eye</td><td>3.92</td><td>11644</td><td>female-authors</td></tr><tr><td>Mary Karr</td><td>The Liars' Club</td><td>3.92</td><td>11644</td><td>female-authors</td></tr><tr><td>Mary Roach</td><td>Gulp: Adventures on the Alimentary Canal</td><td>3.92</td><td>11644</td><td>female-authors</td></tr><tr><td>Mineko Iwasaki, Rande Brown</td><td>Geisha, a Life</td><td>3.92</td><td>11644</td><td>female-authors</td></tr><tr><td>Stella Gibbons, Lynne Truss, Roz Chast</td><td>Cold Comfort Farm</td><td>3.92</td><td>11644</td><td>female-authors</td></tr><tr><td>Anne Brontë, Stevie Davies</td><td>The Tenant of Wildfell Hall</td><td>3.91</td><td>11644</td><td>female-authors</td></tr><tr><td>Arundhati Roy</td><td>The God of Small Things</td><td>3.91</td><td>11644</td><td>female-authors</td></tr><tr><td>Danielle Steel</td><td>The Gift</td><td>3.91</td><td>11644</td><td>female-authors</td></tr><tr><td>Dorothy L. Sayers</td><td>Whose Body?  (Lord Peter Wimsey, #1)</td><td>3.91</td><td>11644</td><td>female-authors</td></tr><tr><td>Elizabeth Berg</td><td>What We Keep </td><td>3.91</td><td>11644</td><td>female-authors</td></tr><tr><td>Jodi Picoult</td><td>Change of Heart</td><td>3.91</td><td>11644</td><td>female-authors</td></tr><tr><td>Louise Erdrich</td><td>The Round House</td><td>3.91</td><td>11644</td><td>female-authors</td></tr><tr><td>Nicole Krauss</td><td>The History of Love</td><td>3.91</td><td>11644</td><td>female-authors</td></tr><tr><td>Roxane Gay</td><td>Bad Feminist</td><td>3.91</td><td>11644</td><td>female-authors</td></tr><tr><td>Toni Morrison</td><td>Tar Baby</td><td>3.91</td><td>11644</td><td>female-authors</td></tr><tr><td>Agatha Christie</td><td>Hercule Poirot's Christmas (Hercule Poirot, #20)</td><td>3.9</td><td>11644</td><td>female-authors</td></tr><tr><td>Amy Tan</td><td>The Joy Luck Club</td><td>3.9</td><td>11644</td><td>female-authors</td></tr><tr><td>Iris Murdoch, Mary Kinzie</td><td>The Sea, the Sea</td><td>3.9</td><td>11662</td><td>female-writers</td></tr><tr><td>Iris Murdoch, Mary Kinzie</td><td>The Sea, the Sea</td><td>3.9</td><td>11644</td><td>female-authors</td></tr><tr><td>Isabel Allende, Margaret Sayers Peden</td><td>Inés of My Soul</td><td>3.9</td><td>11644</td><td>female-authors</td></tr><tr><td>Judith Guest</td><td>Ordinary People</td><td>3.9</td><td>11644</td><td>female-authors</td></tr><tr><td>Octavia E. Butler</td><td>Fledgling</td><td>3.9</td><td>11644</td><td>female-authors</td></tr><tr><td>Octavia E. Butler</td><td>Fledgling</td><td>3.9</td><td>5129</td><td>books-by-women</td></tr><tr><td>Sarah Vowell, Katherine Streeter</td><td>The Partly Cloudy Patriot</td><td>3.9</td><td>11644</td><td>female-authors</td></tr><tr><td>Susanna Kaysen</td><td>Girl, Interrupted</td><td>3.9</td><td>11644</td><td>female-authors</td></tr><tr><td>Agatha Christie</td><td>Peril at End House (Hercule Poirot, #8)</td><td>3.89</td><td>11644</td><td>female-authors</td></tr><tr><td>Agatha Christie</td><td>The Mirror Crack'd from Side to Side (Miss Marple, #9)</td><td>3.89</td><td>11644</td><td>female-authors</td></tr><tr><td>Isabel Allende, Margaret Sayers Peden</td><td>Daughter of Fortune</td><td>3.89</td><td>11644</td><td>female-authors</td></tr><tr><td>Judy Blume</td><td>Are You There God? It's Me, Margaret</td><td>3.89</td><td>11644</td><td>female-authors</td></tr><tr><td>Liz Kessler, Sarah Gibb</td><td>The Tail of Emily Windsnap (Emily Windsnap, #1)</td><td>3.89</td><td>11644</td><td>female-authors</td></tr><tr><td>Louise Erdrich</td><td>The Beet Queen</td><td>3.89</td><td>5129</td><td>books-by-women</td></tr><tr><td>Louise Erdrich</td><td>The Beet Queen</td><td>3.89</td><td>11644</td><td>female-authors</td></tr><tr><td>Lucy Knisley</td><td>Relish: My Life in the Kitchen</td><td>3.89</td><td>11644</td><td>female-authors</td></tr><tr><td>Mindy Kaling</td><td>Why Not Me?</td><td>3.89</td><td>11644</td><td>female-authors</td></tr><tr><td>Naomi Wolf</td><td>The Beauty Myth</td><td>3.89</td><td>11644</td><td>female-authors</td></tr><tr><td>S.E. Hinton</td><td>That Was Then, This Is Now</td><td>3.89</td><td>11644</td><td>female-authors</td></tr><tr><td>Shirley Jackson, Laura   Miller</td><td>The Haunting of Hill House</td><td>3.89</td><td>11644</td><td>female-authors</td></tr><tr><td>Ursula K. Le Guin</td><td>Tehanu (Earthsea Cycle, #4)</td><td>3.89</td><td>11644</td><td>female-authors</td></tr><tr><td>A.S. Byatt</td><td>Possession</td><td>3.88</td><td>11644</td><td>female-authors</td></tr><tr><td>Carrie Brownstein</td><td>Hunger Makes Me a Modern Girl</td><td>3.88</td><td>11644</td><td>female-authors</td></tr><tr><td>Elena Ferrante, Ann Goldstein</td><td>My Brilliant Friend (The Neapolitan Novels #1)</td><td>3.88</td><td>11644</td><td>female-authors</td></tr><tr><td>Flannery O'Connor</td><td>Wise Blood</td><td>3.88</td><td>11644</td><td>female-authors</td></tr><tr><td>Frida Kahlo, Carlos Fuentes, Sarah M. Lowe</td><td>The Diary of Frida Kahlo: An Intimate Self-Portrait</td><td>3.88</td><td>11644</td><td>female-authors</td></tr><tr><td>Inga Muscio, Betty Dodson</td><td>Cunt: A Declaration of Independence</td><td>3.88</td><td>11644</td><td>female-authors</td></tr><tr><td>Inga Muscio, Betty Dodson</td><td>Cunt: A Declaration of Independence</td><td>3.88</td><td>5129</td><td>books-by-women</td></tr><tr><td>Jean M. Auel</td><td>The Mammoth Hunters (Earth's Children, #3)</td><td>3.88</td><td>11644</td><td>female-authors</td></tr><tr><td>Miranda July, Brigitte Sire</td><td>It Chooses You</td><td>3.88</td><td>5129</td><td>books-by-women</td></tr><tr><td>Rita Mae Brown</td><td>Rubyfruit Jungle</td><td>3.88</td><td>11644</td><td>female-authors</td></tr><tr><td>Vera Brosgol</td><td>Anya's Ghost</td><td>3.88</td><td>11644</td><td>female-authors</td></tr><tr><td>Willa Cather</td><td>Death Comes for the Archbishop</td><td>3.88</td><td>11644</td><td>female-authors</td></tr><tr><td>Anchee Min</td><td>Empress Orchid (Empress Orchid, #1)</td><td>3.87</td><td>11644</td><td>female-authors</td></tr><tr><td>Donna Tartt</td><td>The Goldfinch</td><td>3.87</td><td>11644</td><td>female-authors</td></tr><tr><td>Georgia Byng</td><td>Molly Moon's Incredible Book of Hypnotism (Molly Moon, #1)</td><td>3.87</td><td>11644</td><td>female-authors</td></tr><tr><td>Jacqueline Woodson</td><td>Another Brooklyn</td><td>3.87</td><td>11644</td><td>female-authors</td></tr><tr><td>Sheri  Fink</td><td>Five Days at Memorial: Life and Death in a Storm-Ravaged Hospital</td><td>3.87</td><td>11644</td><td>female-authors</td></tr><tr><td>V.C. Andrews</td><td>Dawn (Cutler, #1)</td><td>3.87</td><td>11644</td><td>female-authors</td></tr><tr><td>Zora Neale Hurston</td><td>Their Eyes Were Watching God</td><td>3.87</td><td>11644</td><td>female-authors</td></tr><tr><td>Anne Rice</td><td>The Queen of the Damned (The Vampire Chronicles, #3)</td><td>3.86</td><td>11644</td><td>female-authors</td></tr><tr><td>Edwidge Danticat</td><td>Breath, Eyes, Memory</td><td>3.86</td><td>11644</td><td>female-authors</td></tr><tr><td>Eve Ensler, Gloria Steinem</td><td>The Vagina Monologues</td><td>3.86</td><td>11662</td><td>female-writers</td></tr><tr><td>Eve Ensler, Gloria Steinem</td><td>The Vagina Monologues</td><td>3.86</td><td>11644</td><td>female-authors</td></tr><tr><td>Jill Bolte Taylor</td><td>My Stroke of Insight: A Brain Scientist's Personal Journey</td><td>3.86</td><td>11644</td><td>female-authors</td></tr><tr><td>Joan Didion</td><td>The Year of Magical Thinking</td><td>3.86</td><td>11644</td><td>female-authors</td></tr><tr><td>Joan Didion, David Thomson</td><td>Play It as It Lays</td><td>3.86</td><td>11662</td><td>female-writers</td></tr><tr><td>Joan Didion, David Thomson</td><td>Play It as It Lays</td><td>3.86</td><td>11644</td><td>female-authors</td></tr><tr><td>Louise Erdrich</td><td>LaRose</td><td>3.86</td><td>11644</td><td>female-authors</td></tr><tr><td>Madeleine L'Engle</td><td>An Acceptable Time (A Wrinkle in Time Quintet, #5)</td><td>3.86</td><td>11644</td><td>female-authors</td></tr><tr><td>Mary Higgins Clark</td><td>Pretend You Don't See Her</td><td>3.86</td><td>11644</td><td>female-authors</td></tr><tr><td>Naomi Klein</td><td>No Logo</td><td>3.86</td><td>11644</td><td>female-authors</td></tr><tr><td>Sarah Vowell</td><td>Take the Cannoli</td><td>3.86</td><td>11644</td><td>female-authors</td></tr><tr><td>Susan Vreeland</td><td>The Passion of Artemisia</td><td>3.86</td><td>11644</td><td>female-authors</td></tr><tr><td>Toni Morrison</td><td>Sula</td><td>3.86</td><td>11644</td><td>female-authors</td></tr><tr><td>Virginia Woolf</td><td>Orlando</td><td>3.86</td><td>11662</td><td>female-writers</td></tr><tr><td>Virginia Woolf</td><td>Orlando</td><td>3.86</td><td>11644</td><td>female-authors</td></tr><tr><td>Agatha Christie</td><td>The Body in the Library (Miss Marple, #3)</td><td>3.85</td><td>11644</td><td>female-authors</td></tr><tr><td>Ayn Rand, Leonard Peikoff</td><td>The Fountainhead</td><td>3.85</td><td>11644</td><td>female-authors</td></tr><tr><td>Betty Friedan, Anna Quindlen</td><td>The Feminine Mystique</td><td>3.85</td><td>11644</td><td>female-authors</td></tr><tr><td>Cristina Henriquez</td><td>The Book of Unknown Americans</td><td>3.85</td><td>11644</td><td>female-authors</td></tr><tr><td>Daphne du Maurier</td><td>Jamaica Inn</td><td>3.85</td><td>11644</td><td>female-authors</td></tr><tr><td>Elizabeth Gaskell</td><td>Cranford</td><td>3.85</td><td>11644</td><td>female-authors</td></tr><tr><td>Hannah  Green, Joanne Greenberg</td><td>I Never Promised You a Rose Garden</td><td>3.85</td><td>11644</td><td>female-authors</td></tr><tr><td>Hilary Mantel</td><td>Wolf Hall (Thomas Cromwell, #1)</td><td>3.85</td><td>11644</td><td>female-authors</td></tr><tr><td>Melina Marchetta</td><td>Looking for Alibrandi</td><td>3.85</td><td>11644</td><td>female-authors</td></tr><tr><td>Susan Cooper</td><td>Over Sea, Under Stone (The Dark Is Rising, #1)</td><td>3.85</td><td>11644</td><td>female-authors</td></tr><tr><td>Susanna Clarke, Charles Vess</td><td>The Ladies of Grace Adieu and Other Stories</td><td>3.85</td><td>11644</td><td>female-authors</td></tr><tr><td>Tracy Chevalier</td><td>Girl with a Pearl Earring</td><td>3.85</td><td>11644</td><td>female-authors</td></tr><tr><td>Agatha Christie</td><td>After the Funeral (Hercule Poirot, #29)</td><td>3.84</td><td>11644</td><td>female-authors</td></tr><tr><td>Agatha Christie</td><td>Nemesis (Miss Marple, #12)</td><td>3.84</td><td>11644</td><td>female-authors</td></tr><tr><td>Agatha Christie</td><td>The Moving Finger (Miss Marple, #4)</td><td>3.84</td><td>11644</td><td>female-authors</td></tr><tr><td>Ann Patchett</td><td>Commonwealth</td><td>3.84</td><td>11644</td><td>female-authors</td></tr><tr><td>Carol Shields</td><td>The Stone Diaries</td><td>3.84</td><td>11644</td><td>female-authors</td></tr><tr><td>Fannie Flagg</td><td>Welcome to the World, Baby Girl! (Elmwood Springs, #1)</td><td>3.84</td><td>11644</td><td>female-authors</td></tr><tr><td>G. Willow Wilson</td><td>Alif the Unseen</td><td>3.84</td><td>11644</td><td>female-authors</td></tr><tr><td>Jane Austen, Kathryn Sutherland, Tony Tanner, Claire Lamont</td><td>Mansfield Park</td><td>3.84</td><td>11644</td><td>female-authors</td></tr><tr><td>Lilian Jackson Braun</td><td>The Cat Who Could Read Backwards (Cat Who..., #1)</td><td>3.84</td><td>11644</td><td>female-authors</td></tr><tr><td>Lily King</td><td>Euphoria</td><td>3.84</td><td>11644</td><td>female-authors</td></tr><tr><td>Marilynne Robinson</td><td>Gilead (Gilead, #1)</td><td>3.84</td><td>11644</td><td>female-authors</td></tr><tr><td>Mindy Kaling</td><td>Is Everyone Hanging Out Without Me? (And Other Concerns)</td><td>3.84</td><td>11644</td><td>female-authors</td></tr><tr><td>Rita Golden Gelman</td><td>Tales of a Female Nomad: Living at Large in the World</td><td>3.84</td><td>11644</td><td>female-authors</td></tr><tr><td>Susan Sontag</td><td>On Photography</td><td>3.84</td><td>11644</td><td>female-authors</td></tr><tr><td>Willa Cather</td><td>O Pioneers!</td><td>3.84</td><td>11644</td><td>female-authors</td></tr><tr><td>Annie Proulx</td><td>The Shipping News</td><td>3.83</td><td>11644</td><td>female-authors</td></tr><tr><td>Banana Yoshimoto, Megan Backus</td><td>Kitchen</td><td>3.83</td><td>11644</td><td>female-authors</td></tr><tr><td>Harriet Beecher Stowe</td><td>Uncle Tom's Cabin</td><td>3.83</td><td>11644</td><td>female-authors</td></tr><tr><td>Jeanette Winterson</td><td>Sexing the Cherry</td><td>3.83</td><td>11662</td><td>female-writers</td></tr><tr><td>Jeanette Winterson</td><td>Sexing the Cherry</td><td>3.83</td><td>11644</td><td>female-authors</td></tr><tr><td>Jessi Klein</td><td>You'll Grow Out of It</td><td>3.83</td><td>11644</td><td>female-authors</td></tr><tr><td>Joanne Harris</td><td>Five Quarters of the Orange</td><td>3.83</td><td>11644</td><td>female-authors</td></tr><tr><td>Mary Roach</td><td>Bonk: The Curious Coupling of Science and Sex</td><td>3.83</td><td>11644</td><td>female-authors</td></tr><tr><td>Patricia Schultz</td><td>1,000 Places to See Before You Die</td><td>3.83</td><td>11644</td><td>female-authors</td></tr><tr><td>Portia de Rossi</td><td>Unbearable Lightness: A Story of Loss and Gain</td><td>3.83</td><td>11644</td><td>female-authors</td></tr><tr><td>Agatha Christie</td><td>Cat Among the Pigeons (Hercule Poirot, #32)</td><td>3.82</td><td>11644</td><td>female-authors</td></tr><tr><td>Alice Munro</td><td>Too Much Happiness</td><td>3.82</td><td>11644</td><td>female-authors</td></tr><tr><td>Anne Tyler</td><td>Dinner at the Homesick Restaurant</td><td>3.82</td><td>11644</td><td>female-authors</td></tr><tr><td>Camille Pagán</td><td>Life and Other Near-Death Experiences</td><td>3.82</td><td>11644</td><td>female-authors</td></tr><tr><td>Emily Brontë, Richard J. Dunn</td><td>Wuthering Heights</td><td>3.82</td><td>11644</td><td>female-authors</td></tr><tr><td>George Eliot, Edmund White</td><td>Daniel Deronda</td><td>3.82</td><td>11644</td><td>female-authors</td></tr><tr><td>Irène Némirovsky, Sandra Smith</td><td>Suite Française</td><td>3.82</td><td>11644</td><td>female-authors</td></tr><tr><td>Jhumpa Lahiri</td><td>The Lowland</td><td>3.82</td><td>11644</td><td>female-authors</td></tr><tr><td>Margaret Atwood</td><td>The Robber Bride</td><td>3.82</td><td>11644</td><td>female-authors</td></tr><tr><td>Marie Kondō</td><td>Spark Joy: An Illustrated Master Class on the Art of Organizing and Tidying Up</td><td>3.82</td><td>11644</td><td>female-authors</td></tr><tr><td>Marilynne Robinson</td><td>Housekeeping</td><td>3.82</td><td>11644</td><td>female-authors</td></tr><tr><td>Marina Keegan</td><td>The Opposite of Loneliness: Essays and Stories</td><td>3.82</td><td>11644</td><td>female-authors</td></tr><tr><td>Marjane Satrapi, Anjali Singh</td><td>Embroideries</td><td>3.82</td><td>11644</td><td>female-authors</td></tr><tr><td>Patricia Highsmith</td><td>Strangers on a Train</td><td>3.82</td><td>11644</td><td>female-authors</td></tr><tr><td>Therese Anne Fowler</td><td>Z: A Novel of Zelda Fitzgerald</td><td>3.82</td><td>11644</td><td>female-authors</td></tr><tr><td>Amy Poehler</td><td>Yes Please</td><td>3.81</td><td>11644</td><td>female-authors</td></tr><tr><td>Donna Leon</td><td>Death at La Fenice (Commissario Brunetti, #1)</td><td>3.81</td><td>11644</td><td>female-authors</td></tr><tr><td>Elizabeth Gilbert</td><td>The Signature of All Things</td><td>3.81</td><td>11644</td><td>female-authors</td></tr><tr><td>Miranda July</td><td>No One Belongs Here More Than You</td><td>3.81</td><td>11644</td><td>female-authors</td></tr><tr><td>Tracy Chevalier</td><td>Remarkable Creatures </td><td>3.81</td><td>11644</td><td>female-authors</td></tr><tr><td>V.C. Andrews</td><td>Seeds of Yesterday (Dollanganger, #4)</td><td>3.81</td><td>11644</td><td>female-authors</td></tr><tr><td>Agatha Christie</td><td>The Murder on the Links (Hercule Poirot, #2)</td><td>3.8</td><td>11644</td><td>female-authors</td></tr><tr><td>Isabel Allende, Nick Caistor, Amanda Hopkinson</td><td>The Japanese Lover</td><td>3.8</td><td>11644</td><td>female-authors</td></tr><tr><td>Jane Austen, Alfred MacAdam</td><td>Northanger Abbey</td><td>3.8</td><td>11644</td><td>female-authors</td></tr><tr><td>Jodi Picoult</td><td>Salem Falls</td><td>3.8</td><td>11644</td><td>female-authors</td></tr><tr><td>Miranda Hart</td><td>Is It Just Me?</td><td>3.8</td><td>11644</td><td>female-authors</td></tr><tr><td>N.K. Jemisin</td><td>The Hundred Thousand Kingdoms (Inheritance Trilogy, #1)</td><td>3.8</td><td>11644</td><td>female-authors</td></tr><tr><td>Nella Larsen, Ntozake Shange, Thadious M. Davis</td><td>Passing</td><td>3.8</td><td>11644</td><td>female-authors</td></tr><tr><td>Sheri Reynolds</td><td>The Rapture of Canaan</td><td>3.8</td><td>11644</td><td>female-authors</td></tr><tr><td>Susanna Clarke</td><td>Jonathan Strange &amp; Mr Norrell</td><td>3.8</td><td>11644</td><td>female-authors</td></tr><tr><td>Elif Shafak</td><td>The Bastard of Istanbul</td><td>3.79</td><td>11644</td><td>female-authors</td></tr><tr><td>Kate Atkinson</td><td>One Good Turn (Jackson Brodie, #2)</td><td>3.79</td><td>11644</td><td>female-authors</td></tr><tr><td>Marian Keyes</td><td>Watermelon (Walsh Family, #1)</td><td>3.79</td><td>11644</td><td>female-authors</td></tr><tr><td>Robin McKinley</td><td>Spindle's End</td><td>3.79</td><td>11644</td><td>female-authors</td></tr><tr><td>Sarah Dunant</td><td>The Birth of Venus</td><td>3.79</td><td>11644</td><td>female-authors</td></tr><tr><td>Scarlett Thomas</td><td>The End of Mr. Y</td><td>3.79</td><td>11644</td><td>female-authors</td></tr><tr><td>Agatha Christie</td><td>Death in the Clouds (Hercule Poirot, #12)</td><td>3.78</td><td>11644</td><td>female-authors</td></tr><tr><td>Celeste Ng</td><td>Everything I Never Told You</td><td>3.78</td><td>11644</td><td>female-authors</td></tr><tr><td>Jane Hamilton, Frank  Muller, C.J. Critt</td><td>A Map of the World</td><td>3.78</td><td>11644</td><td>female-authors</td></tr><tr><td>Judy Blume</td><td>Blubber</td><td>3.78</td><td>11644</td><td>female-authors</td></tr><tr><td>Lauren Oliver</td><td>Annabel (Delirium, #0.5)</td><td>3.78</td><td>11644</td><td>female-authors</td></tr><tr><td>Marian Keyes</td><td>Last Chance Saloon</td><td>3.78</td><td>11644</td><td>female-authors</td></tr><tr><td>Toni Morrison</td><td>Jazz</td><td>3.78</td><td>11644</td><td>female-authors</td></tr><tr><td>Virginia Woolf, Maureen Howard</td><td>Mrs. Dalloway</td><td>3.78</td><td>11644</td><td>female-authors</td></tr><tr><td>Agatha Christie</td><td>The Mystery of the Blue Train (Hercule Poirot, #6)</td><td>3.77</td><td>11644</td><td>female-authors</td></tr><tr><td>Alice Sebold</td><td>Lucky</td><td>3.77</td><td>11644</td><td>female-authors</td></tr><tr><td>Alice Sebold</td><td>The Lovely Bones</td><td>3.77</td><td>11644</td><td>female-authors</td></tr><tr><td>Beatrice Sparks, Anonymous</td><td>Go Ask Alice</td><td>3.77</td><td>11644</td><td>female-authors</td></tr><tr><td>Elizabeth  Smart, Chris Stewart</td><td>My Story</td><td>3.77</td><td>11644</td><td>female-authors</td></tr><tr><td>George Eliot, A.S. Byatt</td><td>The Mill on the Floss</td><td>3.77</td><td>11644</td><td>female-authors</td></tr><tr><td>George Eliot, Joanna Trollope, Hugh Osborne</td><td>Adam Bede</td><td>3.77</td><td>11644</td><td>female-authors</td></tr><tr><td>Marian Keyes</td><td>The Other Side of the Story</td><td>3.77</td><td>11644</td><td>female-authors</td></tr><tr><td>Marie Kondō, Cathy Hirano</td><td>The Life-Changing Magic of Tidying Up: The Japanese Art of Decluttering and Organizing</td><td>3.77</td><td>11644</td><td>female-authors</td></tr><tr><td>S.E. Hinton</td><td>Rumble Fish</td><td>3.77</td><td>11644</td><td>female-authors</td></tr><tr><td>Toni Morrison</td><td>Beloved</td><td>3.77</td><td>11644</td><td>female-authors</td></tr><tr><td>Toni Morrison</td><td>Paradise</td><td>3.77</td><td>11644</td><td>female-authors</td></tr><tr><td>Iris Murdoch</td><td>Under the Net</td><td>3.76</td><td>11644</td><td>female-authors</td></tr><tr><td>Kyung-Sook Shin, 신경숙, Chi-Young Kim</td><td>Please Look After Mom</td><td>3.76</td><td>11644</td><td>female-authors</td></tr><tr><td>Marguerite Duras, Barbara Bray, Maxine Hong Kingston</td><td>The Lover</td><td>3.76</td><td>11644</td><td>female-authors</td></tr><tr><td>Muriel Spark</td><td>The Prime of Miss Jean Brodie</td><td>3.76</td><td>11644</td><td>female-authors</td></tr><tr><td>Virginia Woolf</td><td>To the Lighthouse</td><td>3.76</td><td>11644</td><td>female-authors</td></tr><tr><td>Willa Cather</td><td>My Ántonia</td><td>3.76</td><td>11644</td><td>female-authors</td></tr><tr><td>Alice Munro</td><td>Dear Life: Stories</td><td>3.75</td><td>11644</td><td>female-authors</td></tr><tr><td>Ann Brashares</td><td>The Sisterhood of the Traveling Pants (Sisterhood, #1)</td><td>3.75</td><td>11644</td><td>female-authors</td></tr><tr><td>Charlotte Brontë, A.S. Byatt, Μαρία Λαϊνά, Ignes Sodre</td><td>Villette</td><td>3.75</td><td>11644</td><td>female-authors</td></tr><tr><td>Doris Lessing</td><td>The Golden Notebook</td><td>3.75</td><td>11644</td><td>female-authors</td></tr><tr><td>Helen Fielding</td><td>Bridget Jones's Diary (Bridget Jones, #1)</td><td>3.75</td><td>11644</td><td>female-authors</td></tr><tr><td>Hillary Rodham Clinton</td><td>Living History</td><td>3.75</td><td>11644</td><td>female-authors</td></tr><tr><td>Isabel Allende, Margaret Sayers Peden</td><td>Zorro</td><td>3.75</td><td>11644</td><td>female-authors</td></tr><tr><td>Jeanette Winterson</td><td>Oranges Are Not the Only Fruit</td><td>3.75</td><td>11644</td><td>female-authors</td></tr><tr><td>Joan Didion</td><td>Blue Nights</td><td>3.75</td><td>11644</td><td>female-authors</td></tr><tr><td>Linda Lafferty</td><td>The Bloodletter's Daughter: A Novel of Old Bohemia</td><td>3.75</td><td>11644</td><td>female-authors</td></tr><tr><td>Marian Keyes</td><td>This Charming Man</td><td>3.75</td><td>11644</td><td>female-authors</td></tr><tr><td>Mary Wollstonecraft Shelley, Percy Bysshe Shelley, Maurice Hindle</td><td>Frankenstein</td><td>3.75</td><td>11644</td><td>female-authors</td></tr><tr><td>Zadie Smith</td><td>White Teeth</td><td>3.75</td><td>11644</td><td>female-authors</td></tr><tr><td>Agatha Christie</td><td>They Do It with Mirrors (Miss Marple, #6)</td><td>3.74</td><td>11644</td><td>female-authors</td></tr><tr><td>Agatha Christie, Hugh Fraser</td><td>One, Two, Buckle My Shoe (Hercule Poirot, #22)</td><td>3.74</td><td>11644</td><td>female-authors</td></tr><tr><td>Chelsea Handler, Johnny Kansas, Stephanie Stehling, Heather McDonald, Roy Handler, Brad Wollack, Amber Mazzola, Josh Wolf, Shoshanna Handler, Eva Magdalenski, Amy Meyer, Glen Handler, Dave Mallow, Sarah Colonna</td><td>Lies That Chelsea Handler Told Me</td><td>3.74</td><td>11644</td><td>female-authors</td></tr><tr><td>Corina Bomann, Alison Layland</td><td>The Moonlit Garden</td><td>3.74</td><td>5129</td><td>books-by-women</td></tr><tr><td>Helen Macdonald</td><td>H is for Hawk</td><td>3.74</td><td>11644</td><td>female-authors</td></tr><tr><td>Jacqueline Wilson, Nick Sharratt</td><td>The Illustrated Mum</td><td>3.74</td><td>11644</td><td>female-authors</td></tr><tr><td>Tana French</td><td>In the Woods (Dublin Murder Squad, #1)</td><td>3.74</td><td>11644</td><td>female-authors</td></tr><tr><td>Victoria Finlay</td><td>Color: A Natural History of the Palette</td><td>3.74</td><td>11662</td><td>female-writers</td></tr><tr><td>Anne Rice</td><td>Memnoch the Devil (The Vampire Chronicles, #5)</td><td>3.73</td><td>11644</td><td>female-authors</td></tr><tr><td>Caitlin Moran</td><td>How to Be a Woman</td><td>3.73</td><td>11644</td><td>female-authors</td></tr><tr><td>Leslie Marmon Silko</td><td>Ceremony</td><td>3.73</td><td>11644</td><td>female-authors</td></tr><tr><td>Marian Keyes</td><td> Angels (Walsh Family, #3)</td><td>3.73</td><td>11644</td><td>female-authors</td></tr><tr><td>Mary Elizabeth Braddon</td><td>Lady Audley's Secret</td><td>3.73</td><td>11644</td><td>female-authors</td></tr><tr><td>Rachel Cohn, David Levithan</td><td>Nick &amp; Norah's Infinite Playlist</td><td>3.73</td><td>11644</td><td>female-authors</td></tr><tr><td>Sarah Waters</td><td>Affinity</td><td>3.73</td><td>11644</td><td>female-authors</td></tr><tr><td>Amélie Nothomb</td><td>Stupeur et tremblements</td><td>3.72</td><td>11644</td><td>female-authors</td></tr><tr><td>Ellen DeGeneres</td><td>Seriously... I'm Kidding</td><td>3.72</td><td>11644</td><td>female-authors</td></tr><tr><td>Jenny Offill</td><td>Dept. of Speculation</td><td>3.72</td><td>11644</td><td>female-authors</td></tr><tr><td>Julie Gregory</td><td>Sickened: The Memoir of a Munchausen by Proxy Childhood</td><td>3.72</td><td>11644</td><td>female-authors</td></tr><tr><td>Lorraine Hansberry</td><td>A Raisin in the Sun</td><td>3.72</td><td>11644</td><td>female-authors</td></tr><tr><td>Maxine Hong Kingston</td><td>The Woman Warrior</td><td>3.72</td><td>11644</td><td>female-authors</td></tr><tr><td>Agatha Christie, Robin Bailey</td><td>The Clocks (Hercule Poirot, #34)</td><td>3.71</td><td>11644</td><td>female-authors</td></tr><tr><td>Carrie Fisher</td><td>Wishful Drinking</td><td>3.71</td><td>11644</td><td>female-authors</td></tr><tr><td>Charlotte Brontë, Lucasta Miller, collaborative, Jessica Cox</td><td>Shirley</td><td>3.71</td><td>11644</td><td>female-authors</td></tr><tr><td>Karen Joy Fowler</td><td>We Are All Completely Beside Ourselves</td><td>3.71</td><td>11644</td><td>female-authors</td></tr><tr><td>NoViolet Bulawayo</td><td>We Need New Names</td><td>3.71</td><td>11644</td><td>female-authors</td></tr><tr><td>Toni Morrison</td><td>Home</td><td>3.71</td><td>11644</td><td>female-authors</td></tr><tr><td>Agatha Christie</td><td>At Bertram's Hotel (Miss Marple, #11)</td><td>3.7</td><td>11644</td><td>female-authors</td></tr><tr><td>Anne Rice</td><td>The Tale of the Body Thief (The Vampire Chronicles, #4)</td><td>3.7</td><td>11644</td><td>female-authors</td></tr><tr><td>Eleanor Catton</td><td>The Luminaries</td><td>3.7</td><td>11644</td><td>female-authors</td></tr><tr><td>Elizabeth Gaskell, Shirley Foster</td><td>Mary Barton</td><td>3.7</td><td>11644</td><td>female-authors</td></tr><tr><td>Emma Healey</td><td>Elizabeth Is Missing</td><td>3.7</td><td>11644</td><td>female-authors</td></tr><tr><td>Jacqueline Susann</td><td>Valley of the Dolls</td><td>3.7</td><td>11644</td><td>female-authors</td></tr><tr><td>Joyce Carol Oates</td><td>We Were the Mulvaneys</td><td>3.7</td><td>11644</td><td>female-authors</td></tr><tr><td>Julie Otsuka</td><td>When the Emperor Was Divine</td><td>3.7</td><td>11644</td><td>female-authors</td></tr><tr><td>Marisha Pessl</td><td>Special Topics in Calamity Physics</td><td>3.7</td><td>11644</td><td>female-authors</td></tr><tr><td>Pearl Cleage</td><td>What Looks Like Crazy on an Ordinary Day (Idlewild, #1)</td><td>3.7</td><td>11644</td><td>female-authors</td></tr><tr><td>Piper Kerman</td><td>Orange Is the New Black</td><td>3.7</td><td>11644</td><td>female-authors</td></tr><tr><td>Sonali Deraniyagala</td><td>Wave</td><td>3.7</td><td>11644</td><td>female-authors</td></tr><tr><td>Toni Morrison</td><td>God Help the Child</td><td>3.7</td><td>11644</td><td>female-authors</td></tr><tr><td>Anaïs Nin</td><td>Delta of Venus</td><td>3.69</td><td>11644</td><td>female-authors</td></tr><tr><td>Caitlin Moran</td><td>How to Build a Girl</td><td>3.69</td><td>11644</td><td>female-authors</td></tr><tr><td>Cecelia Ahern</td><td>Thanks for the Memories</td><td>3.69</td><td>11644</td><td>female-authors</td></tr><tr><td>Emma Donoghue</td><td>Slammerkin</td><td>3.69</td><td>11644</td><td>female-authors</td></tr><tr><td>Jacqueline Wilson, Nick Sharratt</td><td>The Story of Tracy Beaker</td><td>3.69</td><td>11644</td><td>female-authors</td></tr><tr><td>Jacqueline Wilson, Nick Sharratt, Sue Heap</td><td>Double Act</td><td>3.69</td><td>11644</td><td>female-authors</td></tr><tr><td>Marian Keyes</td><td>Sushi for Beginners</td><td>3.69</td><td>11644</td><td>female-authors</td></tr><tr><td>P.D. James</td><td>The Children of Men</td><td>3.69</td><td>11644</td><td>female-authors</td></tr><tr><td>Zoë Heller</td><td>What Was She Thinking? [Notes on a Scandal]</td><td>3.69</td><td>11644</td><td>female-authors</td></tr><tr><td>Amanda Brown</td><td>Legally Blonde</td><td>3.68</td><td>11644</td><td>female-authors</td></tr><tr><td>Elizabeth Berg</td><td>Open House</td><td>3.68</td><td>11644</td><td>female-authors</td></tr><tr><td>Gwyn Hyman Rubio</td><td>Icy Sparks</td><td>3.68</td><td>11644</td><td>female-authors</td></tr><tr><td>Rachael Ray</td><td>Rachael Ray 365: No Repeats: A Year of Deliciously Different Dinners</td><td>3.68</td><td>11644</td><td>female-authors</td></tr><tr><td>Susan Hill, John Lawrence</td><td>The Woman in Black</td><td>3.68</td><td>11644</td><td>female-authors</td></tr><tr><td>Zadie Smith</td><td>On Beauty</td><td>3.68</td><td>11644</td><td>female-authors</td></tr><tr><td>Jennifer McMahon</td><td>The Night Sister</td><td>3.67</td><td>11644</td><td>female-authors</td></tr><tr><td>Karen Russell</td><td>Vampires in the Lemon Grove</td><td>3.67</td><td>11644</td><td>female-authors</td></tr><tr><td>Laline Paull</td><td>The Bees</td><td>3.67</td><td>11644</td><td>female-authors</td></tr><tr><td>Margaret Atwood</td><td>The Edible Woman</td><td>3.67</td><td>11644</td><td>female-authors</td></tr><tr><td>Mariko Tamaki, Jillian Tamaki</td><td>This One Summer</td><td>3.67</td><td>11644</td><td>female-authors</td></tr><tr><td>Melinda Haynes</td><td>Mother of Pearl</td><td>3.67</td><td>11644</td><td>female-authors</td></tr><tr><td>Sarah Winman</td><td>When God Was a Rabbit</td><td>3.67</td><td>11644</td><td>female-authors</td></tr><tr><td>Tracy Chevalier</td><td>The Lady and the Unicorn</td><td>3.67</td><td>11644</td><td>female-authors</td></tr><tr><td>Agatha Christie</td><td>Hallowe'en Party (Hercule Poirot, #36)</td><td>3.66</td><td>11644</td><td>female-authors</td></tr><tr><td>Alison Bechdel</td><td>Are You My Mother?</td><td>3.66</td><td>11644</td><td>female-authors</td></tr><tr><td>Carrie Fisher</td><td>The Princess Diarist</td><td>3.66</td><td>11644</td><td>female-authors</td></tr><tr><td>Cecelia Ahern</td><td>A Place Called Here</td><td>3.66</td><td>11644</td><td>female-authors</td></tr><tr><td>Cecelia Ahern</td><td>The Book of Tomorrow</td><td>3.66</td><td>11644</td><td>female-authors</td></tr><tr><td>Margaret Atwood</td><td>The Penelopiad</td><td>3.66</td><td>11644</td><td>female-authors</td></tr><tr><td>Anne Brontë, Angeline Goreau</td><td>Agnes Grey</td><td>3.65</td><td>11644</td><td>female-authors</td></tr><tr><td>Emma Donoghue</td><td>The Wonder</td><td>3.65</td><td>11644</td><td>female-authors</td></tr><tr><td>Nora Ephron</td><td>I Feel Bad about My Neck: And Other Thoughts on Being a Woman</td><td>3.65</td><td>11644</td><td>female-authors</td></tr><tr><td>Pattie Boyd, Penny Junor</td><td>Wonderful Tonight</td><td>3.65</td><td>11644</td><td>female-authors</td></tr><tr><td>Peggy Orenstein</td><td>Cinderella Ate My Daughter: Dispatches from the Frontlines of the New Girlie-Girl Culture</td><td>3.65</td><td>11644</td><td>female-authors</td></tr><tr><td>Toni Morrison</td><td>A Mercy</td><td>3.65</td><td>11644</td><td>female-authors</td></tr><tr><td>Tracy Chevalier</td><td>The Virgin Blue</td><td>3.65</td><td>11644</td><td>female-authors</td></tr><tr><td>Angela Flournoy</td><td>The Turner House</td><td>3.64</td><td>11644</td><td>female-authors</td></tr><tr><td>Jennifer Egan</td><td>A Visit from the Goon Squad</td><td>3.64</td><td>11644</td><td>female-authors</td></tr><tr><td>Karen Thompson Walker</td><td>The Age of Miracles</td><td>3.64</td><td>11644</td><td>female-authors</td></tr><tr><td>Kim Edwards</td><td>The Memory Keeper's Daughter</td><td>3.64</td><td>11644</td><td>female-authors</td></tr><tr><td>Miriam Toews</td><td>A Complicated Kindness</td><td>3.64</td><td>11644</td><td>female-authors</td></tr><tr><td>Chelsea Handler</td><td>Uganda Be Kidding Me</td><td>3.63</td><td>11644</td><td>female-authors</td></tr><tr><td>Deborah Rodriguez</td><td>Kabul Beauty School: An American Woman Goes Behind the Veil</td><td>3.63</td><td>11644</td><td>female-authors</td></tr><tr><td>Esi Edugyan</td><td>Half Blood Blues</td><td>3.63</td><td>11644</td><td>female-authors</td></tr><tr><td>Kate Chopin</td><td>The Awakening</td><td>3.63</td><td>11644</td><td>female-authors</td></tr><tr><td>Agatha Christie</td><td>Elephants Can Remember (Hercule Poirot, #37)</td><td>3.62</td><td>11644</td><td>female-authors</td></tr><tr><td>Anita Shreve</td><td>The Weight of Water</td><td>3.62</td><td>11644</td><td>female-authors</td></tr><tr><td>Ayn Rand</td><td>Anthem</td><td>3.62</td><td>11644</td><td>female-authors</td></tr><tr><td>Françoise Sagan</td><td>Bonjour tristesse</td><td>3.62</td><td>11662</td><td>female-writers</td></tr><tr><td>Françoise Sagan</td><td>Bonjour tristesse</td><td>3.62</td><td>11644</td><td>female-authors</td></tr><tr><td>Jane Green</td><td>The Beach House</td><td>3.62</td><td>11644</td><td>female-authors</td></tr><tr><td>Julia Alvarez</td><td>How the García Girls Lost Their Accents </td><td>3.62</td><td>11644</td><td>female-authors</td></tr><tr><td>Leslie Jamison</td><td>The Empathy Exams: Essays</td><td>3.62</td><td>11644</td><td>female-authors</td></tr><tr><td>Ali Smith</td><td>How to Be Both</td><td>3.61</td><td>11644</td><td>female-authors</td></tr><tr><td>Amy Chua</td><td>Battle Hymn of the Tiger Mother</td><td>3.61</td><td>11644</td><td>female-authors</td></tr><tr><td>Agatha Christie</td><td>The Big Four (Hercule Poirot, #5)</td><td>3.6</td><td>11644</td><td>female-authors</td></tr><tr><td>Barbara Ehrenreich</td><td>Nickel and Dimed: On (Not) Getting By in America</td><td>3.6</td><td>11644</td><td>female-authors</td></tr><tr><td>George Eliot</td><td>Silas Marner</td><td>3.6</td><td>11644</td><td>female-authors</td></tr><tr><td>Sarah Vowell</td><td>Unfamiliar Fishes</td><td>3.6</td><td>11644</td><td>female-authors</td></tr><tr><td>Zadie Smith</td><td>Swing Time</td><td>3.6</td><td>11644</td><td>female-authors</td></tr><tr><td>Han Kang, Deborah     Smith</td><td>The Vegetarian</td><td>3.59</td><td>11644</td><td>female-authors</td></tr><tr><td>Julie Otsuka</td><td>The Buddha in the Attic</td><td>3.59</td><td>11644</td><td>female-authors</td></tr><tr><td>Lauren Beukes</td><td>Broken Monsters</td><td>3.59</td><td>11644</td><td>female-authors</td></tr><tr><td>Jessie Burton</td><td>The Miniaturist</td><td>3.58</td><td>11644</td><td>female-authors</td></tr><tr><td>Kim Gordon</td><td>Girl in a Band</td><td>3.58</td><td>11644</td><td>female-authors</td></tr><tr><td>Lauren Groff</td><td>The Monsters of Templeton</td><td>3.58</td><td>11644</td><td>female-authors</td></tr><tr><td>Miranda July</td><td>The First Bad Man</td><td>3.58</td><td>11644</td><td>female-authors</td></tr><tr><td>Azar Nafisi</td><td>Reading Lolita in Tehran</td><td>3.57</td><td>11644</td><td>female-authors</td></tr><tr><td>Elizabeth Wurtzel</td><td>Prozac Nation</td><td>3.57</td><td>11644</td><td>female-authors</td></tr><tr><td>Hillary Rodham Clinton</td><td>Hard Choices</td><td>3.57</td><td>11644</td><td>female-authors</td></tr><tr><td>Laura  Barnett</td><td>The Versions of Us</td><td>3.57</td><td>11644</td><td>female-authors</td></tr><tr><td>Mary Roach</td><td>Spook: Science Tackles the Afterlife</td><td>3.57</td><td>11644</td><td>female-authors</td></tr><tr><td>Nora Ephron</td><td>Heartburn</td><td>3.57</td><td>11644</td><td>female-authors</td></tr><tr><td>Rachel Dratch</td><td>Girl Walks into a Bar . . .: Comedy Calamities, Dating Disasters, and a Midlife Miracle</td><td>3.57</td><td>11644</td><td>female-authors</td></tr><tr><td>Rachel Dratch</td><td>Girl Walks into a Bar . . .: Comedy Calamities, Dating Disasters, and a Midlife Miracle</td><td>3.57</td><td>5129</td><td>books-by-women</td></tr><tr><td>Sandra Cisneros</td><td>The House on Mango Street</td><td>3.57</td><td>11644</td><td>female-authors</td></tr><tr><td>Charlotte Brontë</td><td>The Professor</td><td>3.56</td><td>11644</td><td>female-authors</td></tr><tr><td>Jane Austen, Robert William Chapman</td><td>Lady Susan</td><td>3.56</td><td>11644</td><td>female-authors</td></tr><tr><td>Jean Rhys</td><td>Wide Sargasso Sea</td><td>3.56</td><td>11644</td><td>female-authors</td></tr><tr><td>Lauren Groff</td><td>Fates and Furies</td><td>3.56</td><td>11644</td><td>female-authors</td></tr><tr><td>Suzanne Rindell</td><td>The Other Typist</td><td>3.55</td><td>11644</td><td>female-authors</td></tr><tr><td>Tracy Chevalier</td><td>Falling Angels</td><td>3.55</td><td>11644</td><td>female-authors</td></tr><tr><td>Diablo Cody</td><td>Candy Girl: A Year in the Life of an Unlikely Stripper</td><td>3.54</td><td>11644</td><td>female-authors</td></tr><tr><td>Gillian Flynn</td><td>The Grownup</td><td>3.54</td><td>11644</td><td>female-authors</td></tr><tr><td>Meg Wolitzer</td><td>The Interestings</td><td>3.54</td><td>11644</td><td>female-authors</td></tr><tr><td>Helen Fielding</td><td>Bridget Jones: The Edge of Reason (Bridget Jones, #2)</td><td>3.53</td><td>11644</td><td>female-authors</td></tr><tr><td>Jacqueline Wilson</td><td>Girls in Love (Girls, #1)</td><td>3.53</td><td>11644</td><td>female-authors</td></tr><tr><td>Kate Hamer</td><td>The Girl in the Red Coat</td><td>3.53</td><td>11644</td><td>female-authors</td></tr><tr><td>Lionel Shriver</td><td>The Post-Birthday World</td><td>3.52</td><td>11644</td><td>female-authors</td></tr><tr><td>Sarah Macdonald</td><td>Holy Cow: An Indian Adventure</td><td>3.51</td><td>11644</td><td>female-authors</td></tr><tr><td>Emma Cline</td><td>The Girls</td><td>3.49</td><td>11644</td><td>female-authors</td></tr><tr><td>Lauren Beukes</td><td>The Shining Girls</td><td>3.49</td><td>11644</td><td>female-authors</td></tr><tr><td>Anita Shreve</td><td>The Last Time They Met</td><td>3.48</td><td>11644</td><td>female-authors</td></tr><tr><td>Gretchen Rubin, Käthe Mazur</td><td>Happier at Home: Kiss More, Jump More, Abandon a Project, Read Samuel Johnson, and My Other Experiments in the Practice of Everyday Life</td><td>3.48</td><td>11644</td><td>female-authors</td></tr><tr><td>Janet Fitch</td><td>Paint it Black</td><td>3.47</td><td>11644</td><td>female-authors</td></tr><tr><td>Alisa Valdes, Alisa Valdes-Rodriguez</td><td>The Dirty Girls Social Club (Dirty Girls, #1)</td><td>3.46</td><td>11644</td><td>female-authors</td></tr><tr><td>Rachel Kushner</td><td>The Flamethrowers</td><td>3.46</td><td>11644</td><td>female-authors</td></tr><tr><td>Margaret Atwood</td><td>Surfacing</td><td>3.45</td><td>11644</td><td>female-authors</td></tr><tr><td>Nicole Krauss</td><td>Great House</td><td>3.45</td><td>11644</td><td>female-authors</td></tr><tr><td>Sloane Crosley</td><td>I Was Told There'd Be Cake</td><td>3.45</td><td>11644</td><td>female-authors</td></tr><tr><td>Alexandra Ripley</td><td>Scarlett</td><td>3.44</td><td>11644</td><td>female-authors</td></tr><tr><td>Erica Jong</td><td>Fear of Flying</td><td>3.44</td><td>11662</td><td>female-writers</td></tr><tr><td>Erica Jong</td><td>Fear of Flying</td><td>3.44</td><td>11644</td><td>female-authors</td></tr><tr><td>Donna Tartt</td><td>The Little Friend</td><td>3.43</td><td>11644</td><td>female-authors</td></tr><tr><td>Jennifer Egan</td><td>The Keep</td><td>3.43</td><td>11644</td><td>female-authors</td></tr><tr><td>Kate Summerscale</td><td>The Suspicions of Mr. Whicher: A Shocking Murder and the Undoing of a Great Victorian Detective</td><td>3.43</td><td>11644</td><td>female-authors</td></tr><tr><td>Anne Tyler</td><td>Vinegar Girl</td><td>3.42</td><td>11644</td><td>female-authors</td></tr><tr><td>Amy Tan</td><td>Saving Fish from Drowning</td><td>3.41</td><td>11644</td><td>female-authors</td></tr><tr><td>Kate Jacobs</td><td>The Friday Night Knitting Club (Friday Night Knitting Club, #1)</td><td>3.41</td><td>11644</td><td>female-authors</td></tr><tr><td>Kiran Desai</td><td>The Inheritance of Loss</td><td>3.41</td><td>11644</td><td>female-authors</td></tr><tr><td>Zadie Smith</td><td>NW</td><td>3.41</td><td>11644</td><td>female-authors</td></tr><tr><td>Holly Madison</td><td>Down the Rabbit Hole: Curious Adventures and Cautionary Tales of a Former Playboy Bunny</td><td>3.4</td><td>11644</td><td>female-authors</td></tr><tr><td>Lionel Shriver</td><td>Big Brother</td><td>3.4</td><td>11644</td><td>female-authors</td></tr><tr><td>Sarah Waters</td><td>The Paying Guests</td><td>3.39</td><td>11644</td><td>female-authors</td></tr><tr><td>Monica Ali</td><td>Brick Lane</td><td>3.38</td><td>11644</td><td>female-authors</td></tr><tr><td>Ottessa Moshfegh</td><td>Eileen</td><td>3.38</td><td>11644</td><td>female-authors</td></tr><tr><td>Candace Bushnell</td><td>Sex and the City</td><td>3.37</td><td>11644</td><td>female-authors</td></tr><tr><td>Courtney Maum</td><td>I Am Having So Much Fun Here Without You</td><td>3.37</td><td>11644</td><td>female-authors</td></tr><tr><td>Margaret Atwood</td><td>The Heart Goes Last</td><td>3.37</td><td>11644</td><td>female-authors</td></tr><tr><td>Téa Obreht</td><td>The Tiger's Wife</td><td>3.37</td><td>11644</td><td>female-authors</td></tr><tr><td>Curtis Sittenfeld</td><td>Prep</td><td>3.36</td><td>11644</td><td>female-authors</td></tr><tr><td>J. Courtney Sullivan</td><td>Commencement </td><td>3.36</td><td>11644</td><td>female-authors</td></tr><tr><td>Edith Wharton</td><td>Ethan Frome</td><td>3.35</td><td>11644</td><td>female-authors</td></tr><tr><td>Alissa Nutting</td><td>Tampa</td><td>3.34</td><td>11644</td><td>female-authors</td></tr><tr><td>Helen Oyeyemi</td><td>Boy, Snow, Bird</td><td>3.34</td><td>11644</td><td>female-authors</td></tr><tr><td>Pauline Réage, Sabine d'Estree</td><td>Story of O (Story of O #1)</td><td>3.34</td><td>11644</td><td>female-authors</td></tr><tr><td>Lena Dunham, Joana Avillez</td><td>Not That Kind of Girl: A Young Woman Tells You What She's &quot;Learned&quot;</td><td>3.33</td><td>11644</td><td>female-authors</td></tr><tr><td>Adelle Waldman</td><td>The Love Affairs of Nathaniel P.</td><td>3.3</td><td>11644</td><td>female-authors</td></tr><tr><td>Sarah Blake, Orlagh Cassidy</td><td>The Postmistress</td><td>3.3</td><td>11644</td><td>female-authors</td></tr><tr><td>Stephanie Danler</td><td>Sweetbitter</td><td>3.28</td><td>11644</td><td>female-authors</td></tr><tr><td>Isabel Allende, Oliver Brock, Frank Wynne</td><td>Ripper</td><td>3.24</td><td>11644</td><td>female-authors</td></tr><tr><td>Jill Alexander Essbaum</td><td>Hausfrau</td><td>3.24</td><td>11644</td><td>female-authors</td></tr><tr><td>Edan Lepucki</td><td>California</td><td>3.22</td><td>11644</td><td>female-authors</td></tr><tr><td>Karen Russell</td><td>Swamplandia!</td><td>3.21</td><td>11644</td><td>female-authors</td></tr><tr><td>Charlotte Rogan</td><td>The Lifeboat</td><td>3.2</td><td>11644</td><td>female-authors</td></tr><tr><td>Aimee Bender</td><td>The Particular Sadness of Lemon Cake</td><td>3.19</td><td>11644</td><td>female-authors</td></tr><tr><td>Jodi Picoult</td><td>Songs of the Humpback Whale</td><td>3.19</td><td>11644</td><td>female-authors</td></tr><tr><td>Maria Semple</td><td>Today Will Be Different</td><td>3.19</td><td>11644</td><td>female-authors</td></tr><tr><td>Anita Shreve</td><td>All He Ever Wanted</td><td>3.18</td><td>11644</td><td>female-authors</td></tr><tr><td>Lorrie Moore</td><td>A Gate at the Stairs</td><td>3.14</td><td>11644</td><td>female-authors</td></tr><tr><td>Zadie Smith</td><td>The Autograph Man</td><td>3.14</td><td>11644</td><td>female-authors</td></tr><tr><td>Emma Donoghue</td><td>Frog Music</td><td>3.13</td><td>11644</td><td>female-authors</td></tr><tr><td>Claire Messud</td><td>The Emperor's Children</td><td>2.93</td><td>11644</td><td>female-authors</td></tr><tr><td>Candace Bushnell</td><td>Four Blondes</td><td>2.8</td><td>11644</td><td>female-authors</td></tr><tr><td>Alice Sebold</td><td>The Almost Moon</td><td>2.67</td><td>11644</td><td>female-authors</td></tr></table>"
                    },
                    "metadata": {}
                }
            ],
            "execution_count": 27
        },
        {
            "cell_type": "code",
            "source": [
                "-- Solution\r\n",
                "select t.tag_name , count(*) as book_cnt\r\n",
                "  from BooksDB.dbo.books as b \r\n",
                "  left join BooksDB.dbo.book_tags as bt\r\n",
                "    on b.book_id = bt.goodreads_book_id\r\n",
                "  left join BooksDB.dbo.tags as t\r\n",
                "    on bt.tag_id = t.tag_id\r\n",
                " where t.tag_name in ( 'female-authors'\r\n",
                "                     , 'female-writers'\r\n",
                "                     , 'books-by-women')\r\n",
                "group by t.tag_name\r\n",
                "order by book_cnt DESC"
            ],
            "metadata": {
                "azdata_cell_guid": "0f692ee1-3faf-4107-b5d1-cbb9a1116ddf",
                "language": "sql"
            },
            "outputs": [
                {
                    "output_type": "display_data",
                    "data": {
                        "text/html": "(6 rows affected)"
                    },
                    "metadata": {}
                },
                {
                    "output_type": "display_data",
                    "data": {
                        "text/html": "Total execution time: 00:00:00.136"
                    },
                    "metadata": {}
                },
                {
                    "output_type": "execute_result",
                    "execution_count": 21,
                    "data": {
                        "application/vnd.dataresource+json": {
                            "schema": {
                                "fields": [
                                    {
                                        "name": "tag_name"
                                    },
                                    {
                                        "name": "book_cnt"
                                    }
                                ]
                            },
                            "data": [
                                {
                                    "0": "female-authors",
                                    "1": "721"
                                },
                                {
                                    "0": "female-writers",
                                    "1": "18"
                                },
                                {
                                    "0": "books-by-women",
                                    "1": "7"
                                },
                                {
                                    "0": "by-women",
                                    "1": "4"
                                },
                                {
                                    "0": "important-female-authors",
                                    "1": "1"
                                },
                                {
                                    "0": "own-written-by-women",
                                    "1": "1"
                                }
                            ]
                        },
                        "text/html": "<table><tr><th>tag_name</th><th>book_cnt</th></tr><tr><td>female-authors</td><td>721</td></tr><tr><td>female-writers</td><td>18</td></tr><tr><td>books-by-women</td><td>7</td></tr><tr><td>by-women</td><td>4</td></tr><tr><td>important-female-authors</td><td>1</td></tr><tr><td>own-written-by-women</td><td>1</td></tr></table>"
                    },
                    "metadata": {}
                }
            ],
            "execution_count": 21
        },
        {
            "cell_type": "code",
            "source": [
                "select top 10 *\r\n",
                "from BooksDB.dbo.book_tags"
            ],
            "metadata": {
                "language": "sql",
                "azdata_cell_guid": "2e0bb6e1-f3c7-4932-93de-0fd2c0af6192"
            },
            "outputs": [
                {
                    "output_type": "display_data",
                    "data": {
                        "text/html": "(10 rows affected)"
                    },
                    "metadata": {}
                },
                {
                    "output_type": "display_data",
                    "data": {
                        "text/html": "Total execution time: 00:00:00.034"
                    },
                    "metadata": {}
                },
                {
                    "output_type": "execute_result",
                    "execution_count": 15,
                    "data": {
                        "application/vnd.dataresource+json": {
                            "schema": {
                                "fields": [
                                    {
                                        "name": "tag_id"
                                    },
                                    {
                                        "name": "tag_name"
                                    }
                                ]
                            },
                            "data": [
                                {
                                    "0": "0",
                                    "1": "-"
                                },
                                {
                                    "0": "1",
                                    "1": "--1-"
                                },
                                {
                                    "0": "2",
                                    "1": "--10-"
                                },
                                {
                                    "0": "3",
                                    "1": "--12-"
                                },
                                {
                                    "0": "4",
                                    "1": "--122-"
                                },
                                {
                                    "0": "5",
                                    "1": "--166-"
                                },
                                {
                                    "0": "6",
                                    "1": "--17-"
                                },
                                {
                                    "0": "7",
                                    "1": "--19-"
                                },
                                {
                                    "0": "8",
                                    "1": "--2-"
                                },
                                {
                                    "0": "9",
                                    "1": "--258-"
                                }
                            ]
                        },
                        "text/html": "<table><tr><th>tag_id</th><th>tag_name</th></tr><tr><td>0</td><td>-</td></tr><tr><td>1</td><td>--1-</td></tr><tr><td>2</td><td>--10-</td></tr><tr><td>3</td><td>--12-</td></tr><tr><td>4</td><td>--122-</td></tr><tr><td>5</td><td>--166-</td></tr><tr><td>6</td><td>--17-</td></tr><tr><td>7</td><td>--19-</td></tr><tr><td>8</td><td>--2-</td></tr><tr><td>9</td><td>--258-</td></tr></table>"
                    },
                    "metadata": {}
                }
            ],
            "execution_count": 15
        },
        {
            "cell_type": "markdown",
            "source": [
                "### **Record your thoughts about why you wrote the query the way you did.**"
            ],
            "metadata": {
                "azdata_cell_guid": "1e19a72c-1bca-446b-a0c7-a8efbc35dcf1"
            },
            "attachments": {}
        },
        {
            "cell_type": "markdown",
            "source": [
                "# Part 2: Choose Another Month\n",
                "\n",
                "Choose another month and plan at least 2 events / promotions and answer the following questions.\n",
                "\n",
                "Which month did you choose?  November\n",
                "\n",
                "What 2 events / promotions are you highlighting?\n",
                "\n",
                "> 1. Plan Your Epitaph Day - highlighting Books that help people deal with Grief. \n",
                "\n",
                "> 2. Veterans Day - Highlighting our Nation's Heros"
            ],
            "metadata": {
                "azdata_cell_guid": "3eaf376d-9de3-4553-a9d0-9caf74ee3d6a"
            },
            "attachments": {}
        },
        {
            "cell_type": "markdown",
            "source": [
                "# Part 3: Summarize your Work\n",
                "\n",
                "For each event write at least one query that joins any two tables in the BooksDB to support your choice and record you thoughts as to why you used the paticlular query. At least one of your queries needs to include a HAVING clause."
            ],
            "metadata": {
                "azdata_cell_guid": "1ba1363a-4f02-4962-a95a-93b80c5926b1"
            },
            "attachments": {}
        },
        {
            "cell_type": "code",
            "source": [
                "-- Event 1 Query\r\n",
                "select b.title, t.tag_name, b.book_id, b.authors, bt.count, b.average_rating\r\n",
                "from BooksDB.dbo.books as b\r\n",
                "inner join BooksDB.dbo.book_tags as bt \r\n",
                "on b.book_id = bt.goodreads_book_id\r\n",
                "inner join BooksDB.dbo.tags as t \r\n",
                "on bt.tag_id = t.tag_id\r\n",
                "where t.tag_name like '%grief%'\r\n",
                " OR tag_name like '%death%'\r\n",
                "-- group by \r\n",
                "-- having b.average_rating > 4.0\r\n",
                "-- order by bt.count DESC\r\n",
                ""
            ],
            "metadata": {
                "azdata_cell_guid": "f50d32ce-4cb2-4af2-acb1-607777a76cf8",
                "language": "sql"
            },
            "outputs": [
                {
                    "output_type": "display_data",
                    "data": {
                        "text/html": "(1029 rows affected)"
                    },
                    "metadata": {}
                },
                {
                    "output_type": "display_data",
                    "data": {
                        "text/html": "Total execution time: 00:00:00.378"
                    },
                    "metadata": {}
                },
                {
                    "output_type": "execute_result",
                    "execution_count": 2,
                    "data": {
                        "application/vnd.dataresource+json": {
                            "schema": {
                                "fields": [
                                    {
                                        "name": "title"
                                    },
                                    {
                                        "name": "tag_name"
                                    },
                                    {
                                        "name": "book_id"
                                    },
                                    {
                                        "name": "authors"
                                    },
                                    {
                                        "name": "count"
                                    },
                                    {
                                        "name": "average_rating"
                                    }
                                ]
                            },
                            "data": [
                                {
                                    "0": "The Fault in Our Stars",
                                    "1": "death",
                                    "2": "11870085",
                                    "3": "John Green",
                                    "4": "849",
                                    "5": "4.26"
                                },
                                {
                                    "0": "The Lovely Bones",
                                    "1": "grief",
                                    "2": "12232938",
                                    "3": "Alice Sebold",
                                    "4": "118",
                                    "5": "3.77"
                                },
                                {
                                    "0": "Romeo and Juliet",
                                    "1": "death",
                                    "2": "18135",
                                    "3": "William Shakespeare, Robert           Jackson",
                                    "4": "93",
                                    "5": "3.73"
                                },
                                {
                                    "0": "The Book Thief",
                                    "1": "death",
                                    "2": "19063",
                                    "3": "Markus Zusak",
                                    "4": "470",
                                    "5": "4.36"
                                },
                                {
                                    "0": "My Sister's Keeper",
                                    "1": "death-and-dying",
                                    "2": "10917",
                                    "3": "Jodi Picoult",
                                    "4": "59",
                                    "5": "4.06"
                                },
                                {
                                    "0": "Looking for Alaska",
                                    "1": "death",
                                    "2": "99561",
                                    "3": "John Green",
                                    "4": "403",
                                    "5": "4.09"
                                },
                                {
                                    "0": "Into the Wild",
                                    "1": "death",
                                    "2": "1845",
                                    "3": "Jon Krakauer",
                                    "4": "48",
                                    "5": "3.94"
                                },
                                {
                                    "0": "Night (The Night Trilogy #1)",
                                    "1": "death",
                                    "2": "1617",
                                    "3": "Elie Wiesel, Marion Wiesel",
                                    "4": "70",
                                    "5": "4.3"
                                },
                                {
                                    "0": "The Outsiders",
                                    "1": "death",
                                    "2": "231804",
                                    "3": "S.E. Hinton",
                                    "4": "74",
                                    "5": "4.06"
                                },
                                {
                                    "0": "A Walk to Remember",
                                    "1": "death",
                                    "2": "3473",
                                    "3": "Nicholas Sparks",
                                    "4": "69",
                                    "5": "4.15"
                                },
                                {
                                    "0": "Me Before You (Me Before You, #1)",
                                    "1": "death",
                                    "2": "15507958",
                                    "3": "Jojo Moyes",
                                    "4": "148",
                                    "5": "4.27"
                                },
                                {
                                    "0": "Tuesdays with Morrie",
                                    "1": "death-and-dying",
                                    "2": "6900",
                                    "3": "Mitch Albom, Saulius Dagys",
                                    "4": "100",
                                    "5": "4.06"
                                },
                                {
                                    "0": "Hamlet",
                                    "1": "death",
                                    "2": "1420",
                                    "3": "William Shakespeare, Richard Andrews, Rex Gibson",
                                    "4": "83",
                                    "5": "4"
                                },
                                {
                                    "0": "The Five People You Meet in Heaven",
                                    "1": "death-and-dying",
                                    "2": "3431",
                                    "3": "Mitch Albom",
                                    "4": "51",
                                    "5": "3.9"
                                },
                                {
                                    "0": "Thirteen Reasons Why",
                                    "1": "death",
                                    "2": "1217100",
                                    "3": "Jay Asher",
                                    "4": "449",
                                    "5": "4.02"
                                },
                                {
                                    "0": "If I Stay (If I Stay, #1)",
                                    "1": "grief",
                                    "2": "4374400",
                                    "3": "Gayle Forman",
                                    "4": "146",
                                    "5": "3.96"
                                },
                                {
                                    "0": "The Last Song",
                                    "1": "death",
                                    "2": "6400090",
                                    "3": "Nicholas Sparks",
                                    "4": "47",
                                    "5": "4.14"
                                },
                                {
                                    "0": "The Shack",
                                    "1": "grief",
                                    "2": "1812457",
                                    "3": "William Paul Young",
                                    "4": "60",
                                    "5": "3.74"
                                },
                                {
                                    "0": "Wild: From Lost to Found on the Pacific Crest Trail",
                                    "1": "grief",
                                    "2": "12262741",
                                    "3": "Cheryl Strayed",
                                    "4": "142",
                                    "5": "3.96"
                                },
                                {
                                    "0": "The Art of Racing in the Rain",
                                    "1": "death",
                                    "2": "3153910",
                                    "3": "Garth Stein",
                                    "4": "62",
                                    "5": "4.19"
                                },
                                {
                                    "0": "Dark Places",
                                    "1": "death",
                                    "2": "5886881",
                                    "3": "Gillian Flynn",
                                    "4": "61",
                                    "5": "3.92"
                                },
                                {
                                    "0": "Sarah's Key",
                                    "1": "death",
                                    "2": "556602",
                                    "3": "Tatiana de Rosnay",
                                    "4": "34",
                                    "5": "4.14"
                                },
                                {
                                    "0": "Bridge to Terabithia",
                                    "1": "death",
                                    "2": "2839",
                                    "3": "Katherine Paterson",
                                    "4": "170",
                                    "5": "3.98"
                                },
                                {
                                    "0": "Extremely Loud and Incredibly Close",
                                    "1": "grief",
                                    "2": "4588",
                                    "3": "Jonathan Safran Foer",
                                    "4": "78",
                                    "5": "3.97"
                                },
                                {
                                    "0": "P.S. I Love You",
                                    "1": "grief",
                                    "2": "366522",
                                    "3": "Cecelia Ahern",
                                    "4": "41",
                                    "5": "4.01"
                                },
                                {
                                    "0": "Heaven is for Real: A Little Boy's Astounding Story of His Trip to Heaven and Back",
                                    "1": "near-death-experience",
                                    "2": "7933292",
                                    "3": "Todd Burpo, Lynn Vincent",
                                    "4": "61",
                                    "5": "4.01"
                                },
                                {
                                    "0": "Pet Sematary",
                                    "1": "death",
                                    "2": "10583",
                                    "3": "Stephen King",
                                    "4": "24",
                                    "5": "3.91"
                                },
                                {
                                    "0": "The Graveyard Book",
                                    "1": "death",
                                    "2": "2213661",
                                    "3": "Neil Gaiman, Dave McKean",
                                    "4": "159",
                                    "5": "4.12"
                                },
                                {
                                    "0": "A Prayer for Owen Meany",
                                    "1": "death",
                                    "2": "4473",
                                    "3": "John Irving",
                                    "4": "41",
                                    "5": "4.22"
                                },
                                {
                                    "0": "Nineteen Minutes",
                                    "1": "death",
                                    "2": "14866",
                                    "3": "Jodi Picoult",
                                    "4": "36",
                                    "5": "4.1"
                                },
                                {
                                    "0": "The Last Lecture",
                                    "1": "death",
                                    "2": "2318271",
                                    "3": "Randy Pausch, Jeffrey Zaslow",
                                    "4": "62",
                                    "5": "4.25"
                                },
                                {
                                    "0": "The Pact",
                                    "1": "grief",
                                    "2": "10916",
                                    "3": "Jodi Picoult",
                                    "4": "25",
                                    "5": "4"
                                },
                                {
                                    "0": "We Were Liars",
                                    "1": "death",
                                    "2": "16143347",
                                    "3": "E. Lockhart",
                                    "4": "118",
                                    "5": "3.85"
                                },
                                {
                                    "0": "Go Ask Alice",
                                    "1": "death",
                                    "2": "46799",
                                    "3": "Beatrice Sparks, Anonymous",
                                    "4": "31",
                                    "5": "3.77"
                                },
                                {
                                    "0": "Before I Fall",
                                    "1": "death",
                                    "2": "6482837",
                                    "3": "Lauren Oliver",
                                    "4": "316",
                                    "5": "3.92"
                                },
                                {
                                    "0": "A Man Called Ove",
                                    "1": "death",
                                    "2": "18774964",
                                    "3": "Fredrik Backman, Henning Koch",
                                    "4": "46",
                                    "5": "4.35"
                                },
                                {
                                    "0": "Where She Went (If I Stay, #2)",
                                    "1": "grief",
                                    "2": "8492825",
                                    "3": "Gayle Forman",
                                    "4": "77",
                                    "5": "4.06"
                                },
                                {
                                    "0": "The Green Mile",
                                    "1": "death",
                                    "2": "11566",
                                    "3": "Stephen King",
                                    "4": "42",
                                    "5": "4.42"
                                },
                                {
                                    "0": "A Heartbreaking Work of Staggering Genius",
                                    "1": "grief",
                                    "2": "4953",
                                    "3": "Dave Eggers",
                                    "4": "22",
                                    "5": "3.68"
                                },
                                {
                                    "0": "The Truth About Forever",
                                    "1": "grief",
                                    "2": "51737",
                                    "3": "Sarah Dessen",
                                    "4": "48",
                                    "5": "4.13"
                                },
                                {
                                    "0": "Life After Life",
                                    "1": "death",
                                    "2": "15790842",
                                    "3": "Kate Atkinson",
                                    "4": "58",
                                    "5": "3.74"
                                },
                                {
                                    "0": "The Virgin Suicides",
                                    "1": "death",
                                    "2": "10956",
                                    "3": "Jeffrey Eugenides",
                                    "4": "78",
                                    "5": "3.83"
                                },
                                {
                                    "0": "After You (Me Before You, #2)",
                                    "1": "death",
                                    "2": "25041504",
                                    "3": "Jojo Moyes",
                                    "4": "26",
                                    "5": "3.7"
                                },
                                {
                                    "0": "The Guardian",
                                    "1": "death",
                                    "2": "15925",
                                    "3": "Nicholas Sparks",
                                    "4": "16",
                                    "5": "4.14"
                                },
                                {
                                    "0": "Tuck Everlasting",
                                    "1": "death",
                                    "2": "84981",
                                    "3": "Natalie Babbitt",
                                    "4": "44",
                                    "5": "3.85"
                                },
                                {
                                    "0": "Death Note, Vol. 1: Boredom (Death Note, #1)",
                                    "1": "deathnote",
                                    "2": "13615",
                                    "3": "Tsugumi Ohba, Takeshi Obata",
                                    "4": "18",
                                    "5": "4.42"
                                },
                                {
                                    "0": "The Absolutely True Diary of a Part-Time Indian",
                                    "1": "death",
                                    "2": "693208",
                                    "3": "Sherman Alexie, Ellen Forney",
                                    "4": "62",
                                    "5": "4.11"
                                },
                                {
                                    "0": "A Separate Peace",
                                    "1": "death",
                                    "2": "5148",
                                    "3": "John Knowles",
                                    "4": "23",
                                    "5": "3.56"
                                },
                                {
                                    "0": "Midwives",
                                    "1": "death-and-dying",
                                    "2": "5166",
                                    "3": "Chris Bohjalian",
                                    "4": "10",
                                    "5": "3.97"
                                },
                                {
                                    "0": "Veronika Decides to Die",
                                    "1": "death",
                                    "2": "1431",
                                    "3": "Paulo Coelho, Margaret Jull Costa",
                                    "4": "37",
                                    "5": "3.69"
                                },
                                {
                                    "0": "Slammed (Slammed, #1)",
                                    "1": "death",
                                    "2": "13372690",
                                    "3": "Colleen Hoover",
                                    "4": "71",
                                    "5": "4.29"
                                },
                                {
                                    "0": "Everything I Never Told You",
                                    "1": "death",
                                    "2": "18693763",
                                    "3": "Celeste Ng",
                                    "4": "81",
                                    "5": "3.78"
                                },
                                {
                                    "0": "Suzanne's Diary for Nicholas",
                                    "1": "grief",
                                    "2": "7494",
                                    "3": "James Patterson",
                                    "4": "13",
                                    "5": "4.16"
                                },
                                {
                                    "0": "The Storied Life of A.J. Fikry",
                                    "1": "grief",
                                    "2": "18293427",
                                    "3": "Gabrielle Zevin",
                                    "4": "37",
                                    "5": "3.98"
                                },
                                {
                                    "0": "A Bend in the Road",
                                    "1": "death",
                                    "2": "3463",
                                    "3": "Nicholas Sparks",
                                    "4": "14",
                                    "5": "4.02"
                                },
                                {
                                    "0": "Walk Two Moons",
                                    "1": "death",
                                    "2": "53496",
                                    "3": "Sharon Creech",
                                    "4": "60",
                                    "5": "3.95"
                                },
                                {
                                    "0": "Unwind (Unwind, #1)",
                                    "1": "death",
                                    "2": "764347",
                                    "3": "Neal Shusterman",
                                    "4": "57",
                                    "5": "4.18"
                                },
                                {
                                    "0": "Bleach, Volume 01",
                                    "1": "death",
                                    "2": "2880",
                                    "3": "Tite Kubo",
                                    "4": "7",
                                    "5": "4.21"
                                },
                                {
                                    "0": "Sabriel (Abhorsen,  #1)",
                                    "1": "death",
                                    "2": "518848",
                                    "3": "Garth Nix",
                                    "4": "66",
                                    "5": "4.17"
                                },
                                {
                                    "0": "Mort (Death, #1; Discworld, #4)",
                                    "1": "discworld-death",
                                    "2": "386372",
                                    "3": "Terry Pratchett",
                                    "4": "23",
                                    "5": "4.22"
                                },
                                {
                                    "0": "Stiff: The Curious Lives of Human Cadavers",
                                    "1": "death-and-dying",
                                    "2": "32145",
                                    "3": "Mary Roach",
                                    "4": "40",
                                    "5": "4.05"
                                },
                                {
                                    "0": "For One More Day",
                                    "1": "death",
                                    "2": "10929",
                                    "3": "Mitch Albom",
                                    "4": "38",
                                    "5": "4.09"
                                },
                                {
                                    "0": "This is Where I Leave You",
                                    "1": "grief",
                                    "2": "6224935",
                                    "3": "Jonathan Tropper",
                                    "4": "23",
                                    "5": "3.88"
                                },
                                {
                                    "0": "Naked in Death (In Death, #1)",
                                    "1": "in-death",
                                    "2": "268602",
                                    "3": "J.D. Robb",
                                    "4": "239",
                                    "5": "4.13"
                                },
                                {
                                    "0": "The Chamber",
                                    "1": "death-penalty",
                                    "2": "5355",
                                    "3": "John Grisham",
                                    "4": "13",
                                    "5": "3.76"
                                },
                                {
                                    "0": "The Unlikely Pilgrimage of Harold Fry (Harold Fry, #1)",
                                    "1": "death",
                                    "2": "13227454",
                                    "3": "Rachel Joyce",
                                    "4": "33",
                                    "5": "3.89"
                                },
                                {
                                    "0": "When Breath Becomes Air",
                                    "1": "death-and-dying",
                                    "2": "25899336",
                                    "3": "Paul Kalanithi, Abraham Verghese",
                                    "4": "33",
                                    "5": "4.32"
                                },
                                {
                                    "0": "The Elegance of the Hedgehog",
                                    "1": "death",
                                    "2": "2967752",
                                    "3": "Muriel Barbery, Alison Anderson",
                                    "4": "19",
                                    "5": "3.73"
                                },
                                {
                                    "0": "The Plague",
                                    "1": "death",
                                    "2": "11989",
                                    "3": "Albert Camus, Stuart Gilbert",
                                    "4": "29",
                                    "5": "3.97"
                                },
                                {
                                    "0": "As I Lay Dying",
                                    "1": "death",
                                    "2": "77013",
                                    "3": "William Faulkner",
                                    "4": "44",
                                    "5": "3.72"
                                },
                                {
                                    "0": "The Year of Magical Thinking",
                                    "1": "death-and-dying",
                                    "2": "7815",
                                    "3": "Joan Didion",
                                    "4": "45",
                                    "5": "3.86"
                                },
                                {
                                    "0": "Year of Wonders",
                                    "1": "death",
                                    "2": "4965",
                                    "3": "Geraldine Brooks",
                                    "4": "23",
                                    "5": "4"
                                },
                                {
                                    "0": "All the Bright Places",
                                    "1": "grief",
                                    "2": "18460392",
                                    "3": "Jennifer Niven, فرانک معنوی",
                                    "4": "75",
                                    "5": "4.19"
                                },
                                {
                                    "0": "Reconstructing Amelia",
                                    "1": "death",
                                    "2": "15776309",
                                    "3": "Kimberly McCreight",
                                    "4": "32",
                                    "5": "3.82"
                                },
                                {
                                    "0": "I'll Give You the Sun",
                                    "1": "grief",
                                    "2": "20820994",
                                    "3": "Jandy Nelson",
                                    "4": "71",
                                    "5": "4.14"
                                },
                                {
                                    "0": "Point of Retreat (Slammed, #2)",
                                    "1": "death",
                                    "2": "13496084",
                                    "3": "Colleen Hoover",
                                    "4": "27",
                                    "5": "4.3"
                                },
                                {
                                    "0": "The Partner",
                                    "1": "death",
                                    "2": "5350",
                                    "3": "John Grisham",
                                    "4": "20",
                                    "5": "3.89"
                                },
                                {
                                    "0": "Leaving Time",
                                    "1": "death",
                                    "2": "18816603",
                                    "3": "Jodi Picoult",
                                    "4": "17",
                                    "5": "3.94"
                                },
                                {
                                    "0": "A Monster Calls",
                                    "1": "grief",
                                    "2": "8621462",
                                    "3": "Patrick Ness, Jim Kay, Siobhan Dowd",
                                    "4": "168",
                                    "5": "4.36"
                                },
                                {
                                    "0": "Tell the Wolves I'm Home",
                                    "1": "grief",
                                    "2": "12875258",
                                    "3": "Carol Rifka Brunt",
                                    "4": "58",
                                    "5": "4.04"
                                },
                                {
                                    "0": "The Unbecoming of Mara Dyer (Mara Dyer, #1)",
                                    "1": "death",
                                    "2": "11408650",
                                    "3": "Michelle Hodkin",
                                    "4": "64",
                                    "5": "4.09"
                                },
                                {
                                    "0": "90 Minutes in Heaven: A True Story of Death and Life",
                                    "1": "grief",
                                    "2": "89375",
                                    "3": "Don Piper, Cecil Murphey",
                                    "4": "10",
                                    "5": "3.91"
                                },
                                {
                                    "0": "Change of Heart",
                                    "1": "death-penalty",
                                    "2": "1609451",
                                    "3": "Jodi Picoult",
                                    "4": "16",
                                    "5": "3.91"
                                },
                                {
                                    "0": "Lullaby",
                                    "1": "death",
                                    "2": "22206",
                                    "3": "Chuck Palahniuk",
                                    "4": "40",
                                    "5": "3.73"
                                },
                                {
                                    "0": "Ugly Love",
                                    "1": "death",
                                    "2": "17788401",
                                    "3": "Colleen Hoover",
                                    "4": "45",
                                    "5": "4.3"
                                },
                                {
                                    "0": "The Time Keeper",
                                    "1": "death",
                                    "2": "13624688",
                                    "3": "Mitch Albom",
                                    "4": "15",
                                    "5": "3.85"
                                },
                                {
                                    "0": "A Dirty Job (Grim Reaper, #1)",
                                    "1": "death",
                                    "2": "33456",
                                    "3": "Christopher Moore",
                                    "4": "86",
                                    "5": "4.08"
                                },
                                {
                                    "0": "Warm Bodies (Warm Bodies, #1)",
                                    "1": "death",
                                    "2": "7619057",
                                    "3": "Isaac Marion",
                                    "4": "35",
                                    "5": "3.93"
                                },
                                {
                                    "0": "Between Shades of Gray",
                                    "1": "death",
                                    "2": "7824322",
                                    "3": "Ruta Sepetys",
                                    "4": "63",
                                    "5": "4.36"
                                },
                                {
                                    "0": "Someone Like You",
                                    "1": "death",
                                    "2": "816953",
                                    "3": "Sarah Dessen",
                                    "4": "22",
                                    "5": "3.94"
                                },
                                {
                                    "0": "Chronicle of a Death Foretold",
                                    "1": "death",
                                    "2": "23878",
                                    "3": "Gabriel García Márquez, Gregory Rabassa",
                                    "4": "22",
                                    "5": "3.95"
                                },
                                {
                                    "0": "Wintergirls",
                                    "1": "grief",
                                    "2": "5152478",
                                    "3": "Laurie Halse Anderson",
                                    "4": "32",
                                    "5": "3.98"
                                },
                                {
                                    "0": "Abhorsen (Abhorsen, #3)",
                                    "1": "death",
                                    "2": "334643",
                                    "3": "Garth Nix",
                                    "4": "32",
                                    "5": "4.29"
                                },
                                {
                                    "0": "The Hot Zone: The Terrifying True Story of the Origins of the Ebola Virus",
                                    "1": "death",
                                    "2": "16213",
                                    "3": "Richard   Preston",
                                    "4": "15",
                                    "5": "4.1"
                                },
                                {
                                    "0": "It's Not Summer Without You (Summer, #2)",
                                    "1": "death",
                                    "2": "6584188",
                                    "3": "Jenny Han",
                                    "4": "26",
                                    "5": "4.14"
                                },
                                {
                                    "0": "The Pilot's Wife",
                                    "1": "grief",
                                    "2": "5191",
                                    "3": "Anita Shreve",
                                    "4": "24",
                                    "5": "3.5"
                                },
                                {
                                    "0": "White Noise",
                                    "1": "death",
                                    "2": "11762",
                                    "3": "Don DeLillo",
                                    "4": "34",
                                    "5": "3.86"
                                },
                                {
                                    "0": "The Story of Edgar Sawtelle",
                                    "1": "grief",
                                    "2": "2731276",
                                    "3": "David Wroblewski",
                                    "4": "24",
                                    "5": "3.6"
                                },
                                {
                                    "0": "Drowning Ruth",
                                    "1": "grief",
                                    "2": "5171",
                                    "3": "Christina Schwarz",
                                    "4": "6",
                                    "5": "3.73"
                                },
                                {
                                    "0": "Fever 1793",
                                    "1": "death",
                                    "2": "781110",
                                    "3": "Laurie Halse Anderson",
                                    "4": "43",
                                    "5": "3.89"
                                },
                                {
                                    "0": "The Tiger's Wife",
                                    "1": "the-deathless-man",
                                    "2": "8366402",
                                    "3": "Téa Obreht",
                                    "4": "23",
                                    "5": "3.37"
                                },
                                {
                                    "0": "Revival",
                                    "1": "death",
                                    "2": "20926278",
                                    "3": "Stephen King",
                                    "4": "20",
                                    "5": "3.75"
                                },
                                {
                                    "0": "Lirael (Abhorsen, #2)",
                                    "1": "death",
                                    "2": "47624",
                                    "3": "Garth Nix",
                                    "4": "35",
                                    "5": "4.29"
                                },
                                {
                                    "0": "Fun Home: A Family Tragicomic",
                                    "1": "death",
                                    "2": "38990",
                                    "3": "Alison Bechdel",
                                    "4": "48",
                                    "5": "4.12"
                                },
                                {
                                    "0": "Me and Earl and the Dying Girl",
                                    "1": "death",
                                    "2": "12700353",
                                    "3": "Jesse Andrews",
                                    "4": "149",
                                    "5": "3.58"
                                },
                                {
                                    "0": "A Long Way Down",
                                    "1": "death",
                                    "2": "10073",
                                    "3": "Nick Hornby",
                                    "4": "13",
                                    "5": "3.41"
                                },
                                {
                                    "0": "Heart-Shaped Box",
                                    "1": "death",
                                    "2": "153025",
                                    "3": "Joe Hill",
                                    "4": "16",
                                    "5": "3.82"
                                },
                                {
                                    "0": "Have a Little Faith: a True Story",
                                    "1": "death",
                                    "2": "1255781",
                                    "3": "Mitch Albom",
                                    "4": "12",
                                    "5": "4.16"
                                },
                                {
                                    "0": "The Walking Dead, Compendium 1",
                                    "1": "death",
                                    "2": "6465707",
                                    "3": "Robert Kirkman",
                                    "4": "9",
                                    "5": "4.43"
                                },
                                {
                                    "0": "A Dog's Purpose (A Dog's Purpose, #1)",
                                    "1": "death",
                                    "2": "7723542",
                                    "3": "W. Bruce Cameron",
                                    "4": "14",
                                    "5": "4.35"
                                },
                                {
                                    "0": "Her Fearful Symmetry",
                                    "1": "death",
                                    "2": "6202342",
                                    "3": "Audrey Niffenegger",
                                    "4": "49",
                                    "5": "3.23"
                                },
                                {
                                    "0": "Old Yeller (Old Yeller, #1)",
                                    "1": "death",
                                    "2": "130580",
                                    "3": "Fred Gipson",
                                    "4": "12",
                                    "5": "4.06"
                                },
                                {
                                    "0": "Jitterbug Perfume",
                                    "1": "death",
                                    "2": "8682",
                                    "3": "Tom Robbins",
                                    "4": "7",
                                    "5": "4.24"
                                },
                                {
                                    "0": "Wither (The Chemical Garden, #1)",
                                    "1": "death",
                                    "2": "8525590",
                                    "3": "Lauren DeStefano",
                                    "4": "57",
                                    "5": "3.81"
                                },
                                {
                                    "0": "Confess",
                                    "1": "death",
                                    "2": "22609310",
                                    "3": "Colleen Hoover",
                                    "4": "39",
                                    "5": "4.25"
                                },
                                {
                                    "0": "A Map of the World",
                                    "1": "death",
                                    "2": "5205",
                                    "3": "Jane Hamilton, Frank  Muller, C.J. Critt",
                                    "4": "8",
                                    "5": "3.78"
                                },
                                {
                                    "0": "Dream Country (The Sandman #3)",
                                    "1": "death",
                                    "2": "25100",
                                    "3": "Neil Gaiman, Kelley Jones, Charles Vess, Colleen Doran, Malcolm Jones III, Steve Erickson",
                                    "4": "17",
                                    "5": "4.28"
                                },
                                {
                                    "0": "Being Mortal: Medicine and What Matters in the End",
                                    "1": "death-dying",
                                    "2": "20696006",
                                    "3": "Atul Gawande",
                                    "4": "25",
                                    "5": "4.4"
                                },
                                {
                                    "0": "Saving CeeCee Honeycutt",
                                    "1": "grief",
                                    "2": "6617928",
                                    "3": "Beth Hoffman, Jenna Lamia",
                                    "4": "7",
                                    "5": "3.92"
                                },
                                {
                                    "0": "Night Road",
                                    "1": "grief",
                                    "2": "8949352",
                                    "3": "Kristin Hannah",
                                    "4": "18",
                                    "5": "4.17"
                                },
                                {
                                    "0": "Impulse (Impulse, #1)",
                                    "1": "death",
                                    "2": "270805",
                                    "3": "Ellen Hopkins",
                                    "4": "33",
                                    "5": "4.29"
                                },
                                {
                                    "0": "Anna Dressed in Blood (Anna, #1)",
                                    "1": "death",
                                    "2": "9378297",
                                    "3": "Kendare Blake",
                                    "4": "59",
                                    "5": "3.96"
                                },
                                {
                                    "0": "The Friday Night Knitting Club (Friday Night Knitting Club, #1)",
                                    "1": "death",
                                    "2": "17204",
                                    "3": "Kate Jacobs",
                                    "4": "9",
                                    "5": "3.41"
                                },
                                {
                                    "0": "13 Little Blue Envelopes (Little Blue Envelope, #1)",
                                    "1": "death",
                                    "2": "17020",
                                    "3": "Maureen Johnson",
                                    "4": "24",
                                    "5": "3.65"
                                },
                                {
                                    "0": "Rule (Marked Men, #1)",
                                    "1": "death",
                                    "2": "17200687",
                                    "3": "Jay Crownover, Charlotte Connan de vries",
                                    "4": "22",
                                    "5": "4.16"
                                },
                                {
                                    "0": "Amy & Roger's Epic Detour",
                                    "1": "grief",
                                    "2": "7664334",
                                    "3": "Morgan Matson",
                                    "4": "37",
                                    "5": "4.05"
                                },
                                {
                                    "0": "The Death and Life of Charlie St. Cloud",
                                    "1": "death",
                                    "2": "263050",
                                    "3": "Ben Sherwood",
                                    "4": "25",
                                    "5": "4.01"
                                },
                                {
                                    "0": "The Sky Is Everywhere",
                                    "1": "grief",
                                    "2": "6604794",
                                    "3": "Jandy Nelson",
                                    "4": "102",
                                    "5": "4.04"
                                },
                                {
                                    "0": "Before the Fall",
                                    "1": "death",
                                    "2": "26245850",
                                    "3": "Noah Hawley",
                                    "4": "14",
                                    "5": "3.76"
                                },
                                {
                                    "0": "Ubik",
                                    "1": "death",
                                    "2": "22590",
                                    "3": "Philip K. Dick, David Alabort, Manuel Espín",
                                    "4": "33",
                                    "5": "4.1"
                                },
                                {
                                    "0": "The Emperor of All Maladies: A Biography of Cancer",
                                    "1": "death",
                                    "2": "7170627",
                                    "3": "Siddhartha Mukherjee",
                                    "4": "14",
                                    "5": "4.29"
                                },
                                {
                                    "0": "The Forest of Hands and Teeth (The Forest of Hands and Teeth, #1)",
                                    "1": "death",
                                    "2": "3432478",
                                    "3": "Carrie Ryan",
                                    "4": "54",
                                    "5": "3.59"
                                },
                                {
                                    "0": "Reaper Man (Discworld, #11; Death, #2)",
                                    "1": "discworld-death",
                                    "2": "34517",
                                    "3": "Terry Pratchett",
                                    "4": "19",
                                    "5": "4.27"
                                },
                                {
                                    "0": "Alive: The Story of the Andes Survivors",
                                    "1": "death",
                                    "2": "401514",
                                    "3": "Piers Paul Read",
                                    "4": "10",
                                    "5": "4.08"
                                },
                                {
                                    "0": "A Widow for One Year",
                                    "1": "death",
                                    "2": "4659",
                                    "3": "John Irving",
                                    "4": "8",
                                    "5": "3.74"
                                },
                                {
                                    "0": "The Innocent Man: Murder and Injustice in a Small Town",
                                    "1": "death-penalty",
                                    "2": "5345",
                                    "3": "John Grisham",
                                    "4": "21",
                                    "5": "3.79"
                                },
                                {
                                    "0": "Grave Mercy (His Fair Assassin, #1)",
                                    "1": "death",
                                    "2": "9565548",
                                    "3": "Robin LaFevers",
                                    "4": "97",
                                    "5": "3.92"
                                },
                                {
                                    "0": "The Death of Ivan Ilych",
                                    "1": "death-and-dying",
                                    "2": "18386",
                                    "3": "Leo Tolstoy, Aylmer Maude",
                                    "4": "16",
                                    "5": "4.04"
                                },
                                {
                                    "0": "Lisey's Story",
                                    "1": "grief",
                                    "2": "10566",
                                    "3": "Stephen King",
                                    "4": "23",
                                    "5": "3.65"
                                },
                                {
                                    "0": "Proof of Heaven: A Neurosurgeon's Journey into the Afterlife",
                                    "1": "grief",
                                    "2": "15851746",
                                    "3": "Eben Alexander",
                                    "4": "7",
                                    "5": "3.68"
                                },
                                {
                                    "0": "My Grandmother Asked Me to Tell You She's Sorry",
                                    "1": "grief",
                                    "2": "23604559",
                                    "3": "Fredrik Backman, Henning Koch",
                                    "4": "18",
                                    "5": "4.02"
                                },
                                {
                                    "0": "Out of the Dust",
                                    "1": "death",
                                    "2": "25346",
                                    "3": "Karen Hesse",
                                    "4": "25",
                                    "5": "3.73"
                                },
                                {
                                    "0": "Burned (Burned, #1)",
                                    "1": "death",
                                    "2": "270807",
                                    "3": "Ellen Hopkins",
                                    "4": "12",
                                    "5": "4.24"
                                },
                                {
                                    "0": "Hogfather (Discworld, #20; Death, #4)",
                                    "1": "discworld-death",
                                    "2": "34532",
                                    "3": "Terry Pratchett",
                                    "4": "19",
                                    "5": "4.22"
                                },
                                {
                                    "0": "Identical",
                                    "1": "death",
                                    "2": "2241059",
                                    "3": "Ellen Hopkins",
                                    "4": "33",
                                    "5": "4.34"
                                },
                                {
                                    "0": "The Secret of Ella and Micha (The Secret, #1)",
                                    "1": "death",
                                    "2": "15717876",
                                    "3": "Jessica Sorensen",
                                    "4": "19",
                                    "5": "4.01"
                                },
                                {
                                    "0": "Anybody Out There? (Walsh Family, #4)",
                                    "1": "grief",
                                    "2": "165030",
                                    "3": "Marian Keyes",
                                    "4": "9",
                                    "5": "3.91"
                                },
                                {
                                    "0": "The Confession",
                                    "1": "death",
                                    "2": "7933437",
                                    "3": "John Grisham",
                                    "4": "21",
                                    "5": "3.81"
                                },
                                {
                                    "0": "Hallowed (Unearthly, #2)",
                                    "1": "death",
                                    "2": "11563110",
                                    "3": "Cynthia Hand",
                                    "4": "22",
                                    "5": "4.15"
                                },
                                {
                                    "0": "The Life We Bury",
                                    "1": "death",
                                    "2": "20758175",
                                    "3": "Allen Eskens",
                                    "4": "9",
                                    "5": "3.93"
                                },
                                {
                                    "0": "The First Phone Call from Heaven",
                                    "1": "death",
                                    "2": "17888952",
                                    "3": "Mitch Albom",
                                    "4": "13",
                                    "5": "3.73"
                                },
                                {
                                    "0": "Lies (Gone, #3)",
                                    "1": "death",
                                    "2": "6686092",
                                    "3": "Michael  Grant",
                                    "4": "13",
                                    "5": "4.09"
                                },
                                {
                                    "0": "The Butterfly Garden (The Collector #1)",
                                    "1": "death",
                                    "2": "29981261",
                                    "3": "Dot Hutchison",
                                    "4": "11",
                                    "5": "4.07"
                                },
                                {
                                    "0": "Locke & Key, Vol. 1: Welcome to Lovecraft",
                                    "1": "death",
                                    "2": "3217221",
                                    "3": "Joe Hill, Gabriel Rodríguez",
                                    "4": "17",
                                    "5": "4.18"
                                },
                                {
                                    "0": "Columbine",
                                    "1": "death",
                                    "2": "5632446",
                                    "3": "Dave Cullen",
                                    "4": "22",
                                    "5": "4.26"
                                },
                                {
                                    "0": "The Cask of Amontillado",
                                    "1": "death",
                                    "2": "261240",
                                    "3": "Edgar Allan Poe",
                                    "4": "7",
                                    "5": "4.09"
                                },
                                {
                                    "0": "My Friend Leonard",
                                    "1": "death",
                                    "2": "6520",
                                    "3": "James Frey",
                                    "4": "4",
                                    "5": "3.83"
                                },
                                {
                                    "0": "Love Story (Love Story, #1)",
                                    "1": "death",
                                    "2": "73968",
                                    "3": "Erich Segal",
                                    "4": "10",
                                    "5": "3.6"
                                },
                                {
                                    "0": "The Sea of Tranquility",
                                    "1": "grief",
                                    "2": "16151178",
                                    "3": "Katja Millay",
                                    "4": "21",
                                    "5": "4.34"
                                },
                                {
                                    "0": "Before I Die",
                                    "1": "grief",
                                    "2": "1314332",
                                    "3": "Jenny Downham",
                                    "4": "15",
                                    "5": "3.84"
                                },
                                {
                                    "0": "Damned (Damned, #1)",
                                    "1": "death",
                                    "2": "9912994",
                                    "3": "Chuck Palahniuk",
                                    "4": "15",
                                    "5": "3.38"
                                },
                                {
                                    "0": "Soul Music (Discworld, #16; Death, #3)",
                                    "1": "discworld-death",
                                    "2": "34502",
                                    "3": "Terry Pratchett",
                                    "4": "16",
                                    "5": "4.02"
                                },
                                {
                                    "0": "Soul Eater, Vol. 01 (Soul Eater, #1)",
                                    "1": "death",
                                    "2": "6406018",
                                    "3": "Atsushi Ohkubo",
                                    "4": "5",
                                    "5": "4.3"
                                },
                                {
                                    "0": "Ordinary Grace",
                                    "1": "death",
                                    "2": "15803059",
                                    "3": "William Kent Krueger",
                                    "4": "23",
                                    "5": "4.14"
                                },
                                {
                                    "0": "Ten Tiny Breaths (Ten Tiny Breaths, #1)",
                                    "1": "death",
                                    "2": "15990969",
                                    "3": "K.A. Tucker",
                                    "4": "64",
                                    "5": "4.16"
                                },
                                {
                                    "0": "Wonderstruck",
                                    "1": "death",
                                    "2": "10128428",
                                    "3": "Brian Selznick",
                                    "4": "26",
                                    "5": "4.16"
                                },
                                {
                                    "0": "A Lesson Before Dying",
                                    "1": "death-and-dying",
                                    "2": "5197",
                                    "3": "Ernest J. Gaines",
                                    "4": "20",
                                    "5": "3.93"
                                },
                                {
                                    "0": "Tiny Beautiful Things: Advice on Love and Life from Dear Sugar",
                                    "1": "grief",
                                    "2": "13152194",
                                    "3": "Cheryl Strayed",
                                    "4": "14",
                                    "5": "4.29"
                                },
                                {
                                    "0": "H is for Hawk",
                                    "1": "death",
                                    "2": "18803640",
                                    "3": "Helen Macdonald",
                                    "4": "55",
                                    "5": "3.74"
                                },
                                {
                                    "0": "The Little Paris Bookshop",
                                    "1": "grief",
                                    "2": "23278537",
                                    "3": "Nina George, Simon Pare",
                                    "4": "27",
                                    "5": "3.51"
                                },
                                {
                                    "0": "Sister",
                                    "1": "death",
                                    "2": "8196732",
                                    "3": "Rosamund Lupton",
                                    "4": "19",
                                    "5": "3.77"
                                },
                                {
                                    "0": "Thief of Time (Discworld, #26; Death, #5)",
                                    "1": "discworld-death",
                                    "2": "48002",
                                    "3": "Terry Pratchett",
                                    "4": "18",
                                    "5": "4.25"
                                },
                                {
                                    "0": "Flat-Out Love (Flat-Out Love, #1)",
                                    "1": "death",
                                    "2": "11096647",
                                    "3": "Jessica Park",
                                    "4": "32",
                                    "5": "4.01"
                                },
                                {
                                    "0": "Hate List",
                                    "1": "death",
                                    "2": "6316171",
                                    "3": "Jennifer Brown",
                                    "4": "84",
                                    "5": "4.03"
                                },
                                {
                                    "0": "The End of Your Life Book Club",
                                    "1": "grief",
                                    "2": "13414676",
                                    "3": "Will Schwalbe",
                                    "4": "21",
                                    "5": "3.81"
                                },
                                {
                                    "0": "A Grief Observed",
                                    "1": "grief-loss",
                                    "2": "49221",
                                    "3": "C.S. Lewis",
                                    "4": "10",
                                    "5": "4.26"
                                },
                                {
                                    "0": "First Grave on the Right (Charley Davidson, #1)",
                                    "1": "death",
                                    "2": "8788554",
                                    "3": "Darynda Jones",
                                    "4": "41",
                                    "5": "4.07"
                                },
                                {
                                    "0": "Love Letters to the Dead",
                                    "1": "grief",
                                    "2": "18140047",
                                    "3": "Ava Dellaira",
                                    "4": "40",
                                    "5": "3.82"
                                },
                                {
                                    "0": "A God in Ruins",
                                    "1": "death",
                                    "2": "3722183",
                                    "3": "Kate Atkinson",
                                    "4": "11",
                                    "5": "3.92"
                                },
                                {
                                    "0": "Battle Royale",
                                    "1": "death",
                                    "2": "57891",
                                    "3": "Koushun Takami, Yuji Oniki",
                                    "4": "21",
                                    "5": "4.24"
                                },
                                {
                                    "0": "The Gashlycrumb Tinies (The Vinegar Works, #1)",
                                    "1": "death",
                                    "2": "47558",
                                    "3": "Edward Gorey",
                                    "4": "16",
                                    "5": "4.23"
                                },
                                {
                                    "0": "Existence (Existence Trilogy, #1)",
                                    "1": "death",
                                    "2": "13223520",
                                    "3": "Abbi Glines",
                                    "4": "62",
                                    "5": "3.95"
                                },
                                {
                                    "0": "I Was Here",
                                    "1": "grief",
                                    "2": "18879761",
                                    "3": "Gayle Forman",
                                    "4": "46",
                                    "5": "3.78"
                                },
                                {
                                    "0": "Assassination Vacation",
                                    "1": "death",
                                    "2": "3110",
                                    "3": "Sarah Vowell",
                                    "4": "13",
                                    "5": "3.98"
                                },
                                {
                                    "0": "Ariel",
                                    "1": "death",
                                    "2": "395090",
                                    "3": "Sylvia Plath",
                                    "4": "10",
                                    "5": "4.23"
                                },
                                {
                                    "0": "The Leftovers",
                                    "1": "grief",
                                    "2": "10762469",
                                    "3": "Tom Perrotta",
                                    "4": "15",
                                    "5": "3.38"
                                },
                                {
                                    "0": "Freak the Mighty (Freak The Mighty, #1)",
                                    "1": "death",
                                    "2": "8953",
                                    "3": "Rodman Philbrick",
                                    "4": "16",
                                    "5": "3.98"
                                },
                                {
                                    "0": "Second Glance",
                                    "1": "death",
                                    "2": "10911",
                                    "3": "Jodi Picoult",
                                    "4": "8",
                                    "5": "3.79"
                                },
                                {
                                    "0": "Peony in Love",
                                    "1": "death",
                                    "2": "24472",
                                    "3": "Lisa See",
                                    "4": "10",
                                    "5": "3.59"
                                },
                                {
                                    "0": "Twenty Boy Summer",
                                    "1": "grief",
                                    "2": "5231173",
                                    "3": "Sarah Ockler",
                                    "4": "32",
                                    "5": "3.89"
                                },
                                {
                                    "0": "The Tell-Tale Heart",
                                    "1": "death",
                                    "2": "899492",
                                    "3": "Edgar Allan Poe, Byron Glaser, Bill D. Fountain",
                                    "4": "8",
                                    "5": "4.22"
                                },
                                {
                                    "0": "Panic (Panic, #1)",
                                    "1": "death",
                                    "2": "17565845",
                                    "3": "Lauren Oliver",
                                    "4": "21",
                                    "5": "3.56"
                                },
                                {
                                    "0": "Death: The High Cost of Living Collected",
                                    "1": "death",
                                    "2": "16791",
                                    "3": "Neil Gaiman, Chris Bachalo, Mark Buckingham, Tori Amos",
                                    "4": "22",
                                    "5": "4.21"
                                },
                                {
                                    "0": "The Problem of Pain",
                                    "1": "grief",
                                    "2": "26435",
                                    "3": "C.S. Lewis",
                                    "4": "13",
                                    "5": "4.12"
                                },
                                {
                                    "0": "You Shall Know Our Velocity!",
                                    "1": "grief",
                                    "2": "4954",
                                    "3": "Dave Eggers",
                                    "4": "11",
                                    "5": "3.62"
                                },
                                {
                                    "0": "Die for Me (Revenants, #1)",
                                    "1": "death",
                                    "2": "9462812",
                                    "3": "Amy Plum",
                                    "4": "24",
                                    "5": "4"
                                },
                                {
                                    "0": "Elsewhere",
                                    "1": "grief",
                                    "2": "359410",
                                    "3": "Gabrielle Zevin",
                                    "4": "15",
                                    "5": "3.91"
                                },
                                {
                                    "0": "Counting by 7s",
                                    "1": "death-of-a-parent",
                                    "2": "15937108",
                                    "3": "Holly Goldberg Sloan",
                                    "4": "24",
                                    "5": "4.16"
                                },
                                {
                                    "0": "Hourglass (Evernight, #3)",
                                    "1": "death",
                                    "2": "6421588",
                                    "3": "Claudia Gray",
                                    "4": "9",
                                    "5": "3.8"
                                },
                                {
                                    "0": "The Island",
                                    "1": "death",
                                    "2": "7726892",
                                    "3": "Elin Hilderbrand",
                                    "4": "5",
                                    "5": "3.88"
                                },
                                {
                                    "0": "The Little Friend",
                                    "1": "death",
                                    "2": "775346",
                                    "3": "Donna Tartt",
                                    "4": "10",
                                    "5": "3.43"
                                },
                                {
                                    "0": "Salt to the Sea",
                                    "1": "death",
                                    "2": "25614492",
                                    "3": "Ruta Sepetys",
                                    "4": "33",
                                    "5": "4.36"
                                },
                                {
                                    "0": "Bleachers",
                                    "1": "death",
                                    "2": "5347",
                                    "3": "John Grisham",
                                    "4": "26",
                                    "5": "3.46"
                                },
                                {
                                    "0": "Fly Away (Firefly Lane, #2)",
                                    "1": "death",
                                    "2": "16044981",
                                    "3": "Kristin Hannah",
                                    "4": "7",
                                    "5": "3.94"
                                },
                                {
                                    "0": "One True Thing",
                                    "1": "grief",
                                    "2": "176839",
                                    "3": "Anna Quindlen",
                                    "4": "4",
                                    "5": "4.01"
                                },
                                {
                                    "0": "Mort: The Play",
                                    "1": "death",
                                    "2": "149847",
                                    "3": "Terry Pratchett, Stephen Briggs",
                                    "4": "7",
                                    "5": "4.29"
                                },
                                {
                                    "0": "The Shock of the Fall",
                                    "1": "grief",
                                    "2": "16120760",
                                    "3": "Nathan Filer",
                                    "4": "13",
                                    "5": "3.79"
                                },
                                {
                                    "0": "The Coldest Girl in Coldtown",
                                    "1": "death",
                                    "2": "12813630",
                                    "3": "Holly Black",
                                    "4": "29",
                                    "5": "3.86"
                                },
                                {
                                    "0": "The Myth of Sisyphus and Other Essays",
                                    "1": "death",
                                    "2": "11987",
                                    "3": "Albert Camus, Justin O'Brien",
                                    "4": "5",
                                    "5": "4.18"
                                },
                                {
                                    "0": "Our Town",
                                    "1": "death",
                                    "2": "205476",
                                    "3": "Thornton Wilder, Donald Margulies, Tappan Wilder",
                                    "4": "11",
                                    "5": "3.63"
                                },
                                {
                                    "0": "Through the Woods",
                                    "1": "death",
                                    "2": "18659623",
                                    "3": "Emily Carroll",
                                    "4": "20",
                                    "5": "3.92"
                                },
                                {
                                    "0": "The Body Finder (The Body Finder, #1)",
                                    "1": "death",
                                    "2": "6261522",
                                    "3": "Kimberly Derting",
                                    "4": "52",
                                    "5": "3.96"
                                },
                                {
                                    "0": "Noughts & Crosses (Noughts & Crosses, #1)",
                                    "1": "death",
                                    "2": "714902",
                                    "3": "Malorie Blackman",
                                    "4": "12",
                                    "5": "4.23"
                                },
                                {
                                    "0": "Taking Chances (Taking Chances, #1)",
                                    "1": "death",
                                    "2": "15739018",
                                    "3": "Molly McAdams",
                                    "4": "29",
                                    "5": "3.87"
                                },
                                {
                                    "0": "The Winter People",
                                    "1": "death",
                                    "2": "18007535",
                                    "3": "Jennifer McMahon",
                                    "4": "19",
                                    "5": "3.76"
                                },
                                {
                                    "0": "The Lying Game (The Lying Game, #1)",
                                    "1": "death",
                                    "2": "8428069",
                                    "3": "Sara Shepard",
                                    "4": "20",
                                    "5": "3.96"
                                },
                                {
                                    "0": "The Stonekeeper (Amulet, #1)",
                                    "1": "death",
                                    "2": "1238684",
                                    "3": "Kazu Kibuishi",
                                    "4": "13",
                                    "5": "4.15"
                                },
                                {
                                    "0": "Doomsday Book (Oxford Time Travel, #1)",
                                    "1": "death",
                                    "2": "24983",
                                    "3": "Connie Willis",
                                    "4": "17",
                                    "5": "4.03"
                                },
                                {
                                    "0": "Just Mercy: A Story of Justice and Redemption",
                                    "1": "death-penalty",
                                    "2": "20342617",
                                    "3": "Bryan Stevenson",
                                    "4": "14",
                                    "5": "4.58"
                                },
                                {
                                    "0": "Many Lives, Many Masters: The True Story of a Prominent Psychiatrist, His Young Patient, and the Past Life Therapy That Changed Both Their Lives",
                                    "1": "life-after-death",
                                    "2": "34452",
                                    "3": "Brian L. Weiss",
                                    "4": "8",
                                    "5": "4.17"
                                },
                                {
                                    "0": "On the Jellicoe Road",
                                    "1": "death",
                                    "2": "1162022",
                                    "3": "Melina Marchetta",
                                    "4": "42",
                                    "5": "4.15"
                                },
                                {
                                    "0": "Love Comes Softly (Love Comes Softly, #1)",
                                    "1": "death",
                                    "2": "65497",
                                    "3": "Janette Oke",
                                    "4": "6",
                                    "5": "4.22"
                                },
                                {
                                    "0": "The Almost Moon",
                                    "1": "death",
                                    "2": "783291",
                                    "3": "Alice Sebold",
                                    "4": "18",
                                    "5": "2.67"
                                },
                                {
                                    "0": "Good Night, Mr. Tom",
                                    "1": "death",
                                    "2": "161099",
                                    "3": "Michelle Magorian",
                                    "4": "11",
                                    "5": "4.28"
                                },
                                {
                                    "0": "Forbidden",
                                    "1": "death",
                                    "2": "7600924",
                                    "3": "Tabitha Suzuma",
                                    "4": "28",
                                    "5": "4.06"
                                },
                                {
                                    "0": "Out of Breath (Breathing, #3)",
                                    "1": "death",
                                    "2": "13638570",
                                    "3": "Rebecca Donovan",
                                    "4": "11",
                                    "5": "4.32"
                                },
                                {
                                    "0": "Killing Yourself to Live: 85% of a True Story",
                                    "1": "death",
                                    "2": "597",
                                    "3": "Chuck Klosterman",
                                    "4": "5",
                                    "5": "3.85"
                                },
                                {
                                    "0": "The Adoration of Jenna Fox (Jenna Fox Chronicles, #1)",
                                    "1": "death",
                                    "2": "1902241",
                                    "3": "Mary E. Pearson",
                                    "4": "42",
                                    "5": "3.7"
                                },
                                {
                                    "0": "Ghost Soldiers: The Epic Account of World War II's Greatest Rescue Mission",
                                    "1": "baatan-death-march",
                                    "2": "94799",
                                    "3": "Hampton Sides",
                                    "4": "5",
                                    "5": "4.17"
                                },
                                {
                                    "0": "Second Chance Summer",
                                    "1": "death",
                                    "2": "11071466",
                                    "3": "Morgan Matson",
                                    "4": "63",
                                    "5": "4.16"
                                },
                                {
                                    "0": "The Wake (The Sandman #10)",
                                    "1": "death",
                                    "2": "25104",
                                    "3": "Neil Gaiman, Michael Zulli, Jon J. Muth, Charles Vess, Mikal Gilmore",
                                    "4": "10",
                                    "5": "4.53"
                                },
                                {
                                    "0": "Take Me with You",
                                    "1": "grief",
                                    "2": "20620995",
                                    "3": "Catherine Ryan Hyde",
                                    "4": "8",
                                    "5": "4.12"
                                },
                                {
                                    "0": "Kitchen",
                                    "1": "grief",
                                    "2": "50144",
                                    "3": "Banana Yoshimoto, Megan Backus",
                                    "4": "14",
                                    "5": "3.83"
                                },
                                {
                                    "0": "The Name of the Star (Shades of London, #1)",
                                    "1": "death",
                                    "2": "9802372",
                                    "3": "Maureen Johnson",
                                    "4": "32",
                                    "5": "3.9"
                                },
                                {
                                    "0": "The Postmistress",
                                    "1": "death",
                                    "2": "6578507",
                                    "3": "Sarah Blake, Orlagh Cassidy",
                                    "4": "9",
                                    "5": "3.3"
                                },
                                {
                                    "0": "War Horse (War Horse, #1)",
                                    "1": "death",
                                    "2": "792161",
                                    "3": "Michael Morpurgo",
                                    "4": "12",
                                    "5": "4.13"
                                },
                                {
                                    "0": "On a Pale Horse (Incarnations of Immortality, #1)",
                                    "1": "death",
                                    "2": "76658",
                                    "3": "Piers Anthony",
                                    "4": "29",
                                    "5": "4.13"
                                },
                                {
                                    "0": "Sookie Stackhouse 7-copy Boxed Set (Sookie Stackhouse, #1-7)",
                                    "1": "death",
                                    "2": "4902793",
                                    "3": "Charlaine Harris",
                                    "4": "2",
                                    "5": "4.43"
                                },
                                {
                                    "0": "The Walking Dead, Vol. 02: Miles Behind Us",
                                    "1": "death",
                                    "2": "138396",
                                    "3": "Robert Kirkman, Charlie Adlard",
                                    "4": "12",
                                    "5": "4.25"
                                },
                                {
                                    "0": "Every Last One",
                                    "1": "death",
                                    "2": "7468160",
                                    "3": "Anna Quindlen",
                                    "4": "23",
                                    "5": "3.83"
                                },
                                {
                                    "0": "Glory in Death (In Death, #2)",
                                    "1": "series-in-death",
                                    "2": "268601",
                                    "3": "J.D. Robb",
                                    "4": "24",
                                    "5": "4.25"
                                },
                                {
                                    "0": "Love That Dog (Jack, #1)",
                                    "1": "death",
                                    "2": "53498",
                                    "3": "Sharon Creech",
                                    "4": "32",
                                    "5": "4.01"
                                },
                                {
                                    "0": "Willow",
                                    "1": "grief",
                                    "2": "4570768",
                                    "3": "Julia Hoban",
                                    "4": "29",
                                    "5": "3.94"
                                },
                                {
                                    "0": "Spook: Science Tackles the Afterlife",
                                    "1": "death-and-dying",
                                    "2": "14990",
                                    "3": "Mary Roach",
                                    "4": "8",
                                    "5": "3.57"
                                },
                                {
                                    "0": "Fever (The Chemical Garden, #2)",
                                    "1": "death",
                                    "2": "11112619",
                                    "3": "Lauren DeStefano",
                                    "4": "24",
                                    "5": "3.79"
                                },
                                {
                                    "0": "D.Gray-man, Volume 01",
                                    "1": "death",
                                    "2": "568454",
                                    "3": "Katsura Hoshino, Mayumi Kobayashi",
                                    "4": "5",
                                    "5": "4.21"
                                },
                                {
                                    "0": "Love Is a Mix Tape",
                                    "1": "death-and-dying",
                                    "2": "46190",
                                    "3": "Rob Sheffield",
                                    "4": "6",
                                    "5": "3.83"
                                },
                                {
                                    "0": "So B. It",
                                    "1": "death-and-dying",
                                    "2": "237320",
                                    "3": "Sarah Weeks",
                                    "4": "7",
                                    "5": "4.1"
                                },
                                {
                                    "0": "First Comes Love",
                                    "1": "grief",
                                    "2": "26192467",
                                    "3": "Emily Giffin",
                                    "4": "6",
                                    "5": "3.6"
                                },
                                {
                                    "0": "Good Grief",
                                    "1": "death",
                                    "2": "251519",
                                    "3": "Lolly Winston",
                                    "4": "10",
                                    "5": "3.72"
                                },
                                {
                                    "0": "The Program (The Program, #1)",
                                    "1": "death",
                                    "2": "11366397",
                                    "3": "Suzanne Young",
                                    "4": "32",
                                    "5": "4.07"
                                },
                                {
                                    "0": "When Things Fall Apart: Heart Advice for Difficult Times",
                                    "1": "grief",
                                    "2": "687278",
                                    "3": "Pema Chödrön",
                                    "4": "6",
                                    "5": "4.29"
                                },
                                {
                                    "0": "Love Anthony",
                                    "1": "death",
                                    "2": "13547381",
                                    "3": "Lisa Genova",
                                    "4": "6",
                                    "5": "3.94"
                                },
                                {
                                    "0": "Forgive Me, Leonard Peacock",
                                    "1": "death",
                                    "2": "13477676",
                                    "3": "Matthew Quick",
                                    "4": "20",
                                    "5": "3.93"
                                },
                                {
                                    "0": "The Heroin Diaries: A Year In The Life Of A Shattered Rock Star",
                                    "1": "death",
                                    "2": "1883838",
                                    "3": "Nikki Sixx",
                                    "4": "5",
                                    "5": "4.12"
                                },
                                {
                                    "0": "Tinkers",
                                    "1": "death",
                                    "2": "4957350",
                                    "3": "Paul Harding",
                                    "4": "30",
                                    "5": "3.37"
                                },
                                {
                                    "0": "Making Faces",
                                    "1": "death",
                                    "2": "18301124",
                                    "3": "Amy Harmon",
                                    "4": "43",
                                    "5": "4.36"
                                },
                                {
                                    "0": "When I'm Gone",
                                    "1": "grief",
                                    "2": "27401883",
                                    "3": "Emily Bleeker, Dan John Miller",
                                    "4": "5",
                                    "5": "3.94"
                                },
                                {
                                    "0": "The Retribution of Mara Dyer (Mara Dyer, #3)",
                                    "1": "death",
                                    "2": "15768409",
                                    "3": "Michelle Hodkin",
                                    "4": "24",
                                    "5": "4.14"
                                },
                                {
                                    "0": "My Soul to Take (Soul Screamers, #1)",
                                    "1": "death",
                                    "2": "6315602",
                                    "3": "Rachel Vincent",
                                    "4": "33",
                                    "5": "3.88"
                                },
                                {
                                    "0": "How I Live Now",
                                    "1": "death",
                                    "2": "161426",
                                    "3": "Meg Rosoff",
                                    "4": "18",
                                    "5": "3.58"
                                },
                                {
                                    "0": "These Things Hidden",
                                    "1": "death",
                                    "2": "9166559",
                                    "3": "Heather Gudenkauf",
                                    "4": "9",
                                    "5": "3.85"
                                },
                                {
                                    "0": "Alice in Zombieland (White Rabbit Chronicles, #1)",
                                    "1": "death",
                                    "2": "11300302",
                                    "3": "Gena Showalter",
                                    "4": "28",
                                    "5": "4.05"
                                },
                                {
                                    "0": "The Last Summer (of You and Me)",
                                    "1": "death",
                                    "2": "296302",
                                    "3": "Ann Brashares",
                                    "4": "6",
                                    "5": "3.58"
                                },
                                {
                                    "0": "The Magician's Assistant",
                                    "1": "death-and-dying",
                                    "2": "16055",
                                    "3": "Ann Patchett",
                                    "4": "8",
                                    "5": "3.64"
                                },
                                {
                                    "0": "The Dead and the Gone (Last Survivors, #2)",
                                    "1": "death",
                                    "2": "2169506",
                                    "3": "Susan Beth Pfeffer",
                                    "4": "41",
                                    "5": "3.84"
                                },
                                {
                                    "0": "A Northern Light",
                                    "1": "death",
                                    "2": "64481",
                                    "3": "Jennifer Donnelly",
                                    "4": "13",
                                    "5": "3.83"
                                },
                                {
                                    "0": "More Than This",
                                    "1": "death",
                                    "2": "21969786",
                                    "3": "Patrick Ness",
                                    "4": "57",
                                    "5": "4.03"
                                },
                                {
                                    "0": "The Walking Dead, Vol. 03: Safety Behind Bars",
                                    "1": "death",
                                    "2": "30069",
                                    "3": "Robert Kirkman, Charlie Adlard",
                                    "4": "14",
                                    "5": "4.31"
                                },
                                {
                                    "0": "Eighth Grade Bites (The Chronicles of Vladimir Tod, #1)",
                                    "1": "death",
                                    "2": "530848",
                                    "3": "Heather Brewer",
                                    "4": "10",
                                    "5": "3.92"
                                },
                                {
                                    "0": "Summerland",
                                    "1": "death",
                                    "2": "12799058",
                                    "3": "Elin Hilderbrand",
                                    "4": "10",
                                    "5": "3.85"
                                },
                                {
                                    "0": "I Hunt Killers (Jasper Dent, #1)",
                                    "1": "death",
                                    "2": "7766027",
                                    "3": "Barry Lyga",
                                    "4": "35",
                                    "5": "4.02"
                                },
                                {
                                    "0": "Predestined (Existence Trilogy, #2)",
                                    "1": "death",
                                    "2": "13323842",
                                    "3": "Abbi Glines",
                                    "4": "40",
                                    "5": "4.09"
                                },
                                {
                                    "0": "Mistress of the Art of Death (Mistress of the Art of Death, #1)",
                                    "1": "death",
                                    "2": "86643",
                                    "3": "Ariana Franklin",
                                    "4": "11",
                                    "5": "3.95"
                                },
                                {
                                    "0": "Immortal in Death (In Death, #3)",
                                    "1": "in-death",
                                    "2": "238126",
                                    "3": "J.D. Robb",
                                    "4": "219",
                                    "5": "4.26"
                                },
                                {
                                    "0": "Songs of the Humpback Whale",
                                    "1": "death",
                                    "2": "10914",
                                    "3": "Jodi Picoult",
                                    "4": "6",
                                    "5": "3.19"
                                },
                                {
                                    "0": "The Walking Dead, Vol. 08: Made to Suffer",
                                    "1": "death",
                                    "2": "1894269",
                                    "3": "Robert Kirkman",
                                    "4": "10",
                                    "5": "4.47"
                                },
                                {
                                    "0": "Twisted (Pretty Little Liars, #9)",
                                    "1": "death",
                                    "2": "9893331",
                                    "3": "Sara Shepard",
                                    "4": "7",
                                    "5": "4.05"
                                },
                                {
                                    "0": "Charade (Games, #1)",
                                    "1": "death",
                                    "2": "15993374",
                                    "3": "Nyrae Dawn",
                                    "4": "25",
                                    "5": "3.98"
                                },
                                {
                                    "0": "If You Stay (Beautifully Broken, #1)",
                                    "1": "death",
                                    "2": "17032328",
                                    "3": "Courtney Cole",
                                    "4": "11",
                                    "5": "3.94"
                                },
                                {
                                    "0": "Poison Princess (The Arcana Chronicles, #1)",
                                    "1": "death",
                                    "2": "13450339",
                                    "3": "Kresley Cole",
                                    "4": "20",
                                    "5": "4.14"
                                },
                                {
                                    "0": "Tatiana and Alexander (The Bronze Horseman, #2)",
                                    "1": "death",
                                    "2": "83143",
                                    "3": "Paullina Simons",
                                    "4": "8",
                                    "5": "4.3"
                                },
                                {
                                    "0": "Light on Snow",
                                    "1": "grief",
                                    "2": "14965",
                                    "3": "Anita Shreve",
                                    "4": "8",
                                    "5": "3.56"
                                },
                                {
                                    "0": "Belong to Me",
                                    "1": "grief",
                                    "2": "2113410",
                                    "3": "Marisa de los Santos",
                                    "4": "6",
                                    "5": "3.84"
                                },
                                {
                                    "0": "No Exit and Three Other Plays",
                                    "1": "death",
                                    "2": "10037",
                                    "3": "Jean-Paul Sartre, Stuart Gilbert, Lionel Abel",
                                    "4": "5",
                                    "5": "4.09"
                                },
                                {
                                    "0": "The Castaways",
                                    "1": "death",
                                    "2": "6080822",
                                    "3": "Elin Hilderbrand",
                                    "4": "6",
                                    "5": "3.69"
                                },
                                {
                                    "0": "Simple Perfection (Rosemary Beach, #6; Perfection, #2)",
                                    "1": "death",
                                    "2": "17449417",
                                    "3": "Abbi Glines",
                                    "4": "21",
                                    "5": "4.25"
                                },
                                {
                                    "0": "Can't We Talk about Something More Pleasant?",
                                    "1": "death-dying",
                                    "2": "18594409",
                                    "3": "Roz Chast",
                                    "4": "8",
                                    "5": "4.1"
                                },
                                {
                                    "0": "Death With Interruptions",
                                    "1": "death",
                                    "2": "3018539",
                                    "3": "José Saramago, Margaret Jull Costa",
                                    "4": "42",
                                    "5": "3.97"
                                },
                                {
                                    "0": "A Long Walk to Water: Based on a True Story",
                                    "1": "death",
                                    "2": "7981456",
                                    "3": "Linda Sue Park",
                                    "4": "13",
                                    "5": "4.23"
                                },
                                {
                                    "0": "Rapture in Death (In Death, #4)",
                                    "1": "series-in-death",
                                    "2": "201175",
                                    "3": "J.D. Robb, Susan Ericksen",
                                    "4": "13",
                                    "5": "4.26"
                                },
                                {
                                    "0": "A Rose for Emily and Other Stories",
                                    "1": "death",
                                    "2": "426025",
                                    "3": "William Faulkner",
                                    "4": "5",
                                    "5": "4.06"
                                },
                                {
                                    "0": "The Air He Breathes (Elements, #1)",
                                    "1": "death",
                                    "2": "25564446",
                                    "3": "Brittainy C. Cherry",
                                    "4": "26",
                                    "5": "4.2"
                                },
                                {
                                    "0": "Airhead (Airhead, #1)",
                                    "1": "death",
                                    "2": "2213324",
                                    "3": "Meg Cabot",
                                    "4": "9",
                                    "5": "3.77"
                                },
                                {
                                    "0": "Smoke Gets in Your Eyes: And Other Lessons from the Crematory",
                                    "1": "death-dying",
                                    "2": "20663702",
                                    "3": "Caitlin Doughty",
                                    "4": "20",
                                    "5": "4.04"
                                },
                                {
                                    "0": "The Ice Twins",
                                    "1": "grief",
                                    "2": "23553419",
                                    "3": "S.K. Tremayne",
                                    "4": "9",
                                    "5": "3.68"
                                },
                                {
                                    "0": "Batman: A Death in the Family",
                                    "1": "death",
                                    "2": "107032",
                                    "3": "Jim Starlin, Jim Aparo, Mike DeCarlo",
                                    "4": "2",
                                    "5": "4.05"
                                },
                                {
                                    "0": "Second Grave on the Left (Charley Davidson, #2)",
                                    "1": "death",
                                    "2": "9565045",
                                    "3": "Darynda Jones",
                                    "4": "17",
                                    "5": "4.29"
                                },
                                {
                                    "0": "Where They Found Her",
                                    "1": "death",
                                    "2": "22693182",
                                    "3": "Kimberly McCreight",
                                    "4": "11",
                                    "5": "3.83"
                                },
                                {
                                    "0": "Mockingbird",
                                    "1": "death-and-dying",
                                    "2": "6596547",
                                    "3": "Kathryn Erskine",
                                    "4": "27",
                                    "5": "4.18"
                                },
                                {
                                    "0": "Promises in Death (In Death, #28)",
                                    "1": "death",
                                    "2": "3492020",
                                    "3": "J.D. Robb",
                                    "4": "10",
                                    "5": "4.4"
                                },
                                {
                                    "0": "Min kamp 1 (Min kamp #1)",
                                    "1": "death",
                                    "2": "7147831",
                                    "3": "Karl Ove Knausgård",
                                    "4": "17",
                                    "5": "4.08"
                                },
                                {
                                    "0": "Sisterhood Everlasting (Sisterhood, #5)",
                                    "1": "dealing-with-death",
                                    "2": "9461872",
                                    "3": "Ann Brashares",
                                    "4": "10",
                                    "5": "3.9"
                                },
                                {
                                    "0": "Delicious!",
                                    "1": "grief",
                                    "2": "18167006",
                                    "3": "Ruth Reichl",
                                    "4": "8",
                                    "5": "3.75"
                                },
                                {
                                    "0": "Everlost (Skinjacker, #1)",
                                    "1": "death",
                                    "2": "688191",
                                    "3": "Neal Shusterman",
                                    "4": "72",
                                    "5": "3.94"
                                },
                                {
                                    "0": "Going Bovine",
                                    "1": "death-and-dying",
                                    "2": "6512140",
                                    "3": "Libba Bray",
                                    "4": "19",
                                    "5": "3.65"
                                },
                                {
                                    "0": "The Dead-Tossed Waves (The Forest of Hands and Teeth, #2)",
                                    "1": "death",
                                    "2": "6555517",
                                    "3": "Carrie Ryan",
                                    "4": "19",
                                    "5": "3.91"
                                },
                                {
                                    "0": "Ceremony in Death (In Death, #5)",
                                    "1": "series-in-death",
                                    "2": "74036",
                                    "3": "J.D. Robb",
                                    "4": "12",
                                    "5": "4.26"
                                },
                                {
                                    "0": "Bossman",
                                    "1": "death",
                                    "2": "31140847",
                                    "3": "Vi Keeland",
                                    "4": "11",
                                    "5": "4.25"
                                },
                                {
                                    "0": "Did You Ever Have a Family",
                                    "1": "death",
                                    "2": "24452249",
                                    "3": "Bill Clegg",
                                    "4": "20",
                                    "5": "3.81"
                                },
                                {
                                    "0": "On Death and Dying",
                                    "1": "grief",
                                    "2": "781844",
                                    "3": "Elisabeth Kübler-Ross",
                                    "4": "36",
                                    "5": "4.15"
                                },
                                {
                                    "0": "Perfect (Impulse, #2)",
                                    "1": "death",
                                    "2": "9917945",
                                    "3": "Ellen Hopkins",
                                    "4": "8",
                                    "5": "4.35"
                                },
                                {
                                    "0": "Portrait in Death (In Death, #16)",
                                    "1": "series-in-death",
                                    "2": "268604",
                                    "3": "J.D. Robb",
                                    "4": "19",
                                    "5": "4.37"
                                },
                                {
                                    "0": "Ceaseless (Existence Trilogy, #3)",
                                    "1": "death",
                                    "2": "13573795",
                                    "3": "Abbi Glines",
                                    "4": "25",
                                    "5": "4.2"
                                },
                                {
                                    "0": "Bad Girls Don't Die (Bad Girls Don't Die, #1)",
                                    "1": "death",
                                    "2": "3678651",
                                    "3": "Katie Alender",
                                    "4": "11",
                                    "5": "4.07"
                                },
                                {
                                    "0": "Two By Two",
                                    "1": "death",
                                    "2": "30002998",
                                    "3": "Nicholas Sparks",
                                    "4": "6",
                                    "5": "3.9"
                                },
                                {
                                    "0": "A Secret Kept",
                                    "1": "death",
                                    "2": "7963208",
                                    "3": "Tatiana de Rosnay",
                                    "4": "7",
                                    "5": "3.33"
                                },
                                {
                                    "0": "Raw (RAW Family, #1)",
                                    "1": "death",
                                    "2": "18468559",
                                    "3": "Belle Aurora",
                                    "4": "22",
                                    "5": "4.23"
                                },
                                {
                                    "0": "That Boy (That Boy, #1)",
                                    "1": "death",
                                    "2": "11382346",
                                    "3": "Jillian Dodd",
                                    "4": "11",
                                    "5": "3.96"
                                },
                                {
                                    "0": "The Pigman (The Pigman, #1)",
                                    "1": "death",
                                    "2": "128092",
                                    "3": "Paul Zindel",
                                    "4": "8",
                                    "5": "3.58"
                                },
                                {
                                    "0": "Abandon (Abandon, #1)",
                                    "1": "death",
                                    "2": "9397967",
                                    "3": "Meg Cabot",
                                    "4": "38",
                                    "5": "3.71"
                                },
                                {
                                    "0": "My Heart and Other Black Holes",
                                    "1": "death",
                                    "2": "18336965",
                                    "3": "Jasmine Warga",
                                    "4": "60",
                                    "5": "4.02"
                                },
                                {
                                    "0": "Ninth Grade Slays (The Chronicles of Vladimir Tod, #2)",
                                    "1": "death",
                                    "2": "2272813",
                                    "3": "Heather Brewer",
                                    "4": "10",
                                    "5": "4.14"
                                },
                                {
                                    "0": "Independent Study (The Testing, #2)",
                                    "1": "death",
                                    "2": "17165932",
                                    "3": "Joelle Charbonneau",
                                    "4": "11",
                                    "5": "3.97"
                                },
                                {
                                    "0": "Please Ignore Vera Dietz",
                                    "1": "grief",
                                    "2": "6665671",
                                    "3": "A.S. King",
                                    "4": "41",
                                    "5": "3.91"
                                },
                                {
                                    "0": "Dragon Wing (The Death Gate Cycle, #1)",
                                    "1": "death-gate-cycle",
                                    "2": "28481",
                                    "3": "Margaret Weis, Tracy Hickman",
                                    "4": "41",
                                    "5": "3.93"
                                },
                                {
                                    "0": "This World We Live In (Last Survivors, #3)",
                                    "1": "death",
                                    "2": "6393972",
                                    "3": "Susan Beth Pfeffer",
                                    "4": "24",
                                    "5": "3.81"
                                },
                                {
                                    "0": "Vengeance in Death (In Death, #6)",
                                    "1": "in-death-series",
                                    "2": "132778",
                                    "3": "J.D. Robb",
                                    "4": "213",
                                    "5": "4.34"
                                },
                                {
                                    "0": "Vanishing Girls",
                                    "1": "death",
                                    "2": "22465597",
                                    "3": "Lauren Oliver",
                                    "4": "23",
                                    "5": "3.59"
                                },
                                {
                                    "0": "The Dive From Clausen's Pier",
                                    "1": "grief",
                                    "2": "16059",
                                    "3": "Ann Packer",
                                    "4": "3",
                                    "5": "3.41"
                                },
                                {
                                    "0": "The Tibetan Book of Living and Dying",
                                    "1": "death-and-dying",
                                    "2": "206731",
                                    "3": "Sogyal Rinpoche, Andrew Harvey",
                                    "4": "6",
                                    "5": "4.22"
                                },
                                {
                                    "0": "Me & Emma",
                                    "1": "death",
                                    "2": "80534",
                                    "3": "Elizabeth Flock",
                                    "4": "4",
                                    "5": "3.9"
                                },
                                {
                                    "0": "Kissed by an Angel/The Power of Love/Soulmates (Kissed by an Angel, #1-3)",
                                    "1": "death",
                                    "2": "321645",
                                    "3": "Elizabeth Chandler",
                                    "4": "15",
                                    "5": "4.08"
                                },
                                {
                                    "0": "The Walk (The Walk, #1)",
                                    "1": "death",
                                    "2": "7187395",
                                    "3": "Richard Paul Evans",
                                    "4": "4",
                                    "5": "4.12"
                                },
                                {
                                    "0": "Dark Triumph (His Fair Assassin, #2)",
                                    "1": "death",
                                    "2": "9943270",
                                    "3": "Robin LaFevers",
                                    "4": "44",
                                    "5": "4.15"
                                },
                                {
                                    "0": "The Crossover",
                                    "1": "grief",
                                    "2": "18263725",
                                    "3": "Kwame Alexander",
                                    "4": "21",
                                    "5": "4.22"
                                },
                                {
                                    "0": "Holiday in Death (In Death, #7)",
                                    "1": "series-in-death",
                                    "2": "238125",
                                    "3": "J.D. Robb",
                                    "4": "22",
                                    "5": "4.31"
                                },
                                {
                                    "0": "Three Times Lucky (Tupelo Landing, #1)",
                                    "1": "death",
                                    "2": "11737313",
                                    "3": "Sheila Turnage",
                                    "4": "11",
                                    "5": "4.01"
                                },
                                {
                                    "0": "All My Friends Are Dead",
                                    "1": "death",
                                    "2": "8044557",
                                    "3": "Avery Monsen, Jory John",
                                    "4": "23",
                                    "5": "4.24"
                                },
                                {
                                    "0": "Bleach, Volume 15",
                                    "1": "death-gods",
                                    "2": "2879",
                                    "3": "Tite Kubo",
                                    "4": "2",
                                    "5": "4.41"
                                },
                                {
                                    "0": "This Is Where It Ends",
                                    "1": "death",
                                    "2": "24529123",
                                    "3": "Marieke Nijkamp",
                                    "4": "39",
                                    "5": "3.63"
                                },
                                {
                                    "0": "Drums, Girls & Dangerous Pie (Drums, Girls & Dangerous Pie, #1)",
                                    "1": "death-and-dying",
                                    "2": "318404",
                                    "3": "Jordan Sonnenblick",
                                    "4": "8",
                                    "5": "4.25"
                                },
                                {
                                    "0": "The Sea",
                                    "1": "death",
                                    "2": "3656",
                                    "3": "John Banville",
                                    "4": "15",
                                    "5": "3.49"
                                },
                                {
                                    "0": "Revolution",
                                    "1": "grief",
                                    "2": "7558747",
                                    "3": "Jennifer Donnelly",
                                    "4": "38",
                                    "5": "4.02"
                                },
                                {
                                    "0": "Audrey Rose",
                                    "1": "death",
                                    "2": "455764",
                                    "3": "Frank De Felitta",
                                    "4": "3",
                                    "5": "3.86"
                                },
                                {
                                    "0": "Confessions of a Murder Suspect (Confessions, #1)",
                                    "1": "death",
                                    "2": "13521399",
                                    "3": "James Patterson, Maxine Paetro",
                                    "4": "9",
                                    "5": "3.89"
                                },
                                {
                                    "0": "Five Days at Memorial: Life and Death in a Storm-Ravaged Hospital",
                                    "1": "death",
                                    "2": "17704902",
                                    "3": "Sheri  Fink",
                                    "4": "13",
                                    "5": "3.87"
                                },
                                {
                                    "0": "The Poisoner's Handbook: Murder and the Birth of Forensic Medicine in Jazz Age New York",
                                    "1": "death",
                                    "2": "7054123",
                                    "3": "Deborah Blum",
                                    "4": "15",
                                    "5": "4"
                                },
                                {
                                    "0": "Living Dead Girl",
                                    "1": "death",
                                    "2": "2954411",
                                    "3": "Elizabeth Scott",
                                    "4": "17",
                                    "5": "3.83"
                                },
                                {
                                    "0": "Reboot (Reboot, #1)",
                                    "1": "death",
                                    "2": "13517455",
                                    "3": "Amy Tintera",
                                    "4": "17",
                                    "5": "3.92"
                                },
                                {
                                    "0": "Until I Die (Revenants, #2)",
                                    "1": "death",
                                    "2": "12908877",
                                    "3": "Amy Plum",
                                    "4": "22",
                                    "5": "4.17"
                                },
                                {
                                    "0": "The Blind Owl",
                                    "1": "death",
                                    "2": "45967",
                                    "3": "Sadegh Hedayat, D.P. Costello",
                                    "4": "4",
                                    "5": "3.99"
                                },
                                {
                                    "0": "Until Friday Night (The Field Party, #1)",
                                    "1": "death",
                                    "2": "22522202",
                                    "3": "Abbi Glines",
                                    "4": "23",
                                    "5": "4.01"
                                },
                                {
                                    "0": "The Walking Dead, Vol. 06: This Sorrowful Life",
                                    "1": "death",
                                    "2": "138395",
                                    "3": "Robert Kirkman, Charlie Adlard, Cliff Rathburn",
                                    "4": "8",
                                    "5": "4.32"
                                },
                                {
                                    "0": "The Blue Bistro",
                                    "1": "death",
                                    "2": "152695",
                                    "3": "Elin Hilderbrand",
                                    "4": "4",
                                    "5": "4"
                                },
                                {
                                    "0": "Third Grave Dead Ahead (Charley Davidson, #3)",
                                    "1": "death",
                                    "2": "12043770",
                                    "3": "Darynda Jones",
                                    "4": "15",
                                    "5": "4.39"
                                },
                                {
                                    "0": "First They Killed My Father: A Daughter of Cambodia Remembers",
                                    "1": "death",
                                    "2": "4373",
                                    "3": "Loung Ung",
                                    "4": "11",
                                    "5": "4.29"
                                },
                                {
                                    "0": "Conspiracy in Death (In Death, #8)",
                                    "1": "series-in-death",
                                    "2": "172691",
                                    "3": "J.D. Robb",
                                    "4": "14",
                                    "5": "4.35"
                                },
                                {
                                    "0": "Daytripper",
                                    "1": "death",
                                    "2": "8477057",
                                    "3": "Fábio Moon, Gabriel Bá, Craig Thompson, Dave Stewart, Sean Konot",
                                    "4": "28",
                                    "5": "4.31"
                                },
                                {
                                    "0": "The Mothers",
                                    "1": "grief",
                                    "2": "28815371",
                                    "3": "Brit Bennett",
                                    "4": "19",
                                    "5": "3.87"
                                },
                                {
                                    "0": "A Single Man",
                                    "1": "death",
                                    "2": "16842",
                                    "3": "Christopher Isherwood",
                                    "4": "12",
                                    "5": "4.11"
                                },
                                {
                                    "0": "Mortality",
                                    "1": "death-and-dying",
                                    "2": "13529055",
                                    "3": "Christopher Hitchens",
                                    "4": "4",
                                    "5": "4.12"
                                },
                                {
                                    "0": "A Mango-Shaped Space",
                                    "1": "grief",
                                    "2": "171020",
                                    "3": "Wendy Mass",
                                    "4": "14",
                                    "5": "4.22"
                                },
                                {
                                    "0": "Here's to Us",
                                    "1": "death",
                                    "2": "27161845",
                                    "3": "Elin Hilderbrand",
                                    "4": "3",
                                    "5": "3.73"
                                },
                                {
                                    "0": "The Sandman: Endless Nights",
                                    "1": "death",
                                    "2": "47720",
                                    "3": "Neil Gaiman, Barron Storey, Bill Sienkiewicz, Glenn Fabry, Dave McKean, P. Craig Russell, Milo Manara, Miguelanxo Prado, Frank Quitely, Todd Klein",
                                    "4": "8",
                                    "5": "4.34"
                                },
                                {
                                    "0": "The Impossible Knife of Memory",
                                    "1": "grief",
                                    "2": "18079527",
                                    "3": "Laurie Halse Anderson",
                                    "4": "13",
                                    "5": "3.93"
                                },
                                {
                                    "0": "One Last Thing Before I Go",
                                    "1": "death",
                                    "2": "13586743",
                                    "3": "Jonathan Tropper",
                                    "4": "6",
                                    "5": "3.75"
                                },
                                {
                                    "0": "By the Time You Read This, I'll Be Dead",
                                    "1": "death",
                                    "2": "6609549",
                                    "3": "Julie Anne Peters, C.J. Bott",
                                    "4": "44",
                                    "5": "3.89"
                                },
                                {
                                    "0": "The Green Mile, Part 1: The Two Dead Girls",
                                    "1": "death",
                                    "2": "92227",
                                    "3": "Stephen King",
                                    "4": "4",
                                    "5": "4.49"
                                },
                                {
                                    "0": "The Wednesday Letters",
                                    "1": "death-and-dying",
                                    "2": "1316382",
                                    "3": "Jason F. Wright",
                                    "4": "3",
                                    "5": "3.61"
                                },
                                {
                                    "0": "The Walking Dead, Vol. 12: Life Among Them",
                                    "1": "death",
                                    "2": "7469664",
                                    "3": "Robert Kirkman, Charlie Adlard",
                                    "4": "7",
                                    "5": "4.34"
                                },
                                {
                                    "0": "Hidden",
                                    "1": "grief",
                                    "2": "18819296",
                                    "3": "Catherine McKenzie",
                                    "4": "3",
                                    "5": "3.44"
                                },
                                {
                                    "0": "Skippy Dies",
                                    "1": "death",
                                    "2": "7146335",
                                    "3": "Paul Murray",
                                    "4": "14",
                                    "5": "3.72"
                                },
                                {
                                    "0": "My Best Friend's Girl",
                                    "1": "grief",
                                    "2": "1617875",
                                    "3": "Dorothy Koomson",
                                    "4": "4",
                                    "5": "4.02"
                                },
                                {
                                    "0": "One Summer",
                                    "1": "grief",
                                    "2": "9509289",
                                    "3": "David Baldacci",
                                    "4": "10",
                                    "5": "3.72"
                                },
                                {
                                    "0": "Jasper Jones",
                                    "1": "death",
                                    "2": "8407173",
                                    "3": "Craig Silvey",
                                    "4": "19",
                                    "5": "4.06"
                                },
                                {
                                    "0": "Hold Still",
                                    "1": "grief",
                                    "2": "6373717",
                                    "3": "Nina LaCour",
                                    "4": "30",
                                    "5": "3.99"
                                },
                                {
                                    "0": "The Middlesteins",
                                    "1": "death",
                                    "2": "13525938",
                                    "3": "Jami Attenberg",
                                    "4": "5",
                                    "5": "3.42"
                                },
                                {
                                    "0": "Flyboys: A True Story of Courage",
                                    "1": "death",
                                    "2": "202146",
                                    "3": "James D. Bradley",
                                    "4": "4",
                                    "5": "4.15"
                                },
                                {
                                    "0": "Winter Solstice",
                                    "1": "grief",
                                    "2": "116054",
                                    "3": "Rosamunde Pilcher",
                                    "4": "5",
                                    "5": "4.15"
                                },
                                {
                                    "0": "New York to Dallas (In Death, #33)",
                                    "1": "death",
                                    "2": "10402992",
                                    "3": "J.D. Robb, Susan Ericksen",
                                    "4": "8",
                                    "5": "4.42"
                                },
                                {
                                    "0": "Blue Nights",
                                    "1": "death",
                                    "2": "10252302",
                                    "3": "Joan Didion",
                                    "4": "41",
                                    "5": "3.75"
                                },
                                {
                                    "0": "The Complete Clive Barker's The Great And Secret Show",
                                    "1": "death",
                                    "2": "34871",
                                    "3": "Chris Ryall, Gabriel Rodríguez, Clive Barker",
                                    "4": "1",
                                    "5": "4.21"
                                },
                                {
                                    "0": "A Castle of Sand (A Shade of Vampire, #3)",
                                    "1": "death",
                                    "2": "17925397",
                                    "3": "Bella Forrest",
                                    "4": "4",
                                    "5": "4.1"
                                },
                                {
                                    "0": "The Enemy (The Enemy, #1)",
                                    "1": "death",
                                    "2": "6605625",
                                    "3": "Charlie Higson",
                                    "4": "11",
                                    "5": "4.08"
                                },
                                {
                                    "0": "The Cement Garden",
                                    "1": "death",
                                    "2": "9957",
                                    "3": "Ian McEwan",
                                    "4": "11",
                                    "5": "3.57"
                                },
                                {
                                    "0": "Serpent Mage (The Death Gate Cycle, #4)",
                                    "1": "death",
                                    "2": "28507",
                                    "3": "Margaret Weis, Tracy Hickman",
                                    "4": "9",
                                    "5": "4.06"
                                },
                                {
                                    "0": "The Descendants",
                                    "1": "death-of-mother",
                                    "2": "968403",
                                    "3": "Kaui Hart Hemmings",
                                    "4": "6",
                                    "5": "3.82"
                                },
                                {
                                    "0": "Falling Angels",
                                    "1": "death",
                                    "2": "2872",
                                    "3": "Tracy Chevalier",
                                    "4": "5",
                                    "5": "3.55"
                                },
                                {
                                    "0": "Wolf Brother (Chronicles of Ancient Darkness, #1)",
                                    "1": "death",
                                    "2": "295305",
                                    "3": "Michelle Paver, Geoff Taylor",
                                    "4": "9",
                                    "5": "4.15"
                                },
                                {
                                    "0": "The Universe Versus Alex Woods",
                                    "1": "death",
                                    "2": "15984268",
                                    "3": "Gavin Extence",
                                    "4": "13",
                                    "5": "4.08"
                                },
                                {
                                    "0": "Memory in Death (In Death, #22)",
                                    "1": "j-d-robb-in-death-series",
                                    "2": "238141",
                                    "3": "J.D. Robb",
                                    "4": "8",
                                    "5": "4.31"
                                },
                                {
                                    "0": "Tenth Grade Bleeds (The Chronicles of Vladimir Tod, #3)",
                                    "1": "death",
                                    "2": "6178065",
                                    "3": "Heather Brewer",
                                    "4": "5",
                                    "5": "4.24"
                                },
                                {
                                    "0": "The Forever of Ella and Micha (The Secret, #2)",
                                    "1": "death",
                                    "2": "16055475",
                                    "3": "Jessica Sorensen",
                                    "4": "9",
                                    "5": "4.1"
                                },
                                {
                                    "0": "The Masque of the Red Death",
                                    "1": "death",
                                    "2": "204779",
                                    "3": "Edgar Allan Poe",
                                    "4": "9",
                                    "5": "4.08"
                                },
                                {
                                    "0": "The Crow Road",
                                    "1": "death",
                                    "2": "12021",
                                    "3": "Iain Banks",
                                    "4": "4",
                                    "5": "4.07"
                                },
                                {
                                    "0": "Teardrop (Teardrop, #1)",
                                    "1": "death",
                                    "2": "16070143",
                                    "3": "Lauren Kate",
                                    "4": "12",
                                    "5": "3.65"
                                },
                                {
                                    "0": "Death Note, Vol. 2: Confluence (Death Note, #2)",
                                    "1": "deathnote",
                                    "2": "13619",
                                    "3": "Tsugumi Ohba, Takeshi Obata",
                                    "4": "17",
                                    "5": "4.42"
                                },
                                {
                                    "0": "Black Ice",
                                    "1": "death",
                                    "2": "21943246",
                                    "3": "Becca Fitzpatrick",
                                    "4": "14",
                                    "5": "3.88"
                                },
                                {
                                    "0": "I Have Lived a Thousand Years",
                                    "1": "death",
                                    "2": "48834",
                                    "3": "Livia E. Bitton-Jackson",
                                    "4": "4",
                                    "5": "4.17"
                                },
                                {
                                    "0": "Into the Labyrinth (The Death Gate Cycle, #6)",
                                    "1": "deathgate-cycle",
                                    "2": "28484",
                                    "3": "Margaret Weis, Tracy Hickman",
                                    "4": "6",
                                    "5": "4.09"
                                },
                                {
                                    "0": "Where Things Come Back",
                                    "1": "death",
                                    "2": "8563789",
                                    "3": "John Corey Whaley",
                                    "4": "16",
                                    "5": "3.81"
                                },
                                {
                                    "0": "Survivor In Death (In Death, #20)",
                                    "1": "series-in-death",
                                    "2": "109367",
                                    "3": "J.D. Robb",
                                    "4": "8",
                                    "5": "4.38"
                                },
                                {
                                    "0": "Descent",
                                    "1": "grief",
                                    "2": "20312459",
                                    "3": "Tim Johnston",
                                    "4": "14",
                                    "5": "3.59"
                                },
                                {
                                    "0": "Batman: Whatever Happened to the Caped Crusader?",
                                    "1": "death",
                                    "2": "5599692",
                                    "3": "Neil Gaiman, Andy Kubert, Matt Wagner, Simon Bisley, Bernie Mireault, Mark Buckingham",
                                    "4": "4",
                                    "5": "3.97"
                                },
                                {
                                    "0": "The Gathering",
                                    "1": "grief",
                                    "2": "998133",
                                    "3": "Anne Enright",
                                    "4": "10",
                                    "5": "3.04"
                                },
                                {
                                    "0": "Girl of Nightmares (Anna, #2)",
                                    "1": "death",
                                    "2": "12507214",
                                    "3": "Kendare Blake",
                                    "4": "35",
                                    "5": "3.9"
                                },
                                {
                                    "0": "More Than This (More Than, #1)",
                                    "1": "death",
                                    "2": "18285151",
                                    "3": "Jay McLean",
                                    "4": "28",
                                    "5": "4.15"
                                },
                                {
                                    "0": "Shelter (Mickey Bolitar, #1)",
                                    "1": "death",
                                    "2": "9838800",
                                    "3": "Harlan Coben",
                                    "4": "9",
                                    "5": "3.92"
                                },
                                {
                                    "0": "Don't Look Back",
                                    "1": "death",
                                    "2": "18296030",
                                    "3": "Jennifer L. Armentrout",
                                    "4": "21",
                                    "5": "4.11"
                                },
                                {
                                    "0": "The Running Dream",
                                    "1": "grief",
                                    "2": "8354134",
                                    "3": "Wendelin Van Draanen",
                                    "4": "10",
                                    "5": "4.3"
                                },
                                {
                                    "0": "Ordinary People",
                                    "1": "grief",
                                    "2": "160251",
                                    "3": "Judith Guest",
                                    "4": "9",
                                    "5": "3.9"
                                },
                                {
                                    "0": "The Dark and Hollow Places (The Forest of Hands and Teeth, #3)",
                                    "1": "death",
                                    "2": "8535273",
                                    "3": "Carrie Ryan",
                                    "4": "15",
                                    "5": "4.03"
                                },
                                {
                                    "0": "Judgment in Death (In Death, #11)",
                                    "1": "series-in-death",
                                    "2": "89160",
                                    "3": "J.D. Robb, Nora Roberts",
                                    "4": "15",
                                    "5": "4.33"
                                },
                                {
                                    "0": "Innocent in Death (In Death, #24)",
                                    "1": "death",
                                    "2": "74033",
                                    "3": "J.D. Robb",
                                    "4": "12",
                                    "5": "4.36"
                                },
                                {
                                    "0": "The Dead in Their Vaulted Arches (Flavia de Luce, #6)",
                                    "1": "death",
                                    "2": "17834904",
                                    "3": "Alan Bradley",
                                    "4": "18",
                                    "5": "4.16"
                                },
                                {
                                    "0": "Sever (The Chemical Garden, #3)",
                                    "1": "death",
                                    "2": "12383869",
                                    "3": "Lauren DeStefano",
                                    "4": "14",
                                    "5": "3.8"
                                },
                                {
                                    "0": "Fourth Grave Beneath My Feet (Charley Davidson, #4)",
                                    "1": "death",
                                    "2": "13538992",
                                    "3": "Darynda Jones",
                                    "4": "16",
                                    "5": "4.4"
                                },
                                {
                                    "0": "The Dogs of Babel",
                                    "1": "death-and-dying",
                                    "2": "89691",
                                    "3": "Carolyn  Parkhurst",
                                    "4": "5",
                                    "5": "3.56"
                                },
                                {
                                    "0": "Anne Frank : The Biography",
                                    "1": "death",
                                    "2": "905382",
                                    "3": "Melissa Müller, Rita Kimber, Robert Kimber",
                                    "4": "2",
                                    "5": "4.31"
                                },
                                {
                                    "0": "An Occurrence at Owl Creek Bridge",
                                    "1": "death",
                                    "2": "920649",
                                    "3": "Ambrose Bierce",
                                    "4": "5",
                                    "5": "4.02"
                                },
                                {
                                    "0": "Sometimes It Lasts (Sea Breeze, #5)",
                                    "1": "death",
                                    "2": "15828714",
                                    "3": "Abbi Glines",
                                    "4": "13",
                                    "5": "4.28"
                                },
                                {
                                    "0": "Kira-Kira",
                                    "1": "grief",
                                    "2": "89731",
                                    "3": "Cynthia Kadohata",
                                    "4": "14",
                                    "5": "3.9"
                                },
                                {
                                    "0": "Someone",
                                    "1": "grief",
                                    "2": "17332207",
                                    "3": "Alice McDermott",
                                    "4": "4",
                                    "5": "3.76"
                                },
                                {
                                    "0": "Suicide Notes",
                                    "1": "death",
                                    "2": "3097601",
                                    "3": "Michael Thomas Ford",
                                    "4": "15",
                                    "5": "3.92"
                                },
                                {
                                    "0": "The Seventh Gate (The Death Gate Cycle, #7)",
                                    "1": "deathgate-cycle",
                                    "2": "28483",
                                    "3": "Margaret Weis, Tracy Hickman",
                                    "4": "8",
                                    "5": "4.09"
                                },
                                {
                                    "0": "Bright Side (Bright Side, #1)",
                                    "1": "death",
                                    "2": "22669832",
                                    "3": "Kim Holden",
                                    "4": "22",
                                    "5": "4.42"
                                },
                                {
                                    "0": "Twisted Palace (The Royals, #3)",
                                    "1": "death",
                                    "2": "29519517",
                                    "3": "Erin Watt",
                                    "4": "12",
                                    "5": "4"
                                },
                                {
                                    "0": "Witness in Death (In Death, #10)",
                                    "1": "series-in-death",
                                    "2": "213975",
                                    "3": "J.D. Robb, Susan Ericksen",
                                    "4": "18",
                                    "5": "4.3"
                                },
                                {
                                    "0": "The Executioner's Song",
                                    "1": "death",
                                    "2": "12468",
                                    "3": "Norman Mailer",
                                    "4": "6",
                                    "5": "4.07"
                                },
                                {
                                    "0": "I'd Know You Anywhere",
                                    "1": "death",
                                    "2": "7636774",
                                    "3": "Laura Lippman",
                                    "4": "8",
                                    "5": "3.47"
                                },
                                {
                                    "0": "Don't Die, My Love",
                                    "1": "death-dying",
                                    "2": "127451",
                                    "3": "Lurlene McDaniel",
                                    "4": "2",
                                    "5": "4.12"
                                },
                                {
                                    "0": "The Brothers Lionheart",
                                    "1": "death",
                                    "2": "19312",
                                    "3": "Astrid Lindgren, Ilon Wikland, Jill M. Morgan",
                                    "4": "11",
                                    "5": "4.35"
                                },
                                {
                                    "0": "Don't Go",
                                    "1": "death",
                                    "2": "15793165",
                                    "3": "Lisa Scottoline",
                                    "4": "4",
                                    "5": "3.72"
                                },
                                {
                                    "0": "Loyalty in Death (In Death, #9)",
                                    "1": "death",
                                    "2": "268598",
                                    "3": "J.D. Robb, Susan Ericksen",
                                    "4": "12",
                                    "5": "4.3"
                                },
                                {
                                    "0": "Loving Mr. Daniels",
                                    "1": "death",
                                    "2": "20348781",
                                    "3": "Brittainy C. Cherry",
                                    "4": "24",
                                    "5": "4.28"
                                },
                                {
                                    "0": "The Good Luck of Right Now",
                                    "1": "death",
                                    "2": "18054175",
                                    "3": "Matthew Quick",
                                    "4": "11",
                                    "5": "3.61"
                                },
                                {
                                    "0": "Cabal",
                                    "1": "death",
                                    "2": "103035",
                                    "3": "Clive Barker",
                                    "4": "4",
                                    "5": "3.92"
                                },
                                {
                                    "0": "Sempre (Sempre, #1)",
                                    "1": "death",
                                    "2": "13111733",
                                    "3": "J.M. Darhower",
                                    "4": "18",
                                    "5": "4.21"
                                },
                                {
                                    "0": "The Eyes of Darkness",
                                    "1": "death",
                                    "2": "32443",
                                    "3": "Leigh Nichols, Dean Koontz",
                                    "4": "2",
                                    "5": "3.85"
                                },
                                {
                                    "0": "Treachery in Death (In Death, #32)",
                                    "1": "j-d-robb-in-death-series",
                                    "2": "8315872",
                                    "3": "J.D. Robb, Nora Roberts",
                                    "4": "10",
                                    "5": "4.43"
                                },
                                {
                                    "0": "Carter Reed (Carter Reed, #1)",
                                    "1": "death",
                                    "2": "18221931",
                                    "3": "Tijan",
                                    "4": "27",
                                    "5": "4.03"
                                },
                                {
                                    "0": "All My Puny Sorrows",
                                    "1": "grief",
                                    "2": "18339630",
                                    "3": "Miriam Toews",
                                    "4": "13",
                                    "5": "3.93"
                                },
                                {
                                    "0": "Betrayal in Death (In Death, #12)",
                                    "1": "series-in-death",
                                    "2": "762064",
                                    "3": "J.D. Robb, Nora Roberts",
                                    "4": "9",
                                    "5": "4.31"
                                },
                                {
                                    "0": "Lily and the Octopus",
                                    "1": "death",
                                    "2": "27276262",
                                    "3": "Steven  Rowley",
                                    "4": "11",
                                    "5": "3.74"
                                },
                                {
                                    "0": "The Madman’s Daughter (The Madman’s Daughter, #1)",
                                    "1": "death",
                                    "2": "12291438",
                                    "3": "Megan Shepherd",
                                    "4": "17",
                                    "5": "3.69"
                                },
                                {
                                    "0": "The Little Match Girl",
                                    "1": "death",
                                    "2": "342994",
                                    "3": "Hans Christian Andersen, Rachel Isadora",
                                    "4": "8",
                                    "5": "4.08"
                                },
                                {
                                    "0": "Death Note, Vol. 3: Hard Run (Death Note, #3)",
                                    "1": "death",
                                    "2": "13618",
                                    "3": "Tsugumi Ohba, Takeshi Obata",
                                    "4": "16",
                                    "5": "4.42"
                                },
                                {
                                    "0": "Saving June",
                                    "1": "grief",
                                    "2": "10947600",
                                    "3": "Hannah Harrington",
                                    "4": "14",
                                    "5": "3.97"
                                },
                                {
                                    "0": "Dead End in Norvelt",
                                    "1": "death",
                                    "2": "9858488",
                                    "3": "Jack Gantos",
                                    "4": "35",
                                    "5": "3.72"
                                },
                                {
                                    "0": "The Dry (Aaron Falk, #1)",
                                    "1": "death",
                                    "2": "27824826",
                                    "3": "Jane Harper",
                                    "4": "12",
                                    "5": "4.07"
                                },
                                {
                                    "0": "Proof",
                                    "1": "death",
                                    "2": "150720",
                                    "3": "David Auburn",
                                    "4": "3",
                                    "5": "4.01"
                                },
                                {
                                    "0": "Saint Odd (Odd Thomas, #7)",
                                    "1": "death",
                                    "2": "15722284",
                                    "3": "Dean Koontz",
                                    "4": "4",
                                    "5": "4.12"
                                },
                                {
                                    "0": "Wave",
                                    "1": "death-and-dying",
                                    "2": "15771862",
                                    "3": "Sonali Deraniyagala",
                                    "4": "9",
                                    "5": "3.7"
                                },
                                {
                                    "0": "Fire Sea (The Death Gate Cycle, #3)",
                                    "1": "deathgate-cycle",
                                    "2": "1307",
                                    "3": "Margaret Weis, Tracy Hickman",
                                    "4": "6",
                                    "5": "4.05"
                                },
                                {
                                    "0": "Miracle in the Andes",
                                    "1": "death",
                                    "2": "454236",
                                    "3": "Nando Parrado, Vince Rause",
                                    "4": "4",
                                    "5": "4.21"
                                },
                                {
                                    "0": "Private Peaceful",
                                    "1": "death",
                                    "2": "1048645",
                                    "3": "Michael Morpurgo",
                                    "4": "19",
                                    "5": "4.16"
                                },
                                {
                                    "0": "Indulgence in Death (In Death, #31)",
                                    "1": "death",
                                    "2": "7685763",
                                    "3": "J.D. Robb",
                                    "4": "13",
                                    "5": "4.32"
                                },
                                {
                                    "0": "God Bless You, Dr. Kevorkian",
                                    "1": "death",
                                    "2": "4986",
                                    "3": "Kurt Vonnegut Jr.",
                                    "4": "7",
                                    "5": "3.83"
                                },
                                {
                                    "0": "Desires of the Dead (The Body Finder, #2)",
                                    "1": "death",
                                    "2": "7827221",
                                    "3": "Kimberly Derting",
                                    "4": "33",
                                    "5": "4.07"
                                },
                                {
                                    "0": "The Hand of Chaos (The Death Gate Cycle, #5)",
                                    "1": "deathgate-cycle",
                                    "2": "28482",
                                    "3": "Margaret Weis, Tracy Hickman",
                                    "4": "6",
                                    "5": "4.05"
                                },
                                {
                                    "0": "Forever Amber ",
                                    "1": "black-death",
                                    "2": "5368",
                                    "3": "Kathleen Winsor",
                                    "4": "3",
                                    "5": "3.98"
                                },
                                {
                                    "0": "Jeremy Fink and the Meaning of Life",
                                    "1": "death",
                                    "2": "363851",
                                    "3": "Wendy Mass",
                                    "4": "16",
                                    "5": "4.02"
                                },
                                {
                                    "0": "Getting Over It",
                                    "1": "grief",
                                    "2": "33770",
                                    "3": "Anna Maxted",
                                    "4": "2",
                                    "5": "3.53"
                                },
                                {
                                    "0": "A Dog's Journey (A Dog's Purpose, #2)",
                                    "1": "death",
                                    "2": "13167796",
                                    "3": "W. Bruce Cameron",
                                    "4": "5",
                                    "5": "4.41"
                                },
                                {
                                    "0": "The Miseducation of Cameron Post",
                                    "1": "grief",
                                    "2": "11595276",
                                    "3": "Emily M. Danforth",
                                    "4": "15",
                                    "5": "3.99"
                                },
                                {
                                    "0": "A Mother's Reckoning: Living in the Aftermath of Tragedy",
                                    "1": "grief",
                                    "2": "25937671",
                                    "3": "Sue Klebold",
                                    "4": "10",
                                    "5": "4.13"
                                },
                                {
                                    "0": "Fifth Grave Past the Light (Charley Davidson, #5)",
                                    "1": "death",
                                    "2": "15813668",
                                    "3": "Darynda Jones",
                                    "4": "19",
                                    "5": "4.49"
                                },
                                {
                                    "0": "Eleventh Grade Burns (The Chronicles of Vladimir Tod, #4)",
                                    "1": "death",
                                    "2": "6681333",
                                    "3": "Heather Brewer",
                                    "4": "5",
                                    "5": "4.31"
                                },
                                {
                                    "0": "Oscar et la dame rose",
                                    "1": "death",
                                    "2": "120461",
                                    "3": "Éric-Emmanuel Schmitt",
                                    "4": "7",
                                    "5": "4.2"
                                },
                                {
                                    "0": "When Bad Things Happen to Good People",
                                    "1": "death",
                                    "2": "46676",
                                    "3": "Harold S. Kushner",
                                    "4": "3",
                                    "5": "4.02"
                                },
                                {
                                    "0": "The Scent of Rain and Lightning",
                                    "1": "death",
                                    "2": "6606456",
                                    "3": "Nancy Pickard",
                                    "4": "4",
                                    "5": "3.79"
                                },
                                {
                                    "0": "Purity in Death (In Death, #15)",
                                    "1": "series-in-death",
                                    "2": "238137",
                                    "3": "J.D. Robb",
                                    "4": "18",
                                    "5": "4.33"
                                },
                                {
                                    "0": "The Year of Fog",
                                    "1": "grief",
                                    "2": "332348",
                                    "3": "Michelle Richmond",
                                    "4": "7",
                                    "5": "3.46"
                                },
                                {
                                    "0": "The Cellar (The Cellar, #1)",
                                    "1": "death",
                                    "2": "16066586",
                                    "3": "Natasha Preston",
                                    "4": "9",
                                    "5": "3.94"
                                },
                                {
                                    "0": "Dust & Decay (Rot & Ruin, #2)",
                                    "1": "death",
                                    "2": "9917998",
                                    "3": "Jonathan Maberry",
                                    "4": "8",
                                    "5": "4.29"
                                },
                                {
                                    "0": "Can't Wait to Get to Heaven",
                                    "1": "death",
                                    "2": "199530",
                                    "3": "Fannie Flagg",
                                    "4": "8",
                                    "5": "3.89"
                                },
                                {
                                    "0": "Seduction in Death (In Death, #13)",
                                    "1": "series-in-death",
                                    "2": "238127",
                                    "3": "J.D. Robb",
                                    "4": "19",
                                    "5": "4.3"
                                },
                                {
                                    "0": "Choosing to SEE",
                                    "1": "grief",
                                    "2": "8765461",
                                    "3": "Mary Beth Chapman, Steven Curtis Chapman",
                                    "4": "10",
                                    "5": "4.3"
                                },
                                {
                                    "0": "Broken Monsters",
                                    "1": "death",
                                    "2": "20706269",
                                    "3": "Lauren Beukes",
                                    "4": "10",
                                    "5": "3.59"
                                },
                                {
                                    "0": "Grave Witch (Alex Craft, #1)",
                                    "1": "death",
                                    "2": "7823038",
                                    "3": "Kalayna Price",
                                    "4": "20",
                                    "5": "3.96"
                                },
                                {
                                    "0": "Born in Death (In Death, #23)",
                                    "1": "j-d-robb-in-death-series",
                                    "2": "102857",
                                    "3": "J.D. Robb, Susan Ericksen",
                                    "4": "8",
                                    "5": "4.33"
                                },
                                {
                                    "0": "Close Your Eyes, Hold Hands",
                                    "1": "death",
                                    "2": "18666006",
                                    "3": "Chris Bohjalian",
                                    "4": "8",
                                    "5": "3.59"
                                },
                                {
                                    "0": "Lockdown (Escape from Furnace, #1)",
                                    "1": "death",
                                    "2": "6420846",
                                    "3": "Alexander Gordon Smith",
                                    "4": "11",
                                    "5": "4.1"
                                },
                                {
                                    "0": "Nora Webster",
                                    "1": "grief",
                                    "2": "21412360",
                                    "3": "Colm Tóibín",
                                    "4": "17",
                                    "5": "3.58"
                                },
                                {
                                    "0": "Promises to Keep",
                                    "1": "death-and-dying",
                                    "2": "7290826",
                                    "3": "Jane Green",
                                    "4": "2",
                                    "5": "3.81"
                                },
                                {
                                    "0": "Killing Sarai (In the Company of Killers, #1)",
                                    "1": "death",
                                    "2": "20559676",
                                    "3": "J.A. Redmerski",
                                    "4": "21",
                                    "5": "4.17"
                                },
                                {
                                    "0": "The Law of Moses (The Law of Moses, #1)",
                                    "1": "death",
                                    "2": "23252517",
                                    "3": "Amy Harmon",
                                    "4": "14",
                                    "5": "4.37"
                                },
                                {
                                    "0": "Left Drowning (Left Drowning, #1)",
                                    "1": "death",
                                    "2": "17325147",
                                    "3": "Jessica Park",
                                    "4": "23",
                                    "5": "4.14"
                                },
                                {
                                    "0": "The Christmas Sweater",
                                    "1": "death",
                                    "2": "3268926",
                                    "3": "Glenn Beck",
                                    "4": "5",
                                    "5": "3.79"
                                },
                                {
                                    "0": "Stenhuggaren (Patrik Hedström, #3)",
                                    "1": "death",
                                    "2": "1457790",
                                    "3": "Camilla Läckberg",
                                    "4": "5",
                                    "5": "3.85"
                                },
                                {
                                    "0": "She Said Yes: The Unlikely Martyrdom of Cassie Bernall",
                                    "1": "death",
                                    "2": "171001",
                                    "3": "Misty Bernall",
                                    "4": "4",
                                    "5": "3.9"
                                },
                                {
                                    "0": "The Walking Dead, Vol. 09: Here We Remain",
                                    "1": "death",
                                    "2": "4714126",
                                    "3": "Robert Kirkman, Charlie Adlard, Cliff Rathburn",
                                    "4": "8",
                                    "5": "4.25"
                                },
                                {
                                    "0": "Everyman",
                                    "1": "death-and-dying",
                                    "2": "50695",
                                    "3": "Philip Roth",
                                    "4": "7",
                                    "5": "3.54"
                                },
                                {
                                    "0": "Sadako and the Thousand Paper Cranes",
                                    "1": "death-and-dying",
                                    "2": "181077",
                                    "3": "Eleanor Coerr, Ronald Himler",
                                    "4": "10",
                                    "5": "4.09"
                                },
                                {
                                    "0": "Death Note, Vol. 4: Love (Death Note, #4)",
                                    "1": "death-note",
                                    "2": "13616",
                                    "3": "Tsugumi Ohba, Takeshi Obata",
                                    "4": "118",
                                    "5": "4.38"
                                },
                                {
                                    "0": "The Walking Dead, Vol. 11: Fear the Hunters",
                                    "1": "death",
                                    "2": "6488483",
                                    "3": "Robert Kirkman, Charlie Adlard, Cliff Rathburn",
                                    "4": "9",
                                    "5": "4.33"
                                },
                                {
                                    "0": "The Beginner's Goodbye",
                                    "1": "death-and-dying",
                                    "2": "12482658",
                                    "3": "Anne Tyler",
                                    "4": "6",
                                    "5": "3.58"
                                },
                                {
                                    "0": "King (King, #1)",
                                    "1": "death",
                                    "2": "18739485",
                                    "3": "T.M. Frazier",
                                    "4": "29",
                                    "5": "4.24"
                                },
                                {
                                    "0": "The Returned",
                                    "1": "death",
                                    "2": "17182421",
                                    "3": "Jason Mott",
                                    "4": "27",
                                    "5": "3.29"
                                },
                                {
                                    "0": "What Remains: A Memoir of Fate, Friendship, and Love",
                                    "1": "grief",
                                    "2": "851678",
                                    "3": "Carole Radziwill",
                                    "4": "15",
                                    "5": "4.16"
                                },
                                {
                                    "0": "Second Life",
                                    "1": "death",
                                    "2": "17412188",
                                    "3": "S.J. Watson",
                                    "4": "5",
                                    "5": "3.24"
                                },
                                {
                                    "0": "The Curious Charms of Arthur Pepper",
                                    "1": "death",
                                    "2": "26722820",
                                    "3": "Phaedra Patrick",
                                    "4": "6",
                                    "5": "3.91"
                                },
                                {
                                    "0": "Divided in Death (In Death, #18)",
                                    "1": "series-in-death",
                                    "2": "129523",
                                    "3": "J.D. Robb",
                                    "4": "17",
                                    "5": "4.32"
                                },
                                {
                                    "0": "2BR02B",
                                    "1": "death",
                                    "2": "5048174",
                                    "3": "Kurt Vonnegut Jr.",
                                    "4": "10",
                                    "5": "3.93"
                                },
                                {
                                    "0": "The Hollow (The Hollow, #1)",
                                    "1": "death",
                                    "2": "2998814",
                                    "3": "Jessica Verday",
                                    "4": "16",
                                    "5": "3.75"
                                },
                                {
                                    "0": "The Walking Dead, Vol. 10: What We Become",
                                    "1": "death",
                                    "2": "6145711",
                                    "3": "Robert Kirkman",
                                    "4": "7",
                                    "5": "4.29"
                                },
                                {
                                    "0": "Numbers (Numbers, #1)",
                                    "1": "death",
                                    "2": "6609758",
                                    "3": "Rachel Ward",
                                    "4": "48",
                                    "5": "3.46"
                                },
                                {
                                    "0": "Reunion in Death (In Death, #14)",
                                    "1": "series-in-death",
                                    "2": "238140",
                                    "3": "J.D. Robb",
                                    "4": "18",
                                    "5": "4.33"
                                },
                                {
                                    "0": "Where Is God When It Hurts?",
                                    "1": "grief",
                                    "2": "173572",
                                    "3": "Philip Yancey",
                                    "4": "4",
                                    "5": "4.22"
                                },
                                {
                                    "0": "Visions in Death (In Death, #19)",
                                    "1": "series-in-death",
                                    "2": "238142",
                                    "3": "J.D. Robb",
                                    "4": "17",
                                    "5": "4.33"
                                },
                                {
                                    "0": "Imitation in Death (In Death, #17)",
                                    "1": "series-in-death",
                                    "2": "238139",
                                    "3": "J.D. Robb",
                                    "4": "16",
                                    "5": "4.34"
                                },
                                {
                                    "0": "Beaches",
                                    "1": "death",
                                    "2": "1219954",
                                    "3": "Iris Rainer Dart",
                                    "4": "3",
                                    "5": "4.14"
                                },
                                {
                                    "0": "The Inn at Rose Harbor (Rose Harbor #1)",
                                    "1": "grief",
                                    "2": "13414594",
                                    "3": "Debbie Macomber",
                                    "4": "5",
                                    "5": "3.93"
                                },
                                {
                                    "0": "Stranger Child (DCI Tom Douglas, #4)",
                                    "1": "death",
                                    "2": "24859245",
                                    "3": "Rachel Abbott",
                                    "4": "2",
                                    "5": "4.18"
                                },
                                {
                                    "0": "Another Brooklyn",
                                    "1": "death",
                                    "2": "27213163",
                                    "3": "Jacqueline Woodson",
                                    "4": "7",
                                    "5": "3.87"
                                },
                                {
                                    "0": "Wait Till Helen Comes",
                                    "1": "death",
                                    "2": "267972",
                                    "3": "Mary Downing Hahn",
                                    "4": "8",
                                    "5": "4.14"
                                },
                                {
                                    "0": "The Walking Dead, Vol. 14: No Way Out",
                                    "1": "death",
                                    "2": "10822174",
                                    "3": "Robert Kirkman, Charlie Adlard, Cliff Rathburn",
                                    "4": "7",
                                    "5": "4.34"
                                },
                                {
                                    "0": "My Soul to Keep (Soul Screamers, #3)",
                                    "1": "death",
                                    "2": "7476122",
                                    "3": "Rachel Vincent",
                                    "4": "16",
                                    "5": "4.09"
                                },
                                {
                                    "0": "Prayers for Sale",
                                    "1": "death",
                                    "2": "4618898",
                                    "3": "Sandra Dallas",
                                    "4": "4",
                                    "5": "3.83"
                                },
                                {
                                    "0": "Nothing",
                                    "1": "death",
                                    "2": "6647312",
                                    "3": "Janne Teller, Martin Aitken",
                                    "4": "11",
                                    "5": "3.76"
                                },
                                {
                                    "0": "A Ring of Endless Light (Austin Family, #4)",
                                    "1": "death",
                                    "2": "14358",
                                    "3": "Madeleine L'Engle",
                                    "4": "10",
                                    "5": "4.14"
                                },
                                {
                                    "0": "How to Save a Life",
                                    "1": "death",
                                    "2": "10757806",
                                    "3": "Sara Zarr",
                                    "4": "36",
                                    "5": "3.89"
                                },
                                {
                                    "0": "Brotherhood in Death (In Death, #42)",
                                    "1": "series-in-death",
                                    "2": "25337081",
                                    "3": "J.D. Robb",
                                    "4": "10",
                                    "5": "4.35"
                                },
                                {
                                    "0": "Dicey's Song (Tillerman Cycle, #2)",
                                    "1": "death",
                                    "2": "11831",
                                    "3": "Cynthia Voigt",
                                    "4": "6",
                                    "5": "3.94"
                                },
                                {
                                    "0": "Falling into Place",
                                    "1": "death",
                                    "2": "18163646",
                                    "3": "Amy Zhang",
                                    "4": "38",
                                    "5": "3.88"
                                },
                                {
                                    "0": "A Severe Mercy: A Story of Faith, Tragedy and Triumph",
                                    "1": "death",
                                    "2": "56594",
                                    "3": "Sheldon Vanauken, C.S. Lewis",
                                    "4": "3",
                                    "5": "4.32"
                                },
                                {
                                    "0": "The Dry Grass of August",
                                    "1": "death",
                                    "2": "9429531",
                                    "3": "Anna Jean Mayhew",
                                    "4": "5",
                                    "5": "3.82"
                                },
                                {
                                    "0": "This Star Won't Go Out: The Life and Words of Esther Grace Earl",
                                    "1": "death",
                                    "2": "17675031",
                                    "3": "Esther Earl, Lori Earl, Wayne Earl, John Green",
                                    "4": "19",
                                    "5": "4.19"
                                },
                                {
                                    "0": "The Tiger Rising",
                                    "1": "grief",
                                    "2": "37187",
                                    "3": "Kate DiCamillo",
                                    "4": "7",
                                    "5": "3.78"
                                },
                                {
                                    "0": "Death Note, Vol. 8: Target (Death Note, #8)",
                                    "1": "deathnote",
                                    "2": "13614",
                                    "3": "Tsugumi Ohba, Takeshi Obata",
                                    "4": "9",
                                    "5": "4.27"
                                },
                                {
                                    "0": "Endless Knight (The Arcana Chronicles, #2)",
                                    "1": "death",
                                    "2": "16175040",
                                    "3": "Kresley Cole",
                                    "4": "18",
                                    "5": "4.39"
                                },
                                {
                                    "0": "Tears of a Tiger (Hazelwood High, #1)",
                                    "1": "death",
                                    "2": "119838",
                                    "3": "Sharon M. Draper",
                                    "4": "29",
                                    "5": "4.16"
                                },
                                {
                                    "0": "The Love Song of Miss Queenie Hennessy (Harold Fry, #2)",
                                    "1": "grief",
                                    "2": "20890479",
                                    "3": "Rachel Joyce",
                                    "4": "9",
                                    "5": "4.04"
                                },
                                {
                                    "0": "A Certain Slant of Light (Light, #1)",
                                    "1": "death",
                                    "2": "289601",
                                    "3": "Laura Whitcomb",
                                    "4": "33",
                                    "5": "3.83"
                                },
                                {
                                    "0": "How to Be Both",
                                    "1": "grief",
                                    "2": "20439328",
                                    "3": "Ali Smith",
                                    "4": "7",
                                    "5": "3.61"
                                },
                                {
                                    "0": "While My Sister Sleeps",
                                    "1": "death-and-dying",
                                    "2": "4071018",
                                    "3": "Barbara Delinsky",
                                    "4": "3",
                                    "5": "3.82"
                                },
                                {
                                    "0": "Creation in Death (In Death, #25)",
                                    "1": "death",
                                    "2": "1566705",
                                    "3": "J.D. Robb",
                                    "4": "8",
                                    "5": "4.34"
                                },
                                {
                                    "0": "Faithful",
                                    "1": "grief",
                                    "2": "29430788",
                                    "3": "Alice Hoffman",
                                    "4": "11",
                                    "5": "4.02"
                                },
                                {
                                    "0": "Delusion in Death (In Death, #35)",
                                    "1": "in-death",
                                    "2": "13252406",
                                    "3": "J.D. Robb",
                                    "4": "134",
                                    "5": "4.31"
                                },
                                {
                                    "0": "Death Note, Vol. 5: Whiteout (Death Note, #5)",
                                    "1": "deathnote",
                                    "2": "13617",
                                    "3": "Tsugumi Ohba, Takeshi Obata",
                                    "4": "13",
                                    "5": "4.35"
                                },
                                {
                                    "0": "The Enchanted",
                                    "1": "death",
                                    "2": "18090147",
                                    "3": "Rene Denfeld",
                                    "4": "15",
                                    "5": "3.96"
                                },
                                {
                                    "0": "Glitter and Glue",
                                    "1": "grief",
                                    "2": "17910544",
                                    "3": "Kelly Corrigan",
                                    "4": "5",
                                    "5": "3.76"
                                },
                                {
                                    "0": "A Night to Remember",
                                    "1": "death",
                                    "2": "61834",
                                    "3": "Walter Lord, Nathaniel Philbrick",
                                    "4": "5",
                                    "5": "4"
                                },
                                {
                                    "0": "Saint Maybe",
                                    "1": "grief",
                                    "2": "112322",
                                    "3": "Anne Tyler",
                                    "4": "3",
                                    "5": "3.88"
                                },
                                {
                                    "0": "Deep and Dark and Dangerous (A Ghost Story)",
                                    "1": "death",
                                    "2": "541341",
                                    "3": "Mary Downing Hahn",
                                    "4": "4",
                                    "5": "4.22"
                                },
                                {
                                    "0": "The Green Mile, Part 4: The Bad Death of Eduard Delacroix",
                                    "1": "death",
                                    "2": "228199",
                                    "3": "Stephen King",
                                    "4": "3",
                                    "5": "4.52"
                                },
                                {
                                    "0": "Elven Star (The Death Gate Cycle, #2)",
                                    "1": "the-death-gate-cycle",
                                    "2": "28485",
                                    "3": "Margaret Weis, Tracy Hickman",
                                    "4": "17",
                                    "5": "3.98"
                                },
                                {
                                    "0": "Kaleidoscope Hearts (Hearts, #1)",
                                    "1": "death",
                                    "2": "23545800",
                                    "3": "Claire Contreras",
                                    "4": "19",
                                    "5": "4.06"
                                },
                                {
                                    "0": "Cage (Corps Security, #2)",
                                    "1": "death",
                                    "2": "21518679",
                                    "3": "Harper Sloan",
                                    "4": "15",
                                    "5": "4.29"
                                },
                                {
                                    "0": "How to Talk to a Widower",
                                    "1": "death",
                                    "2": "242157",
                                    "3": "Jonathan Tropper",
                                    "4": "7",
                                    "5": "3.97"
                                },
                                {
                                    "0": "Rose Under Fire (Code Name Verity, #2)",
                                    "1": "death",
                                    "2": "17262236",
                                    "3": "Elizabeth Wein",
                                    "4": "11",
                                    "5": "4.13"
                                },
                                {
                                    "0": "The Sound of Glass",
                                    "1": "death",
                                    "2": "23398961",
                                    "3": "Karen   White",
                                    "4": "4",
                                    "5": "3.98"
                                },
                                {
                                    "0": "The Widow of the South",
                                    "1": "death",
                                    "2": "71622",
                                    "3": "Robert Hicks",
                                    "4": "5",
                                    "5": "3.75"
                                },
                                {
                                    "0": "Underworld (Abandon, #2)",
                                    "1": "death",
                                    "2": "10799881",
                                    "3": "Meg Cabot",
                                    "4": "24",
                                    "5": "3.89"
                                },
                                {
                                    "0": "My Soul to Save (Soul Screamers, #2)",
                                    "1": "death",
                                    "2": "6763961",
                                    "3": "Rachel Vincent",
                                    "4": "25",
                                    "5": "3.98"
                                },
                                {
                                    "0": "Tilt",
                                    "1": "death",
                                    "2": "11133791",
                                    "3": "Ellen Hopkins",
                                    "4": "6",
                                    "5": "4.2"
                                },
                                {
                                    "0": "The Life List",
                                    "1": "death",
                                    "2": "16127237",
                                    "3": "Lori Nelson Spielman",
                                    "4": "6",
                                    "5": "4.08"
                                },
                                {
                                    "0": "Eden (Providence, #3)",
                                    "1": "death",
                                    "2": "13417946",
                                    "3": "Jamie McGuire",
                                    "4": "5",
                                    "5": "4.17"
                                },
                                {
                                    "0": "Origin in Death (In Death, #21)",
                                    "1": "series-in-death",
                                    "2": "210243",
                                    "3": "J.D. Robb",
                                    "4": "10",
                                    "5": "4.34"
                                },
                                {
                                    "0": "The First Part Last (Heaven, #2)",
                                    "1": "death",
                                    "2": "148769",
                                    "3": "Angela Johnson",
                                    "4": "5",
                                    "5": "3.96"
                                },
                                {
                                    "0": "The Naturals (The Naturals, #1)",
                                    "1": "death",
                                    "2": "13597723",
                                    "3": "Jennifer Lynn Barnes",
                                    "4": "16",
                                    "5": "4.16"
                                },
                                {
                                    "0": "Death Note, Vol. 7: Zero (Death Note, #7)",
                                    "1": "death",
                                    "2": "13621",
                                    "3": "Tsugumi Ohba, Takeshi Obata",
                                    "4": "10",
                                    "5": "4.41"
                                },
                                {
                                    "0": "The Catastrophic History of You and Me",
                                    "1": "death",
                                    "2": "11387392",
                                    "3": "Jess Rothenberg",
                                    "4": "48",
                                    "5": "4.04"
                                },
                                {
                                    "0": "Calculated in Death (In Death, #36)",
                                    "1": "series-in-death",
                                    "2": "15806231",
                                    "3": "J.D. Robb",
                                    "4": "13",
                                    "5": "4.23"
                                },
                                {
                                    "0": "Celebrity in Death (In Death, #34)",
                                    "1": "in-death",
                                    "2": "13007638",
                                    "3": "J.D. Robb",
                                    "4": "135",
                                    "5": "4.28"
                                },
                                {
                                    "0": "Billions & Billions: Thoughts on Life and Death at the Brink of the Millennium",
                                    "1": "death",
                                    "2": "61665",
                                    "3": "Carl Sagan, Ann Druyan",
                                    "4": "4",
                                    "5": "4.26"
                                },
                                {
                                    "0": "Detroit: An American Autopsy",
                                    "1": "death",
                                    "2": "15811520",
                                    "3": "Charlie LeDuff",
                                    "4": "5",
                                    "5": "3.95"
                                },
                                {
                                    "0": "Big Fish",
                                    "1": "death",
                                    "2": "129984",
                                    "3": "Daniel Wallace",
                                    "4": "8",
                                    "5": "3.64"
                                },
                                {
                                    "0": "Breakable (Contours of the Heart, #2)",
                                    "1": "death",
                                    "2": "17936925",
                                    "3": "Tammara Webber",
                                    "4": "11",
                                    "5": "4.06"
                                },
                                {
                                    "0": "The Death of Bees",
                                    "1": "death",
                                    "2": "15818333",
                                    "3": "Lisa O'Donnell",
                                    "4": "18",
                                    "5": "3.81"
                                },
                                {
                                    "0": "Locke & Key, Vol. 6: Alpha & Omega",
                                    "1": "death",
                                    "2": "16164271",
                                    "3": "Joe Hill, Gabriel Rodríguez",
                                    "4": "8",
                                    "5": "4.5"
                                },
                                {
                                    "0": "Strangers in Death (In Death, #26)",
                                    "1": "series-in-death",
                                    "2": "1158706",
                                    "3": "J.D. Robb",
                                    "4": "9",
                                    "5": "4.29"
                                },
                                {
                                    "0": "LaRose",
                                    "1": "death",
                                    "2": "26116430",
                                    "3": "Louise Erdrich",
                                    "4": "9",
                                    "5": "3.86"
                                },
                                {
                                    "0": "River, Cross My Heart",
                                    "1": "grief",
                                    "2": "166101",
                                    "3": "Breena Clarke",
                                    "4": "2",
                                    "5": "3.47"
                                },
                                {
                                    "0": "To Build a Fire",
                                    "1": "death",
                                    "2": "194808",
                                    "3": "Jack London",
                                    "4": "2",
                                    "5": "3.92"
                                },
                                {
                                    "0": "The Ghost Bride",
                                    "1": "death",
                                    "2": "16248223",
                                    "3": "Yangsze Choo",
                                    "4": "13",
                                    "5": "3.74"
                                },
                                {
                                    "0": "You Were Mine (Rosemary Beach, #9)",
                                    "1": "death",
                                    "2": "21411887",
                                    "3": "Abbi Glines",
                                    "4": "11",
                                    "5": "4.26"
                                },
                                {
                                    "0": "Thankless in Death (In Death, #37)",
                                    "1": "series-in-death",
                                    "2": "16299341",
                                    "3": "J.D. Robb",
                                    "4": "12",
                                    "5": "4.28"
                                },
                                {
                                    "0": "Once (Once, #1)",
                                    "1": "death",
                                    "2": "1045757",
                                    "3": "Morris Gleitzman",
                                    "4": "12",
                                    "5": "4.2"
                                },
                                {
                                    "0": "Afterwards",
                                    "1": "grief",
                                    "2": "12598982",
                                    "3": "Rosamund Lupton",
                                    "4": "4",
                                    "5": "3.79"
                                },
                                {
                                    "0": "Story of the Eye",
                                    "1": "death",
                                    "2": "436806",
                                    "3": "Georges Bataille, Joachim Neugroschel, Dovid Bergelson",
                                    "4": "4",
                                    "5": "3.71"
                                },
                                {
                                    "0": "Concealed in Death (In Death, #38)",
                                    "1": "series-in-death",
                                    "2": "18079757",
                                    "3": "J.D. Robb",
                                    "4": "12",
                                    "5": "4.25"
                                },
                                {
                                    "0": "The Green Mile, Part 2: The Mouse on the Mile",
                                    "1": "death",
                                    "2": "228194",
                                    "3": "Stephen King",
                                    "4": "3",
                                    "5": "4.47"
                                },
                                {
                                    "0": "The Replacement",
                                    "1": "death",
                                    "2": "7507908",
                                    "3": "Brenna Yovanoff",
                                    "4": "17",
                                    "5": "3.56"
                                },
                                {
                                    "0": "The Bourbon Kings (The Bourbon Kings, #1)",
                                    "1": "death",
                                    "2": "23355896",
                                    "3": "J.R. Ward",
                                    "4": "8",
                                    "5": "3.87"
                                },
                                {
                                    "0": "Benediction (Plainsong, #3)",
                                    "1": "grief",
                                    "2": "15762186",
                                    "3": "Kent Haruf",
                                    "4": "11",
                                    "5": "3.97"
                                },
                                {
                                    "0": "The Bookseller",
                                    "1": "grief",
                                    "2": "22635858",
                                    "3": "Cynthia Swanson",
                                    "4": "7",
                                    "5": "3.66"
                                },
                                {
                                    "0": "The Book on the Taboo Against Knowing Who You Are",
                                    "1": "death",
                                    "2": "60551",
                                    "3": "Alan W. Watts",
                                    "4": "4",
                                    "5": "4.28"
                                },
                                {
                                    "0": "Ghettoside: A True Story of Murder in America",
                                    "1": "death",
                                    "2": "13153693",
                                    "3": "Jill Leovy",
                                    "4": "7",
                                    "5": "4.12"
                                },
                                {
                                    "0": "That Night",
                                    "1": "death",
                                    "2": "18404248",
                                    "3": "Chevy Stevens",
                                    "4": "9",
                                    "5": "3.92"
                                },
                                {
                                    "0": "Something like Normal",
                                    "1": "death",
                                    "2": "9403947",
                                    "3": "Trish Doller",
                                    "4": "14",
                                    "5": "3.81"
                                },
                                {
                                    "0": "Twelfth Grade Kills (The Chronicles of Vladimir Tod, #5)",
                                    "1": "death",
                                    "2": "7818881",
                                    "3": "Heather Brewer",
                                    "4": "6",
                                    "5": "4.36"
                                },
                                {
                                    "0": "Ghostgirl (Ghostgirl, #1)",
                                    "1": "death",
                                    "2": "2508164",
                                    "3": "Tonya Hurley",
                                    "4": "19",
                                    "5": "3.28"
                                },
                                {
                                    "0": "Shadow Fires",
                                    "1": "death",
                                    "2": "32428",
                                    "3": "Leigh Nichols, Dean Koontz",
                                    "4": "6",
                                    "5": "3.77"
                                },
                                {
                                    "0": "Knife Edge (Noughts & Crosses, #2)",
                                    "1": "death",
                                    "2": "300044",
                                    "3": "Malorie Blackman",
                                    "4": "5",
                                    "5": "4.06"
                                },
                                {
                                    "0": "My Life with the Walter Boys (My Life with the Walter Boys #1)",
                                    "1": "death",
                                    "2": "13580846",
                                    "3": "Ali Novak, Fallzswimmer",
                                    "4": "8",
                                    "5": "3.93"
                                },
                                {
                                    "0": "Love You to Death: The Unofficial Companion to the Vampire Diaries",
                                    "1": "love-you-to-death",
                                    "2": "7967299",
                                    "3": "Crissy Calhoun",
                                    "4": "2",
                                    "5": "4.38"
                                },
                                {
                                    "0": "Anil's Ghost",
                                    "1": "death",
                                    "2": "5942",
                                    "3": "Michael Ondaatje",
                                    "4": "6",
                                    "5": "3.54"
                                },
                                {
                                    "0": "Unattainable (Undeniable, #3)",
                                    "1": "death",
                                    "2": "16114862",
                                    "3": "Madeline Sheehan",
                                    "4": "11",
                                    "5": "4.31"
                                },
                                {
                                    "0": "The Painter",
                                    "1": "grief",
                                    "2": "18310201",
                                    "3": "Peter Heller",
                                    "4": "5",
                                    "5": "3.76"
                                },
                                {
                                    "0": "The Submission",
                                    "1": "death",
                                    "2": "10364994",
                                    "3": "Amy Waldman",
                                    "4": "5",
                                    "5": "3.66"
                                },
                                {
                                    "0": "A Corner of the Universe",
                                    "1": "death",
                                    "2": "65070",
                                    "3": "Ann M. Martin",
                                    "4": "6",
                                    "5": "4.06"
                                },
                                {
                                    "0": "The Ice Queen",
                                    "1": "near-death-experience",
                                    "2": "177515",
                                    "3": "Alice Hoffman",
                                    "4": "4",
                                    "5": "3.51"
                                },
                                {
                                    "0": "Help for the Haunted",
                                    "1": "death",
                                    "2": "17348985",
                                    "3": "John Searles",
                                    "4": "6",
                                    "5": "3.6"
                                },
                                {
                                    "0": "Death Note, Vol. 6: Give-and-Take (Death Note, #6)",
                                    "1": "death",
                                    "2": "13620",
                                    "3": "Tsugumi Ohba, Takeshi Obata",
                                    "4": "10",
                                    "5": "4.39"
                                },
                                {
                                    "0": "Connected (Connections, #1)",
                                    "1": "death",
                                    "2": "16279715",
                                    "3": "Kim Karr",
                                    "4": "11",
                                    "5": "4.11"
                                },
                                {
                                    "0": "Fall From Grace (Mad World, #1)",
                                    "1": "death",
                                    "2": "15768536",
                                    "3": "Christine Zolendz",
                                    "4": "12",
                                    "5": "4.03"
                                },
                                {
                                    "0": "How to Fall in Love",
                                    "1": "death",
                                    "2": "18161265",
                                    "3": "Cecelia Ahern",
                                    "4": "4",
                                    "5": "4.02"
                                },
                                {
                                    "0": "The Christmas List",
                                    "1": "death",
                                    "2": "6517407",
                                    "3": "Richard Paul Evans",
                                    "4": "3",
                                    "5": "4.17"
                                },
                                {
                                    "0": "Perfect",
                                    "1": "grief",
                                    "2": "17192373",
                                    "3": "Rachel Joyce",
                                    "4": "10",
                                    "5": "3.54"
                                },
                                {
                                    "0": "If I Die (Soul Screamers, #5)",
                                    "1": "death",
                                    "2": "8803932",
                                    "3": "Rachel Vincent",
                                    "4": "17",
                                    "5": "4.32"
                                },
                                {
                                    "0": "A Vintage Affair",
                                    "1": "death",
                                    "2": "5556595",
                                    "3": "Isabel Wolff",
                                    "4": "4",
                                    "5": "3.8"
                                },
                                {
                                    "0": "Lost & Found (Rocky Pelligrino, #1)",
                                    "1": "death",
                                    "2": "697210",
                                    "3": "Jacqueline Sheehan",
                                    "4": "3",
                                    "5": "3.71"
                                },
                                {
                                    "0": "The Kindness of Strangers",
                                    "1": "grief",
                                    "2": "15655",
                                    "3": "Katrina Kittle",
                                    "4": "2",
                                    "5": "4"
                                },
                                {
                                    "0": "The Sculptor",
                                    "1": "death",
                                    "2": "22040598",
                                    "3": "Scott McCloud",
                                    "4": "18",
                                    "5": "4"
                                },
                                {
                                    "0": "Broken Grace",
                                    "1": "death",
                                    "2": "25866725",
                                    "3": "E.C. Diskin",
                                    "4": "2",
                                    "5": "3.92"
                                },
                                {
                                    "0": "Indignation",
                                    "1": "death",
                                    "2": "3015764",
                                    "3": "Philip Roth",
                                    "4": "5",
                                    "5": "3.69"
                                },
                                {
                                    "0": "Do No Harm: Stories of Life, Death and Brain Surgery",
                                    "1": "death",
                                    "2": "21086818",
                                    "3": "Henry Marsh",
                                    "4": "8",
                                    "5": "4.22"
                                },
                                {
                                    "0": "Paint it Black",
                                    "1": "death",
                                    "2": "33144",
                                    "3": "Janet Fitch",
                                    "4": "9",
                                    "5": "3.47"
                                },
                                {
                                    "0": "Last Orders",
                                    "1": "death",
                                    "2": "5068",
                                    "3": "Graham Swift",
                                    "4": "8",
                                    "5": "3.68"
                                },
                                {
                                    "0": "Before I Go",
                                    "1": "death",
                                    "2": "20871704",
                                    "3": "Colleen Oakley",
                                    "4": "8",
                                    "5": "3.79"
                                },
                                {
                                    "0": "The Healer (O'Malley #5)",
                                    "1": "grief",
                                    "2": "426030",
                                    "3": "Dee Henderson",
                                    "4": "2",
                                    "5": "4.4"
                                },
                                {
                                    "0": "Artemis Fowl Boxed Set, Bks 1-5 (Artemis Fowl, #1-5)",
                                    "1": "lots-of-death",
                                    "2": "2358870",
                                    "3": "Eoin Colfer",
                                    "4": "1",
                                    "5": "4.29"
                                },
                                {
                                    "0": "The Haunted (The Hollow, #2)",
                                    "1": "death",
                                    "2": "7159016",
                                    "3": "Jessica Verday",
                                    "4": "7",
                                    "5": "4.15"
                                },
                                {
                                    "0": "Tell Me Three Things",
                                    "1": "death",
                                    "2": "25893582",
                                    "3": "Julie Buxbaum",
                                    "4": "26",
                                    "5": "4.1"
                                },
                                {
                                    "0": "Promise Not to Tell",
                                    "1": "death",
                                    "2": "659546",
                                    "3": "Jennifer McMahon",
                                    "4": "4",
                                    "5": "3.62"
                                },
                                {
                                    "0": "Double Identity",
                                    "1": "death",
                                    "2": "155370",
                                    "3": "Margaret Peterson Haddix",
                                    "4": "6",
                                    "5": "4.01"
                                },
                                {
                                    "0": "My Brother Sam Is Dead",
                                    "1": "death-and-dying",
                                    "2": "122756",
                                    "3": "James Lincoln Collier, Christopher Collier",
                                    "4": "8",
                                    "5": "3.39"
                                },
                                {
                                    "0": "The Green Mile, Part 6: Coffey on the Mile",
                                    "1": "death",
                                    "2": "71823",
                                    "3": "Stephen King",
                                    "4": "3",
                                    "5": "4.55"
                                },
                                {
                                    "0": "Catalyst",
                                    "1": "grief",
                                    "2": "170171",
                                    "3": "Laurie Halse Anderson",
                                    "4": "6",
                                    "5": "3.62"
                                },
                                {
                                    "0": "Miles to Go (The Walk, #2)",
                                    "1": "dealing-with-grief-and-loss",
                                    "2": "8720415",
                                    "3": "Richard Paul Evans",
                                    "4": "2",
                                    "5": "4.27"
                                },
                                {
                                    "0": "Heart on a Chain",
                                    "1": "death",
                                    "2": "10295484",
                                    "3": "Cindy C. Bennett",
                                    "4": "6",
                                    "5": "4.04"
                                },
                                {
                                    "0": "Lincoln in the Bardo",
                                    "1": "grief",
                                    "2": "29906980",
                                    "3": "George Saunders",
                                    "4": "30",
                                    "5": "3.93"
                                },
                                {
                                    "0": "The Wicked Girls",
                                    "1": "death",
                                    "2": "11940384",
                                    "3": "Alex Marwood",
                                    "4": "5",
                                    "5": "3.48"
                                },
                                {
                                    "0": "The Boy Who Came Back from Heaven: A Remarkable Account of Miracles, Angels, and Life beyond This World",
                                    "1": "life-after-death",
                                    "2": "8100288",
                                    "3": "Kevin Malarkey, Alex Malarkey",
                                    "4": "6",
                                    "5": "3.89"
                                },
                                {
                                    "0": "The Sound of Things Falling",
                                    "1": "death",
                                    "2": "16171259",
                                    "3": "Juan Gabriel Vásquez, Anne McLean",
                                    "4": "4",
                                    "5": "3.74"
                                },
                                {
                                    "0": "The Obituary Writer",
                                    "1": "death",
                                    "2": "17573684",
                                    "3": "Ann Hood",
                                    "4": "5",
                                    "5": "3.7"
                                },
                                {
                                    "0": "Festive in Death (In Death, #39)",
                                    "1": "death",
                                    "2": "20821249",
                                    "3": "J.D. Robb",
                                    "4": "9",
                                    "5": "4.26"
                                },
                                {
                                    "0": "The Last Time We Say Goodbye",
                                    "1": "grief",
                                    "2": "17285330",
                                    "3": "Cynthia Hand",
                                    "4": "23",
                                    "5": "4.11"
                                },
                                {
                                    "0": "Johannes Cabal the Necromancer (Johannes Cabal, #1)",
                                    "1": "death",
                                    "2": "5750628",
                                    "3": "Jonathan L. Howard",
                                    "4": "8",
                                    "5": "3.94"
                                },
                                {
                                    "0": "Obsession in Death (In Death, #40)",
                                    "1": "series-in-death",
                                    "2": "22571696",
                                    "3": "J.D. Robb",
                                    "4": "12",
                                    "5": "4.33"
                                },
                                {
                                    "0": "Secondhand Souls (Grim Reaper, #2)",
                                    "1": "death",
                                    "2": "23460830",
                                    "3": "Christopher Moore",
                                    "4": "22",
                                    "5": "3.92"
                                },
                                {
                                    "0": "The Marvels",
                                    "1": "death",
                                    "2": "23566909",
                                    "3": "Brian Selznick",
                                    "4": "12",
                                    "5": "3.93"
                                },
                                {
                                    "0": "Attack on Titan: No Regrets, Volume 01",
                                    "1": "death",
                                    "2": "19138879",
                                    "3": "Hajime Isayama, Hikaru Suruga, Gan Sunaaku",
                                    "4": "2",
                                    "5": "4.52"
                                },
                                {
                                    "0": "The Hate U Give",
                                    "1": "grief",
                                    "2": "32075671",
                                    "3": "Angie Thomas",
                                    "4": "48",
                                    "5": "4.62"
                                },
                                {
                                    "0": "My Soul to Steal (Soul Screamers, #4)",
                                    "1": "death",
                                    "2": "8487363",
                                    "3": "Rachel Vincent",
                                    "4": "14",
                                    "5": "4.13"
                                },
                                {
                                    "0": "Grave Dance (Alex Craft, #2)",
                                    "1": "death",
                                    "2": "9565574",
                                    "3": "Kalayna Price",
                                    "4": "9",
                                    "5": "4.11"
                                },
                                {
                                    "0": "All Fall Down (Embassy Row, #1)",
                                    "1": "death",
                                    "2": "22571275",
                                    "3": "Ally Carter",
                                    "4": "13",
                                    "5": "3.82"
                                },
                                {
                                    "0": "The Girl in the Red Coat",
                                    "1": "grief",
                                    "2": "23289469",
                                    "3": "Kate Hamer",
                                    "4": "7",
                                    "5": "3.53"
                                },
                                {
                                    "0": "Daughter",
                                    "1": "grief",
                                    "2": "20505127",
                                    "3": "Jane Shemilt",
                                    "4": "4",
                                    "5": "3.51"
                                },
                                {
                                    "0": "Fantasy in Death (In Death, #30)",
                                    "1": "death",
                                    "2": "6542645",
                                    "3": "J.D. Robb",
                                    "4": "11",
                                    "5": "4.25"
                                },
                                {
                                    "0": "Crow's Row (Crow's Row, #1)",
                                    "1": "death",
                                    "2": "12389310",
                                    "3": "Julie Hockley",
                                    "4": "14",
                                    "5": "4.11"
                                },
                                {
                                    "0": "Forsaken (The Demon Trappers, #1)",
                                    "1": "death",
                                    "2": "8534899",
                                    "3": "Jana Oliver",
                                    "4": "6",
                                    "5": "4"
                                },
                                {
                                    "0": "A Death in the Family",
                                    "1": "grief",
                                    "2": "113091",
                                    "3": "James Agee",
                                    "4": "9",
                                    "5": "3.92"
                                },
                                {
                                    "0": "The Lake (The Lake Trilogy #1)",
                                    "1": "death",
                                    "2": "17794657",
                                    "3": "AnnaLisa Grant",
                                    "4": "3",
                                    "5": "3.75"
                                },
                                {
                                    "0": "Wit",
                                    "1": "death-and-dying",
                                    "2": "171201",
                                    "3": "Margaret Edson",
                                    "4": "5",
                                    "5": "4.2"
                                },
                                {
                                    "0": "Incendiary",
                                    "1": "death-and-dying",
                                    "2": "701738",
                                    "3": "Chris Cleave",
                                    "4": "5",
                                    "5": "3.59"
                                },
                                {
                                    "0": "The Walking Dead, Vol. 13: Too Far Gone",
                                    "1": "death",
                                    "2": "9018370",
                                    "3": "Robert Kirkman, Charlie Adlard, Cliff Rathburn",
                                    "4": "7",
                                    "5": "4.23"
                                },
                                {
                                    "0": "Kindred in Death (In Death, #29)",
                                    "1": "death",
                                    "2": "5943970",
                                    "3": "J.D. Robb",
                                    "4": "7",
                                    "5": "4.31"
                                },
                                {
                                    "0": "Belzhar",
                                    "1": "death",
                                    "2": "20821376",
                                    "3": "Meg Wolitzer",
                                    "4": "15",
                                    "5": "3.46"
                                },
                                {
                                    "0": "We Are Called to Rise",
                                    "1": "grief",
                                    "2": "18271235",
                                    "3": "Laura  McBride",
                                    "4": "4",
                                    "5": "3.94"
                                },
                                {
                                    "0": "Bleach, Volume 03",
                                    "1": "death-gods",
                                    "2": "271264",
                                    "3": "Tite Kubo",
                                    "4": "3",
                                    "5": "4.31"
                                },
                                {
                                    "0": "Perfect",
                                    "1": "death-in-the-family",
                                    "2": "97408",
                                    "3": "Natasha Friend",
                                    "4": "3",
                                    "5": "3.77"
                                },
                                {
                                    "0": "Broken for You",
                                    "1": "death-and-dying",
                                    "2": "96702",
                                    "3": "Stephanie Kallos",
                                    "4": "4",
                                    "5": "3.8"
                                },
                                {
                                    "0": "Tyrant (King, #2)",
                                    "1": "death",
                                    "2": "25711641",
                                    "3": "T.M. Frazier",
                                    "4": "14",
                                    "5": "4.39"
                                },
                                {
                                    "0": "Grasshopper Jungle",
                                    "1": "death",
                                    "2": "18079719",
                                    "3": "Andrew  Smith",
                                    "4": "10",
                                    "5": "3.66"
                                },
                                {
                                    "0": "Antigone",
                                    "1": "death",
                                    "2": "352383",
                                    "3": "Jean Anouilh",
                                    "4": "3",
                                    "5": "3.8"
                                },
                                {
                                    "0": "The Egg",
                                    "1": "death",
                                    "2": "17563539",
                                    "3": "Andy Weir",
                                    "4": "5",
                                    "5": "4.13"
                                },
                                {
                                    "0": "Afterworlds (Afterworlds #1)",
                                    "1": "death",
                                    "2": "18367581",
                                    "3": "Scott Westerfeld",
                                    "4": "29",
                                    "5": "3.72"
                                },
                                {
                                    "0": "The Bookman’s Tale",
                                    "1": "grief",
                                    "2": "16158563",
                                    "3": "Charlie Lovett",
                                    "4": "8",
                                    "5": "3.74"
                                },
                                {
                                    "0": "Salvation in Death (In Death, #27)",
                                    "1": "series-in-death",
                                    "2": "2494204",
                                    "3": "J.D. Robb",
                                    "4": "9",
                                    "5": "4.26"
                                },
                                {
                                    "0": "A Thousand Boy Kisses",
                                    "1": "death",
                                    "2": "25912358",
                                    "3": "Tillie Cole",
                                    "4": "22",
                                    "5": "4.29"
                                },
                                {
                                    "0": "Such a Rush",
                                    "1": "death",
                                    "2": "12989112",
                                    "3": "Jennifer Echols",
                                    "4": "7",
                                    "5": "3.84"
                                },
                                {
                                    "0": "Dangerous Girls",
                                    "1": "death",
                                    "2": "16074758",
                                    "3": "Abigail Haas, Abby McDonald",
                                    "4": "19",
                                    "5": "4.14"
                                },
                                {
                                    "0": "Rock Bottom (Tristan & Danika, #2)",
                                    "1": "death",
                                    "2": "18943009",
                                    "3": "R.K. Lilley",
                                    "4": "8",
                                    "5": "4.46"
                                },
                                {
                                    "0": "The Lovely Bones",
                                    "1": "death",
                                    "2": "12232938",
                                    "3": "Alice Sebold",
                                    "4": "290",
                                    "5": "3.77"
                                },
                                {
                                    "0": "My Sister's Keeper",
                                    "1": "death",
                                    "2": "10917",
                                    "3": "Jodi Picoult",
                                    "4": "119",
                                    "5": "4.06"
                                },
                                {
                                    "0": "Tuesdays with Morrie",
                                    "1": "death",
                                    "2": "6900",
                                    "3": "Mitch Albom, Saulius Dagys",
                                    "4": "144",
                                    "5": "4.06"
                                },
                                {
                                    "0": "The Five People You Meet in Heaven",
                                    "1": "death",
                                    "2": "3431",
                                    "3": "Mitch Albom",
                                    "4": "114",
                                    "5": "3.9"
                                },
                                {
                                    "0": "If I Stay (If I Stay, #1)",
                                    "1": "death",
                                    "2": "4374400",
                                    "3": "Gayle Forman",
                                    "4": "487",
                                    "5": "3.96"
                                },
                                {
                                    "0": "Extremely Loud and Incredibly Close",
                                    "1": "death",
                                    "2": "4588",
                                    "3": "Jonathan Safran Foer",
                                    "4": "96",
                                    "5": "3.97"
                                },
                                {
                                    "0": "P.S. I Love You",
                                    "1": "death",
                                    "2": "366522",
                                    "3": "Cecelia Ahern",
                                    "4": "49",
                                    "5": "4.01"
                                },
                                {
                                    "0": "The Last Lecture",
                                    "1": "death-and-dying",
                                    "2": "2318271",
                                    "3": "Randy Pausch, Jeffrey Zaslow",
                                    "4": "63",
                                    "5": "4.25"
                                },
                                {
                                    "0": "The Pact",
                                    "1": "death",
                                    "2": "10916",
                                    "3": "Jodi Picoult",
                                    "4": "52",
                                    "5": "4"
                                },
                                {
                                    "0": "A Man Called Ove",
                                    "1": "grief",
                                    "2": "18774964",
                                    "3": "Fredrik Backman, Henning Koch",
                                    "4": "81",
                                    "5": "4.35"
                                },
                                {
                                    "0": "Where She Went (If I Stay, #2)",
                                    "1": "death",
                                    "2": "8492825",
                                    "3": "Gayle Forman",
                                    "4": "111",
                                    "5": "4.06"
                                },
                                {
                                    "0": "A Heartbreaking Work of Staggering Genius",
                                    "1": "death",
                                    "2": "4953",
                                    "3": "Dave Eggers",
                                    "4": "39",
                                    "5": "3.68"
                                },
                                {
                                    "0": "The Truth About Forever",
                                    "1": "death",
                                    "2": "51737",
                                    "3": "Sarah Dessen",
                                    "4": "50",
                                    "5": "4.13"
                                },
                                {
                                    "0": "After You (Me Before You, #2)",
                                    "1": "grief",
                                    "2": "25041504",
                                    "3": "Jojo Moyes",
                                    "4": "49",
                                    "5": "3.7"
                                },
                                {
                                    "0": "Death Note, Vol. 1: Boredom (Death Note, #1)",
                                    "1": "death",
                                    "2": "13615",
                                    "3": "Tsugumi Ohba, Takeshi Obata",
                                    "4": "40",
                                    "5": "4.42"
                                },
                                {
                                    "0": "Death Note, Vol. 1: Boredom (Death Note, #1)",
                                    "1": "death-note",
                                    "2": "13615",
                                    "3": "Tsugumi Ohba, Takeshi Obata",
                                    "4": "161",
                                    "5": "4.42"
                                },
                                {
                                    "0": "Midwives",
                                    "1": "death",
                                    "2": "5166",
                                    "3": "Chris Bohjalian",
                                    "4": "10",
                                    "5": "3.97"
                                },
                                {
                                    "0": "Everything I Never Told You",
                                    "1": "grief",
                                    "2": "18693763",
                                    "3": "Celeste Ng",
                                    "4": "62",
                                    "5": "3.78"
                                },
                                {
                                    "0": "Mort (Death, #1; Discworld, #4)",
                                    "1": "death",
                                    "2": "386372",
                                    "3": "Terry Pratchett",
                                    "4": "117",
                                    "5": "4.22"
                                },
                                {
                                    "0": "Stiff: The Curious Lives of Human Cadavers",
                                    "1": "death",
                                    "2": "32145",
                                    "3": "Mary Roach",
                                    "4": "324",
                                    "5": "4.05"
                                },
                                {
                                    "0": "Naked in Death (In Death, #1)",
                                    "1": "in-death-series",
                                    "2": "268602",
                                    "3": "J.D. Robb",
                                    "4": "247",
                                    "5": "4.13"
                                },
                                {
                                    "0": "The Chamber",
                                    "1": "death",
                                    "2": "5355",
                                    "3": "John Grisham",
                                    "4": "27",
                                    "5": "3.76"
                                },
                                {
                                    "0": "The Unlikely Pilgrimage of Harold Fry (Harold Fry, #1)",
                                    "1": "grief",
                                    "2": "13227454",
                                    "3": "Rachel Joyce",
                                    "4": "58",
                                    "5": "3.89"
                                },
                                {
                                    "0": "When Breath Becomes Air",
                                    "1": "grief",
                                    "2": "25899336",
                                    "3": "Paul Kalanithi, Abraham Verghese",
                                    "4": "40",
                                    "5": "4.32"
                                },
                                {
                                    "0": "When Breath Becomes Air",
                                    "1": "death",
                                    "2": "25899336",
                                    "3": "Paul Kalanithi, Abraham Verghese",
                                    "4": "178",
                                    "5": "4.32"
                                },
                                {
                                    "0": "When Breath Becomes Air",
                                    "1": "death-dying",
                                    "2": "25899336",
                                    "3": "Paul Kalanithi, Abraham Verghese",
                                    "4": "26",
                                    "5": "4.32"
                                },
                                {
                                    "0": "The Year of Magical Thinking",
                                    "1": "death",
                                    "2": "7815",
                                    "3": "Joan Didion",
                                    "4": "150",
                                    "5": "3.86"
                                },
                                {
                                    "0": "The Year of Magical Thinking",
                                    "1": "grief",
                                    "2": "7815",
                                    "3": "Joan Didion",
                                    "4": "191",
                                    "5": "3.86"
                                },
                                {
                                    "0": "All the Bright Places",
                                    "1": "death",
                                    "2": "18460392",
                                    "3": "Jennifer Niven, فرانک معنوی",
                                    "4": "194",
                                    "5": "4.19"
                                },
                                {
                                    "0": "I'll Give You the Sun",
                                    "1": "death",
                                    "2": "20820994",
                                    "3": "Jandy Nelson",
                                    "4": "82",
                                    "5": "4.14"
                                },
                                {
                                    "0": "Leaving Time",
                                    "1": "grief",
                                    "2": "18816603",
                                    "3": "Jodi Picoult",
                                    "4": "45",
                                    "5": "3.94"
                                },
                                {
                                    "0": "A Monster Calls",
                                    "1": "death",
                                    "2": "8621462",
                                    "3": "Patrick Ness, Jim Kay, Siobhan Dowd",
                                    "4": "250",
                                    "5": "4.36"
                                },
                                {
                                    "0": "Tell the Wolves I'm Home",
                                    "1": "death",
                                    "2": "12875258",
                                    "3": "Carol Rifka Brunt",
                                    "4": "70",
                                    "5": "4.04"
                                },
                                {
                                    "0": "90 Minutes in Heaven: A True Story of Death and Life",
                                    "1": "near-death-experience",
                                    "2": "89375",
                                    "3": "Don Piper, Cecil Murphey",
                                    "4": "13",
                                    "5": "3.91"
                                },
                                {
                                    "0": "90 Minutes in Heaven: A True Story of Death and Life",
                                    "1": "death",
                                    "2": "89375",
                                    "3": "Don Piper, Cecil Murphey",
                                    "4": "20",
                                    "5": "3.91"
                                },
                                {
                                    "0": "90 Minutes in Heaven: A True Story of Death and Life",
                                    "1": "near-death-experiences",
                                    "2": "89375",
                                    "3": "Don Piper, Cecil Murphey",
                                    "4": "9",
                                    "5": "3.91"
                                },
                                {
                                    "0": "Change of Heart",
                                    "1": "death",
                                    "2": "1609451",
                                    "3": "Jodi Picoult",
                                    "4": "16",
                                    "5": "3.91"
                                },
                                {
                                    "0": "Wintergirls",
                                    "1": "death",
                                    "2": "5152478",
                                    "3": "Laurie Halse Anderson",
                                    "4": "133",
                                    "5": "3.98"
                                },
                                {
                                    "0": "The Pilot's Wife",
                                    "1": "death",
                                    "2": "5191",
                                    "3": "Anita Shreve",
                                    "4": "14",
                                    "5": "3.5"
                                },
                                {
                                    "0": "Drowning Ruth",
                                    "1": "death",
                                    "2": "5171",
                                    "3": "Christina Schwarz",
                                    "4": "6",
                                    "5": "3.73"
                                },
                                {
                                    "0": "Being Mortal: Medicine and What Matters in the End",
                                    "1": "death-and-dying",
                                    "2": "20696006",
                                    "3": "Atul Gawande",
                                    "4": "70",
                                    "5": "4.4"
                                },
                                {
                                    "0": "Being Mortal: Medicine and What Matters in the End",
                                    "1": "death",
                                    "2": "20696006",
                                    "3": "Atul Gawande",
                                    "4": "133",
                                    "5": "4.4"
                                },
                                {
                                    "0": "Amy & Roger's Epic Detour",
                                    "1": "death",
                                    "2": "7664334",
                                    "3": "Morgan Matson",
                                    "4": "61",
                                    "5": "4.05"
                                },
                                {
                                    "0": "The Sky Is Everywhere",
                                    "1": "death",
                                    "2": "6604794",
                                    "3": "Jandy Nelson",
                                    "4": "160",
                                    "5": "4.04"
                                },
                                {
                                    "0": "Reaper Man (Discworld, #11; Death, #2)",
                                    "1": "death",
                                    "2": "34517",
                                    "3": "Terry Pratchett",
                                    "4": "79",
                                    "5": "4.27"
                                },
                                {
                                    "0": "A Widow for One Year",
                                    "1": "grief",
                                    "2": "4659",
                                    "3": "John Irving",
                                    "4": "9",
                                    "5": "3.74"
                                },
                                {
                                    "0": "Proof of Heaven: A Neurosurgeon's Journey into the Afterlife",
                                    "1": "near-death",
                                    "2": "15851746",
                                    "3": "Eben Alexander",
                                    "4": "8",
                                    "5": "3.68"
                                },
                                {
                                    "0": "Proof of Heaven: A Neurosurgeon's Journey into the Afterlife",
                                    "1": "meaning-of-life-and-death",
                                    "2": "15851746",
                                    "3": "Eben Alexander",
                                    "4": "9",
                                    "5": "3.68"
                                },
                                {
                                    "0": "Proof of Heaven: A Neurosurgeon's Journey into the Afterlife",
                                    "1": "death-and-dying",
                                    "2": "15851746",
                                    "3": "Eben Alexander",
                                    "4": "11",
                                    "5": "3.68"
                                },
                                {
                                    "0": "Proof of Heaven: A Neurosurgeon's Journey into the Afterlife",
                                    "1": "life-after-death",
                                    "2": "15851746",
                                    "3": "Eben Alexander",
                                    "4": "12",
                                    "5": "3.68"
                                },
                                {
                                    "0": "Proof of Heaven: A Neurosurgeon's Journey into the Afterlife",
                                    "1": "near-death-experiences",
                                    "2": "15851746",
                                    "3": "Eben Alexander",
                                    "4": "12",
                                    "5": "3.68"
                                },
                                {
                                    "0": "Proof of Heaven: A Neurosurgeon's Journey into the Afterlife",
                                    "1": "death",
                                    "2": "15851746",
                                    "3": "Eben Alexander",
                                    "4": "22",
                                    "5": "3.68"
                                },
                                {
                                    "0": "Proof of Heaven: A Neurosurgeon's Journey into the Afterlife",
                                    "1": "near-death-experience",
                                    "2": "15851746",
                                    "3": "Eben Alexander",
                                    "4": "46",
                                    "5": "3.68"
                                },
                                {
                                    "0": "My Grandmother Asked Me to Tell You She's Sorry",
                                    "1": "death",
                                    "2": "23604559",
                                    "3": "Fredrik Backman, Henning Koch",
                                    "4": "20",
                                    "5": "4.02"
                                },
                                {
                                    "0": "Hogfather (Discworld, #20; Death, #4)",
                                    "1": "death",
                                    "2": "34532",
                                    "3": "Terry Pratchett",
                                    "4": "45",
                                    "5": "4.22"
                                },
                                {
                                    "0": "Anybody Out There? (Walsh Family, #4)",
                                    "1": "death",
                                    "2": "165030",
                                    "3": "Marian Keyes",
                                    "4": "7",
                                    "5": "3.91"
                                },
                                {
                                    "0": "The Confession",
                                    "1": "death-penalty",
                                    "2": "7933437",
                                    "3": "John Grisham",
                                    "4": "60",
                                    "5": "3.81"
                                },
                                {
                                    "0": "Before I Die",
                                    "1": "death-and-dying",
                                    "2": "1314332",
                                    "3": "Jenny Downham",
                                    "4": "28",
                                    "5": "3.84"
                                },
                                {
                                    "0": "Before I Die",
                                    "1": "death",
                                    "2": "1314332",
                                    "3": "Jenny Downham",
                                    "4": "134",
                                    "5": "3.84"
                                },
                                {
                                    "0": "Soul Music (Discworld, #16; Death, #3)",
                                    "1": "death",
                                    "2": "34502",
                                    "3": "Terry Pratchett",
                                    "4": "56",
                                    "5": "4.02"
                                },
                                {
                                    "0": "Ordinary Grace",
                                    "1": "grief",
                                    "2": "15803059",
                                    "3": "William Kent Krueger",
                                    "4": "26",
                                    "5": "4.14"
                                },
                                {
                                    "0": "A Lesson Before Dying",
                                    "1": "death",
                                    "2": "5197",
                                    "3": "Ernest J. Gaines",
                                    "4": "23",
                                    "5": "3.93"
                                },
                                {
                                    "0": "H is for Hawk",
                                    "1": "grief",
                                    "2": "18803640",
                                    "3": "Helen Macdonald",
                                    "4": "93",
                                    "5": "3.74"
                                },
                                {
                                    "0": "Sister",
                                    "1": "grief",
                                    "2": "8196732",
                                    "3": "Rosamund Lupton",
                                    "4": "27",
                                    "5": "3.77"
                                },
                                {
                                    "0": "Thief of Time (Discworld, #26; Death, #5)",
                                    "1": "death",
                                    "2": "48002",
                                    "3": "Terry Pratchett",
                                    "4": "25",
                                    "5": "4.25"
                                },
                                {
                                    "0": "The End of Your Life Book Club",
                                    "1": "death",
                                    "2": "13414676",
                                    "3": "Will Schwalbe",
                                    "4": "47",
                                    "5": "3.81"
                                },
                                {
                                    "0": "The End of Your Life Book Club",
                                    "1": "death-and-dying",
                                    "2": "13414676",
                                    "3": "Will Schwalbe",
                                    "4": "64",
                                    "5": "3.81"
                                },
                                {
                                    "0": "A Grief Observed",
                                    "1": "death-and-dying",
                                    "2": "49221",
                                    "3": "C.S. Lewis",
                                    "4": "17",
                                    "5": "4.26"
                                },
                                {
                                    "0": "A Grief Observed",
                                    "1": "death",
                                    "2": "49221",
                                    "3": "C.S. Lewis",
                                    "4": "45",
                                    "5": "4.26"
                                },
                                {
                                    "0": "A Grief Observed",
                                    "1": "grief",
                                    "2": "49221",
                                    "3": "C.S. Lewis",
                                    "4": "149",
                                    "5": "4.26"
                                },
                                {
                                    "0": "Love Letters to the Dead",
                                    "1": "death",
                                    "2": "18140047",
                                    "3": "Ava Dellaira",
                                    "4": "115",
                                    "5": "3.82"
                                },
                                {
                                    "0": "I Was Here",
                                    "1": "death",
                                    "2": "18879761",
                                    "3": "Gayle Forman",
                                    "4": "85",
                                    "5": "3.78"
                                },
                                {
                                    "0": "Twenty Boy Summer",
                                    "1": "death",
                                    "2": "5231173",
                                    "3": "Sarah Ockler",
                                    "4": "65",
                                    "5": "3.89"
                                },
                                {
                                    "0": "You Shall Know Our Velocity!",
                                    "1": "death",
                                    "2": "4954",
                                    "3": "Dave Eggers",
                                    "4": "11",
                                    "5": "3.62"
                                },
                                {
                                    "0": "Elsewhere",
                                    "1": "death-and-dying",
                                    "2": "359410",
                                    "3": "Gabrielle Zevin",
                                    "4": "17",
                                    "5": "3.91"
                                },
                                {
                                    "0": "Elsewhere",
                                    "1": "life-after-death",
                                    "2": "359410",
                                    "3": "Gabrielle Zevin",
                                    "4": "21",
                                    "5": "3.91"
                                },
                                {
                                    "0": "Elsewhere",
                                    "1": "death",
                                    "2": "359410",
                                    "3": "Gabrielle Zevin",
                                    "4": "175",
                                    "5": "3.91"
                                },
                                {
                                    "0": "Counting by 7s",
                                    "1": "grief",
                                    "2": "15937108",
                                    "3": "Holly Goldberg Sloan",
                                    "4": "95",
                                    "5": "4.16"
                                },
                                {
                                    "0": "Counting by 7s",
                                    "1": "death",
                                    "2": "15937108",
                                    "3": "Holly Goldberg Sloan",
                                    "4": "99",
                                    "5": "4.16"
                                },
                                {
                                    "0": "Counting by 7s",
                                    "1": "death-and-dying",
                                    "2": "15937108",
                                    "3": "Holly Goldberg Sloan",
                                    "4": "17",
                                    "5": "4.16"
                                },
                                {
                                    "0": "Fly Away (Firefly Lane, #2)",
                                    "1": "grief",
                                    "2": "16044981",
                                    "3": "Kristin Hannah",
                                    "4": "9",
                                    "5": "3.94"
                                },
                                {
                                    "0": "One True Thing",
                                    "1": "death-and-dying",
                                    "2": "176839",
                                    "3": "Anna Quindlen",
                                    "4": "5",
                                    "5": "4.01"
                                },
                                {
                                    "0": "One True Thing",
                                    "1": "death",
                                    "2": "176839",
                                    "3": "Anna Quindlen",
                                    "4": "8",
                                    "5": "4.01"
                                },
                                {
                                    "0": "The Shock of the Fall",
                                    "1": "death",
                                    "2": "16120760",
                                    "3": "Nathan Filer",
                                    "4": "16",
                                    "5": "3.79"
                                },
                                {
                                    "0": "Kitchen",
                                    "1": "death",
                                    "2": "50144",
                                    "3": "Banana Yoshimoto, Megan Backus",
                                    "4": "16",
                                    "5": "3.83"
                                },
                                {
                                    "0": "Every Last One",
                                    "1": "grief",
                                    "2": "7468160",
                                    "3": "Anna Quindlen",
                                    "4": "33",
                                    "5": "3.83"
                                },
                                {
                                    "0": "Glory in Death (In Death, #2)",
                                    "1": "in-death",
                                    "2": "268601",
                                    "3": "J.D. Robb",
                                    "4": "228",
                                    "5": "4.25"
                                },
                                {
                                    "0": "Glory in Death (In Death, #2)",
                                    "1": "in-death-series",
                                    "2": "268601",
                                    "3": "J.D. Robb",
                                    "4": "234",
                                    "5": "4.25"
                                },
                                {
                                    "0": "Love That Dog (Jack, #1)",
                                    "1": "grief",
                                    "2": "53498",
                                    "3": "Sharon Creech",
                                    "4": "14",
                                    "5": "4.01"
                                },
                                {
                                    "0": "Willow",
                                    "1": "death",
                                    "2": "4570768",
                                    "3": "Julia Hoban",
                                    "4": "46",
                                    "5": "3.94"
                                },
                                {
                                    "0": "Spook: Science Tackles the Afterlife",
                                    "1": "death",
                                    "2": "14990",
                                    "3": "Mary Roach",
                                    "4": "78",
                                    "5": "3.57"
                                },
                                {
                                    "0": "Love Is a Mix Tape",
                                    "1": "grief",
                                    "2": "46190",
                                    "3": "Rob Sheffield",
                                    "4": "22",
                                    "5": "3.83"
                                },
                                {
                                    "0": "Love Is a Mix Tape",
                                    "1": "death",
                                    "2": "46190",
                                    "3": "Rob Sheffield",
                                    "4": "23",
                                    "5": "3.83"
                                },
                                {
                                    "0": "So B. It",
                                    "1": "death",
                                    "2": "237320",
                                    "3": "Sarah Weeks",
                                    "4": "9",
                                    "5": "4.1"
                                },
                                {
                                    "0": "Good Grief",
                                    "1": "grief",
                                    "2": "251519",
                                    "3": "Lolly Winston",
                                    "4": "27",
                                    "5": "3.72"
                                },
                                {
                                    "0": "Love Anthony",
                                    "1": "grief",
                                    "2": "13547381",
                                    "3": "Lisa Genova",
                                    "4": "15",
                                    "5": "3.94"
                                },
                                {
                                    "0": "Tinkers",
                                    "1": "death-and-dying",
                                    "2": "4957350",
                                    "3": "Paul Harding",
                                    "4": "34",
                                    "5": "3.37"
                                },
                                {
                                    "0": "When I'm Gone",
                                    "1": "death",
                                    "2": "27401883",
                                    "3": "Emily Bleeker, Dan John Miller",
                                    "4": "5",
                                    "5": "3.94"
                                },
                                {
                                    "0": "The Magician's Assistant",
                                    "1": "grief",
                                    "2": "16055",
                                    "3": "Ann Patchett",
                                    "4": "11",
                                    "5": "3.64"
                                },
                                {
                                    "0": "The Magician's Assistant",
                                    "1": "death",
                                    "2": "16055",
                                    "3": "Ann Patchett",
                                    "4": "11",
                                    "5": "3.64"
                                },
                                {
                                    "0": "Immortal in Death (In Death, #3)",
                                    "1": "in-death-series",
                                    "2": "238126",
                                    "3": "J.D. Robb",
                                    "4": "240",
                                    "5": "4.26"
                                },
                                {
                                    "0": "Immortal in Death (In Death, #3)",
                                    "1": "series-in-death",
                                    "2": "238126",
                                    "3": "J.D. Robb",
                                    "4": "20",
                                    "5": "4.26"
                                },
                                {
                                    "0": "Belong to Me",
                                    "1": "death",
                                    "2": "2113410",
                                    "3": "Marisa de los Santos",
                                    "4": "9",
                                    "5": "3.84"
                                },
                                {
                                    "0": "Can't We Talk about Something More Pleasant?",
                                    "1": "decline-and-death-of-parents",
                                    "2": "18594409",
                                    "3": "Roz Chast",
                                    "4": "11",
                                    "5": "4.1"
                                },
                                {
                                    "0": "Can't We Talk about Something More Pleasant?",
                                    "1": "grief",
                                    "2": "18594409",
                                    "3": "Roz Chast",
                                    "4": "14",
                                    "5": "4.1"
                                },
                                {
                                    "0": "Can't We Talk about Something More Pleasant?",
                                    "1": "death-and-dying",
                                    "2": "18594409",
                                    "3": "Roz Chast",
                                    "4": "25",
                                    "5": "4.1"
                                },
                                {
                                    "0": "Can't We Talk about Something More Pleasant?",
                                    "1": "death",
                                    "2": "18594409",
                                    "3": "Roz Chast",
                                    "4": "61",
                                    "5": "4.1"
                                },
                                {
                                    "0": "Rapture in Death (In Death, #4)",
                                    "1": "death",
                                    "2": "201175",
                                    "3": "J.D. Robb, Susan Ericksen",
                                    "4": "18",
                                    "5": "4.26"
                                },
                                {
                                    "0": "Rapture in Death (In Death, #4)",
                                    "1": "in-death",
                                    "2": "201175",
                                    "3": "J.D. Robb, Susan Ericksen",
                                    "4": "216",
                                    "5": "4.26"
                                },
                                {
                                    "0": "Rapture in Death (In Death, #4)",
                                    "1": "in-death-series",
                                    "2": "201175",
                                    "3": "J.D. Robb, Susan Ericksen",
                                    "4": "231",
                                    "5": "4.26"
                                },
                                {
                                    "0": "Smoke Gets in Your Eyes: And Other Lessons from the Crematory",
                                    "1": "death-and-dying",
                                    "2": "20663702",
                                    "3": "Caitlin Doughty",
                                    "4": "36",
                                    "5": "4.04"
                                },
                                {
                                    "0": "Smoke Gets in Your Eyes: And Other Lessons from the Crematory",
                                    "1": "death",
                                    "2": "20663702",
                                    "3": "Caitlin Doughty",
                                    "4": "184",
                                    "5": "4.04"
                                },
                                {
                                    "0": "The Ice Twins",
                                    "1": "death",
                                    "2": "23553419",
                                    "3": "S.K. Tremayne",
                                    "4": "15",
                                    "5": "3.68"
                                },
                                {
                                    "0": "Mockingbird",
                                    "1": "grief",
                                    "2": "6596547",
                                    "3": "Kathryn Erskine",
                                    "4": "51",
                                    "5": "4.18"
                                },
                                {
                                    "0": "Mockingbird",
                                    "1": "death",
                                    "2": "6596547",
                                    "3": "Kathryn Erskine",
                                    "4": "84",
                                    "5": "4.18"
                                },
                                {
                                    "0": "Promises in Death (In Death, #28)",
                                    "1": "in-death-series",
                                    "2": "3492020",
                                    "3": "J.D. Robb",
                                    "4": "164",
                                    "5": "4.4"
                                },
                                {
                                    "0": "Promises in Death (In Death, #28)",
                                    "1": "in-death",
                                    "2": "3492020",
                                    "3": "J.D. Robb",
                                    "4": "170",
                                    "5": "4.4"
                                },
                                {
                                    "0": "Promises in Death (In Death, #28)",
                                    "1": "series-in-death",
                                    "2": "3492020",
                                    "3": "J.D. Robb",
                                    "4": "9",
                                    "5": "4.4"
                                },
                                {
                                    "0": "Sisterhood Everlasting (Sisterhood, #5)",
                                    "1": "grief",
                                    "2": "9461872",
                                    "3": "Ann Brashares",
                                    "4": "13",
                                    "5": "3.9"
                                },
                                {
                                    "0": "Sisterhood Everlasting (Sisterhood, #5)",
                                    "1": "death",
                                    "2": "9461872",
                                    "3": "Ann Brashares",
                                    "4": "18",
                                    "5": "3.9"
                                },
                                {
                                    "0": "Going Bovine",
                                    "1": "death",
                                    "2": "6512140",
                                    "3": "Libba Bray",
                                    "4": "78",
                                    "5": "3.65"
                                },
                                {
                                    "0": "Ceremony in Death (In Death, #5)",
                                    "1": "in-death",
                                    "2": "74036",
                                    "3": "J.D. Robb",
                                    "4": "208",
                                    "5": "4.26"
                                },
                                {
                                    "0": "Ceremony in Death (In Death, #5)",
                                    "1": "in-death-series",
                                    "2": "74036",
                                    "3": "J.D. Robb",
                                    "4": "217",
                                    "5": "4.26"
                                },
                                {
                                    "0": "Did You Ever Have a Family",
                                    "1": "grief",
                                    "2": "24452249",
                                    "3": "Bill Clegg",
                                    "4": "24",
                                    "5": "3.81"
                                },
                                {
                                    "0": "On Death and Dying",
                                    "1": "death",
                                    "2": "781844",
                                    "3": "Elisabeth Kübler-Ross",
                                    "4": "68",
                                    "5": "4.15"
                                },
                                {
                                    "0": "On Death and Dying",
                                    "1": "death-dying-grief",
                                    "2": "781844",
                                    "3": "Elisabeth Kübler-Ross",
                                    "4": "2",
                                    "5": "4.15"
                                },
                                {
                                    "0": "On Death and Dying",
                                    "1": "grief-and-loss",
                                    "2": "781844",
                                    "3": "Elisabeth Kübler-Ross",
                                    "4": "3",
                                    "5": "4.15"
                                },
                                {
                                    "0": "On Death and Dying",
                                    "1": "death-grief",
                                    "2": "781844",
                                    "3": "Elisabeth Kübler-Ross",
                                    "4": "4",
                                    "5": "4.15"
                                },
                                {
                                    "0": "On Death and Dying",
                                    "1": "death-dying",
                                    "2": "781844",
                                    "3": "Elisabeth Kübler-Ross",
                                    "4": "9",
                                    "5": "4.15"
                                },
                                {
                                    "0": "On Death and Dying",
                                    "1": "death-and-dying",
                                    "2": "781844",
                                    "3": "Elisabeth Kübler-Ross",
                                    "4": "24",
                                    "5": "4.15"
                                },
                                {
                                    "0": "Portrait in Death (In Death, #16)",
                                    "1": "in-death-series",
                                    "2": "268604",
                                    "3": "J.D. Robb",
                                    "4": "178",
                                    "5": "4.37"
                                },
                                {
                                    "0": "Portrait in Death (In Death, #16)",
                                    "1": "in-death",
                                    "2": "268604",
                                    "3": "J.D. Robb",
                                    "4": "189",
                                    "5": "4.37"
                                },
                                {
                                    "0": "Please Ignore Vera Dietz",
                                    "1": "death",
                                    "2": "6665671",
                                    "3": "A.S. King",
                                    "4": "93",
                                    "5": "3.91"
                                },
                                {
                                    "0": "Dragon Wing (The Death Gate Cycle, #1)",
                                    "1": "deathgate-cycle",
                                    "2": "28481",
                                    "3": "Margaret Weis, Tracy Hickman",
                                    "4": "6",
                                    "5": "3.93"
                                },
                                {
                                    "0": "Dragon Wing (The Death Gate Cycle, #1)",
                                    "1": "death",
                                    "2": "28481",
                                    "3": "Margaret Weis, Tracy Hickman",
                                    "4": "6",
                                    "5": "3.93"
                                },
                                {
                                    "0": "Dragon Wing (The Death Gate Cycle, #1)",
                                    "1": "deathgate",
                                    "2": "28481",
                                    "3": "Margaret Weis, Tracy Hickman",
                                    "4": "7",
                                    "5": "3.93"
                                },
                                {
                                    "0": "Dragon Wing (The Death Gate Cycle, #1)",
                                    "1": "death-gate",
                                    "2": "28481",
                                    "3": "Margaret Weis, Tracy Hickman",
                                    "4": "12",
                                    "5": "3.93"
                                },
                                {
                                    "0": "Dragon Wing (The Death Gate Cycle, #1)",
                                    "1": "the-death-gate-cycle",
                                    "2": "28481",
                                    "3": "Margaret Weis, Tracy Hickman",
                                    "4": "18",
                                    "5": "3.93"
                                },
                                {
                                    "0": "Vengeance in Death (In Death, #6)",
                                    "1": "series-in-death",
                                    "2": "132778",
                                    "3": "J.D. Robb",
                                    "4": "22",
                                    "5": "4.34"
                                },
                                {
                                    "0": "Vengeance in Death (In Death, #6)",
                                    "1": "in-death",
                                    "2": "132778",
                                    "3": "J.D. Robb",
                                    "4": "201",
                                    "5": "4.34"
                                },
                                {
                                    "0": "The Tibetan Book of Living and Dying",
                                    "1": "grief",
                                    "2": "206731",
                                    "3": "Sogyal Rinpoche, Andrew Harvey",
                                    "4": "6",
                                    "5": "4.22"
                                },
                                {
                                    "0": "The Tibetan Book of Living and Dying",
                                    "1": "death-dying",
                                    "2": "206731",
                                    "3": "Sogyal Rinpoche, Andrew Harvey",
                                    "4": "9",
                                    "5": "4.22"
                                },
                                {
                                    "0": "The Tibetan Book of Living and Dying",
                                    "1": "death",
                                    "2": "206731",
                                    "3": "Sogyal Rinpoche, Andrew Harvey",
                                    "4": "23",
                                    "5": "4.22"
                                },
                                {
                                    "0": "The Crossover",
                                    "1": "death",
                                    "2": "18263725",
                                    "3": "Kwame Alexander",
                                    "4": "50",
                                    "5": "4.22"
                                },
                                {
                                    "0": "Holiday in Death (In Death, #7)",
                                    "1": "in-death-series",
                                    "2": "238125",
                                    "3": "J.D. Robb",
                                    "4": "205",
                                    "5": "4.31"
                                },
                                {
                                    "0": "Holiday in Death (In Death, #7)",
                                    "1": "in-death",
                                    "2": "238125",
                                    "3": "J.D. Robb",
                                    "4": "206",
                                    "5": "4.31"
                                },
                                {
                                    "0": "Bleach, Volume 15",
                                    "1": "death",
                                    "2": "2879",
                                    "3": "Tite Kubo",
                                    "4": "3",
                                    "5": "4.41"
                                },
                                {
                                    "0": "Drums, Girls & Dangerous Pie (Drums, Girls & Dangerous Pie, #1)",
                                    "1": "death",
                                    "2": "318404",
                                    "3": "Jordan Sonnenblick",
                                    "4": "11",
                                    "5": "4.25"
                                },
                                {
                                    "0": "The Sea",
                                    "1": "grief",
                                    "2": "3656",
                                    "3": "John Banville",
                                    "4": "18",
                                    "5": "3.49"
                                },
                                {
                                    "0": "Revolution",
                                    "1": "death",
                                    "2": "7558747",
                                    "3": "Jennifer Donnelly",
                                    "4": "39",
                                    "5": "4.02"
                                },
                                {
                                    "0": "Conspiracy in Death (In Death, #8)",
                                    "1": "in-death-series",
                                    "2": "172691",
                                    "3": "J.D. Robb",
                                    "4": "80",
                                    "5": "4.35"
                                },
                                {
                                    "0": "Conspiracy in Death (In Death, #8)",
                                    "1": "in-death",
                                    "2": "172691",
                                    "3": "J.D. Robb",
                                    "4": "206",
                                    "5": "4.35"
                                },
                                {
                                    "0": "Mortality",
                                    "1": "death",
                                    "2": "13529055",
                                    "3": "Christopher Hitchens",
                                    "4": "14",
                                    "5": "4.12"
                                },
                                {
                                    "0": "A Mango-Shaped Space",
                                    "1": "death",
                                    "2": "171020",
                                    "3": "Wendy Mass",
                                    "4": "15",
                                    "5": "4.22"
                                },
                                {
                                    "0": "The Impossible Knife of Memory",
                                    "1": "death",
                                    "2": "18079527",
                                    "3": "Laurie Halse Anderson",
                                    "4": "13",
                                    "5": "3.93"
                                },
                                {
                                    "0": "The Wednesday Letters",
                                    "1": "death",
                                    "2": "1316382",
                                    "3": "Jason F. Wright",
                                    "4": "6",
                                    "5": "3.61"
                                },
                                {
                                    "0": "My Best Friend's Girl",
                                    "1": "death",
                                    "2": "1617875",
                                    "3": "Dorothy Koomson",
                                    "4": "4",
                                    "5": "4.02"
                                },
                                {
                                    "0": "One Summer",
                                    "1": "death",
                                    "2": "9509289",
                                    "3": "David Baldacci",
                                    "4": "7",
                                    "5": "3.72"
                                },
                                {
                                    "0": "Hold Still",
                                    "1": "death",
                                    "2": "6373717",
                                    "3": "Nina LaCour",
                                    "4": "58",
                                    "5": "3.99"
                                },
                                {
                                    "0": "New York to Dallas (In Death, #33)",
                                    "1": "in-death-series",
                                    "2": "10402992",
                                    "3": "J.D. Robb, Susan Ericksen",
                                    "4": "101",
                                    "5": "4.42"
                                },
                                {
                                    "0": "New York to Dallas (In Death, #33)",
                                    "1": "in-death",
                                    "2": "10402992",
                                    "3": "J.D. Robb, Susan Ericksen",
                                    "4": "104",
                                    "5": "4.42"
                                },
                                {
                                    "0": "Blue Nights",
                                    "1": "grief",
                                    "2": "10252302",
                                    "3": "Joan Didion",
                                    "4": "45",
                                    "5": "3.75"
                                },
                                {
                                    "0": "Blue Nights",
                                    "1": "daughter-s-death",
                                    "2": "10252302",
                                    "3": "Joan Didion",
                                    "4": "6",
                                    "5": "3.75"
                                },
                                {
                                    "0": "Blue Nights",
                                    "1": "death-dying",
                                    "2": "10252302",
                                    "3": "Joan Didion",
                                    "4": "9",
                                    "5": "3.75"
                                },
                                {
                                    "0": "Blue Nights",
                                    "1": "death-and-dying",
                                    "2": "10252302",
                                    "3": "Joan Didion",
                                    "4": "13",
                                    "5": "3.75"
                                },
                                {
                                    "0": "Serpent Mage (The Death Gate Cycle, #4)",
                                    "1": "death-gate",
                                    "2": "28507",
                                    "3": "Margaret Weis, Tracy Hickman",
                                    "4": "12",
                                    "5": "4.06"
                                },
                                {
                                    "0": "Serpent Mage (The Death Gate Cycle, #4)",
                                    "1": "the-death-gate-cycle",
                                    "2": "28507",
                                    "3": "Margaret Weis, Tracy Hickman",
                                    "4": "18",
                                    "5": "4.06"
                                },
                                {
                                    "0": "Serpent Mage (The Death Gate Cycle, #4)",
                                    "1": "death-gate-cycle",
                                    "2": "28507",
                                    "3": "Margaret Weis, Tracy Hickman",
                                    "4": "28",
                                    "5": "4.06"
                                },
                                {
                                    "0": "Serpent Mage (The Death Gate Cycle, #4)",
                                    "1": "deathgate",
                                    "2": "28507",
                                    "3": "Margaret Weis, Tracy Hickman",
                                    "4": "7",
                                    "5": "4.06"
                                },
                                {
                                    "0": "Serpent Mage (The Death Gate Cycle, #4)",
                                    "1": "deathgate-cycle",
                                    "2": "28507",
                                    "3": "Margaret Weis, Tracy Hickman",
                                    "4": "7",
                                    "5": "4.06"
                                },
                                {
                                    "0": "The Descendants",
                                    "1": "death",
                                    "2": "968403",
                                    "3": "Kaui Hart Hemmings",
                                    "4": "12",
                                    "5": "3.82"
                                },
                                {
                                    "0": "The Descendants",
                                    "1": "grief",
                                    "2": "968403",
                                    "3": "Kaui Hart Hemmings",
                                    "4": "5",
                                    "5": "3.82"
                                },
                                {
                                    "0": "Memory in Death (In Death, #22)",
                                    "1": "series-in-death",
                                    "2": "238141",
                                    "3": "J.D. Robb",
                                    "4": "15",
                                    "5": "4.31"
                                },
                                {
                                    "0": "Memory in Death (In Death, #22)",
                                    "1": "in-death-series",
                                    "2": "238141",
                                    "3": "J.D. Robb",
                                    "4": "164",
                                    "5": "4.31"
                                },
                                {
                                    "0": "Memory in Death (In Death, #22)",
                                    "1": "in-death",
                                    "2": "238141",
                                    "3": "J.D. Robb",
                                    "4": "176",
                                    "5": "4.31"
                                },
                                {
                                    "0": "Death Note, Vol. 2: Confluence (Death Note, #2)",
                                    "1": "death",
                                    "2": "13619",
                                    "3": "Tsugumi Ohba, Takeshi Obata",
                                    "4": "20",
                                    "5": "4.42"
                                },
                                {
                                    "0": "Death Note, Vol. 2: Confluence (Death Note, #2)",
                                    "1": "death-note",
                                    "2": "13619",
                                    "3": "Tsugumi Ohba, Takeshi Obata",
                                    "4": "136",
                                    "5": "4.42"
                                },
                                {
                                    "0": "Into the Labyrinth (The Death Gate Cycle, #6)",
                                    "1": "death-gate",
                                    "2": "28484",
                                    "3": "Margaret Weis, Tracy Hickman",
                                    "4": "13",
                                    "5": "4.09"
                                },
                                {
                                    "0": "Into the Labyrinth (The Death Gate Cycle, #6)",
                                    "1": "the-death-gate-cycle",
                                    "2": "28484",
                                    "3": "Margaret Weis, Tracy Hickman",
                                    "4": "13",
                                    "5": "4.09"
                                },
                                {
                                    "0": "Into the Labyrinth (The Death Gate Cycle, #6)",
                                    "1": "death-gate-cycle",
                                    "2": "28484",
                                    "3": "Margaret Weis, Tracy Hickman",
                                    "4": "32",
                                    "5": "4.09"
                                },
                                {
                                    "0": "Into the Labyrinth (The Death Gate Cycle, #6)",
                                    "1": "deathgate",
                                    "2": "28484",
                                    "3": "Margaret Weis, Tracy Hickman",
                                    "4": "5",
                                    "5": "4.09"
                                },
                                {
                                    "0": "Where Things Come Back",
                                    "1": "grief",
                                    "2": "8563789",
                                    "3": "John Corey Whaley",
                                    "4": "18",
                                    "5": "3.81"
                                },
                                {
                                    "0": "Survivor In Death (In Death, #20)",
                                    "1": "in-death",
                                    "2": "109367",
                                    "3": "J.D. Robb",
                                    "4": "120",
                                    "5": "4.38"
                                },
                                {
                                    "0": "Survivor In Death (In Death, #20)",
                                    "1": "in-death-series",
                                    "2": "109367",
                                    "3": "J.D. Robb",
                                    "4": "170",
                                    "5": "4.38"
                                },
                                {
                                    "0": "The Gathering",
                                    "1": "death",
                                    "2": "998133",
                                    "3": "Anne Enright",
                                    "4": "16",
                                    "5": "3.04"
                                },
                                {
                                    "0": "Ordinary People",
                                    "1": "death",
                                    "2": "160251",
                                    "3": "Judith Guest",
                                    "4": "10",
                                    "5": "3.9"
                                },
                                {
                                    "0": "Judgment in Death (In Death, #11)",
                                    "1": "in-death-series",
                                    "2": "89160",
                                    "3": "J.D. Robb, Nora Roberts",
                                    "4": "188",
                                    "5": "4.33"
                                },
                                {
                                    "0": "Judgment in Death (In Death, #11)",
                                    "1": "in-death",
                                    "2": "89160",
                                    "3": "J.D. Robb, Nora Roberts",
                                    "4": "193",
                                    "5": "4.33"
                                },
                                {
                                    "0": "Innocent in Death (In Death, #24)",
                                    "1": "in-death-series",
                                    "2": "74033",
                                    "3": "J.D. Robb",
                                    "4": "164",
                                    "5": "4.36"
                                },
                                {
                                    "0": "Innocent in Death (In Death, #24)",
                                    "1": "in-death",
                                    "2": "74033",
                                    "3": "J.D. Robb",
                                    "4": "179",
                                    "5": "4.36"
                                },
                                {
                                    "0": "The Dead in Their Vaulted Arches (Flavia de Luce, #6)",
                                    "1": "grief",
                                    "2": "17834904",
                                    "3": "Alan Bradley",
                                    "4": "11",
                                    "5": "4.16"
                                },
                                {
                                    "0": "The Dogs of Babel",
                                    "1": "death",
                                    "2": "89691",
                                    "3": "Carolyn  Parkhurst",
                                    "4": "18",
                                    "5": "3.56"
                                },
                                {
                                    "0": "The Dogs of Babel",
                                    "1": "grief",
                                    "2": "89691",
                                    "3": "Carolyn  Parkhurst",
                                    "4": "25",
                                    "5": "3.56"
                                },
                                {
                                    "0": "Kira-Kira",
                                    "1": "death",
                                    "2": "89731",
                                    "3": "Cynthia Kadohata",
                                    "4": "50",
                                    "5": "3.9"
                                },
                                {
                                    "0": "The Seventh Gate (The Death Gate Cycle, #7)",
                                    "1": "death-gate",
                                    "2": "28483",
                                    "3": "Margaret Weis, Tracy Hickman",
                                    "4": "12",
                                    "5": "4.09"
                                },
                                {
                                    "0": "The Seventh Gate (The Death Gate Cycle, #7)",
                                    "1": "the-death-gate-cycle",
                                    "2": "28483",
                                    "3": "Margaret Weis, Tracy Hickman",
                                    "4": "18",
                                    "5": "4.09"
                                },
                                {
                                    "0": "The Seventh Gate (The Death Gate Cycle, #7)",
                                    "1": "death-gate-cycle",
                                    "2": "28483",
                                    "3": "Margaret Weis, Tracy Hickman",
                                    "4": "28",
                                    "5": "4.09"
                                },
                                {
                                    "0": "The Seventh Gate (The Death Gate Cycle, #7)",
                                    "1": "deathgate",
                                    "2": "28483",
                                    "3": "Margaret Weis, Tracy Hickman",
                                    "4": "5",
                                    "5": "4.09"
                                },
                                {
                                    "0": "The Seventh Gate (The Death Gate Cycle, #7)",
                                    "1": "death",
                                    "2": "28483",
                                    "3": "Margaret Weis, Tracy Hickman",
                                    "4": "6",
                                    "5": "4.09"
                                },
                                {
                                    "0": "Witness in Death (In Death, #10)",
                                    "1": "in-death-series",
                                    "2": "213975",
                                    "3": "J.D. Robb, Susan Ericksen",
                                    "4": "188",
                                    "5": "4.3"
                                },
                                {
                                    "0": "Witness in Death (In Death, #10)",
                                    "1": "in-death",
                                    "2": "213975",
                                    "3": "J.D. Robb, Susan Ericksen",
                                    "4": "194",
                                    "5": "4.3"
                                },
                                {
                                    "0": "I'd Know You Anywhere",
                                    "1": "death-penalty",
                                    "2": "7636774",
                                    "3": "Laura Lippman",
                                    "4": "8",
                                    "5": "3.47"
                                },
                                {
                                    "0": "Don't Die, My Love",
                                    "1": "death",
                                    "2": "127451",
                                    "3": "Lurlene McDaniel",
                                    "4": "5",
                                    "5": "4.12"
                                },
                                {
                                    "0": "Loyalty in Death (In Death, #9)",
                                    "1": "in-death-series",
                                    "2": "268598",
                                    "3": "J.D. Robb, Susan Ericksen",
                                    "4": "193",
                                    "5": "4.3"
                                },
                                {
                                    "0": "Loyalty in Death (In Death, #9)",
                                    "1": "in-death",
                                    "2": "268598",
                                    "3": "J.D. Robb, Susan Ericksen",
                                    "4": "204",
                                    "5": "4.3"
                                },
                                {
                                    "0": "Loyalty in Death (In Death, #9)",
                                    "1": "series-in-death",
                                    "2": "268598",
                                    "3": "J.D. Robb, Susan Ericksen",
                                    "4": "11",
                                    "5": "4.3"
                                },
                                {
                                    "0": "The Good Luck of Right Now",
                                    "1": "grief",
                                    "2": "18054175",
                                    "3": "Matthew Quick",
                                    "4": "17",
                                    "5": "3.61"
                                },
                                {
                                    "0": "Treachery in Death (In Death, #32)",
                                    "1": "series-in-death",
                                    "2": "8315872",
                                    "3": "J.D. Robb, Nora Roberts",
                                    "4": "17",
                                    "5": "4.43"
                                },
                                {
                                    "0": "Treachery in Death (In Death, #32)",
                                    "1": "in-death",
                                    "2": "8315872",
                                    "3": "J.D. Robb, Nora Roberts",
                                    "4": "154",
                                    "5": "4.43"
                                },
                                {
                                    "0": "Treachery in Death (In Death, #32)",
                                    "1": "in-death-series",
                                    "2": "8315872",
                                    "3": "J.D. Robb, Nora Roberts",
                                    "4": "155",
                                    "5": "4.43"
                                },
                                {
                                    "0": "All My Puny Sorrows",
                                    "1": "death",
                                    "2": "18339630",
                                    "3": "Miriam Toews",
                                    "4": "14",
                                    "5": "3.93"
                                },
                                {
                                    "0": "Betrayal in Death (In Death, #12)",
                                    "1": "death",
                                    "2": "762064",
                                    "3": "J.D. Robb, Nora Roberts",
                                    "4": "10",
                                    "5": "4.31"
                                },
                                {
                                    "0": "Betrayal in Death (In Death, #12)",
                                    "1": "in-death-series",
                                    "2": "762064",
                                    "3": "J.D. Robb, Nora Roberts",
                                    "4": "185",
                                    "5": "4.31"
                                },
                                {
                                    "0": "Betrayal in Death (In Death, #12)",
                                    "1": "in-death",
                                    "2": "762064",
                                    "3": "J.D. Robb, Nora Roberts",
                                    "4": "188",
                                    "5": "4.31"
                                },
                                {
                                    "0": "Lily and the Octopus",
                                    "1": "grief",
                                    "2": "27276262",
                                    "3": "Steven  Rowley",
                                    "4": "15",
                                    "5": "3.74"
                                },
                                {
                                    "0": "Death Note, Vol. 3: Hard Run (Death Note, #3)",
                                    "1": "deathnote",
                                    "2": "13618",
                                    "3": "Tsugumi Ohba, Takeshi Obata",
                                    "4": "17",
                                    "5": "4.42"
                                },
                                {
                                    "0": "Death Note, Vol. 3: Hard Run (Death Note, #3)",
                                    "1": "death-note",
                                    "2": "13618",
                                    "3": "Tsugumi Ohba, Takeshi Obata",
                                    "4": "127",
                                    "5": "4.42"
                                },
                                {
                                    "0": "Saving June",
                                    "1": "death",
                                    "2": "10947600",
                                    "3": "Hannah Harrington",
                                    "4": "61",
                                    "5": "3.97"
                                },
                                {
                                    "0": "Wave",
                                    "1": "death",
                                    "2": "15771862",
                                    "3": "Sonali Deraniyagala",
                                    "4": "16",
                                    "5": "3.7"
                                },
                                {
                                    "0": "Wave",
                                    "1": "grief",
                                    "2": "15771862",
                                    "3": "Sonali Deraniyagala",
                                    "4": "42",
                                    "5": "3.7"
                                },
                                {
                                    "0": "Fire Sea (The Death Gate Cycle, #3)",
                                    "1": "death-gate",
                                    "2": "1307",
                                    "3": "Margaret Weis, Tracy Hickman",
                                    "4": "12",
                                    "5": "4.05"
                                },
                                {
                                    "0": "Fire Sea (The Death Gate Cycle, #3)",
                                    "1": "the-death-gate-cycle",
                                    "2": "1307",
                                    "3": "Margaret Weis, Tracy Hickman",
                                    "4": "16",
                                    "5": "4.05"
                                },
                                {
                                    "0": "Fire Sea (The Death Gate Cycle, #3)",
                                    "1": "death-gate-cycle",
                                    "2": "1307",
                                    "3": "Margaret Weis, Tracy Hickman",
                                    "4": "18",
                                    "5": "4.05"
                                },
                                {
                                    "0": "Fire Sea (The Death Gate Cycle, #3)",
                                    "1": "death",
                                    "2": "1307",
                                    "3": "Margaret Weis, Tracy Hickman",
                                    "4": "4",
                                    "5": "4.05"
                                },
                                {
                                    "0": "Fire Sea (The Death Gate Cycle, #3)",
                                    "1": "deathgate",
                                    "2": "1307",
                                    "3": "Margaret Weis, Tracy Hickman",
                                    "4": "5",
                                    "5": "4.05"
                                },
                                {
                                    "0": "Indulgence in Death (In Death, #31)",
                                    "1": "in-death-series",
                                    "2": "7685763",
                                    "3": "J.D. Robb",
                                    "4": "152",
                                    "5": "4.32"
                                },
                                {
                                    "0": "Indulgence in Death (In Death, #31)",
                                    "1": "in-death",
                                    "2": "7685763",
                                    "3": "J.D. Robb",
                                    "4": "155",
                                    "5": "4.32"
                                },
                                {
                                    "0": "Indulgence in Death (In Death, #31)",
                                    "1": "series-in-death",
                                    "2": "7685763",
                                    "3": "J.D. Robb",
                                    "4": "11",
                                    "5": "4.32"
                                },
                                {
                                    "0": "The Hand of Chaos (The Death Gate Cycle, #5)",
                                    "1": "death-gate",
                                    "2": "28482",
                                    "3": "Margaret Weis, Tracy Hickman",
                                    "4": "13",
                                    "5": "4.05"
                                },
                                {
                                    "0": "The Hand of Chaos (The Death Gate Cycle, #5)",
                                    "1": "the-death-gate-cycle",
                                    "2": "28482",
                                    "3": "Margaret Weis, Tracy Hickman",
                                    "4": "14",
                                    "5": "4.05"
                                },
                                {
                                    "0": "The Hand of Chaos (The Death Gate Cycle, #5)",
                                    "1": "death-gate-cycle",
                                    "2": "28482",
                                    "3": "Margaret Weis, Tracy Hickman",
                                    "4": "31",
                                    "5": "4.05"
                                },
                                {
                                    "0": "The Hand of Chaos (The Death Gate Cycle, #5)",
                                    "1": "death",
                                    "2": "28482",
                                    "3": "Margaret Weis, Tracy Hickman",
                                    "4": "4",
                                    "5": "4.05"
                                },
                                {
                                    "0": "The Hand of Chaos (The Death Gate Cycle, #5)",
                                    "1": "deathgate",
                                    "2": "28482",
                                    "3": "Margaret Weis, Tracy Hickman",
                                    "4": "6",
                                    "5": "4.05"
                                },
                                {
                                    "0": "A Mother's Reckoning: Living in the Aftermath of Tragedy",
                                    "1": "death",
                                    "2": "25937671",
                                    "3": "Sue Klebold",
                                    "4": "18",
                                    "5": "4.13"
                                },
                                {
                                    "0": "When Bad Things Happen to Good People",
                                    "1": "death-and-dying",
                                    "2": "46676",
                                    "3": "Harold S. Kushner",
                                    "4": "4",
                                    "5": "4.02"
                                },
                                {
                                    "0": "When Bad Things Happen to Good People",
                                    "1": "grief",
                                    "2": "46676",
                                    "3": "Harold S. Kushner",
                                    "4": "17",
                                    "5": "4.02"
                                },
                                {
                                    "0": "When Bad Things Happen to Good People",
                                    "1": "grief-books",
                                    "2": "46676",
                                    "3": "Harold S. Kushner",
                                    "4": "3",
                                    "5": "4.02"
                                },
                                {
                                    "0": "Purity in Death (In Death, #15)",
                                    "1": "in-death-series",
                                    "2": "238137",
                                    "3": "J.D. Robb",
                                    "4": "168",
                                    "5": "4.33"
                                },
                                {
                                    "0": "Purity in Death (In Death, #15)",
                                    "1": "in-death",
                                    "2": "238137",
                                    "3": "J.D. Robb",
                                    "4": "175",
                                    "5": "4.33"
                                },
                                {
                                    "0": "Can't Wait to Get to Heaven",
                                    "1": "death-and-dying",
                                    "2": "199530",
                                    "3": "Fannie Flagg",
                                    "4": "9",
                                    "5": "3.89"
                                },
                                {
                                    "0": "Seduction in Death (In Death, #13)",
                                    "1": "in-death-series",
                                    "2": "238127",
                                    "3": "J.D. Robb",
                                    "4": "176",
                                    "5": "4.3"
                                },
                                {
                                    "0": "Seduction in Death (In Death, #13)",
                                    "1": "in-death",
                                    "2": "238127",
                                    "3": "J.D. Robb",
                                    "4": "182",
                                    "5": "4.3"
                                },
                                {
                                    "0": "Born in Death (In Death, #23)",
                                    "1": "series-in-death",
                                    "2": "102857",
                                    "3": "J.D. Robb, Susan Ericksen",
                                    "4": "13",
                                    "5": "4.33"
                                },
                                {
                                    "0": "Born in Death (In Death, #23)",
                                    "1": "in-death-series",
                                    "2": "102857",
                                    "3": "J.D. Robb, Susan Ericksen",
                                    "4": "161",
                                    "5": "4.33"
                                },
                                {
                                    "0": "Born in Death (In Death, #23)",
                                    "1": "in-death",
                                    "2": "102857",
                                    "3": "J.D. Robb, Susan Ericksen",
                                    "4": "173",
                                    "5": "4.33"
                                },
                                {
                                    "0": "Everyman",
                                    "1": "death",
                                    "2": "50695",
                                    "3": "Philip Roth",
                                    "4": "11",
                                    "5": "3.54"
                                },
                                {
                                    "0": "Sadako and the Thousand Paper Cranes",
                                    "1": "death",
                                    "2": "181077",
                                    "3": "Eleanor Coerr, Ronald Himler",
                                    "4": "14",
                                    "5": "4.09"
                                },
                                {
                                    "0": "Death Note, Vol. 4: Love (Death Note, #4)",
                                    "1": "death",
                                    "2": "13616",
                                    "3": "Tsugumi Ohba, Takeshi Obata",
                                    "4": "13",
                                    "5": "4.38"
                                },
                                {
                                    "0": "Death Note, Vol. 4: Love (Death Note, #4)",
                                    "1": "deathnote",
                                    "2": "13616",
                                    "3": "Tsugumi Ohba, Takeshi Obata",
                                    "4": "14",
                                    "5": "4.38"
                                },
                                {
                                    "0": "The Beginner's Goodbye",
                                    "1": "death",
                                    "2": "12482658",
                                    "3": "Anne Tyler",
                                    "4": "19",
                                    "5": "3.58"
                                },
                                {
                                    "0": "The Beginner's Goodbye",
                                    "1": "grief",
                                    "2": "12482658",
                                    "3": "Anne Tyler",
                                    "4": "42",
                                    "5": "3.58"
                                },
                                {
                                    "0": "What Remains: A Memoir of Fate, Friendship, and Love",
                                    "1": "death-and-dying",
                                    "2": "851678",
                                    "3": "Carole Radziwill",
                                    "4": "5",
                                    "5": "4.16"
                                },
                                {
                                    "0": "What Remains: A Memoir of Fate, Friendship, and Love",
                                    "1": "death",
                                    "2": "851678",
                                    "3": "Carole Radziwill",
                                    "4": "5",
                                    "5": "4.16"
                                },
                                {
                                    "0": "The Curious Charms of Arthur Pepper",
                                    "1": "grief",
                                    "2": "26722820",
                                    "3": "Phaedra Patrick",
                                    "4": "15",
                                    "5": "3.91"
                                },
                                {
                                    "0": "Divided in Death (In Death, #18)",
                                    "1": "in-death-series",
                                    "2": "129523",
                                    "3": "J.D. Robb",
                                    "4": "174",
                                    "5": "4.32"
                                },
                                {
                                    "0": "Divided in Death (In Death, #18)",
                                    "1": "in-death",
                                    "2": "129523",
                                    "3": "J.D. Robb",
                                    "4": "178",
                                    "5": "4.32"
                                },
                                {
                                    "0": "Reunion in Death (In Death, #14)",
                                    "1": "in-death-series",
                                    "2": "238140",
                                    "3": "J.D. Robb",
                                    "4": "176",
                                    "5": "4.33"
                                },
                                {
                                    "0": "Reunion in Death (In Death, #14)",
                                    "1": "in-death",
                                    "2": "238140",
                                    "3": "J.D. Robb",
                                    "4": "183",
                                    "5": "4.33"
                                },
                                {
                                    "0": "Visions in Death (In Death, #19)",
                                    "1": "in-death-series",
                                    "2": "238142",
                                    "3": "J.D. Robb",
                                    "4": "174",
                                    "5": "4.33"
                                },
                                {
                                    "0": "Visions in Death (In Death, #19)",
                                    "1": "in-death",
                                    "2": "238142",
                                    "3": "J.D. Robb",
                                    "4": "177",
                                    "5": "4.33"
                                },
                                {
                                    "0": "Imitation in Death (In Death, #17)",
                                    "1": "in-death-series",
                                    "2": "238139",
                                    "3": "J.D. Robb",
                                    "4": "170",
                                    "5": "4.34"
                                },
                                {
                                    "0": "Imitation in Death (In Death, #17)",
                                    "1": "in-death",
                                    "2": "238139",
                                    "3": "J.D. Robb",
                                    "4": "179",
                                    "5": "4.34"
                                },
                                {
                                    "0": "Another Brooklyn",
                                    "1": "grief",
                                    "2": "27213163",
                                    "3": "Jacqueline Woodson",
                                    "4": "13",
                                    "5": "3.87"
                                },
                                {
                                    "0": "How to Save a Life",
                                    "1": "grief",
                                    "2": "10757806",
                                    "3": "Sara Zarr",
                                    "4": "39",
                                    "5": "3.89"
                                },
                                {
                                    "0": "Brotherhood in Death (In Death, #42)",
                                    "1": "in-death",
                                    "2": "25337081",
                                    "3": "J.D. Robb",
                                    "4": "66",
                                    "5": "4.35"
                                },
                                {
                                    "0": "Brotherhood in Death (In Death, #42)",
                                    "1": "in-death-series",
                                    "2": "25337081",
                                    "3": "J.D. Robb",
                                    "4": "73",
                                    "5": "4.35"
                                },
                                {
                                    "0": "Brotherhood in Death (In Death, #42)",
                                    "1": "j-d-robb-in-death-series",
                                    "2": "25337081",
                                    "3": "J.D. Robb",
                                    "4": "6",
                                    "5": "4.35"
                                },
                                {
                                    "0": "Brotherhood in Death (In Death, #42)",
                                    "1": "death",
                                    "2": "25337081",
                                    "3": "J.D. Robb",
                                    "4": "7",
                                    "5": "4.35"
                                },
                                {
                                    "0": "A Severe Mercy: A Story of Faith, Tragedy and Triumph",
                                    "1": "grief",
                                    "2": "56594",
                                    "3": "Sheldon Vanauken, C.S. Lewis",
                                    "4": "12",
                                    "5": "4.32"
                                },
                                {
                                    "0": "The Tiger Rising",
                                    "1": "death",
                                    "2": "37187",
                                    "3": "Kate DiCamillo",
                                    "4": "21",
                                    "5": "3.78"
                                },
                                {
                                    "0": "Death Note, Vol. 8: Target (Death Note, #8)",
                                    "1": "death",
                                    "2": "13614",
                                    "3": "Tsugumi Ohba, Takeshi Obata",
                                    "4": "10",
                                    "5": "4.27"
                                },
                                {
                                    "0": "Death Note, Vol. 8: Target (Death Note, #8)",
                                    "1": "death-note",
                                    "2": "13614",
                                    "3": "Tsugumi Ohba, Takeshi Obata",
                                    "4": "106",
                                    "5": "4.27"
                                },
                                {
                                    "0": "The Love Song of Miss Queenie Hennessy (Harold Fry, #2)",
                                    "1": "death",
                                    "2": "20890479",
                                    "3": "Rachel Joyce",
                                    "4": "13",
                                    "5": "4.04"
                                },
                                {
                                    "0": "Creation in Death (In Death, #25)",
                                    "1": "series-in-death",
                                    "2": "1566705",
                                    "3": "J.D. Robb",
                                    "4": "15",
                                    "5": "4.34"
                                },
                                {
                                    "0": "Creation in Death (In Death, #25)",
                                    "1": "in-death",
                                    "2": "1566705",
                                    "3": "J.D. Robb",
                                    "4": "161",
                                    "5": "4.34"
                                },
                                {
                                    "0": "Creation in Death (In Death, #25)",
                                    "1": "in-death-series",
                                    "2": "1566705",
                                    "3": "J.D. Robb",
                                    "4": "162",
                                    "5": "4.34"
                                },
                                {
                                    "0": "Creation in Death (In Death, #25)",
                                    "1": "j-d-robb-in-death-series",
                                    "2": "1566705",
                                    "3": "J.D. Robb",
                                    "4": "8",
                                    "5": "4.34"
                                },
                                {
                                    "0": "Delusion in Death (In Death, #35)",
                                    "1": "j-d-robb-in-death-series",
                                    "2": "13252406",
                                    "3": "J.D. Robb",
                                    "4": "7",
                                    "5": "4.31"
                                },
                                {
                                    "0": "Delusion in Death (In Death, #35)",
                                    "1": "series-in-death",
                                    "2": "13252406",
                                    "3": "J.D. Robb",
                                    "4": "14",
                                    "5": "4.31"
                                },
                                {
                                    "0": "Delusion in Death (In Death, #35)",
                                    "1": "in-death-series",
                                    "2": "13252406",
                                    "3": "J.D. Robb",
                                    "4": "128",
                                    "5": "4.31"
                                },
                                {
                                    "0": "Death Note, Vol. 5: Whiteout (Death Note, #5)",
                                    "1": "death-note",
                                    "2": "13617",
                                    "3": "Tsugumi Ohba, Takeshi Obata",
                                    "4": "113",
                                    "5": "4.35"
                                },
                                {
                                    "0": "Death Note, Vol. 5: Whiteout (Death Note, #5)",
                                    "1": "death",
                                    "2": "13617",
                                    "3": "Tsugumi Ohba, Takeshi Obata",
                                    "4": "11",
                                    "5": "4.35"
                                },
                                {
                                    "0": "Elven Star (The Death Gate Cycle, #2)",
                                    "1": "death-gate-cycle",
                                    "2": "28485",
                                    "3": "Margaret Weis, Tracy Hickman",
                                    "4": "35",
                                    "5": "3.98"
                                },
                                {
                                    "0": "Elven Star (The Death Gate Cycle, #2)",
                                    "1": "deathgate",
                                    "2": "28485",
                                    "3": "Margaret Weis, Tracy Hickman",
                                    "4": "5",
                                    "5": "3.98"
                                },
                                {
                                    "0": "Elven Star (The Death Gate Cycle, #2)",
                                    "1": "deathgate-cycle",
                                    "2": "28485",
                                    "3": "Margaret Weis, Tracy Hickman",
                                    "4": "6",
                                    "5": "3.98"
                                },
                                {
                                    "0": "Elven Star (The Death Gate Cycle, #2)",
                                    "1": "death",
                                    "2": "28485",
                                    "3": "Margaret Weis, Tracy Hickman",
                                    "4": "7",
                                    "5": "3.98"
                                },
                                {
                                    "0": "Elven Star (The Death Gate Cycle, #2)",
                                    "1": "death-gate",
                                    "2": "28485",
                                    "3": "Margaret Weis, Tracy Hickman",
                                    "4": "12",
                                    "5": "3.98"
                                },
                                {
                                    "0": "How to Talk to a Widower",
                                    "1": "grief",
                                    "2": "242157",
                                    "3": "Jonathan Tropper",
                                    "4": "12",
                                    "5": "3.97"
                                },
                                {
                                    "0": "Origin in Death (In Death, #21)",
                                    "1": "death",
                                    "2": "210243",
                                    "3": "J.D. Robb",
                                    "4": "10",
                                    "5": "4.34"
                                },
                                {
                                    "0": "Origin in Death (In Death, #21)",
                                    "1": "in-death",
                                    "2": "210243",
                                    "3": "J.D. Robb",
                                    "4": "111",
                                    "5": "4.34"
                                },
                                {
                                    "0": "Origin in Death (In Death, #21)",
                                    "1": "in-death-series",
                                    "2": "210243",
                                    "3": "J.D. Robb",
                                    "4": "170",
                                    "5": "4.34"
                                },
                                {
                                    "0": "Death Note, Vol. 7: Zero (Death Note, #7)",
                                    "1": "deathnote",
                                    "2": "13621",
                                    "3": "Tsugumi Ohba, Takeshi Obata",
                                    "4": "11",
                                    "5": "4.41"
                                },
                                {
                                    "0": "Death Note, Vol. 7: Zero (Death Note, #7)",
                                    "1": "death-note",
                                    "2": "13621",
                                    "3": "Tsugumi Ohba, Takeshi Obata",
                                    "4": "107",
                                    "5": "4.41"
                                },
                                {
                                    "0": "Calculated in Death (In Death, #36)",
                                    "1": "in-death",
                                    "2": "15806231",
                                    "3": "J.D. Robb",
                                    "4": "114",
                                    "5": "4.23"
                                },
                                {
                                    "0": "Calculated in Death (In Death, #36)",
                                    "1": "in-death-series",
                                    "2": "15806231",
                                    "3": "J.D. Robb",
                                    "4": "133",
                                    "5": "4.23"
                                },
                                {
                                    "0": "Calculated in Death (In Death, #36)",
                                    "1": "death",
                                    "2": "15806231",
                                    "3": "J.D. Robb",
                                    "4": "9",
                                    "5": "4.23"
                                },
                                {
                                    "0": "Celebrity in Death (In Death, #34)",
                                    "1": "in-death-series",
                                    "2": "13007638",
                                    "3": "J.D. Robb",
                                    "4": "138",
                                    "5": "4.28"
                                },
                                {
                                    "0": "Celebrity in Death (In Death, #34)",
                                    "1": "death",
                                    "2": "13007638",
                                    "3": "J.D. Robb",
                                    "4": "7",
                                    "5": "4.28"
                                },
                                {
                                    "0": "Celebrity in Death (In Death, #34)",
                                    "1": "j-d-robb-in-death-series",
                                    "2": "13007638",
                                    "3": "J.D. Robb",
                                    "4": "8",
                                    "5": "4.28"
                                },
                                {
                                    "0": "Celebrity in Death (In Death, #34)",
                                    "1": "series-in-death",
                                    "2": "13007638",
                                    "3": "J.D. Robb",
                                    "4": "16",
                                    "5": "4.28"
                                },
                                {
                                    "0": "Strangers in Death (In Death, #26)",
                                    "1": "death",
                                    "2": "1158706",
                                    "3": "J.D. Robb",
                                    "4": "12",
                                    "5": "4.29"
                                },
                                {
                                    "0": "Strangers in Death (In Death, #26)",
                                    "1": "in-death",
                                    "2": "1158706",
                                    "3": "J.D. Robb",
                                    "4": "167",
                                    "5": "4.29"
                                },
                                {
                                    "0": "Strangers in Death (In Death, #26)",
                                    "1": "in-death-series",
                                    "2": "1158706",
                                    "3": "J.D. Robb",
                                    "4": "168",
                                    "5": "4.29"
                                },
                                {
                                    "0": "LaRose",
                                    "1": "grief",
                                    "2": "26116430",
                                    "3": "Louise Erdrich",
                                    "4": "17",
                                    "5": "3.86"
                                },
                                {
                                    "0": "Thankless in Death (In Death, #37)",
                                    "1": "in-death",
                                    "2": "16299341",
                                    "3": "J.D. Robb",
                                    "4": "116",
                                    "5": "4.28"
                                },
                                {
                                    "0": "Thankless in Death (In Death, #37)",
                                    "1": "in-death-series",
                                    "2": "16299341",
                                    "3": "J.D. Robb",
                                    "4": "122",
                                    "5": "4.28"
                                },
                                {
                                    "0": "Thankless in Death (In Death, #37)",
                                    "1": "death",
                                    "2": "16299341",
                                    "3": "J.D. Robb",
                                    "4": "8",
                                    "5": "4.28"
                                },
                                {
                                    "0": "Afterwards",
                                    "1": "death",
                                    "2": "12598982",
                                    "3": "Rosamund Lupton",
                                    "4": "6",
                                    "5": "3.79"
                                },
                                {
                                    "0": "Concealed in Death (In Death, #38)",
                                    "1": "in-death",
                                    "2": "18079757",
                                    "3": "J.D. Robb",
                                    "4": "101",
                                    "5": "4.25"
                                },
                                {
                                    "0": "Concealed in Death (In Death, #38)",
                                    "1": "in-death-series",
                                    "2": "18079757",
                                    "3": "J.D. Robb",
                                    "4": "106",
                                    "5": "4.25"
                                },
                                {
                                    "0": "Concealed in Death (In Death, #38)",
                                    "1": "death",
                                    "2": "18079757",
                                    "3": "J.D. Robb",
                                    "4": "9",
                                    "5": "4.25"
                                },
                                {
                                    "0": "Benediction (Plainsong, #3)",
                                    "1": "death",
                                    "2": "15762186",
                                    "3": "Kent Haruf",
                                    "4": "12",
                                    "5": "3.97"
                                },
                                {
                                    "0": "Benediction (Plainsong, #3)",
                                    "1": "death-and-dying",
                                    "2": "15762186",
                                    "3": "Kent Haruf",
                                    "4": "10",
                                    "5": "3.97"
                                },
                                {
                                    "0": "My Life with the Walter Boys (My Life with the Walter Boys #1)",
                                    "1": "grief",
                                    "2": "13580846",
                                    "3": "Ali Novak, Fallzswimmer",
                                    "4": "10",
                                    "5": "3.93"
                                },
                                {
                                    "0": "The Ice Queen",
                                    "1": "death",
                                    "2": "177515",
                                    "3": "Alice Hoffman",
                                    "4": "12",
                                    "5": "3.51"
                                },
                                {
                                    "0": "Death Note, Vol. 6: Give-and-Take (Death Note, #6)",
                                    "1": "deathnote",
                                    "2": "13620",
                                    "3": "Tsugumi Ohba, Takeshi Obata",
                                    "4": "13",
                                    "5": "4.39"
                                },
                                {
                                    "0": "Death Note, Vol. 6: Give-and-Take (Death Note, #6)",
                                    "1": "death-note",
                                    "2": "13620",
                                    "3": "Tsugumi Ohba, Takeshi Obata",
                                    "4": "109",
                                    "5": "4.39"
                                },
                                {
                                    "0": "A Vintage Affair",
                                    "1": "grief",
                                    "2": "5556595",
                                    "3": "Isabel Wolff",
                                    "4": "8",
                                    "5": "3.8"
                                },
                                {
                                    "0": "Lost & Found (Rocky Pelligrino, #1)",
                                    "1": "grief",
                                    "2": "697210",
                                    "3": "Jacqueline Sheehan",
                                    "4": "13",
                                    "5": "3.71"
                                },
                                {
                                    "0": "Tell Me Three Things",
                                    "1": "grief",
                                    "2": "25893582",
                                    "3": "Julie Buxbaum",
                                    "4": "30",
                                    "5": "4.1"
                                },
                                {
                                    "0": "My Brother Sam Is Dead",
                                    "1": "death",
                                    "2": "122756",
                                    "3": "James Lincoln Collier, Christopher Collier",
                                    "4": "10",
                                    "5": "3.39"
                                },
                                {
                                    "0": "Catalyst",
                                    "1": "death",
                                    "2": "170171",
                                    "3": "Laurie Halse Anderson",
                                    "4": "37",
                                    "5": "3.62"
                                },
                                {
                                    "0": "Lincoln in the Bardo",
                                    "1": "death",
                                    "2": "29906980",
                                    "3": "George Saunders",
                                    "4": "37",
                                    "5": "3.93"
                                },
                                {
                                    "0": "The Boy Who Came Back from Heaven: A Remarkable Account of Miracles, Angels, and Life beyond This World",
                                    "1": "near-death-experience",
                                    "2": "8100288",
                                    "3": "Kevin Malarkey, Alex Malarkey",
                                    "4": "2",
                                    "5": "3.89"
                                },
                                {
                                    "0": "The Boy Who Came Back from Heaven: A Remarkable Account of Miracles, Angels, and Life beyond This World",
                                    "1": "grief",
                                    "2": "8100288",
                                    "3": "Kevin Malarkey, Alex Malarkey",
                                    "4": "3",
                                    "5": "3.89"
                                },
                                {
                                    "0": "The Boy Who Came Back from Heaven: A Remarkable Account of Miracles, Angels, and Life beyond This World",
                                    "1": "death",
                                    "2": "8100288",
                                    "3": "Kevin Malarkey, Alex Malarkey",
                                    "4": "3",
                                    "5": "3.89"
                                },
                                {
                                    "0": "The Boy Who Came Back from Heaven: A Remarkable Account of Miracles, Angels, and Life beyond This World",
                                    "1": "near-death-experiences",
                                    "2": "8100288",
                                    "3": "Kevin Malarkey, Alex Malarkey",
                                    "4": "4",
                                    "5": "3.89"
                                },
                                {
                                    "0": "The Obituary Writer",
                                    "1": "grief",
                                    "2": "17573684",
                                    "3": "Ann Hood",
                                    "4": "10",
                                    "5": "3.7"
                                },
                                {
                                    "0": "Festive in Death (In Death, #39)",
                                    "1": "series-in-death",
                                    "2": "20821249",
                                    "3": "J.D. Robb",
                                    "4": "10",
                                    "5": "4.26"
                                },
                                {
                                    "0": "Festive in Death (In Death, #39)",
                                    "1": "in-death",
                                    "2": "20821249",
                                    "3": "J.D. Robb",
                                    "4": "87",
                                    "5": "4.26"
                                },
                                {
                                    "0": "Festive in Death (In Death, #39)",
                                    "1": "in-death-series",
                                    "2": "20821249",
                                    "3": "J.D. Robb",
                                    "4": "109",
                                    "5": "4.26"
                                },
                                {
                                    "0": "The Last Time We Say Goodbye",
                                    "1": "death",
                                    "2": "17285330",
                                    "3": "Cynthia Hand",
                                    "4": "51",
                                    "5": "4.11"
                                },
                                {
                                    "0": "Obsession in Death (In Death, #40)",
                                    "1": "in-death",
                                    "2": "22571696",
                                    "3": "J.D. Robb",
                                    "4": "73",
                                    "5": "4.33"
                                },
                                {
                                    "0": "Obsession in Death (In Death, #40)",
                                    "1": "in-death-series",
                                    "2": "22571696",
                                    "3": "J.D. Robb",
                                    "4": "89",
                                    "5": "4.33"
                                },
                                {
                                    "0": "Obsession in Death (In Death, #40)",
                                    "1": "j-d-robb-in-death-series",
                                    "2": "22571696",
                                    "3": "J.D. Robb",
                                    "4": "7",
                                    "5": "4.33"
                                },
                                {
                                    "0": "The Hate U Give",
                                    "1": "death",
                                    "2": "32075671",
                                    "3": "Angie Thomas",
                                    "4": "58",
                                    "5": "4.62"
                                },
                                {
                                    "0": "Fantasy in Death (In Death, #30)",
                                    "1": "series-in-death",
                                    "2": "6542645",
                                    "3": "J.D. Robb",
                                    "4": "13",
                                    "5": "4.25"
                                },
                                {
                                    "0": "Fantasy in Death (In Death, #30)",
                                    "1": "in-death",
                                    "2": "6542645",
                                    "3": "J.D. Robb",
                                    "4": "159",
                                    "5": "4.25"
                                },
                                {
                                    "0": "Fantasy in Death (In Death, #30)",
                                    "1": "in-death-series",
                                    "2": "6542645",
                                    "3": "J.D. Robb",
                                    "4": "162",
                                    "5": "4.25"
                                },
                                {
                                    "0": "A Death in the Family",
                                    "1": "death-and-dying",
                                    "2": "113091",
                                    "3": "James Agee",
                                    "4": "10",
                                    "5": "3.92"
                                },
                                {
                                    "0": "A Death in the Family",
                                    "1": "death",
                                    "2": "113091",
                                    "3": "James Agee",
                                    "4": "22",
                                    "5": "3.92"
                                },
                                {
                                    "0": "Wit",
                                    "1": "death",
                                    "2": "171201",
                                    "3": "Margaret Edson",
                                    "4": "14",
                                    "5": "4.2"
                                },
                                {
                                    "0": "Incendiary",
                                    "1": "death",
                                    "2": "701738",
                                    "3": "Chris Cleave",
                                    "4": "5",
                                    "5": "3.59"
                                },
                                {
                                    "0": "Incendiary",
                                    "1": "grief",
                                    "2": "701738",
                                    "3": "Chris Cleave",
                                    "4": "11",
                                    "5": "3.59"
                                },
                                {
                                    "0": "Kindred in Death (In Death, #29)",
                                    "1": "series-in-death",
                                    "2": "5943970",
                                    "3": "J.D. Robb",
                                    "4": "14",
                                    "5": "4.31"
                                },
                                {
                                    "0": "Kindred in Death (In Death, #29)",
                                    "1": "in-death",
                                    "2": "5943970",
                                    "3": "J.D. Robb",
                                    "4": "158",
                                    "5": "4.31"
                                },
                                {
                                    "0": "Kindred in Death (In Death, #29)",
                                    "1": "in-death-series",
                                    "2": "5943970",
                                    "3": "J.D. Robb",
                                    "4": "161",
                                    "5": "4.31"
                                },
                                {
                                    "0": "Belzhar",
                                    "1": "grief",
                                    "2": "20821376",
                                    "3": "Meg Wolitzer",
                                    "4": "27",
                                    "5": "3.46"
                                },
                                {
                                    "0": "Perfect",
                                    "1": "grief",
                                    "2": "97408",
                                    "3": "Natasha Friend",
                                    "4": "5",
                                    "5": "3.77"
                                },
                                {
                                    "0": "Perfect",
                                    "1": "death",
                                    "2": "97408",
                                    "3": "Natasha Friend",
                                    "4": "12",
                                    "5": "3.77"
                                },
                                {
                                    "0": "Salvation in Death (In Death, #27)",
                                    "1": "death",
                                    "2": "2494204",
                                    "3": "J.D. Robb",
                                    "4": "11",
                                    "5": "4.26"
                                },
                                {
                                    "0": "Salvation in Death (In Death, #27)",
                                    "1": "in-death",
                                    "2": "2494204",
                                    "3": "J.D. Robb",
                                    "4": "96",
                                    "5": "4.26"
                                },
                                {
                                    "0": "Salvation in Death (In Death, #27)",
                                    "1": "in-death-series",
                                    "2": "2494204",
                                    "3": "J.D. Robb",
                                    "4": "162",
                                    "5": "4.26"
                                }
                            ]
                        },
                        "text/html": "<table><tr><th>title</th><th>tag_name</th><th>book_id</th><th>authors</th><th>count</th><th>average_rating</th></tr><tr><td>The Fault in Our Stars</td><td>death</td><td>11870085</td><td>John Green</td><td>849</td><td>4.26</td></tr><tr><td>The Lovely Bones</td><td>grief</td><td>12232938</td><td>Alice Sebold</td><td>118</td><td>3.77</td></tr><tr><td>Romeo and Juliet</td><td>death</td><td>18135</td><td>William Shakespeare, Robert           Jackson</td><td>93</td><td>3.73</td></tr><tr><td>The Book Thief</td><td>death</td><td>19063</td><td>Markus Zusak</td><td>470</td><td>4.36</td></tr><tr><td>My Sister's Keeper</td><td>death-and-dying</td><td>10917</td><td>Jodi Picoult</td><td>59</td><td>4.06</td></tr><tr><td>Looking for Alaska</td><td>death</td><td>99561</td><td>John Green</td><td>403</td><td>4.09</td></tr><tr><td>Into the Wild</td><td>death</td><td>1845</td><td>Jon Krakauer</td><td>48</td><td>3.94</td></tr><tr><td>Night (The Night Trilogy #1)</td><td>death</td><td>1617</td><td>Elie Wiesel, Marion Wiesel</td><td>70</td><td>4.3</td></tr><tr><td>The Outsiders</td><td>death</td><td>231804</td><td>S.E. Hinton</td><td>74</td><td>4.06</td></tr><tr><td>A Walk to Remember</td><td>death</td><td>3473</td><td>Nicholas Sparks</td><td>69</td><td>4.15</td></tr><tr><td>Me Before You (Me Before You, #1)</td><td>death</td><td>15507958</td><td>Jojo Moyes</td><td>148</td><td>4.27</td></tr><tr><td>Tuesdays with Morrie</td><td>death-and-dying</td><td>6900</td><td>Mitch Albom, Saulius Dagys</td><td>100</td><td>4.06</td></tr><tr><td>Hamlet</td><td>death</td><td>1420</td><td>William Shakespeare, Richard Andrews, Rex Gibson</td><td>83</td><td>4</td></tr><tr><td>The Five People You Meet in Heaven</td><td>death-and-dying</td><td>3431</td><td>Mitch Albom</td><td>51</td><td>3.9</td></tr><tr><td>Thirteen Reasons Why</td><td>death</td><td>1217100</td><td>Jay Asher</td><td>449</td><td>4.02</td></tr><tr><td>If I Stay (If I Stay, #1)</td><td>grief</td><td>4374400</td><td>Gayle Forman</td><td>146</td><td>3.96</td></tr><tr><td>The Last Song</td><td>death</td><td>6400090</td><td>Nicholas Sparks</td><td>47</td><td>4.14</td></tr><tr><td>The Shack</td><td>grief</td><td>1812457</td><td>William Paul Young</td><td>60</td><td>3.74</td></tr><tr><td>Wild: From Lost to Found on the Pacific Crest Trail</td><td>grief</td><td>12262741</td><td>Cheryl Strayed</td><td>142</td><td>3.96</td></tr><tr><td>The Art of Racing in the Rain</td><td>death</td><td>3153910</td><td>Garth Stein</td><td>62</td><td>4.19</td></tr><tr><td>Dark Places</td><td>death</td><td>5886881</td><td>Gillian Flynn</td><td>61</td><td>3.92</td></tr><tr><td>Sarah's Key</td><td>death</td><td>556602</td><td>Tatiana de Rosnay</td><td>34</td><td>4.14</td></tr><tr><td>Bridge to Terabithia</td><td>death</td><td>2839</td><td>Katherine Paterson</td><td>170</td><td>3.98</td></tr><tr><td>Extremely Loud and Incredibly Close</td><td>grief</td><td>4588</td><td>Jonathan Safran Foer</td><td>78</td><td>3.97</td></tr><tr><td>P.S. I Love You</td><td>grief</td><td>366522</td><td>Cecelia Ahern</td><td>41</td><td>4.01</td></tr><tr><td>Heaven is for Real: A Little Boy's Astounding Story of His Trip to Heaven and Back</td><td>near-death-experience</td><td>7933292</td><td>Todd Burpo, Lynn Vincent</td><td>61</td><td>4.01</td></tr><tr><td>Pet Sematary</td><td>death</td><td>10583</td><td>Stephen King</td><td>24</td><td>3.91</td></tr><tr><td>The Graveyard Book</td><td>death</td><td>2213661</td><td>Neil Gaiman, Dave McKean</td><td>159</td><td>4.12</td></tr><tr><td>A Prayer for Owen Meany</td><td>death</td><td>4473</td><td>John Irving</td><td>41</td><td>4.22</td></tr><tr><td>Nineteen Minutes</td><td>death</td><td>14866</td><td>Jodi Picoult</td><td>36</td><td>4.1</td></tr><tr><td>The Last Lecture</td><td>death</td><td>2318271</td><td>Randy Pausch, Jeffrey Zaslow</td><td>62</td><td>4.25</td></tr><tr><td>The Pact</td><td>grief</td><td>10916</td><td>Jodi Picoult</td><td>25</td><td>4</td></tr><tr><td>We Were Liars</td><td>death</td><td>16143347</td><td>E. Lockhart</td><td>118</td><td>3.85</td></tr><tr><td>Go Ask Alice</td><td>death</td><td>46799</td><td>Beatrice Sparks, Anonymous</td><td>31</td><td>3.77</td></tr><tr><td>Before I Fall</td><td>death</td><td>6482837</td><td>Lauren Oliver</td><td>316</td><td>3.92</td></tr><tr><td>A Man Called Ove</td><td>death</td><td>18774964</td><td>Fredrik Backman, Henning Koch</td><td>46</td><td>4.35</td></tr><tr><td>Where She Went (If I Stay, #2)</td><td>grief</td><td>8492825</td><td>Gayle Forman</td><td>77</td><td>4.06</td></tr><tr><td>The Green Mile</td><td>death</td><td>11566</td><td>Stephen King</td><td>42</td><td>4.42</td></tr><tr><td>A Heartbreaking Work of Staggering Genius</td><td>grief</td><td>4953</td><td>Dave Eggers</td><td>22</td><td>3.68</td></tr><tr><td>The Truth About Forever</td><td>grief</td><td>51737</td><td>Sarah Dessen</td><td>48</td><td>4.13</td></tr><tr><td>Life After Life</td><td>death</td><td>15790842</td><td>Kate Atkinson</td><td>58</td><td>3.74</td></tr><tr><td>The Virgin Suicides</td><td>death</td><td>10956</td><td>Jeffrey Eugenides</td><td>78</td><td>3.83</td></tr><tr><td>After You (Me Before You, #2)</td><td>death</td><td>25041504</td><td>Jojo Moyes</td><td>26</td><td>3.7</td></tr><tr><td>The Guardian</td><td>death</td><td>15925</td><td>Nicholas Sparks</td><td>16</td><td>4.14</td></tr><tr><td>Tuck Everlasting</td><td>death</td><td>84981</td><td>Natalie Babbitt</td><td>44</td><td>3.85</td></tr><tr><td>Death Note, Vol. 1: Boredom (Death Note, #1)</td><td>deathnote</td><td>13615</td><td>Tsugumi Ohba, Takeshi Obata</td><td>18</td><td>4.42</td></tr><tr><td>The Absolutely True Diary of a Part-Time Indian</td><td>death</td><td>693208</td><td>Sherman Alexie, Ellen Forney</td><td>62</td><td>4.11</td></tr><tr><td>A Separate Peace</td><td>death</td><td>5148</td><td>John Knowles</td><td>23</td><td>3.56</td></tr><tr><td>Midwives</td><td>death-and-dying</td><td>5166</td><td>Chris Bohjalian</td><td>10</td><td>3.97</td></tr><tr><td>Veronika Decides to Die</td><td>death</td><td>1431</td><td>Paulo Coelho, Margaret Jull Costa</td><td>37</td><td>3.69</td></tr><tr><td>Slammed (Slammed, #1)</td><td>death</td><td>13372690</td><td>Colleen Hoover</td><td>71</td><td>4.29</td></tr><tr><td>Everything I Never Told You</td><td>death</td><td>18693763</td><td>Celeste Ng</td><td>81</td><td>3.78</td></tr><tr><td>Suzanne's Diary for Nicholas</td><td>grief</td><td>7494</td><td>James Patterson</td><td>13</td><td>4.16</td></tr><tr><td>The Storied Life of A.J. Fikry</td><td>grief</td><td>18293427</td><td>Gabrielle Zevin</td><td>37</td><td>3.98</td></tr><tr><td>A Bend in the Road</td><td>death</td><td>3463</td><td>Nicholas Sparks</td><td>14</td><td>4.02</td></tr><tr><td>Walk Two Moons</td><td>death</td><td>53496</td><td>Sharon Creech</td><td>60</td><td>3.95</td></tr><tr><td>Unwind (Unwind, #1)</td><td>death</td><td>764347</td><td>Neal Shusterman</td><td>57</td><td>4.18</td></tr><tr><td>Bleach, Volume 01</td><td>death</td><td>2880</td><td>Tite Kubo</td><td>7</td><td>4.21</td></tr><tr><td>Sabriel (Abhorsen,  #1)</td><td>death</td><td>518848</td><td>Garth Nix</td><td>66</td><td>4.17</td></tr><tr><td>Mort (Death, #1; Discworld, #4)</td><td>discworld-death</td><td>386372</td><td>Terry Pratchett</td><td>23</td><td>4.22</td></tr><tr><td>Stiff: The Curious Lives of Human Cadavers</td><td>death-and-dying</td><td>32145</td><td>Mary Roach</td><td>40</td><td>4.05</td></tr><tr><td>For One More Day</td><td>death</td><td>10929</td><td>Mitch Albom</td><td>38</td><td>4.09</td></tr><tr><td>This is Where I Leave You</td><td>grief</td><td>6224935</td><td>Jonathan Tropper</td><td>23</td><td>3.88</td></tr><tr><td>Naked in Death (In Death, #1)</td><td>in-death</td><td>268602</td><td>J.D. Robb</td><td>239</td><td>4.13</td></tr><tr><td>The Chamber</td><td>death-penalty</td><td>5355</td><td>John Grisham</td><td>13</td><td>3.76</td></tr><tr><td>The Unlikely Pilgrimage of Harold Fry (Harold Fry, #1)</td><td>death</td><td>13227454</td><td>Rachel Joyce</td><td>33</td><td>3.89</td></tr><tr><td>When Breath Becomes Air</td><td>death-and-dying</td><td>25899336</td><td>Paul Kalanithi, Abraham Verghese</td><td>33</td><td>4.32</td></tr><tr><td>The Elegance of the Hedgehog</td><td>death</td><td>2967752</td><td>Muriel Barbery, Alison Anderson</td><td>19</td><td>3.73</td></tr><tr><td>The Plague</td><td>death</td><td>11989</td><td>Albert Camus, Stuart Gilbert</td><td>29</td><td>3.97</td></tr><tr><td>As I Lay Dying</td><td>death</td><td>77013</td><td>William Faulkner</td><td>44</td><td>3.72</td></tr><tr><td>The Year of Magical Thinking</td><td>death-and-dying</td><td>7815</td><td>Joan Didion</td><td>45</td><td>3.86</td></tr><tr><td>Year of Wonders</td><td>death</td><td>4965</td><td>Geraldine Brooks</td><td>23</td><td>4</td></tr><tr><td>All the Bright Places</td><td>grief</td><td>18460392</td><td>Jennifer Niven, فرانک معنوی</td><td>75</td><td>4.19</td></tr><tr><td>Reconstructing Amelia</td><td>death</td><td>15776309</td><td>Kimberly McCreight</td><td>32</td><td>3.82</td></tr><tr><td>I'll Give You the Sun</td><td>grief</td><td>20820994</td><td>Jandy Nelson</td><td>71</td><td>4.14</td></tr><tr><td>Point of Retreat (Slammed, #2)</td><td>death</td><td>13496084</td><td>Colleen Hoover</td><td>27</td><td>4.3</td></tr><tr><td>The Partner</td><td>death</td><td>5350</td><td>John Grisham</td><td>20</td><td>3.89</td></tr><tr><td>Leaving Time</td><td>death</td><td>18816603</td><td>Jodi Picoult</td><td>17</td><td>3.94</td></tr><tr><td>A Monster Calls</td><td>grief</td><td>8621462</td><td>Patrick Ness, Jim Kay, Siobhan Dowd</td><td>168</td><td>4.36</td></tr><tr><td>Tell the Wolves I'm Home</td><td>grief</td><td>12875258</td><td>Carol Rifka Brunt</td><td>58</td><td>4.04</td></tr><tr><td>The Unbecoming of Mara Dyer (Mara Dyer, #1)</td><td>death</td><td>11408650</td><td>Michelle Hodkin</td><td>64</td><td>4.09</td></tr><tr><td>90 Minutes in Heaven: A True Story of Death and Life</td><td>grief</td><td>89375</td><td>Don Piper, Cecil Murphey</td><td>10</td><td>3.91</td></tr><tr><td>Change of Heart</td><td>death-penalty</td><td>1609451</td><td>Jodi Picoult</td><td>16</td><td>3.91</td></tr><tr><td>Lullaby</td><td>death</td><td>22206</td><td>Chuck Palahniuk</td><td>40</td><td>3.73</td></tr><tr><td>Ugly Love</td><td>death</td><td>17788401</td><td>Colleen Hoover</td><td>45</td><td>4.3</td></tr><tr><td>The Time Keeper</td><td>death</td><td>13624688</td><td>Mitch Albom</td><td>15</td><td>3.85</td></tr><tr><td>A Dirty Job (Grim Reaper, #1)</td><td>death</td><td>33456</td><td>Christopher Moore</td><td>86</td><td>4.08</td></tr><tr><td>Warm Bodies (Warm Bodies, #1)</td><td>death</td><td>7619057</td><td>Isaac Marion</td><td>35</td><td>3.93</td></tr><tr><td>Between Shades of Gray</td><td>death</td><td>7824322</td><td>Ruta Sepetys</td><td>63</td><td>4.36</td></tr><tr><td>Someone Like You</td><td>death</td><td>816953</td><td>Sarah Dessen</td><td>22</td><td>3.94</td></tr><tr><td>Chronicle of a Death Foretold</td><td>death</td><td>23878</td><td>Gabriel García Márquez, Gregory Rabassa</td><td>22</td><td>3.95</td></tr><tr><td>Wintergirls</td><td>grief</td><td>5152478</td><td>Laurie Halse Anderson</td><td>32</td><td>3.98</td></tr><tr><td>Abhorsen (Abhorsen, #3)</td><td>death</td><td>334643</td><td>Garth Nix</td><td>32</td><td>4.29</td></tr><tr><td>The Hot Zone: The Terrifying True Story of the Origins of the Ebola Virus</td><td>death</td><td>16213</td><td>Richard   Preston</td><td>15</td><td>4.1</td></tr><tr><td>It's Not Summer Without You (Summer, #2)</td><td>death</td><td>6584188</td><td>Jenny Han</td><td>26</td><td>4.14</td></tr><tr><td>The Pilot's Wife</td><td>grief</td><td>5191</td><td>Anita Shreve</td><td>24</td><td>3.5</td></tr><tr><td>White Noise</td><td>death</td><td>11762</td><td>Don DeLillo</td><td>34</td><td>3.86</td></tr><tr><td>The Story of Edgar Sawtelle</td><td>grief</td><td>2731276</td><td>David Wroblewski</td><td>24</td><td>3.6</td></tr><tr><td>Drowning Ruth</td><td>grief</td><td>5171</td><td>Christina Schwarz</td><td>6</td><td>3.73</td></tr><tr><td>Fever 1793</td><td>death</td><td>781110</td><td>Laurie Halse Anderson</td><td>43</td><td>3.89</td></tr><tr><td>The Tiger's Wife</td><td>the-deathless-man</td><td>8366402</td><td>Téa Obreht</td><td>23</td><td>3.37</td></tr><tr><td>Revival</td><td>death</td><td>20926278</td><td>Stephen King</td><td>20</td><td>3.75</td></tr><tr><td>Lirael (Abhorsen, #2)</td><td>death</td><td>47624</td><td>Garth Nix</td><td>35</td><td>4.29</td></tr><tr><td>Fun Home: A Family Tragicomic</td><td>death</td><td>38990</td><td>Alison Bechdel</td><td>48</td><td>4.12</td></tr><tr><td>Me and Earl and the Dying Girl</td><td>death</td><td>12700353</td><td>Jesse Andrews</td><td>149</td><td>3.58</td></tr><tr><td>A Long Way Down</td><td>death</td><td>10073</td><td>Nick Hornby</td><td>13</td><td>3.41</td></tr><tr><td>Heart-Shaped Box</td><td>death</td><td>153025</td><td>Joe Hill</td><td>16</td><td>3.82</td></tr><tr><td>Have a Little Faith: a True Story</td><td>death</td><td>1255781</td><td>Mitch Albom</td><td>12</td><td>4.16</td></tr><tr><td>The Walking Dead, Compendium 1</td><td>death</td><td>6465707</td><td>Robert Kirkman</td><td>9</td><td>4.43</td></tr><tr><td>A Dog's Purpose (A Dog's Purpose, #1)</td><td>death</td><td>7723542</td><td>W. Bruce Cameron</td><td>14</td><td>4.35</td></tr><tr><td>Her Fearful Symmetry</td><td>death</td><td>6202342</td><td>Audrey Niffenegger</td><td>49</td><td>3.23</td></tr><tr><td>Old Yeller (Old Yeller, #1)</td><td>death</td><td>130580</td><td>Fred Gipson</td><td>12</td><td>4.06</td></tr><tr><td>Jitterbug Perfume</td><td>death</td><td>8682</td><td>Tom Robbins</td><td>7</td><td>4.24</td></tr><tr><td>Wither (The Chemical Garden, #1)</td><td>death</td><td>8525590</td><td>Lauren DeStefano</td><td>57</td><td>3.81</td></tr><tr><td>Confess</td><td>death</td><td>22609310</td><td>Colleen Hoover</td><td>39</td><td>4.25</td></tr><tr><td>A Map of the World</td><td>death</td><td>5205</td><td>Jane Hamilton, Frank  Muller, C.J. Critt</td><td>8</td><td>3.78</td></tr><tr><td>Dream Country (The Sandman #3)</td><td>death</td><td>25100</td><td>Neil Gaiman, Kelley Jones, Charles Vess, Colleen Doran, Malcolm Jones III, Steve Erickson</td><td>17</td><td>4.28</td></tr><tr><td>Being Mortal: Medicine and What Matters in the End</td><td>death-dying</td><td>20696006</td><td>Atul Gawande</td><td>25</td><td>4.4</td></tr><tr><td>Saving CeeCee Honeycutt</td><td>grief</td><td>6617928</td><td>Beth Hoffman, Jenna Lamia</td><td>7</td><td>3.92</td></tr><tr><td>Night Road</td><td>grief</td><td>8949352</td><td>Kristin Hannah</td><td>18</td><td>4.17</td></tr><tr><td>Impulse (Impulse, #1)</td><td>death</td><td>270805</td><td>Ellen Hopkins</td><td>33</td><td>4.29</td></tr><tr><td>Anna Dressed in Blood (Anna, #1)</td><td>death</td><td>9378297</td><td>Kendare Blake</td><td>59</td><td>3.96</td></tr><tr><td>The Friday Night Knitting Club (Friday Night Knitting Club, #1)</td><td>death</td><td>17204</td><td>Kate Jacobs</td><td>9</td><td>3.41</td></tr><tr><td>13 Little Blue Envelopes (Little Blue Envelope, #1)</td><td>death</td><td>17020</td><td>Maureen Johnson</td><td>24</td><td>3.65</td></tr><tr><td>Rule (Marked Men, #1)</td><td>death</td><td>17200687</td><td>Jay Crownover, Charlotte Connan de vries</td><td>22</td><td>4.16</td></tr><tr><td>Amy &amp; Roger's Epic Detour</td><td>grief</td><td>7664334</td><td>Morgan Matson</td><td>37</td><td>4.05</td></tr><tr><td>The Death and Life of Charlie St. Cloud</td><td>death</td><td>263050</td><td>Ben Sherwood</td><td>25</td><td>4.01</td></tr><tr><td>The Sky Is Everywhere</td><td>grief</td><td>6604794</td><td>Jandy Nelson</td><td>102</td><td>4.04</td></tr><tr><td>Before the Fall</td><td>death</td><td>26245850</td><td>Noah Hawley</td><td>14</td><td>3.76</td></tr><tr><td>Ubik</td><td>death</td><td>22590</td><td>Philip K. Dick, David Alabort, Manuel Espín</td><td>33</td><td>4.1</td></tr><tr><td>The Emperor of All Maladies: A Biography of Cancer</td><td>death</td><td>7170627</td><td>Siddhartha Mukherjee</td><td>14</td><td>4.29</td></tr><tr><td>The Forest of Hands and Teeth (The Forest of Hands and Teeth, #1)</td><td>death</td><td>3432478</td><td>Carrie Ryan</td><td>54</td><td>3.59</td></tr><tr><td>Reaper Man (Discworld, #11; Death, #2)</td><td>discworld-death</td><td>34517</td><td>Terry Pratchett</td><td>19</td><td>4.27</td></tr><tr><td>Alive: The Story of the Andes Survivors</td><td>death</td><td>401514</td><td>Piers Paul Read</td><td>10</td><td>4.08</td></tr><tr><td>A Widow for One Year</td><td>death</td><td>4659</td><td>John Irving</td><td>8</td><td>3.74</td></tr><tr><td>The Innocent Man: Murder and Injustice in a Small Town</td><td>death-penalty</td><td>5345</td><td>John Grisham</td><td>21</td><td>3.79</td></tr><tr><td>Grave Mercy (His Fair Assassin, #1)</td><td>death</td><td>9565548</td><td>Robin LaFevers</td><td>97</td><td>3.92</td></tr><tr><td>The Death of Ivan Ilych</td><td>death-and-dying</td><td>18386</td><td>Leo Tolstoy, Aylmer Maude</td><td>16</td><td>4.04</td></tr><tr><td>Lisey's Story</td><td>grief</td><td>10566</td><td>Stephen King</td><td>23</td><td>3.65</td></tr><tr><td>Proof of Heaven: A Neurosurgeon's Journey into the Afterlife</td><td>grief</td><td>15851746</td><td>Eben Alexander</td><td>7</td><td>3.68</td></tr><tr><td>My Grandmother Asked Me to Tell You She's Sorry</td><td>grief</td><td>23604559</td><td>Fredrik Backman, Henning Koch</td><td>18</td><td>4.02</td></tr><tr><td>Out of the Dust</td><td>death</td><td>25346</td><td>Karen Hesse</td><td>25</td><td>3.73</td></tr><tr><td>Burned (Burned, #1)</td><td>death</td><td>270807</td><td>Ellen Hopkins</td><td>12</td><td>4.24</td></tr><tr><td>Hogfather (Discworld, #20; Death, #4)</td><td>discworld-death</td><td>34532</td><td>Terry Pratchett</td><td>19</td><td>4.22</td></tr><tr><td>Identical</td><td>death</td><td>2241059</td><td>Ellen Hopkins</td><td>33</td><td>4.34</td></tr><tr><td>The Secret of Ella and Micha (The Secret, #1)</td><td>death</td><td>15717876</td><td>Jessica Sorensen</td><td>19</td><td>4.01</td></tr><tr><td>Anybody Out There? (Walsh Family, #4)</td><td>grief</td><td>165030</td><td>Marian Keyes</td><td>9</td><td>3.91</td></tr><tr><td>The Confession</td><td>death</td><td>7933437</td><td>John Grisham</td><td>21</td><td>3.81</td></tr><tr><td>Hallowed (Unearthly, #2)</td><td>death</td><td>11563110</td><td>Cynthia Hand</td><td>22</td><td>4.15</td></tr><tr><td>The Life We Bury</td><td>death</td><td>20758175</td><td>Allen Eskens</td><td>9</td><td>3.93</td></tr><tr><td>The First Phone Call from Heaven</td><td>death</td><td>17888952</td><td>Mitch Albom</td><td>13</td><td>3.73</td></tr><tr><td>Lies (Gone, #3)</td><td>death</td><td>6686092</td><td>Michael  Grant</td><td>13</td><td>4.09</td></tr><tr><td>The Butterfly Garden (The Collector #1)</td><td>death</td><td>29981261</td><td>Dot Hutchison</td><td>11</td><td>4.07</td></tr><tr><td>Locke &amp; Key, Vol. 1: Welcome to Lovecraft</td><td>death</td><td>3217221</td><td>Joe Hill, Gabriel Rodríguez</td><td>17</td><td>4.18</td></tr><tr><td>Columbine</td><td>death</td><td>5632446</td><td>Dave Cullen</td><td>22</td><td>4.26</td></tr><tr><td>The Cask of Amontillado</td><td>death</td><td>261240</td><td>Edgar Allan Poe</td><td>7</td><td>4.09</td></tr><tr><td>My Friend Leonard</td><td>death</td><td>6520</td><td>James Frey</td><td>4</td><td>3.83</td></tr><tr><td>Love Story (Love Story, #1)</td><td>death</td><td>73968</td><td>Erich Segal</td><td>10</td><td>3.6</td></tr><tr><td>The Sea of Tranquility</td><td>grief</td><td>16151178</td><td>Katja Millay</td><td>21</td><td>4.34</td></tr><tr><td>Before I Die</td><td>grief</td><td>1314332</td><td>Jenny Downham</td><td>15</td><td>3.84</td></tr><tr><td>Damned (Damned, #1)</td><td>death</td><td>9912994</td><td>Chuck Palahniuk</td><td>15</td><td>3.38</td></tr><tr><td>Soul Music (Discworld, #16; Death, #3)</td><td>discworld-death</td><td>34502</td><td>Terry Pratchett</td><td>16</td><td>4.02</td></tr><tr><td>Soul Eater, Vol. 01 (Soul Eater, #1)</td><td>death</td><td>6406018</td><td>Atsushi Ohkubo</td><td>5</td><td>4.3</td></tr><tr><td>Ordinary Grace</td><td>death</td><td>15803059</td><td>William Kent Krueger</td><td>23</td><td>4.14</td></tr><tr><td>Ten Tiny Breaths (Ten Tiny Breaths, #1)</td><td>death</td><td>15990969</td><td>K.A. Tucker</td><td>64</td><td>4.16</td></tr><tr><td>Wonderstruck</td><td>death</td><td>10128428</td><td>Brian Selznick</td><td>26</td><td>4.16</td></tr><tr><td>A Lesson Before Dying</td><td>death-and-dying</td><td>5197</td><td>Ernest J. Gaines</td><td>20</td><td>3.93</td></tr><tr><td>Tiny Beautiful Things: Advice on Love and Life from Dear Sugar</td><td>grief</td><td>13152194</td><td>Cheryl Strayed</td><td>14</td><td>4.29</td></tr><tr><td>H is for Hawk</td><td>death</td><td>18803640</td><td>Helen Macdonald</td><td>55</td><td>3.74</td></tr><tr><td>The Little Paris Bookshop</td><td>grief</td><td>23278537</td><td>Nina George, Simon Pare</td><td>27</td><td>3.51</td></tr><tr><td>Sister</td><td>death</td><td>8196732</td><td>Rosamund Lupton</td><td>19</td><td>3.77</td></tr><tr><td>Thief of Time (Discworld, #26; Death, #5)</td><td>discworld-death</td><td>48002</td><td>Terry Pratchett</td><td>18</td><td>4.25</td></tr><tr><td>Flat-Out Love (Flat-Out Love, #1)</td><td>death</td><td>11096647</td><td>Jessica Park</td><td>32</td><td>4.01</td></tr><tr><td>Hate List</td><td>death</td><td>6316171</td><td>Jennifer Brown</td><td>84</td><td>4.03</td></tr><tr><td>The End of Your Life Book Club</td><td>grief</td><td>13414676</td><td>Will Schwalbe</td><td>21</td><td>3.81</td></tr><tr><td>A Grief Observed</td><td>grief-loss</td><td>49221</td><td>C.S. Lewis</td><td>10</td><td>4.26</td></tr><tr><td>First Grave on the Right (Charley Davidson, #1)</td><td>death</td><td>8788554</td><td>Darynda Jones</td><td>41</td><td>4.07</td></tr><tr><td>Love Letters to the Dead</td><td>grief</td><td>18140047</td><td>Ava Dellaira</td><td>40</td><td>3.82</td></tr><tr><td>A God in Ruins</td><td>death</td><td>3722183</td><td>Kate Atkinson</td><td>11</td><td>3.92</td></tr><tr><td>Battle Royale</td><td>death</td><td>57891</td><td>Koushun Takami, Yuji Oniki</td><td>21</td><td>4.24</td></tr><tr><td>The Gashlycrumb Tinies (The Vinegar Works, #1)</td><td>death</td><td>47558</td><td>Edward Gorey</td><td>16</td><td>4.23</td></tr><tr><td>Existence (Existence Trilogy, #1)</td><td>death</td><td>13223520</td><td>Abbi Glines</td><td>62</td><td>3.95</td></tr><tr><td>I Was Here</td><td>grief</td><td>18879761</td><td>Gayle Forman</td><td>46</td><td>3.78</td></tr><tr><td>Assassination Vacation</td><td>death</td><td>3110</td><td>Sarah Vowell</td><td>13</td><td>3.98</td></tr><tr><td>Ariel</td><td>death</td><td>395090</td><td>Sylvia Plath</td><td>10</td><td>4.23</td></tr><tr><td>The Leftovers</td><td>grief</td><td>10762469</td><td>Tom Perrotta</td><td>15</td><td>3.38</td></tr><tr><td>Freak the Mighty (Freak The Mighty, #1)</td><td>death</td><td>8953</td><td>Rodman Philbrick</td><td>16</td><td>3.98</td></tr><tr><td>Second Glance</td><td>death</td><td>10911</td><td>Jodi Picoult</td><td>8</td><td>3.79</td></tr><tr><td>Peony in Love</td><td>death</td><td>24472</td><td>Lisa See</td><td>10</td><td>3.59</td></tr><tr><td>Twenty Boy Summer</td><td>grief</td><td>5231173</td><td>Sarah Ockler</td><td>32</td><td>3.89</td></tr><tr><td>The Tell-Tale Heart</td><td>death</td><td>899492</td><td>Edgar Allan Poe, Byron Glaser, Bill D. Fountain</td><td>8</td><td>4.22</td></tr><tr><td>Panic (Panic, #1)</td><td>death</td><td>17565845</td><td>Lauren Oliver</td><td>21</td><td>3.56</td></tr><tr><td>Death: The High Cost of Living Collected</td><td>death</td><td>16791</td><td>Neil Gaiman, Chris Bachalo, Mark Buckingham, Tori Amos</td><td>22</td><td>4.21</td></tr><tr><td>The Problem of Pain</td><td>grief</td><td>26435</td><td>C.S. Lewis</td><td>13</td><td>4.12</td></tr><tr><td>You Shall Know Our Velocity!</td><td>grief</td><td>4954</td><td>Dave Eggers</td><td>11</td><td>3.62</td></tr><tr><td>Die for Me (Revenants, #1)</td><td>death</td><td>9462812</td><td>Amy Plum</td><td>24</td><td>4</td></tr><tr><td>Elsewhere</td><td>grief</td><td>359410</td><td>Gabrielle Zevin</td><td>15</td><td>3.91</td></tr><tr><td>Counting by 7s</td><td>death-of-a-parent</td><td>15937108</td><td>Holly Goldberg Sloan</td><td>24</td><td>4.16</td></tr><tr><td>Hourglass (Evernight, #3)</td><td>death</td><td>6421588</td><td>Claudia Gray</td><td>9</td><td>3.8</td></tr><tr><td>The Island</td><td>death</td><td>7726892</td><td>Elin Hilderbrand</td><td>5</td><td>3.88</td></tr><tr><td>The Little Friend</td><td>death</td><td>775346</td><td>Donna Tartt</td><td>10</td><td>3.43</td></tr><tr><td>Salt to the Sea</td><td>death</td><td>25614492</td><td>Ruta Sepetys</td><td>33</td><td>4.36</td></tr><tr><td>Bleachers</td><td>death</td><td>5347</td><td>John Grisham</td><td>26</td><td>3.46</td></tr><tr><td>Fly Away (Firefly Lane, #2)</td><td>death</td><td>16044981</td><td>Kristin Hannah</td><td>7</td><td>3.94</td></tr><tr><td>One True Thing</td><td>grief</td><td>176839</td><td>Anna Quindlen</td><td>4</td><td>4.01</td></tr><tr><td>Mort: The Play</td><td>death</td><td>149847</td><td>Terry Pratchett, Stephen Briggs</td><td>7</td><td>4.29</td></tr><tr><td>The Shock of the Fall</td><td>grief</td><td>16120760</td><td>Nathan Filer</td><td>13</td><td>3.79</td></tr><tr><td>The Coldest Girl in Coldtown</td><td>death</td><td>12813630</td><td>Holly Black</td><td>29</td><td>3.86</td></tr><tr><td>The Myth of Sisyphus and Other Essays</td><td>death</td><td>11987</td><td>Albert Camus, Justin O'Brien</td><td>5</td><td>4.18</td></tr><tr><td>Our Town</td><td>death</td><td>205476</td><td>Thornton Wilder, Donald Margulies, Tappan Wilder</td><td>11</td><td>3.63</td></tr><tr><td>Through the Woods</td><td>death</td><td>18659623</td><td>Emily Carroll</td><td>20</td><td>3.92</td></tr><tr><td>The Body Finder (The Body Finder, #1)</td><td>death</td><td>6261522</td><td>Kimberly Derting</td><td>52</td><td>3.96</td></tr><tr><td>Noughts &amp; Crosses (Noughts &amp; Crosses, #1)</td><td>death</td><td>714902</td><td>Malorie Blackman</td><td>12</td><td>4.23</td></tr><tr><td>Taking Chances (Taking Chances, #1)</td><td>death</td><td>15739018</td><td>Molly McAdams</td><td>29</td><td>3.87</td></tr><tr><td>The Winter People</td><td>death</td><td>18007535</td><td>Jennifer McMahon</td><td>19</td><td>3.76</td></tr><tr><td>The Lying Game (The Lying Game, #1)</td><td>death</td><td>8428069</td><td>Sara Shepard</td><td>20</td><td>3.96</td></tr><tr><td>The Stonekeeper (Amulet, #1)</td><td>death</td><td>1238684</td><td>Kazu Kibuishi</td><td>13</td><td>4.15</td></tr><tr><td>Doomsday Book (Oxford Time Travel, #1)</td><td>death</td><td>24983</td><td>Connie Willis</td><td>17</td><td>4.03</td></tr><tr><td>Just Mercy: A Story of Justice and Redemption</td><td>death-penalty</td><td>20342617</td><td>Bryan Stevenson</td><td>14</td><td>4.58</td></tr><tr><td>Many Lives, Many Masters: The True Story of a Prominent Psychiatrist, His Young Patient, and the Past Life Therapy That Changed Both Their Lives</td><td>life-after-death</td><td>34452</td><td>Brian L. Weiss</td><td>8</td><td>4.17</td></tr><tr><td>On the Jellicoe Road</td><td>death</td><td>1162022</td><td>Melina Marchetta</td><td>42</td><td>4.15</td></tr><tr><td>Love Comes Softly (Love Comes Softly, #1)</td><td>death</td><td>65497</td><td>Janette Oke</td><td>6</td><td>4.22</td></tr><tr><td>The Almost Moon</td><td>death</td><td>783291</td><td>Alice Sebold</td><td>18</td><td>2.67</td></tr><tr><td>Good Night, Mr. Tom</td><td>death</td><td>161099</td><td>Michelle Magorian</td><td>11</td><td>4.28</td></tr><tr><td>Forbidden</td><td>death</td><td>7600924</td><td>Tabitha Suzuma</td><td>28</td><td>4.06</td></tr><tr><td>Out of Breath (Breathing, #3)</td><td>death</td><td>13638570</td><td>Rebecca Donovan</td><td>11</td><td>4.32</td></tr><tr><td>Killing Yourself to Live: 85% of a True Story</td><td>death</td><td>597</td><td>Chuck Klosterman</td><td>5</td><td>3.85</td></tr><tr><td>The Adoration of Jenna Fox (Jenna Fox Chronicles, #1)</td><td>death</td><td>1902241</td><td>Mary E. Pearson</td><td>42</td><td>3.7</td></tr><tr><td>Ghost Soldiers: The Epic Account of World War II's Greatest Rescue Mission</td><td>baatan-death-march</td><td>94799</td><td>Hampton Sides</td><td>5</td><td>4.17</td></tr><tr><td>Second Chance Summer</td><td>death</td><td>11071466</td><td>Morgan Matson</td><td>63</td><td>4.16</td></tr><tr><td>The Wake (The Sandman #10)</td><td>death</td><td>25104</td><td>Neil Gaiman, Michael Zulli, Jon J. Muth, Charles Vess, Mikal Gilmore</td><td>10</td><td>4.53</td></tr><tr><td>Take Me with You</td><td>grief</td><td>20620995</td><td>Catherine Ryan Hyde</td><td>8</td><td>4.12</td></tr><tr><td>Kitchen</td><td>grief</td><td>50144</td><td>Banana Yoshimoto, Megan Backus</td><td>14</td><td>3.83</td></tr><tr><td>The Name of the Star (Shades of London, #1)</td><td>death</td><td>9802372</td><td>Maureen Johnson</td><td>32</td><td>3.9</td></tr><tr><td>The Postmistress</td><td>death</td><td>6578507</td><td>Sarah Blake, Orlagh Cassidy</td><td>9</td><td>3.3</td></tr><tr><td>War Horse (War Horse, #1)</td><td>death</td><td>792161</td><td>Michael Morpurgo</td><td>12</td><td>4.13</td></tr><tr><td>On a Pale Horse (Incarnations of Immortality, #1)</td><td>death</td><td>76658</td><td>Piers Anthony</td><td>29</td><td>4.13</td></tr><tr><td>Sookie Stackhouse 7-copy Boxed Set (Sookie Stackhouse, #1-7)</td><td>death</td><td>4902793</td><td>Charlaine Harris</td><td>2</td><td>4.43</td></tr><tr><td>The Walking Dead, Vol. 02: Miles Behind Us</td><td>death</td><td>138396</td><td>Robert Kirkman, Charlie Adlard</td><td>12</td><td>4.25</td></tr><tr><td>Every Last One</td><td>death</td><td>7468160</td><td>Anna Quindlen</td><td>23</td><td>3.83</td></tr><tr><td>Glory in Death (In Death, #2)</td><td>series-in-death</td><td>268601</td><td>J.D. Robb</td><td>24</td><td>4.25</td></tr><tr><td>Love That Dog (Jack, #1)</td><td>death</td><td>53498</td><td>Sharon Creech</td><td>32</td><td>4.01</td></tr><tr><td>Willow</td><td>grief</td><td>4570768</td><td>Julia Hoban</td><td>29</td><td>3.94</td></tr><tr><td>Spook: Science Tackles the Afterlife</td><td>death-and-dying</td><td>14990</td><td>Mary Roach</td><td>8</td><td>3.57</td></tr><tr><td>Fever (The Chemical Garden, #2)</td><td>death</td><td>11112619</td><td>Lauren DeStefano</td><td>24</td><td>3.79</td></tr><tr><td>D.Gray-man, Volume 01</td><td>death</td><td>568454</td><td>Katsura Hoshino, Mayumi Kobayashi</td><td>5</td><td>4.21</td></tr><tr><td>Love Is a Mix Tape</td><td>death-and-dying</td><td>46190</td><td>Rob Sheffield</td><td>6</td><td>3.83</td></tr><tr><td>So B. It</td><td>death-and-dying</td><td>237320</td><td>Sarah Weeks</td><td>7</td><td>4.1</td></tr><tr><td>First Comes Love</td><td>grief</td><td>26192467</td><td>Emily Giffin</td><td>6</td><td>3.6</td></tr><tr><td>Good Grief</td><td>death</td><td>251519</td><td>Lolly Winston</td><td>10</td><td>3.72</td></tr><tr><td>The Program (The Program, #1)</td><td>death</td><td>11366397</td><td>Suzanne Young</td><td>32</td><td>4.07</td></tr><tr><td>When Things Fall Apart: Heart Advice for Difficult Times</td><td>grief</td><td>687278</td><td>Pema Chödrön</td><td>6</td><td>4.29</td></tr><tr><td>Love Anthony</td><td>death</td><td>13547381</td><td>Lisa Genova</td><td>6</td><td>3.94</td></tr><tr><td>Forgive Me, Leonard Peacock</td><td>death</td><td>13477676</td><td>Matthew Quick</td><td>20</td><td>3.93</td></tr><tr><td>The Heroin Diaries: A Year In The Life Of A Shattered Rock Star</td><td>death</td><td>1883838</td><td>Nikki Sixx</td><td>5</td><td>4.12</td></tr><tr><td>Tinkers</td><td>death</td><td>4957350</td><td>Paul Harding</td><td>30</td><td>3.37</td></tr><tr><td>Making Faces</td><td>death</td><td>18301124</td><td>Amy Harmon</td><td>43</td><td>4.36</td></tr><tr><td>When I'm Gone</td><td>grief</td><td>27401883</td><td>Emily Bleeker, Dan John Miller</td><td>5</td><td>3.94</td></tr><tr><td>The Retribution of Mara Dyer (Mara Dyer, #3)</td><td>death</td><td>15768409</td><td>Michelle Hodkin</td><td>24</td><td>4.14</td></tr><tr><td>My Soul to Take (Soul Screamers, #1)</td><td>death</td><td>6315602</td><td>Rachel Vincent</td><td>33</td><td>3.88</td></tr><tr><td>How I Live Now</td><td>death</td><td>161426</td><td>Meg Rosoff</td><td>18</td><td>3.58</td></tr><tr><td>These Things Hidden</td><td>death</td><td>9166559</td><td>Heather Gudenkauf</td><td>9</td><td>3.85</td></tr><tr><td>Alice in Zombieland (White Rabbit Chronicles, #1)</td><td>death</td><td>11300302</td><td>Gena Showalter</td><td>28</td><td>4.05</td></tr><tr><td>The Last Summer (of You and Me)</td><td>death</td><td>296302</td><td>Ann Brashares</td><td>6</td><td>3.58</td></tr><tr><td>The Magician's Assistant</td><td>death-and-dying</td><td>16055</td><td>Ann Patchett</td><td>8</td><td>3.64</td></tr><tr><td>The Dead and the Gone (Last Survivors, #2)</td><td>death</td><td>2169506</td><td>Susan Beth Pfeffer</td><td>41</td><td>3.84</td></tr><tr><td>A Northern Light</td><td>death</td><td>64481</td><td>Jennifer Donnelly</td><td>13</td><td>3.83</td></tr><tr><td>More Than This</td><td>death</td><td>21969786</td><td>Patrick Ness</td><td>57</td><td>4.03</td></tr><tr><td>The Walking Dead, Vol. 03: Safety Behind Bars</td><td>death</td><td>30069</td><td>Robert Kirkman, Charlie Adlard</td><td>14</td><td>4.31</td></tr><tr><td>Eighth Grade Bites (The Chronicles of Vladimir Tod, #1)</td><td>death</td><td>530848</td><td>Heather Brewer</td><td>10</td><td>3.92</td></tr><tr><td>Summerland</td><td>death</td><td>12799058</td><td>Elin Hilderbrand</td><td>10</td><td>3.85</td></tr><tr><td>I Hunt Killers (Jasper Dent, #1)</td><td>death</td><td>7766027</td><td>Barry Lyga</td><td>35</td><td>4.02</td></tr><tr><td>Predestined (Existence Trilogy, #2)</td><td>death</td><td>13323842</td><td>Abbi Glines</td><td>40</td><td>4.09</td></tr><tr><td>Mistress of the Art of Death (Mistress of the Art of Death, #1)</td><td>death</td><td>86643</td><td>Ariana Franklin</td><td>11</td><td>3.95</td></tr><tr><td>Immortal in Death (In Death, #3)</td><td>in-death</td><td>238126</td><td>J.D. Robb</td><td>219</td><td>4.26</td></tr><tr><td>Songs of the Humpback Whale</td><td>death</td><td>10914</td><td>Jodi Picoult</td><td>6</td><td>3.19</td></tr><tr><td>The Walking Dead, Vol. 08: Made to Suffer</td><td>death</td><td>1894269</td><td>Robert Kirkman</td><td>10</td><td>4.47</td></tr><tr><td>Twisted (Pretty Little Liars, #9)</td><td>death</td><td>9893331</td><td>Sara Shepard</td><td>7</td><td>4.05</td></tr><tr><td>Charade (Games, #1)</td><td>death</td><td>15993374</td><td>Nyrae Dawn</td><td>25</td><td>3.98</td></tr><tr><td>If You Stay (Beautifully Broken, #1)</td><td>death</td><td>17032328</td><td>Courtney Cole</td><td>11</td><td>3.94</td></tr><tr><td>Poison Princess (The Arcana Chronicles, #1)</td><td>death</td><td>13450339</td><td>Kresley Cole</td><td>20</td><td>4.14</td></tr><tr><td>Tatiana and Alexander (The Bronze Horseman, #2)</td><td>death</td><td>83143</td><td>Paullina Simons</td><td>8</td><td>4.3</td></tr><tr><td>Light on Snow</td><td>grief</td><td>14965</td><td>Anita Shreve</td><td>8</td><td>3.56</td></tr><tr><td>Belong to Me</td><td>grief</td><td>2113410</td><td>Marisa de los Santos</td><td>6</td><td>3.84</td></tr><tr><td>No Exit and Three Other Plays</td><td>death</td><td>10037</td><td>Jean-Paul Sartre, Stuart Gilbert, Lionel Abel</td><td>5</td><td>4.09</td></tr><tr><td>The Castaways</td><td>death</td><td>6080822</td><td>Elin Hilderbrand</td><td>6</td><td>3.69</td></tr><tr><td>Simple Perfection (Rosemary Beach, #6; Perfection, #2)</td><td>death</td><td>17449417</td><td>Abbi Glines</td><td>21</td><td>4.25</td></tr><tr><td>Can't We Talk about Something More Pleasant?</td><td>death-dying</td><td>18594409</td><td>Roz Chast</td><td>8</td><td>4.1</td></tr><tr><td>Death With Interruptions</td><td>death</td><td>3018539</td><td>José Saramago, Margaret Jull Costa</td><td>42</td><td>3.97</td></tr><tr><td>A Long Walk to Water: Based on a True Story</td><td>death</td><td>7981456</td><td>Linda Sue Park</td><td>13</td><td>4.23</td></tr><tr><td>Rapture in Death (In Death, #4)</td><td>series-in-death</td><td>201175</td><td>J.D. Robb, Susan Ericksen</td><td>13</td><td>4.26</td></tr><tr><td>A Rose for Emily and Other Stories</td><td>death</td><td>426025</td><td>William Faulkner</td><td>5</td><td>4.06</td></tr><tr><td>The Air He Breathes (Elements, #1)</td><td>death</td><td>25564446</td><td>Brittainy C. Cherry</td><td>26</td><td>4.2</td></tr><tr><td>Airhead (Airhead, #1)</td><td>death</td><td>2213324</td><td>Meg Cabot</td><td>9</td><td>3.77</td></tr><tr><td>Smoke Gets in Your Eyes: And Other Lessons from the Crematory</td><td>death-dying</td><td>20663702</td><td>Caitlin Doughty</td><td>20</td><td>4.04</td></tr><tr><td>The Ice Twins</td><td>grief</td><td>23553419</td><td>S.K. Tremayne</td><td>9</td><td>3.68</td></tr><tr><td>Batman: A Death in the Family</td><td>death</td><td>107032</td><td>Jim Starlin, Jim Aparo, Mike DeCarlo</td><td>2</td><td>4.05</td></tr><tr><td>Second Grave on the Left (Charley Davidson, #2)</td><td>death</td><td>9565045</td><td>Darynda Jones</td><td>17</td><td>4.29</td></tr><tr><td>Where They Found Her</td><td>death</td><td>22693182</td><td>Kimberly McCreight</td><td>11</td><td>3.83</td></tr><tr><td>Mockingbird</td><td>death-and-dying</td><td>6596547</td><td>Kathryn Erskine</td><td>27</td><td>4.18</td></tr><tr><td>Promises in Death (In Death, #28)</td><td>death</td><td>3492020</td><td>J.D. Robb</td><td>10</td><td>4.4</td></tr><tr><td>Min kamp 1 (Min kamp #1)</td><td>death</td><td>7147831</td><td>Karl Ove Knausgård</td><td>17</td><td>4.08</td></tr><tr><td>Sisterhood Everlasting (Sisterhood, #5)</td><td>dealing-with-death</td><td>9461872</td><td>Ann Brashares</td><td>10</td><td>3.9</td></tr><tr><td>Delicious!</td><td>grief</td><td>18167006</td><td>Ruth Reichl</td><td>8</td><td>3.75</td></tr><tr><td>Everlost (Skinjacker, #1)</td><td>death</td><td>688191</td><td>Neal Shusterman</td><td>72</td><td>3.94</td></tr><tr><td>Going Bovine</td><td>death-and-dying</td><td>6512140</td><td>Libba Bray</td><td>19</td><td>3.65</td></tr><tr><td>The Dead-Tossed Waves (The Forest of Hands and Teeth, #2)</td><td>death</td><td>6555517</td><td>Carrie Ryan</td><td>19</td><td>3.91</td></tr><tr><td>Ceremony in Death (In Death, #5)</td><td>series-in-death</td><td>74036</td><td>J.D. Robb</td><td>12</td><td>4.26</td></tr><tr><td>Bossman</td><td>death</td><td>31140847</td><td>Vi Keeland</td><td>11</td><td>4.25</td></tr><tr><td>Did You Ever Have a Family</td><td>death</td><td>24452249</td><td>Bill Clegg</td><td>20</td><td>3.81</td></tr><tr><td>On Death and Dying</td><td>grief</td><td>781844</td><td>Elisabeth Kübler-Ross</td><td>36</td><td>4.15</td></tr><tr><td>Perfect (Impulse, #2)</td><td>death</td><td>9917945</td><td>Ellen Hopkins</td><td>8</td><td>4.35</td></tr><tr><td>Portrait in Death (In Death, #16)</td><td>series-in-death</td><td>268604</td><td>J.D. Robb</td><td>19</td><td>4.37</td></tr><tr><td>Ceaseless (Existence Trilogy, #3)</td><td>death</td><td>13573795</td><td>Abbi Glines</td><td>25</td><td>4.2</td></tr><tr><td>Bad Girls Don't Die (Bad Girls Don't Die, #1)</td><td>death</td><td>3678651</td><td>Katie Alender</td><td>11</td><td>4.07</td></tr><tr><td>Two By Two</td><td>death</td><td>30002998</td><td>Nicholas Sparks</td><td>6</td><td>3.9</td></tr><tr><td>A Secret Kept</td><td>death</td><td>7963208</td><td>Tatiana de Rosnay</td><td>7</td><td>3.33</td></tr><tr><td>Raw (RAW Family, #1)</td><td>death</td><td>18468559</td><td>Belle Aurora</td><td>22</td><td>4.23</td></tr><tr><td>That Boy (That Boy, #1)</td><td>death</td><td>11382346</td><td>Jillian Dodd</td><td>11</td><td>3.96</td></tr><tr><td>The Pigman (The Pigman, #1)</td><td>death</td><td>128092</td><td>Paul Zindel</td><td>8</td><td>3.58</td></tr><tr><td>Abandon (Abandon, #1)</td><td>death</td><td>9397967</td><td>Meg Cabot</td><td>38</td><td>3.71</td></tr><tr><td>My Heart and Other Black Holes</td><td>death</td><td>18336965</td><td>Jasmine Warga</td><td>60</td><td>4.02</td></tr><tr><td>Ninth Grade Slays (The Chronicles of Vladimir Tod, #2)</td><td>death</td><td>2272813</td><td>Heather Brewer</td><td>10</td><td>4.14</td></tr><tr><td>Independent Study (The Testing, #2)</td><td>death</td><td>17165932</td><td>Joelle Charbonneau</td><td>11</td><td>3.97</td></tr><tr><td>Please Ignore Vera Dietz</td><td>grief</td><td>6665671</td><td>A.S. King</td><td>41</td><td>3.91</td></tr><tr><td>Dragon Wing (The Death Gate Cycle, #1)</td><td>death-gate-cycle</td><td>28481</td><td>Margaret Weis, Tracy Hickman</td><td>41</td><td>3.93</td></tr><tr><td>This World We Live In (Last Survivors, #3)</td><td>death</td><td>6393972</td><td>Susan Beth Pfeffer</td><td>24</td><td>3.81</td></tr><tr><td>Vengeance in Death (In Death, #6)</td><td>in-death-series</td><td>132778</td><td>J.D. Robb</td><td>213</td><td>4.34</td></tr><tr><td>Vanishing Girls</td><td>death</td><td>22465597</td><td>Lauren Oliver</td><td>23</td><td>3.59</td></tr><tr><td>The Dive From Clausen's Pier</td><td>grief</td><td>16059</td><td>Ann Packer</td><td>3</td><td>3.41</td></tr><tr><td>The Tibetan Book of Living and Dying</td><td>death-and-dying</td><td>206731</td><td>Sogyal Rinpoche, Andrew Harvey</td><td>6</td><td>4.22</td></tr><tr><td>Me &amp; Emma</td><td>death</td><td>80534</td><td>Elizabeth Flock</td><td>4</td><td>3.9</td></tr><tr><td>Kissed by an Angel/The Power of Love/Soulmates (Kissed by an Angel, #1-3)</td><td>death</td><td>321645</td><td>Elizabeth Chandler</td><td>15</td><td>4.08</td></tr><tr><td>The Walk (The Walk, #1)</td><td>death</td><td>7187395</td><td>Richard Paul Evans</td><td>4</td><td>4.12</td></tr><tr><td>Dark Triumph (His Fair Assassin, #2)</td><td>death</td><td>9943270</td><td>Robin LaFevers</td><td>44</td><td>4.15</td></tr><tr><td>The Crossover</td><td>grief</td><td>18263725</td><td>Kwame Alexander</td><td>21</td><td>4.22</td></tr><tr><td>Holiday in Death (In Death, #7)</td><td>series-in-death</td><td>238125</td><td>J.D. Robb</td><td>22</td><td>4.31</td></tr><tr><td>Three Times Lucky (Tupelo Landing, #1)</td><td>death</td><td>11737313</td><td>Sheila Turnage</td><td>11</td><td>4.01</td></tr><tr><td>All My Friends Are Dead</td><td>death</td><td>8044557</td><td>Avery Monsen, Jory John</td><td>23</td><td>4.24</td></tr><tr><td>Bleach, Volume 15</td><td>death-gods</td><td>2879</td><td>Tite Kubo</td><td>2</td><td>4.41</td></tr><tr><td>This Is Where It Ends</td><td>death</td><td>24529123</td><td>Marieke Nijkamp</td><td>39</td><td>3.63</td></tr><tr><td>Drums, Girls &amp; Dangerous Pie (Drums, Girls &amp; Dangerous Pie, #1)</td><td>death-and-dying</td><td>318404</td><td>Jordan Sonnenblick</td><td>8</td><td>4.25</td></tr><tr><td>The Sea</td><td>death</td><td>3656</td><td>John Banville</td><td>15</td><td>3.49</td></tr><tr><td>Revolution</td><td>grief</td><td>7558747</td><td>Jennifer Donnelly</td><td>38</td><td>4.02</td></tr><tr><td>Audrey Rose</td><td>death</td><td>455764</td><td>Frank De Felitta</td><td>3</td><td>3.86</td></tr><tr><td>Confessions of a Murder Suspect (Confessions, #1)</td><td>death</td><td>13521399</td><td>James Patterson, Maxine Paetro</td><td>9</td><td>3.89</td></tr><tr><td>Five Days at Memorial: Life and Death in a Storm-Ravaged Hospital</td><td>death</td><td>17704902</td><td>Sheri  Fink</td><td>13</td><td>3.87</td></tr><tr><td>The Poisoner's Handbook: Murder and the Birth of Forensic Medicine in Jazz Age New York</td><td>death</td><td>7054123</td><td>Deborah Blum</td><td>15</td><td>4</td></tr><tr><td>Living Dead Girl</td><td>death</td><td>2954411</td><td>Elizabeth Scott</td><td>17</td><td>3.83</td></tr><tr><td>Reboot (Reboot, #1)</td><td>death</td><td>13517455</td><td>Amy Tintera</td><td>17</td><td>3.92</td></tr><tr><td>Until I Die (Revenants, #2)</td><td>death</td><td>12908877</td><td>Amy Plum</td><td>22</td><td>4.17</td></tr><tr><td>The Blind Owl</td><td>death</td><td>45967</td><td>Sadegh Hedayat, D.P. Costello</td><td>4</td><td>3.99</td></tr><tr><td>Until Friday Night (The Field Party, #1)</td><td>death</td><td>22522202</td><td>Abbi Glines</td><td>23</td><td>4.01</td></tr><tr><td>The Walking Dead, Vol. 06: This Sorrowful Life</td><td>death</td><td>138395</td><td>Robert Kirkman, Charlie Adlard, Cliff Rathburn</td><td>8</td><td>4.32</td></tr><tr><td>The Blue Bistro</td><td>death</td><td>152695</td><td>Elin Hilderbrand</td><td>4</td><td>4</td></tr><tr><td>Third Grave Dead Ahead (Charley Davidson, #3)</td><td>death</td><td>12043770</td><td>Darynda Jones</td><td>15</td><td>4.39</td></tr><tr><td>First They Killed My Father: A Daughter of Cambodia Remembers</td><td>death</td><td>4373</td><td>Loung Ung</td><td>11</td><td>4.29</td></tr><tr><td>Conspiracy in Death (In Death, #8)</td><td>series-in-death</td><td>172691</td><td>J.D. Robb</td><td>14</td><td>4.35</td></tr><tr><td>Daytripper</td><td>death</td><td>8477057</td><td>Fábio Moon, Gabriel Bá, Craig Thompson, Dave Stewart, Sean Konot</td><td>28</td><td>4.31</td></tr><tr><td>The Mothers</td><td>grief</td><td>28815371</td><td>Brit Bennett</td><td>19</td><td>3.87</td></tr><tr><td>A Single Man</td><td>death</td><td>16842</td><td>Christopher Isherwood</td><td>12</td><td>4.11</td></tr><tr><td>Mortality</td><td>death-and-dying</td><td>13529055</td><td>Christopher Hitchens</td><td>4</td><td>4.12</td></tr><tr><td>A Mango-Shaped Space</td><td>grief</td><td>171020</td><td>Wendy Mass</td><td>14</td><td>4.22</td></tr><tr><td>Here's to Us</td><td>death</td><td>27161845</td><td>Elin Hilderbrand</td><td>3</td><td>3.73</td></tr><tr><td>The Sandman: Endless Nights</td><td>death</td><td>47720</td><td>Neil Gaiman, Barron Storey, Bill Sienkiewicz, Glenn Fabry, Dave McKean, P. Craig Russell, Milo Manara, Miguelanxo Prado, Frank Quitely, Todd Klein</td><td>8</td><td>4.34</td></tr><tr><td>The Impossible Knife of Memory</td><td>grief</td><td>18079527</td><td>Laurie Halse Anderson</td><td>13</td><td>3.93</td></tr><tr><td>One Last Thing Before I Go</td><td>death</td><td>13586743</td><td>Jonathan Tropper</td><td>6</td><td>3.75</td></tr><tr><td>By the Time You Read This, I'll Be Dead</td><td>death</td><td>6609549</td><td>Julie Anne Peters, C.J. Bott</td><td>44</td><td>3.89</td></tr><tr><td>The Green Mile, Part 1: The Two Dead Girls</td><td>death</td><td>92227</td><td>Stephen King</td><td>4</td><td>4.49</td></tr><tr><td>The Wednesday Letters</td><td>death-and-dying</td><td>1316382</td><td>Jason F. Wright</td><td>3</td><td>3.61</td></tr><tr><td>The Walking Dead, Vol. 12: Life Among Them</td><td>death</td><td>7469664</td><td>Robert Kirkman, Charlie Adlard</td><td>7</td><td>4.34</td></tr><tr><td>Hidden</td><td>grief</td><td>18819296</td><td>Catherine McKenzie</td><td>3</td><td>3.44</td></tr><tr><td>Skippy Dies</td><td>death</td><td>7146335</td><td>Paul Murray</td><td>14</td><td>3.72</td></tr><tr><td>My Best Friend's Girl</td><td>grief</td><td>1617875</td><td>Dorothy Koomson</td><td>4</td><td>4.02</td></tr><tr><td>One Summer</td><td>grief</td><td>9509289</td><td>David Baldacci</td><td>10</td><td>3.72</td></tr><tr><td>Jasper Jones</td><td>death</td><td>8407173</td><td>Craig Silvey</td><td>19</td><td>4.06</td></tr><tr><td>Hold Still</td><td>grief</td><td>6373717</td><td>Nina LaCour</td><td>30</td><td>3.99</td></tr><tr><td>The Middlesteins</td><td>death</td><td>13525938</td><td>Jami Attenberg</td><td>5</td><td>3.42</td></tr><tr><td>Flyboys: A True Story of Courage</td><td>death</td><td>202146</td><td>James D. Bradley</td><td>4</td><td>4.15</td></tr><tr><td>Winter Solstice</td><td>grief</td><td>116054</td><td>Rosamunde Pilcher</td><td>5</td><td>4.15</td></tr><tr><td>New York to Dallas (In Death, #33)</td><td>death</td><td>10402992</td><td>J.D. Robb, Susan Ericksen</td><td>8</td><td>4.42</td></tr><tr><td>Blue Nights</td><td>death</td><td>10252302</td><td>Joan Didion</td><td>41</td><td>3.75</td></tr><tr><td>The Complete Clive Barker's The Great And Secret Show</td><td>death</td><td>34871</td><td>Chris Ryall, Gabriel Rodríguez, Clive Barker</td><td>1</td><td>4.21</td></tr><tr><td>A Castle of Sand (A Shade of Vampire, #3)</td><td>death</td><td>17925397</td><td>Bella Forrest</td><td>4</td><td>4.1</td></tr><tr><td>The Enemy (The Enemy, #1)</td><td>death</td><td>6605625</td><td>Charlie Higson</td><td>11</td><td>4.08</td></tr><tr><td>The Cement Garden</td><td>death</td><td>9957</td><td>Ian McEwan</td><td>11</td><td>3.57</td></tr><tr><td>Serpent Mage (The Death Gate Cycle, #4)</td><td>death</td><td>28507</td><td>Margaret Weis, Tracy Hickman</td><td>9</td><td>4.06</td></tr><tr><td>The Descendants</td><td>death-of-mother</td><td>968403</td><td>Kaui Hart Hemmings</td><td>6</td><td>3.82</td></tr><tr><td>Falling Angels</td><td>death</td><td>2872</td><td>Tracy Chevalier</td><td>5</td><td>3.55</td></tr><tr><td>Wolf Brother (Chronicles of Ancient Darkness, #1)</td><td>death</td><td>295305</td><td>Michelle Paver, Geoff Taylor</td><td>9</td><td>4.15</td></tr><tr><td>The Universe Versus Alex Woods</td><td>death</td><td>15984268</td><td>Gavin Extence</td><td>13</td><td>4.08</td></tr><tr><td>Memory in Death (In Death, #22)</td><td>j-d-robb-in-death-series</td><td>238141</td><td>J.D. Robb</td><td>8</td><td>4.31</td></tr><tr><td>Tenth Grade Bleeds (The Chronicles of Vladimir Tod, #3)</td><td>death</td><td>6178065</td><td>Heather Brewer</td><td>5</td><td>4.24</td></tr><tr><td>The Forever of Ella and Micha (The Secret, #2)</td><td>death</td><td>16055475</td><td>Jessica Sorensen</td><td>9</td><td>4.1</td></tr><tr><td>The Masque of the Red Death</td><td>death</td><td>204779</td><td>Edgar Allan Poe</td><td>9</td><td>4.08</td></tr><tr><td>The Crow Road</td><td>death</td><td>12021</td><td>Iain Banks</td><td>4</td><td>4.07</td></tr><tr><td>Teardrop (Teardrop, #1)</td><td>death</td><td>16070143</td><td>Lauren Kate</td><td>12</td><td>3.65</td></tr><tr><td>Death Note, Vol. 2: Confluence (Death Note, #2)</td><td>deathnote</td><td>13619</td><td>Tsugumi Ohba, Takeshi Obata</td><td>17</td><td>4.42</td></tr><tr><td>Black Ice</td><td>death</td><td>21943246</td><td>Becca Fitzpatrick</td><td>14</td><td>3.88</td></tr><tr><td>I Have Lived a Thousand Years</td><td>death</td><td>48834</td><td>Livia E. Bitton-Jackson</td><td>4</td><td>4.17</td></tr><tr><td>Into the Labyrinth (The Death Gate Cycle, #6)</td><td>deathgate-cycle</td><td>28484</td><td>Margaret Weis, Tracy Hickman</td><td>6</td><td>4.09</td></tr><tr><td>Where Things Come Back</td><td>death</td><td>8563789</td><td>John Corey Whaley</td><td>16</td><td>3.81</td></tr><tr><td>Survivor In Death (In Death, #20)</td><td>series-in-death</td><td>109367</td><td>J.D. Robb</td><td>8</td><td>4.38</td></tr><tr><td>Descent</td><td>grief</td><td>20312459</td><td>Tim Johnston</td><td>14</td><td>3.59</td></tr><tr><td>Batman: Whatever Happened to the Caped Crusader?</td><td>death</td><td>5599692</td><td>Neil Gaiman, Andy Kubert, Matt Wagner, Simon Bisley, Bernie Mireault, Mark Buckingham</td><td>4</td><td>3.97</td></tr><tr><td>The Gathering</td><td>grief</td><td>998133</td><td>Anne Enright</td><td>10</td><td>3.04</td></tr><tr><td>Girl of Nightmares (Anna, #2)</td><td>death</td><td>12507214</td><td>Kendare Blake</td><td>35</td><td>3.9</td></tr><tr><td>More Than This (More Than, #1)</td><td>death</td><td>18285151</td><td>Jay McLean</td><td>28</td><td>4.15</td></tr><tr><td>Shelter (Mickey Bolitar, #1)</td><td>death</td><td>9838800</td><td>Harlan Coben</td><td>9</td><td>3.92</td></tr><tr><td>Don't Look Back</td><td>death</td><td>18296030</td><td>Jennifer L. Armentrout</td><td>21</td><td>4.11</td></tr><tr><td>The Running Dream</td><td>grief</td><td>8354134</td><td>Wendelin Van Draanen</td><td>10</td><td>4.3</td></tr><tr><td>Ordinary People</td><td>grief</td><td>160251</td><td>Judith Guest</td><td>9</td><td>3.9</td></tr><tr><td>The Dark and Hollow Places (The Forest of Hands and Teeth, #3)</td><td>death</td><td>8535273</td><td>Carrie Ryan</td><td>15</td><td>4.03</td></tr><tr><td>Judgment in Death (In Death, #11)</td><td>series-in-death</td><td>89160</td><td>J.D. Robb, Nora Roberts</td><td>15</td><td>4.33</td></tr><tr><td>Innocent in Death (In Death, #24)</td><td>death</td><td>74033</td><td>J.D. Robb</td><td>12</td><td>4.36</td></tr><tr><td>The Dead in Their Vaulted Arches (Flavia de Luce, #6)</td><td>death</td><td>17834904</td><td>Alan Bradley</td><td>18</td><td>4.16</td></tr><tr><td>Sever (The Chemical Garden, #3)</td><td>death</td><td>12383869</td><td>Lauren DeStefano</td><td>14</td><td>3.8</td></tr><tr><td>Fourth Grave Beneath My Feet (Charley Davidson, #4)</td><td>death</td><td>13538992</td><td>Darynda Jones</td><td>16</td><td>4.4</td></tr><tr><td>The Dogs of Babel</td><td>death-and-dying</td><td>89691</td><td>Carolyn  Parkhurst</td><td>5</td><td>3.56</td></tr><tr><td>Anne Frank : The Biography</td><td>death</td><td>905382</td><td>Melissa Müller, Rita Kimber, Robert Kimber</td><td>2</td><td>4.31</td></tr><tr><td>An Occurrence at Owl Creek Bridge</td><td>death</td><td>920649</td><td>Ambrose Bierce</td><td>5</td><td>4.02</td></tr><tr><td>Sometimes It Lasts (Sea Breeze, #5)</td><td>death</td><td>15828714</td><td>Abbi Glines</td><td>13</td><td>4.28</td></tr><tr><td>Kira-Kira</td><td>grief</td><td>89731</td><td>Cynthia Kadohata</td><td>14</td><td>3.9</td></tr><tr><td>Someone</td><td>grief</td><td>17332207</td><td>Alice McDermott</td><td>4</td><td>3.76</td></tr><tr><td>Suicide Notes</td><td>death</td><td>3097601</td><td>Michael Thomas Ford</td><td>15</td><td>3.92</td></tr><tr><td>The Seventh Gate (The Death Gate Cycle, #7)</td><td>deathgate-cycle</td><td>28483</td><td>Margaret Weis, Tracy Hickman</td><td>8</td><td>4.09</td></tr><tr><td>Bright Side (Bright Side, #1)</td><td>death</td><td>22669832</td><td>Kim Holden</td><td>22</td><td>4.42</td></tr><tr><td>Twisted Palace (The Royals, #3)</td><td>death</td><td>29519517</td><td>Erin Watt</td><td>12</td><td>4</td></tr><tr><td>Witness in Death (In Death, #10)</td><td>series-in-death</td><td>213975</td><td>J.D. Robb, Susan Ericksen</td><td>18</td><td>4.3</td></tr><tr><td>The Executioner's Song</td><td>death</td><td>12468</td><td>Norman Mailer</td><td>6</td><td>4.07</td></tr><tr><td>I'd Know You Anywhere</td><td>death</td><td>7636774</td><td>Laura Lippman</td><td>8</td><td>3.47</td></tr><tr><td>Don't Die, My Love</td><td>death-dying</td><td>127451</td><td>Lurlene McDaniel</td><td>2</td><td>4.12</td></tr><tr><td>The Brothers Lionheart</td><td>death</td><td>19312</td><td>Astrid Lindgren, Ilon Wikland, Jill M. Morgan</td><td>11</td><td>4.35</td></tr><tr><td>Don't Go</td><td>death</td><td>15793165</td><td>Lisa Scottoline</td><td>4</td><td>3.72</td></tr><tr><td>Loyalty in Death (In Death, #9)</td><td>death</td><td>268598</td><td>J.D. Robb, Susan Ericksen</td><td>12</td><td>4.3</td></tr><tr><td>Loving Mr. Daniels</td><td>death</td><td>20348781</td><td>Brittainy C. Cherry</td><td>24</td><td>4.28</td></tr><tr><td>The Good Luck of Right Now</td><td>death</td><td>18054175</td><td>Matthew Quick</td><td>11</td><td>3.61</td></tr><tr><td>Cabal</td><td>death</td><td>103035</td><td>Clive Barker</td><td>4</td><td>3.92</td></tr><tr><td>Sempre (Sempre, #1)</td><td>death</td><td>13111733</td><td>J.M. Darhower</td><td>18</td><td>4.21</td></tr><tr><td>The Eyes of Darkness</td><td>death</td><td>32443</td><td>Leigh Nichols, Dean Koontz</td><td>2</td><td>3.85</td></tr><tr><td>Treachery in Death (In Death, #32)</td><td>j-d-robb-in-death-series</td><td>8315872</td><td>J.D. Robb, Nora Roberts</td><td>10</td><td>4.43</td></tr><tr><td>Carter Reed (Carter Reed, #1)</td><td>death</td><td>18221931</td><td>Tijan</td><td>27</td><td>4.03</td></tr><tr><td>All My Puny Sorrows</td><td>grief</td><td>18339630</td><td>Miriam Toews</td><td>13</td><td>3.93</td></tr><tr><td>Betrayal in Death (In Death, #12)</td><td>series-in-death</td><td>762064</td><td>J.D. Robb, Nora Roberts</td><td>9</td><td>4.31</td></tr><tr><td>Lily and the Octopus</td><td>death</td><td>27276262</td><td>Steven  Rowley</td><td>11</td><td>3.74</td></tr><tr><td>The Madman’s Daughter (The Madman’s Daughter, #1)</td><td>death</td><td>12291438</td><td>Megan Shepherd</td><td>17</td><td>3.69</td></tr><tr><td>The Little Match Girl</td><td>death</td><td>342994</td><td>Hans Christian Andersen, Rachel Isadora</td><td>8</td><td>4.08</td></tr><tr><td>Death Note, Vol. 3: Hard Run (Death Note, #3)</td><td>death</td><td>13618</td><td>Tsugumi Ohba, Takeshi Obata</td><td>16</td><td>4.42</td></tr><tr><td>Saving June</td><td>grief</td><td>10947600</td><td>Hannah Harrington</td><td>14</td><td>3.97</td></tr><tr><td>Dead End in Norvelt</td><td>death</td><td>9858488</td><td>Jack Gantos</td><td>35</td><td>3.72</td></tr><tr><td>The Dry (Aaron Falk, #1)</td><td>death</td><td>27824826</td><td>Jane Harper</td><td>12</td><td>4.07</td></tr><tr><td>Proof</td><td>death</td><td>150720</td><td>David Auburn</td><td>3</td><td>4.01</td></tr><tr><td>Saint Odd (Odd Thomas, #7)</td><td>death</td><td>15722284</td><td>Dean Koontz</td><td>4</td><td>4.12</td></tr><tr><td>Wave</td><td>death-and-dying</td><td>15771862</td><td>Sonali Deraniyagala</td><td>9</td><td>3.7</td></tr><tr><td>Fire Sea (The Death Gate Cycle, #3)</td><td>deathgate-cycle</td><td>1307</td><td>Margaret Weis, Tracy Hickman</td><td>6</td><td>4.05</td></tr><tr><td>Miracle in the Andes</td><td>death</td><td>454236</td><td>Nando Parrado, Vince Rause</td><td>4</td><td>4.21</td></tr><tr><td>Private Peaceful</td><td>death</td><td>1048645</td><td>Michael Morpurgo</td><td>19</td><td>4.16</td></tr><tr><td>Indulgence in Death (In Death, #31)</td><td>death</td><td>7685763</td><td>J.D. Robb</td><td>13</td><td>4.32</td></tr><tr><td>God Bless You, Dr. Kevorkian</td><td>death</td><td>4986</td><td>Kurt Vonnegut Jr.</td><td>7</td><td>3.83</td></tr><tr><td>Desires of the Dead (The Body Finder, #2)</td><td>death</td><td>7827221</td><td>Kimberly Derting</td><td>33</td><td>4.07</td></tr><tr><td>The Hand of Chaos (The Death Gate Cycle, #5)</td><td>deathgate-cycle</td><td>28482</td><td>Margaret Weis, Tracy Hickman</td><td>6</td><td>4.05</td></tr><tr><td>Forever Amber </td><td>black-death</td><td>5368</td><td>Kathleen Winsor</td><td>3</td><td>3.98</td></tr><tr><td>Jeremy Fink and the Meaning of Life</td><td>death</td><td>363851</td><td>Wendy Mass</td><td>16</td><td>4.02</td></tr><tr><td>Getting Over It</td><td>grief</td><td>33770</td><td>Anna Maxted</td><td>2</td><td>3.53</td></tr><tr><td>A Dog's Journey (A Dog's Purpose, #2)</td><td>death</td><td>13167796</td><td>W. Bruce Cameron</td><td>5</td><td>4.41</td></tr><tr><td>The Miseducation of Cameron Post</td><td>grief</td><td>11595276</td><td>Emily M. Danforth</td><td>15</td><td>3.99</td></tr><tr><td>A Mother's Reckoning: Living in the Aftermath of Tragedy</td><td>grief</td><td>25937671</td><td>Sue Klebold</td><td>10</td><td>4.13</td></tr><tr><td>Fifth Grave Past the Light (Charley Davidson, #5)</td><td>death</td><td>15813668</td><td>Darynda Jones</td><td>19</td><td>4.49</td></tr><tr><td>Eleventh Grade Burns (The Chronicles of Vladimir Tod, #4)</td><td>death</td><td>6681333</td><td>Heather Brewer</td><td>5</td><td>4.31</td></tr><tr><td>Oscar et la dame rose</td><td>death</td><td>120461</td><td>Éric-Emmanuel Schmitt</td><td>7</td><td>4.2</td></tr><tr><td>When Bad Things Happen to Good People</td><td>death</td><td>46676</td><td>Harold S. Kushner</td><td>3</td><td>4.02</td></tr><tr><td>The Scent of Rain and Lightning</td><td>death</td><td>6606456</td><td>Nancy Pickard</td><td>4</td><td>3.79</td></tr><tr><td>Purity in Death (In Death, #15)</td><td>series-in-death</td><td>238137</td><td>J.D. Robb</td><td>18</td><td>4.33</td></tr><tr><td>The Year of Fog</td><td>grief</td><td>332348</td><td>Michelle Richmond</td><td>7</td><td>3.46</td></tr><tr><td>The Cellar (The Cellar, #1)</td><td>death</td><td>16066586</td><td>Natasha Preston</td><td>9</td><td>3.94</td></tr><tr><td>Dust &amp; Decay (Rot &amp; Ruin, #2)</td><td>death</td><td>9917998</td><td>Jonathan Maberry</td><td>8</td><td>4.29</td></tr><tr><td>Can't Wait to Get to Heaven</td><td>death</td><td>199530</td><td>Fannie Flagg</td><td>8</td><td>3.89</td></tr><tr><td>Seduction in Death (In Death, #13)</td><td>series-in-death</td><td>238127</td><td>J.D. Robb</td><td>19</td><td>4.3</td></tr><tr><td>Choosing to SEE</td><td>grief</td><td>8765461</td><td>Mary Beth Chapman, Steven Curtis Chapman</td><td>10</td><td>4.3</td></tr><tr><td>Broken Monsters</td><td>death</td><td>20706269</td><td>Lauren Beukes</td><td>10</td><td>3.59</td></tr><tr><td>Grave Witch (Alex Craft, #1)</td><td>death</td><td>7823038</td><td>Kalayna Price</td><td>20</td><td>3.96</td></tr><tr><td>Born in Death (In Death, #23)</td><td>j-d-robb-in-death-series</td><td>102857</td><td>J.D. Robb, Susan Ericksen</td><td>8</td><td>4.33</td></tr><tr><td>Close Your Eyes, Hold Hands</td><td>death</td><td>18666006</td><td>Chris Bohjalian</td><td>8</td><td>3.59</td></tr><tr><td>Lockdown (Escape from Furnace, #1)</td><td>death</td><td>6420846</td><td>Alexander Gordon Smith</td><td>11</td><td>4.1</td></tr><tr><td>Nora Webster</td><td>grief</td><td>21412360</td><td>Colm Tóibín</td><td>17</td><td>3.58</td></tr><tr><td>Promises to Keep</td><td>death-and-dying</td><td>7290826</td><td>Jane Green</td><td>2</td><td>3.81</td></tr><tr><td>Killing Sarai (In the Company of Killers, #1)</td><td>death</td><td>20559676</td><td>J.A. Redmerski</td><td>21</td><td>4.17</td></tr><tr><td>The Law of Moses (The Law of Moses, #1)</td><td>death</td><td>23252517</td><td>Amy Harmon</td><td>14</td><td>4.37</td></tr><tr><td>Left Drowning (Left Drowning, #1)</td><td>death</td><td>17325147</td><td>Jessica Park</td><td>23</td><td>4.14</td></tr><tr><td>The Christmas Sweater</td><td>death</td><td>3268926</td><td>Glenn Beck</td><td>5</td><td>3.79</td></tr><tr><td>Stenhuggaren (Patrik Hedström, #3)</td><td>death</td><td>1457790</td><td>Camilla Läckberg</td><td>5</td><td>3.85</td></tr><tr><td>She Said Yes: The Unlikely Martyrdom of Cassie Bernall</td><td>death</td><td>171001</td><td>Misty Bernall</td><td>4</td><td>3.9</td></tr><tr><td>The Walking Dead, Vol. 09: Here We Remain</td><td>death</td><td>4714126</td><td>Robert Kirkman, Charlie Adlard, Cliff Rathburn</td><td>8</td><td>4.25</td></tr><tr><td>Everyman</td><td>death-and-dying</td><td>50695</td><td>Philip Roth</td><td>7</td><td>3.54</td></tr><tr><td>Sadako and the Thousand Paper Cranes</td><td>death-and-dying</td><td>181077</td><td>Eleanor Coerr, Ronald Himler</td><td>10</td><td>4.09</td></tr><tr><td>Death Note, Vol. 4: Love (Death Note, #4)</td><td>death-note</td><td>13616</td><td>Tsugumi Ohba, Takeshi Obata</td><td>118</td><td>4.38</td></tr><tr><td>The Walking Dead, Vol. 11: Fear the Hunters</td><td>death</td><td>6488483</td><td>Robert Kirkman, Charlie Adlard, Cliff Rathburn</td><td>9</td><td>4.33</td></tr><tr><td>The Beginner's Goodbye</td><td>death-and-dying</td><td>12482658</td><td>Anne Tyler</td><td>6</td><td>3.58</td></tr><tr><td>King (King, #1)</td><td>death</td><td>18739485</td><td>T.M. Frazier</td><td>29</td><td>4.24</td></tr><tr><td>The Returned</td><td>death</td><td>17182421</td><td>Jason Mott</td><td>27</td><td>3.29</td></tr><tr><td>What Remains: A Memoir of Fate, Friendship, and Love</td><td>grief</td><td>851678</td><td>Carole Radziwill</td><td>15</td><td>4.16</td></tr><tr><td>Second Life</td><td>death</td><td>17412188</td><td>S.J. Watson</td><td>5</td><td>3.24</td></tr><tr><td>The Curious Charms of Arthur Pepper</td><td>death</td><td>26722820</td><td>Phaedra Patrick</td><td>6</td><td>3.91</td></tr><tr><td>Divided in Death (In Death, #18)</td><td>series-in-death</td><td>129523</td><td>J.D. Robb</td><td>17</td><td>4.32</td></tr><tr><td>2BR02B</td><td>death</td><td>5048174</td><td>Kurt Vonnegut Jr.</td><td>10</td><td>3.93</td></tr><tr><td>The Hollow (The Hollow, #1)</td><td>death</td><td>2998814</td><td>Jessica Verday</td><td>16</td><td>3.75</td></tr><tr><td>The Walking Dead, Vol. 10: What We Become</td><td>death</td><td>6145711</td><td>Robert Kirkman</td><td>7</td><td>4.29</td></tr><tr><td>Numbers (Numbers, #1)</td><td>death</td><td>6609758</td><td>Rachel Ward</td><td>48</td><td>3.46</td></tr><tr><td>Reunion in Death (In Death, #14)</td><td>series-in-death</td><td>238140</td><td>J.D. Robb</td><td>18</td><td>4.33</td></tr><tr><td>Where Is God When It Hurts?</td><td>grief</td><td>173572</td><td>Philip Yancey</td><td>4</td><td>4.22</td></tr><tr><td>Visions in Death (In Death, #19)</td><td>series-in-death</td><td>238142</td><td>J.D. Robb</td><td>17</td><td>4.33</td></tr><tr><td>Imitation in Death (In Death, #17)</td><td>series-in-death</td><td>238139</td><td>J.D. Robb</td><td>16</td><td>4.34</td></tr><tr><td>Beaches</td><td>death</td><td>1219954</td><td>Iris Rainer Dart</td><td>3</td><td>4.14</td></tr><tr><td>The Inn at Rose Harbor (Rose Harbor #1)</td><td>grief</td><td>13414594</td><td>Debbie Macomber</td><td>5</td><td>3.93</td></tr><tr><td>Stranger Child (DCI Tom Douglas, #4)</td><td>death</td><td>24859245</td><td>Rachel Abbott</td><td>2</td><td>4.18</td></tr><tr><td>Another Brooklyn</td><td>death</td><td>27213163</td><td>Jacqueline Woodson</td><td>7</td><td>3.87</td></tr><tr><td>Wait Till Helen Comes</td><td>death</td><td>267972</td><td>Mary Downing Hahn</td><td>8</td><td>4.14</td></tr><tr><td>The Walking Dead, Vol. 14: No Way Out</td><td>death</td><td>10822174</td><td>Robert Kirkman, Charlie Adlard, Cliff Rathburn</td><td>7</td><td>4.34</td></tr><tr><td>My Soul to Keep (Soul Screamers, #3)</td><td>death</td><td>7476122</td><td>Rachel Vincent</td><td>16</td><td>4.09</td></tr><tr><td>Prayers for Sale</td><td>death</td><td>4618898</td><td>Sandra Dallas</td><td>4</td><td>3.83</td></tr><tr><td>Nothing</td><td>death</td><td>6647312</td><td>Janne Teller, Martin Aitken</td><td>11</td><td>3.76</td></tr><tr><td>A Ring of Endless Light (Austin Family, #4)</td><td>death</td><td>14358</td><td>Madeleine L'Engle</td><td>10</td><td>4.14</td></tr><tr><td>How to Save a Life</td><td>death</td><td>10757806</td><td>Sara Zarr</td><td>36</td><td>3.89</td></tr><tr><td>Brotherhood in Death (In Death, #42)</td><td>series-in-death</td><td>25337081</td><td>J.D. Robb</td><td>10</td><td>4.35</td></tr><tr><td>Dicey's Song (Tillerman Cycle, #2)</td><td>death</td><td>11831</td><td>Cynthia Voigt</td><td>6</td><td>3.94</td></tr><tr><td>Falling into Place</td><td>death</td><td>18163646</td><td>Amy Zhang</td><td>38</td><td>3.88</td></tr><tr><td>A Severe Mercy: A Story of Faith, Tragedy and Triumph</td><td>death</td><td>56594</td><td>Sheldon Vanauken, C.S. Lewis</td><td>3</td><td>4.32</td></tr><tr><td>The Dry Grass of August</td><td>death</td><td>9429531</td><td>Anna Jean Mayhew</td><td>5</td><td>3.82</td></tr><tr><td>This Star Won't Go Out: The Life and Words of Esther Grace Earl</td><td>death</td><td>17675031</td><td>Esther Earl, Lori Earl, Wayne Earl, John Green</td><td>19</td><td>4.19</td></tr><tr><td>The Tiger Rising</td><td>grief</td><td>37187</td><td>Kate DiCamillo</td><td>7</td><td>3.78</td></tr><tr><td>Death Note, Vol. 8: Target (Death Note, #8)</td><td>deathnote</td><td>13614</td><td>Tsugumi Ohba, Takeshi Obata</td><td>9</td><td>4.27</td></tr><tr><td>Endless Knight (The Arcana Chronicles, #2)</td><td>death</td><td>16175040</td><td>Kresley Cole</td><td>18</td><td>4.39</td></tr><tr><td>Tears of a Tiger (Hazelwood High, #1)</td><td>death</td><td>119838</td><td>Sharon M. Draper</td><td>29</td><td>4.16</td></tr><tr><td>The Love Song of Miss Queenie Hennessy (Harold Fry, #2)</td><td>grief</td><td>20890479</td><td>Rachel Joyce</td><td>9</td><td>4.04</td></tr><tr><td>A Certain Slant of Light (Light, #1)</td><td>death</td><td>289601</td><td>Laura Whitcomb</td><td>33</td><td>3.83</td></tr><tr><td>How to Be Both</td><td>grief</td><td>20439328</td><td>Ali Smith</td><td>7</td><td>3.61</td></tr><tr><td>While My Sister Sleeps</td><td>death-and-dying</td><td>4071018</td><td>Barbara Delinsky</td><td>3</td><td>3.82</td></tr><tr><td>Creation in Death (In Death, #25)</td><td>death</td><td>1566705</td><td>J.D. Robb</td><td>8</td><td>4.34</td></tr><tr><td>Faithful</td><td>grief</td><td>29430788</td><td>Alice Hoffman</td><td>11</td><td>4.02</td></tr><tr><td>Delusion in Death (In Death, #35)</td><td>in-death</td><td>13252406</td><td>J.D. Robb</td><td>134</td><td>4.31</td></tr><tr><td>Death Note, Vol. 5: Whiteout (Death Note, #5)</td><td>deathnote</td><td>13617</td><td>Tsugumi Ohba, Takeshi Obata</td><td>13</td><td>4.35</td></tr><tr><td>The Enchanted</td><td>death</td><td>18090147</td><td>Rene Denfeld</td><td>15</td><td>3.96</td></tr><tr><td>Glitter and Glue</td><td>grief</td><td>17910544</td><td>Kelly Corrigan</td><td>5</td><td>3.76</td></tr><tr><td>A Night to Remember</td><td>death</td><td>61834</td><td>Walter Lord, Nathaniel Philbrick</td><td>5</td><td>4</td></tr><tr><td>Saint Maybe</td><td>grief</td><td>112322</td><td>Anne Tyler</td><td>3</td><td>3.88</td></tr><tr><td>Deep and Dark and Dangerous (A Ghost Story)</td><td>death</td><td>541341</td><td>Mary Downing Hahn</td><td>4</td><td>4.22</td></tr><tr><td>The Green Mile, Part 4: The Bad Death of Eduard Delacroix</td><td>death</td><td>228199</td><td>Stephen King</td><td>3</td><td>4.52</td></tr><tr><td>Elven Star (The Death Gate Cycle, #2)</td><td>the-death-gate-cycle</td><td>28485</td><td>Margaret Weis, Tracy Hickman</td><td>17</td><td>3.98</td></tr><tr><td>Kaleidoscope Hearts (Hearts, #1)</td><td>death</td><td>23545800</td><td>Claire Contreras</td><td>19</td><td>4.06</td></tr><tr><td>Cage (Corps Security, #2)</td><td>death</td><td>21518679</td><td>Harper Sloan</td><td>15</td><td>4.29</td></tr><tr><td>How to Talk to a Widower</td><td>death</td><td>242157</td><td>Jonathan Tropper</td><td>7</td><td>3.97</td></tr><tr><td>Rose Under Fire (Code Name Verity, #2)</td><td>death</td><td>17262236</td><td>Elizabeth Wein</td><td>11</td><td>4.13</td></tr><tr><td>The Sound of Glass</td><td>death</td><td>23398961</td><td>Karen   White</td><td>4</td><td>3.98</td></tr><tr><td>The Widow of the South</td><td>death</td><td>71622</td><td>Robert Hicks</td><td>5</td><td>3.75</td></tr><tr><td>Underworld (Abandon, #2)</td><td>death</td><td>10799881</td><td>Meg Cabot</td><td>24</td><td>3.89</td></tr><tr><td>My Soul to Save (Soul Screamers, #2)</td><td>death</td><td>6763961</td><td>Rachel Vincent</td><td>25</td><td>3.98</td></tr><tr><td>Tilt</td><td>death</td><td>11133791</td><td>Ellen Hopkins</td><td>6</td><td>4.2</td></tr><tr><td>The Life List</td><td>death</td><td>16127237</td><td>Lori Nelson Spielman</td><td>6</td><td>4.08</td></tr><tr><td>Eden (Providence, #3)</td><td>death</td><td>13417946</td><td>Jamie McGuire</td><td>5</td><td>4.17</td></tr><tr><td>Origin in Death (In Death, #21)</td><td>series-in-death</td><td>210243</td><td>J.D. Robb</td><td>10</td><td>4.34</td></tr><tr><td>The First Part Last (Heaven, #2)</td><td>death</td><td>148769</td><td>Angela Johnson</td><td>5</td><td>3.96</td></tr><tr><td>The Naturals (The Naturals, #1)</td><td>death</td><td>13597723</td><td>Jennifer Lynn Barnes</td><td>16</td><td>4.16</td></tr><tr><td>Death Note, Vol. 7: Zero (Death Note, #7)</td><td>death</td><td>13621</td><td>Tsugumi Ohba, Takeshi Obata</td><td>10</td><td>4.41</td></tr><tr><td>The Catastrophic History of You and Me</td><td>death</td><td>11387392</td><td>Jess Rothenberg</td><td>48</td><td>4.04</td></tr><tr><td>Calculated in Death (In Death, #36)</td><td>series-in-death</td><td>15806231</td><td>J.D. Robb</td><td>13</td><td>4.23</td></tr><tr><td>Celebrity in Death (In Death, #34)</td><td>in-death</td><td>13007638</td><td>J.D. Robb</td><td>135</td><td>4.28</td></tr><tr><td>Billions &amp; Billions: Thoughts on Life and Death at the Brink of the Millennium</td><td>death</td><td>61665</td><td>Carl Sagan, Ann Druyan</td><td>4</td><td>4.26</td></tr><tr><td>Detroit: An American Autopsy</td><td>death</td><td>15811520</td><td>Charlie LeDuff</td><td>5</td><td>3.95</td></tr><tr><td>Big Fish</td><td>death</td><td>129984</td><td>Daniel Wallace</td><td>8</td><td>3.64</td></tr><tr><td>Breakable (Contours of the Heart, #2)</td><td>death</td><td>17936925</td><td>Tammara Webber</td><td>11</td><td>4.06</td></tr><tr><td>The Death of Bees</td><td>death</td><td>15818333</td><td>Lisa O'Donnell</td><td>18</td><td>3.81</td></tr><tr><td>Locke &amp; Key, Vol. 6: Alpha &amp; Omega</td><td>death</td><td>16164271</td><td>Joe Hill, Gabriel Rodríguez</td><td>8</td><td>4.5</td></tr><tr><td>Strangers in Death (In Death, #26)</td><td>series-in-death</td><td>1158706</td><td>J.D. Robb</td><td>9</td><td>4.29</td></tr><tr><td>LaRose</td><td>death</td><td>26116430</td><td>Louise Erdrich</td><td>9</td><td>3.86</td></tr><tr><td>River, Cross My Heart</td><td>grief</td><td>166101</td><td>Breena Clarke</td><td>2</td><td>3.47</td></tr><tr><td>To Build a Fire</td><td>death</td><td>194808</td><td>Jack London</td><td>2</td><td>3.92</td></tr><tr><td>The Ghost Bride</td><td>death</td><td>16248223</td><td>Yangsze Choo</td><td>13</td><td>3.74</td></tr><tr><td>You Were Mine (Rosemary Beach, #9)</td><td>death</td><td>21411887</td><td>Abbi Glines</td><td>11</td><td>4.26</td></tr><tr><td>Thankless in Death (In Death, #37)</td><td>series-in-death</td><td>16299341</td><td>J.D. Robb</td><td>12</td><td>4.28</td></tr><tr><td>Once (Once, #1)</td><td>death</td><td>1045757</td><td>Morris Gleitzman</td><td>12</td><td>4.2</td></tr><tr><td>Afterwards</td><td>grief</td><td>12598982</td><td>Rosamund Lupton</td><td>4</td><td>3.79</td></tr><tr><td>Story of the Eye</td><td>death</td><td>436806</td><td>Georges Bataille, Joachim Neugroschel, Dovid Bergelson</td><td>4</td><td>3.71</td></tr><tr><td>Concealed in Death (In Death, #38)</td><td>series-in-death</td><td>18079757</td><td>J.D. Robb</td><td>12</td><td>4.25</td></tr><tr><td>The Green Mile, Part 2: The Mouse on the Mile</td><td>death</td><td>228194</td><td>Stephen King</td><td>3</td><td>4.47</td></tr><tr><td>The Replacement</td><td>death</td><td>7507908</td><td>Brenna Yovanoff</td><td>17</td><td>3.56</td></tr><tr><td>The Bourbon Kings (The Bourbon Kings, #1)</td><td>death</td><td>23355896</td><td>J.R. Ward</td><td>8</td><td>3.87</td></tr><tr><td>Benediction (Plainsong, #3)</td><td>grief</td><td>15762186</td><td>Kent Haruf</td><td>11</td><td>3.97</td></tr><tr><td>The Bookseller</td><td>grief</td><td>22635858</td><td>Cynthia Swanson</td><td>7</td><td>3.66</td></tr><tr><td>The Book on the Taboo Against Knowing Who You Are</td><td>death</td><td>60551</td><td>Alan W. Watts</td><td>4</td><td>4.28</td></tr><tr><td>Ghettoside: A True Story of Murder in America</td><td>death</td><td>13153693</td><td>Jill Leovy</td><td>7</td><td>4.12</td></tr><tr><td>That Night</td><td>death</td><td>18404248</td><td>Chevy Stevens</td><td>9</td><td>3.92</td></tr><tr><td>Something like Normal</td><td>death</td><td>9403947</td><td>Trish Doller</td><td>14</td><td>3.81</td></tr><tr><td>Twelfth Grade Kills (The Chronicles of Vladimir Tod, #5)</td><td>death</td><td>7818881</td><td>Heather Brewer</td><td>6</td><td>4.36</td></tr><tr><td>Ghostgirl (Ghostgirl, #1)</td><td>death</td><td>2508164</td><td>Tonya Hurley</td><td>19</td><td>3.28</td></tr><tr><td>Shadow Fires</td><td>death</td><td>32428</td><td>Leigh Nichols, Dean Koontz</td><td>6</td><td>3.77</td></tr><tr><td>Knife Edge (Noughts &amp; Crosses, #2)</td><td>death</td><td>300044</td><td>Malorie Blackman</td><td>5</td><td>4.06</td></tr><tr><td>My Life with the Walter Boys (My Life with the Walter Boys #1)</td><td>death</td><td>13580846</td><td>Ali Novak, Fallzswimmer</td><td>8</td><td>3.93</td></tr><tr><td>Love You to Death: The Unofficial Companion to the Vampire Diaries</td><td>love-you-to-death</td><td>7967299</td><td>Crissy Calhoun</td><td>2</td><td>4.38</td></tr><tr><td>Anil's Ghost</td><td>death</td><td>5942</td><td>Michael Ondaatje</td><td>6</td><td>3.54</td></tr><tr><td>Unattainable (Undeniable, #3)</td><td>death</td><td>16114862</td><td>Madeline Sheehan</td><td>11</td><td>4.31</td></tr><tr><td>The Painter</td><td>grief</td><td>18310201</td><td>Peter Heller</td><td>5</td><td>3.76</td></tr><tr><td>The Submission</td><td>death</td><td>10364994</td><td>Amy Waldman</td><td>5</td><td>3.66</td></tr><tr><td>A Corner of the Universe</td><td>death</td><td>65070</td><td>Ann M. Martin</td><td>6</td><td>4.06</td></tr><tr><td>The Ice Queen</td><td>near-death-experience</td><td>177515</td><td>Alice Hoffman</td><td>4</td><td>3.51</td></tr><tr><td>Help for the Haunted</td><td>death</td><td>17348985</td><td>John Searles</td><td>6</td><td>3.6</td></tr><tr><td>Death Note, Vol. 6: Give-and-Take (Death Note, #6)</td><td>death</td><td>13620</td><td>Tsugumi Ohba, Takeshi Obata</td><td>10</td><td>4.39</td></tr><tr><td>Connected (Connections, #1)</td><td>death</td><td>16279715</td><td>Kim Karr</td><td>11</td><td>4.11</td></tr><tr><td>Fall From Grace (Mad World, #1)</td><td>death</td><td>15768536</td><td>Christine Zolendz</td><td>12</td><td>4.03</td></tr><tr><td>How to Fall in Love</td><td>death</td><td>18161265</td><td>Cecelia Ahern</td><td>4</td><td>4.02</td></tr><tr><td>The Christmas List</td><td>death</td><td>6517407</td><td>Richard Paul Evans</td><td>3</td><td>4.17</td></tr><tr><td>Perfect</td><td>grief</td><td>17192373</td><td>Rachel Joyce</td><td>10</td><td>3.54</td></tr><tr><td>If I Die (Soul Screamers, #5)</td><td>death</td><td>8803932</td><td>Rachel Vincent</td><td>17</td><td>4.32</td></tr><tr><td>A Vintage Affair</td><td>death</td><td>5556595</td><td>Isabel Wolff</td><td>4</td><td>3.8</td></tr><tr><td>Lost &amp; Found (Rocky Pelligrino, #1)</td><td>death</td><td>697210</td><td>Jacqueline Sheehan</td><td>3</td><td>3.71</td></tr><tr><td>The Kindness of Strangers</td><td>grief</td><td>15655</td><td>Katrina Kittle</td><td>2</td><td>4</td></tr><tr><td>The Sculptor</td><td>death</td><td>22040598</td><td>Scott McCloud</td><td>18</td><td>4</td></tr><tr><td>Broken Grace</td><td>death</td><td>25866725</td><td>E.C. Diskin</td><td>2</td><td>3.92</td></tr><tr><td>Indignation</td><td>death</td><td>3015764</td><td>Philip Roth</td><td>5</td><td>3.69</td></tr><tr><td>Do No Harm: Stories of Life, Death and Brain Surgery</td><td>death</td><td>21086818</td><td>Henry Marsh</td><td>8</td><td>4.22</td></tr><tr><td>Paint it Black</td><td>death</td><td>33144</td><td>Janet Fitch</td><td>9</td><td>3.47</td></tr><tr><td>Last Orders</td><td>death</td><td>5068</td><td>Graham Swift</td><td>8</td><td>3.68</td></tr><tr><td>Before I Go</td><td>death</td><td>20871704</td><td>Colleen Oakley</td><td>8</td><td>3.79</td></tr><tr><td>The Healer (O'Malley #5)</td><td>grief</td><td>426030</td><td>Dee Henderson</td><td>2</td><td>4.4</td></tr><tr><td>Artemis Fowl Boxed Set, Bks 1-5 (Artemis Fowl, #1-5)</td><td>lots-of-death</td><td>2358870</td><td>Eoin Colfer</td><td>1</td><td>4.29</td></tr><tr><td>The Haunted (The Hollow, #2)</td><td>death</td><td>7159016</td><td>Jessica Verday</td><td>7</td><td>4.15</td></tr><tr><td>Tell Me Three Things</td><td>death</td><td>25893582</td><td>Julie Buxbaum</td><td>26</td><td>4.1</td></tr><tr><td>Promise Not to Tell</td><td>death</td><td>659546</td><td>Jennifer McMahon</td><td>4</td><td>3.62</td></tr><tr><td>Double Identity</td><td>death</td><td>155370</td><td>Margaret Peterson Haddix</td><td>6</td><td>4.01</td></tr><tr><td>My Brother Sam Is Dead</td><td>death-and-dying</td><td>122756</td><td>James Lincoln Collier, Christopher Collier</td><td>8</td><td>3.39</td></tr><tr><td>The Green Mile, Part 6: Coffey on the Mile</td><td>death</td><td>71823</td><td>Stephen King</td><td>3</td><td>4.55</td></tr><tr><td>Catalyst</td><td>grief</td><td>170171</td><td>Laurie Halse Anderson</td><td>6</td><td>3.62</td></tr><tr><td>Miles to Go (The Walk, #2)</td><td>dealing-with-grief-and-loss</td><td>8720415</td><td>Richard Paul Evans</td><td>2</td><td>4.27</td></tr><tr><td>Heart on a Chain</td><td>death</td><td>10295484</td><td>Cindy C. Bennett</td><td>6</td><td>4.04</td></tr><tr><td>Lincoln in the Bardo</td><td>grief</td><td>29906980</td><td>George Saunders</td><td>30</td><td>3.93</td></tr><tr><td>The Wicked Girls</td><td>death</td><td>11940384</td><td>Alex Marwood</td><td>5</td><td>3.48</td></tr><tr><td>The Boy Who Came Back from Heaven: A Remarkable Account of Miracles, Angels, and Life beyond This World</td><td>life-after-death</td><td>8100288</td><td>Kevin Malarkey, Alex Malarkey</td><td>6</td><td>3.89</td></tr><tr><td>The Sound of Things Falling</td><td>death</td><td>16171259</td><td>Juan Gabriel Vásquez, Anne McLean</td><td>4</td><td>3.74</td></tr><tr><td>The Obituary Writer</td><td>death</td><td>17573684</td><td>Ann Hood</td><td>5</td><td>3.7</td></tr><tr><td>Festive in Death (In Death, #39)</td><td>death</td><td>20821249</td><td>J.D. Robb</td><td>9</td><td>4.26</td></tr><tr><td>The Last Time We Say Goodbye</td><td>grief</td><td>17285330</td><td>Cynthia Hand</td><td>23</td><td>4.11</td></tr><tr><td>Johannes Cabal the Necromancer (Johannes Cabal, #1)</td><td>death</td><td>5750628</td><td>Jonathan L. Howard</td><td>8</td><td>3.94</td></tr><tr><td>Obsession in Death (In Death, #40)</td><td>series-in-death</td><td>22571696</td><td>J.D. Robb</td><td>12</td><td>4.33</td></tr><tr><td>Secondhand Souls (Grim Reaper, #2)</td><td>death</td><td>23460830</td><td>Christopher Moore</td><td>22</td><td>3.92</td></tr><tr><td>The Marvels</td><td>death</td><td>23566909</td><td>Brian Selznick</td><td>12</td><td>3.93</td></tr><tr><td>Attack on Titan: No Regrets, Volume 01</td><td>death</td><td>19138879</td><td>Hajime Isayama, Hikaru Suruga, Gan Sunaaku</td><td>2</td><td>4.52</td></tr><tr><td>The Hate U Give</td><td>grief</td><td>32075671</td><td>Angie Thomas</td><td>48</td><td>4.62</td></tr><tr><td>My Soul to Steal (Soul Screamers, #4)</td><td>death</td><td>8487363</td><td>Rachel Vincent</td><td>14</td><td>4.13</td></tr><tr><td>Grave Dance (Alex Craft, #2)</td><td>death</td><td>9565574</td><td>Kalayna Price</td><td>9</td><td>4.11</td></tr><tr><td>All Fall Down (Embassy Row, #1)</td><td>death</td><td>22571275</td><td>Ally Carter</td><td>13</td><td>3.82</td></tr><tr><td>The Girl in the Red Coat</td><td>grief</td><td>23289469</td><td>Kate Hamer</td><td>7</td><td>3.53</td></tr><tr><td>Daughter</td><td>grief</td><td>20505127</td><td>Jane Shemilt</td><td>4</td><td>3.51</td></tr><tr><td>Fantasy in Death (In Death, #30)</td><td>death</td><td>6542645</td><td>J.D. Robb</td><td>11</td><td>4.25</td></tr><tr><td>Crow's Row (Crow's Row, #1)</td><td>death</td><td>12389310</td><td>Julie Hockley</td><td>14</td><td>4.11</td></tr><tr><td>Forsaken (The Demon Trappers, #1)</td><td>death</td><td>8534899</td><td>Jana Oliver</td><td>6</td><td>4</td></tr><tr><td>A Death in the Family</td><td>grief</td><td>113091</td><td>James Agee</td><td>9</td><td>3.92</td></tr><tr><td>The Lake (The Lake Trilogy #1)</td><td>death</td><td>17794657</td><td>AnnaLisa Grant</td><td>3</td><td>3.75</td></tr><tr><td>Wit</td><td>death-and-dying</td><td>171201</td><td>Margaret Edson</td><td>5</td><td>4.2</td></tr><tr><td>Incendiary</td><td>death-and-dying</td><td>701738</td><td>Chris Cleave</td><td>5</td><td>3.59</td></tr><tr><td>The Walking Dead, Vol. 13: Too Far Gone</td><td>death</td><td>9018370</td><td>Robert Kirkman, Charlie Adlard, Cliff Rathburn</td><td>7</td><td>4.23</td></tr><tr><td>Kindred in Death (In Death, #29)</td><td>death</td><td>5943970</td><td>J.D. Robb</td><td>7</td><td>4.31</td></tr><tr><td>Belzhar</td><td>death</td><td>20821376</td><td>Meg Wolitzer</td><td>15</td><td>3.46</td></tr><tr><td>We Are Called to Rise</td><td>grief</td><td>18271235</td><td>Laura  McBride</td><td>4</td><td>3.94</td></tr><tr><td>Bleach, Volume 03</td><td>death-gods</td><td>271264</td><td>Tite Kubo</td><td>3</td><td>4.31</td></tr><tr><td>Perfect</td><td>death-in-the-family</td><td>97408</td><td>Natasha Friend</td><td>3</td><td>3.77</td></tr><tr><td>Broken for You</td><td>death-and-dying</td><td>96702</td><td>Stephanie Kallos</td><td>4</td><td>3.8</td></tr><tr><td>Tyrant (King, #2)</td><td>death</td><td>25711641</td><td>T.M. Frazier</td><td>14</td><td>4.39</td></tr><tr><td>Grasshopper Jungle</td><td>death</td><td>18079719</td><td>Andrew  Smith</td><td>10</td><td>3.66</td></tr><tr><td>Antigone</td><td>death</td><td>352383</td><td>Jean Anouilh</td><td>3</td><td>3.8</td></tr><tr><td>The Egg</td><td>death</td><td>17563539</td><td>Andy Weir</td><td>5</td><td>4.13</td></tr><tr><td>Afterworlds (Afterworlds #1)</td><td>death</td><td>18367581</td><td>Scott Westerfeld</td><td>29</td><td>3.72</td></tr><tr><td>The Bookman’s Tale</td><td>grief</td><td>16158563</td><td>Charlie Lovett</td><td>8</td><td>3.74</td></tr><tr><td>Salvation in Death (In Death, #27)</td><td>series-in-death</td><td>2494204</td><td>J.D. Robb</td><td>9</td><td>4.26</td></tr><tr><td>A Thousand Boy Kisses</td><td>death</td><td>25912358</td><td>Tillie Cole</td><td>22</td><td>4.29</td></tr><tr><td>Such a Rush</td><td>death</td><td>12989112</td><td>Jennifer Echols</td><td>7</td><td>3.84</td></tr><tr><td>Dangerous Girls</td><td>death</td><td>16074758</td><td>Abigail Haas, Abby McDonald</td><td>19</td><td>4.14</td></tr><tr><td>Rock Bottom (Tristan &amp; Danika, #2)</td><td>death</td><td>18943009</td><td>R.K. Lilley</td><td>8</td><td>4.46</td></tr><tr><td>The Lovely Bones</td><td>death</td><td>12232938</td><td>Alice Sebold</td><td>290</td><td>3.77</td></tr><tr><td>My Sister's Keeper</td><td>death</td><td>10917</td><td>Jodi Picoult</td><td>119</td><td>4.06</td></tr><tr><td>Tuesdays with Morrie</td><td>death</td><td>6900</td><td>Mitch Albom, Saulius Dagys</td><td>144</td><td>4.06</td></tr><tr><td>The Five People You Meet in Heaven</td><td>death</td><td>3431</td><td>Mitch Albom</td><td>114</td><td>3.9</td></tr><tr><td>If I Stay (If I Stay, #1)</td><td>death</td><td>4374400</td><td>Gayle Forman</td><td>487</td><td>3.96</td></tr><tr><td>Extremely Loud and Incredibly Close</td><td>death</td><td>4588</td><td>Jonathan Safran Foer</td><td>96</td><td>3.97</td></tr><tr><td>P.S. I Love You</td><td>death</td><td>366522</td><td>Cecelia Ahern</td><td>49</td><td>4.01</td></tr><tr><td>The Last Lecture</td><td>death-and-dying</td><td>2318271</td><td>Randy Pausch, Jeffrey Zaslow</td><td>63</td><td>4.25</td></tr><tr><td>The Pact</td><td>death</td><td>10916</td><td>Jodi Picoult</td><td>52</td><td>4</td></tr><tr><td>A Man Called Ove</td><td>grief</td><td>18774964</td><td>Fredrik Backman, Henning Koch</td><td>81</td><td>4.35</td></tr><tr><td>Where She Went (If I Stay, #2)</td><td>death</td><td>8492825</td><td>Gayle Forman</td><td>111</td><td>4.06</td></tr><tr><td>A Heartbreaking Work of Staggering Genius</td><td>death</td><td>4953</td><td>Dave Eggers</td><td>39</td><td>3.68</td></tr><tr><td>The Truth About Forever</td><td>death</td><td>51737</td><td>Sarah Dessen</td><td>50</td><td>4.13</td></tr><tr><td>After You (Me Before You, #2)</td><td>grief</td><td>25041504</td><td>Jojo Moyes</td><td>49</td><td>3.7</td></tr><tr><td>Death Note, Vol. 1: Boredom (Death Note, #1)</td><td>death</td><td>13615</td><td>Tsugumi Ohba, Takeshi Obata</td><td>40</td><td>4.42</td></tr><tr><td>Death Note, Vol. 1: Boredom (Death Note, #1)</td><td>death-note</td><td>13615</td><td>Tsugumi Ohba, Takeshi Obata</td><td>161</td><td>4.42</td></tr><tr><td>Midwives</td><td>death</td><td>5166</td><td>Chris Bohjalian</td><td>10</td><td>3.97</td></tr><tr><td>Everything I Never Told You</td><td>grief</td><td>18693763</td><td>Celeste Ng</td><td>62</td><td>3.78</td></tr><tr><td>Mort (Death, #1; Discworld, #4)</td><td>death</td><td>386372</td><td>Terry Pratchett</td><td>117</td><td>4.22</td></tr><tr><td>Stiff: The Curious Lives of Human Cadavers</td><td>death</td><td>32145</td><td>Mary Roach</td><td>324</td><td>4.05</td></tr><tr><td>Naked in Death (In Death, #1)</td><td>in-death-series</td><td>268602</td><td>J.D. Robb</td><td>247</td><td>4.13</td></tr><tr><td>The Chamber</td><td>death</td><td>5355</td><td>John Grisham</td><td>27</td><td>3.76</td></tr><tr><td>The Unlikely Pilgrimage of Harold Fry (Harold Fry, #1)</td><td>grief</td><td>13227454</td><td>Rachel Joyce</td><td>58</td><td>3.89</td></tr><tr><td>When Breath Becomes Air</td><td>grief</td><td>25899336</td><td>Paul Kalanithi, Abraham Verghese</td><td>40</td><td>4.32</td></tr><tr><td>When Breath Becomes Air</td><td>death</td><td>25899336</td><td>Paul Kalanithi, Abraham Verghese</td><td>178</td><td>4.32</td></tr><tr><td>When Breath Becomes Air</td><td>death-dying</td><td>25899336</td><td>Paul Kalanithi, Abraham Verghese</td><td>26</td><td>4.32</td></tr><tr><td>The Year of Magical Thinking</td><td>death</td><td>7815</td><td>Joan Didion</td><td>150</td><td>3.86</td></tr><tr><td>The Year of Magical Thinking</td><td>grief</td><td>7815</td><td>Joan Didion</td><td>191</td><td>3.86</td></tr><tr><td>All the Bright Places</td><td>death</td><td>18460392</td><td>Jennifer Niven, فرانک معنوی</td><td>194</td><td>4.19</td></tr><tr><td>I'll Give You the Sun</td><td>death</td><td>20820994</td><td>Jandy Nelson</td><td>82</td><td>4.14</td></tr><tr><td>Leaving Time</td><td>grief</td><td>18816603</td><td>Jodi Picoult</td><td>45</td><td>3.94</td></tr><tr><td>A Monster Calls</td><td>death</td><td>8621462</td><td>Patrick Ness, Jim Kay, Siobhan Dowd</td><td>250</td><td>4.36</td></tr><tr><td>Tell the Wolves I'm Home</td><td>death</td><td>12875258</td><td>Carol Rifka Brunt</td><td>70</td><td>4.04</td></tr><tr><td>90 Minutes in Heaven: A True Story of Death and Life</td><td>near-death-experience</td><td>89375</td><td>Don Piper, Cecil Murphey</td><td>13</td><td>3.91</td></tr><tr><td>90 Minutes in Heaven: A True Story of Death and Life</td><td>death</td><td>89375</td><td>Don Piper, Cecil Murphey</td><td>20</td><td>3.91</td></tr><tr><td>90 Minutes in Heaven: A True Story of Death and Life</td><td>near-death-experiences</td><td>89375</td><td>Don Piper, Cecil Murphey</td><td>9</td><td>3.91</td></tr><tr><td>Change of Heart</td><td>death</td><td>1609451</td><td>Jodi Picoult</td><td>16</td><td>3.91</td></tr><tr><td>Wintergirls</td><td>death</td><td>5152478</td><td>Laurie Halse Anderson</td><td>133</td><td>3.98</td></tr><tr><td>The Pilot's Wife</td><td>death</td><td>5191</td><td>Anita Shreve</td><td>14</td><td>3.5</td></tr><tr><td>Drowning Ruth</td><td>death</td><td>5171</td><td>Christina Schwarz</td><td>6</td><td>3.73</td></tr><tr><td>Being Mortal: Medicine and What Matters in the End</td><td>death-and-dying</td><td>20696006</td><td>Atul Gawande</td><td>70</td><td>4.4</td></tr><tr><td>Being Mortal: Medicine and What Matters in the End</td><td>death</td><td>20696006</td><td>Atul Gawande</td><td>133</td><td>4.4</td></tr><tr><td>Amy &amp; Roger's Epic Detour</td><td>death</td><td>7664334</td><td>Morgan Matson</td><td>61</td><td>4.05</td></tr><tr><td>The Sky Is Everywhere</td><td>death</td><td>6604794</td><td>Jandy Nelson</td><td>160</td><td>4.04</td></tr><tr><td>Reaper Man (Discworld, #11; Death, #2)</td><td>death</td><td>34517</td><td>Terry Pratchett</td><td>79</td><td>4.27</td></tr><tr><td>A Widow for One Year</td><td>grief</td><td>4659</td><td>John Irving</td><td>9</td><td>3.74</td></tr><tr><td>Proof of Heaven: A Neurosurgeon's Journey into the Afterlife</td><td>near-death</td><td>15851746</td><td>Eben Alexander</td><td>8</td><td>3.68</td></tr><tr><td>Proof of Heaven: A Neurosurgeon's Journey into the Afterlife</td><td>meaning-of-life-and-death</td><td>15851746</td><td>Eben Alexander</td><td>9</td><td>3.68</td></tr><tr><td>Proof of Heaven: A Neurosurgeon's Journey into the Afterlife</td><td>death-and-dying</td><td>15851746</td><td>Eben Alexander</td><td>11</td><td>3.68</td></tr><tr><td>Proof of Heaven: A Neurosurgeon's Journey into the Afterlife</td><td>life-after-death</td><td>15851746</td><td>Eben Alexander</td><td>12</td><td>3.68</td></tr><tr><td>Proof of Heaven: A Neurosurgeon's Journey into the Afterlife</td><td>near-death-experiences</td><td>15851746</td><td>Eben Alexander</td><td>12</td><td>3.68</td></tr><tr><td>Proof of Heaven: A Neurosurgeon's Journey into the Afterlife</td><td>death</td><td>15851746</td><td>Eben Alexander</td><td>22</td><td>3.68</td></tr><tr><td>Proof of Heaven: A Neurosurgeon's Journey into the Afterlife</td><td>near-death-experience</td><td>15851746</td><td>Eben Alexander</td><td>46</td><td>3.68</td></tr><tr><td>My Grandmother Asked Me to Tell You She's Sorry</td><td>death</td><td>23604559</td><td>Fredrik Backman, Henning Koch</td><td>20</td><td>4.02</td></tr><tr><td>Hogfather (Discworld, #20; Death, #4)</td><td>death</td><td>34532</td><td>Terry Pratchett</td><td>45</td><td>4.22</td></tr><tr><td>Anybody Out There? (Walsh Family, #4)</td><td>death</td><td>165030</td><td>Marian Keyes</td><td>7</td><td>3.91</td></tr><tr><td>The Confession</td><td>death-penalty</td><td>7933437</td><td>John Grisham</td><td>60</td><td>3.81</td></tr><tr><td>Before I Die</td><td>death-and-dying</td><td>1314332</td><td>Jenny Downham</td><td>28</td><td>3.84</td></tr><tr><td>Before I Die</td><td>death</td><td>1314332</td><td>Jenny Downham</td><td>134</td><td>3.84</td></tr><tr><td>Soul Music (Discworld, #16; Death, #3)</td><td>death</td><td>34502</td><td>Terry Pratchett</td><td>56</td><td>4.02</td></tr><tr><td>Ordinary Grace</td><td>grief</td><td>15803059</td><td>William Kent Krueger</td><td>26</td><td>4.14</td></tr><tr><td>A Lesson Before Dying</td><td>death</td><td>5197</td><td>Ernest J. Gaines</td><td>23</td><td>3.93</td></tr><tr><td>H is for Hawk</td><td>grief</td><td>18803640</td><td>Helen Macdonald</td><td>93</td><td>3.74</td></tr><tr><td>Sister</td><td>grief</td><td>8196732</td><td>Rosamund Lupton</td><td>27</td><td>3.77</td></tr><tr><td>Thief of Time (Discworld, #26; Death, #5)</td><td>death</td><td>48002</td><td>Terry Pratchett</td><td>25</td><td>4.25</td></tr><tr><td>The End of Your Life Book Club</td><td>death</td><td>13414676</td><td>Will Schwalbe</td><td>47</td><td>3.81</td></tr><tr><td>The End of Your Life Book Club</td><td>death-and-dying</td><td>13414676</td><td>Will Schwalbe</td><td>64</td><td>3.81</td></tr><tr><td>A Grief Observed</td><td>death-and-dying</td><td>49221</td><td>C.S. Lewis</td><td>17</td><td>4.26</td></tr><tr><td>A Grief Observed</td><td>death</td><td>49221</td><td>C.S. Lewis</td><td>45</td><td>4.26</td></tr><tr><td>A Grief Observed</td><td>grief</td><td>49221</td><td>C.S. Lewis</td><td>149</td><td>4.26</td></tr><tr><td>Love Letters to the Dead</td><td>death</td><td>18140047</td><td>Ava Dellaira</td><td>115</td><td>3.82</td></tr><tr><td>I Was Here</td><td>death</td><td>18879761</td><td>Gayle Forman</td><td>85</td><td>3.78</td></tr><tr><td>Twenty Boy Summer</td><td>death</td><td>5231173</td><td>Sarah Ockler</td><td>65</td><td>3.89</td></tr><tr><td>You Shall Know Our Velocity!</td><td>death</td><td>4954</td><td>Dave Eggers</td><td>11</td><td>3.62</td></tr><tr><td>Elsewhere</td><td>death-and-dying</td><td>359410</td><td>Gabrielle Zevin</td><td>17</td><td>3.91</td></tr><tr><td>Elsewhere</td><td>life-after-death</td><td>359410</td><td>Gabrielle Zevin</td><td>21</td><td>3.91</td></tr><tr><td>Elsewhere</td><td>death</td><td>359410</td><td>Gabrielle Zevin</td><td>175</td><td>3.91</td></tr><tr><td>Counting by 7s</td><td>grief</td><td>15937108</td><td>Holly Goldberg Sloan</td><td>95</td><td>4.16</td></tr><tr><td>Counting by 7s</td><td>death</td><td>15937108</td><td>Holly Goldberg Sloan</td><td>99</td><td>4.16</td></tr><tr><td>Counting by 7s</td><td>death-and-dying</td><td>15937108</td><td>Holly Goldberg Sloan</td><td>17</td><td>4.16</td></tr><tr><td>Fly Away (Firefly Lane, #2)</td><td>grief</td><td>16044981</td><td>Kristin Hannah</td><td>9</td><td>3.94</td></tr><tr><td>One True Thing</td><td>death-and-dying</td><td>176839</td><td>Anna Quindlen</td><td>5</td><td>4.01</td></tr><tr><td>One True Thing</td><td>death</td><td>176839</td><td>Anna Quindlen</td><td>8</td><td>4.01</td></tr><tr><td>The Shock of the Fall</td><td>death</td><td>16120760</td><td>Nathan Filer</td><td>16</td><td>3.79</td></tr><tr><td>Kitchen</td><td>death</td><td>50144</td><td>Banana Yoshimoto, Megan Backus</td><td>16</td><td>3.83</td></tr><tr><td>Every Last One</td><td>grief</td><td>7468160</td><td>Anna Quindlen</td><td>33</td><td>3.83</td></tr><tr><td>Glory in Death (In Death, #2)</td><td>in-death</td><td>268601</td><td>J.D. Robb</td><td>228</td><td>4.25</td></tr><tr><td>Glory in Death (In Death, #2)</td><td>in-death-series</td><td>268601</td><td>J.D. Robb</td><td>234</td><td>4.25</td></tr><tr><td>Love That Dog (Jack, #1)</td><td>grief</td><td>53498</td><td>Sharon Creech</td><td>14</td><td>4.01</td></tr><tr><td>Willow</td><td>death</td><td>4570768</td><td>Julia Hoban</td><td>46</td><td>3.94</td></tr><tr><td>Spook: Science Tackles the Afterlife</td><td>death</td><td>14990</td><td>Mary Roach</td><td>78</td><td>3.57</td></tr><tr><td>Love Is a Mix Tape</td><td>grief</td><td>46190</td><td>Rob Sheffield</td><td>22</td><td>3.83</td></tr><tr><td>Love Is a Mix Tape</td><td>death</td><td>46190</td><td>Rob Sheffield</td><td>23</td><td>3.83</td></tr><tr><td>So B. It</td><td>death</td><td>237320</td><td>Sarah Weeks</td><td>9</td><td>4.1</td></tr><tr><td>Good Grief</td><td>grief</td><td>251519</td><td>Lolly Winston</td><td>27</td><td>3.72</td></tr><tr><td>Love Anthony</td><td>grief</td><td>13547381</td><td>Lisa Genova</td><td>15</td><td>3.94</td></tr><tr><td>Tinkers</td><td>death-and-dying</td><td>4957350</td><td>Paul Harding</td><td>34</td><td>3.37</td></tr><tr><td>When I'm Gone</td><td>death</td><td>27401883</td><td>Emily Bleeker, Dan John Miller</td><td>5</td><td>3.94</td></tr><tr><td>The Magician's Assistant</td><td>grief</td><td>16055</td><td>Ann Patchett</td><td>11</td><td>3.64</td></tr><tr><td>The Magician's Assistant</td><td>death</td><td>16055</td><td>Ann Patchett</td><td>11</td><td>3.64</td></tr><tr><td>Immortal in Death (In Death, #3)</td><td>in-death-series</td><td>238126</td><td>J.D. Robb</td><td>240</td><td>4.26</td></tr><tr><td>Immortal in Death (In Death, #3)</td><td>series-in-death</td><td>238126</td><td>J.D. Robb</td><td>20</td><td>4.26</td></tr><tr><td>Belong to Me</td><td>death</td><td>2113410</td><td>Marisa de los Santos</td><td>9</td><td>3.84</td></tr><tr><td>Can't We Talk about Something More Pleasant?</td><td>decline-and-death-of-parents</td><td>18594409</td><td>Roz Chast</td><td>11</td><td>4.1</td></tr><tr><td>Can't We Talk about Something More Pleasant?</td><td>grief</td><td>18594409</td><td>Roz Chast</td><td>14</td><td>4.1</td></tr><tr><td>Can't We Talk about Something More Pleasant?</td><td>death-and-dying</td><td>18594409</td><td>Roz Chast</td><td>25</td><td>4.1</td></tr><tr><td>Can't We Talk about Something More Pleasant?</td><td>death</td><td>18594409</td><td>Roz Chast</td><td>61</td><td>4.1</td></tr><tr><td>Rapture in Death (In Death, #4)</td><td>death</td><td>201175</td><td>J.D. Robb, Susan Ericksen</td><td>18</td><td>4.26</td></tr><tr><td>Rapture in Death (In Death, #4)</td><td>in-death</td><td>201175</td><td>J.D. Robb, Susan Ericksen</td><td>216</td><td>4.26</td></tr><tr><td>Rapture in Death (In Death, #4)</td><td>in-death-series</td><td>201175</td><td>J.D. Robb, Susan Ericksen</td><td>231</td><td>4.26</td></tr><tr><td>Smoke Gets in Your Eyes: And Other Lessons from the Crematory</td><td>death-and-dying</td><td>20663702</td><td>Caitlin Doughty</td><td>36</td><td>4.04</td></tr><tr><td>Smoke Gets in Your Eyes: And Other Lessons from the Crematory</td><td>death</td><td>20663702</td><td>Caitlin Doughty</td><td>184</td><td>4.04</td></tr><tr><td>The Ice Twins</td><td>death</td><td>23553419</td><td>S.K. Tremayne</td><td>15</td><td>3.68</td></tr><tr><td>Mockingbird</td><td>grief</td><td>6596547</td><td>Kathryn Erskine</td><td>51</td><td>4.18</td></tr><tr><td>Mockingbird</td><td>death</td><td>6596547</td><td>Kathryn Erskine</td><td>84</td><td>4.18</td></tr><tr><td>Promises in Death (In Death, #28)</td><td>in-death-series</td><td>3492020</td><td>J.D. Robb</td><td>164</td><td>4.4</td></tr><tr><td>Promises in Death (In Death, #28)</td><td>in-death</td><td>3492020</td><td>J.D. Robb</td><td>170</td><td>4.4</td></tr><tr><td>Promises in Death (In Death, #28)</td><td>series-in-death</td><td>3492020</td><td>J.D. Robb</td><td>9</td><td>4.4</td></tr><tr><td>Sisterhood Everlasting (Sisterhood, #5)</td><td>grief</td><td>9461872</td><td>Ann Brashares</td><td>13</td><td>3.9</td></tr><tr><td>Sisterhood Everlasting (Sisterhood, #5)</td><td>death</td><td>9461872</td><td>Ann Brashares</td><td>18</td><td>3.9</td></tr><tr><td>Going Bovine</td><td>death</td><td>6512140</td><td>Libba Bray</td><td>78</td><td>3.65</td></tr><tr><td>Ceremony in Death (In Death, #5)</td><td>in-death</td><td>74036</td><td>J.D. Robb</td><td>208</td><td>4.26</td></tr><tr><td>Ceremony in Death (In Death, #5)</td><td>in-death-series</td><td>74036</td><td>J.D. Robb</td><td>217</td><td>4.26</td></tr><tr><td>Did You Ever Have a Family</td><td>grief</td><td>24452249</td><td>Bill Clegg</td><td>24</td><td>3.81</td></tr><tr><td>On Death and Dying</td><td>death</td><td>781844</td><td>Elisabeth Kübler-Ross</td><td>68</td><td>4.15</td></tr><tr><td>On Death and Dying</td><td>death-dying-grief</td><td>781844</td><td>Elisabeth Kübler-Ross</td><td>2</td><td>4.15</td></tr><tr><td>On Death and Dying</td><td>grief-and-loss</td><td>781844</td><td>Elisabeth Kübler-Ross</td><td>3</td><td>4.15</td></tr><tr><td>On Death and Dying</td><td>death-grief</td><td>781844</td><td>Elisabeth Kübler-Ross</td><td>4</td><td>4.15</td></tr><tr><td>On Death and Dying</td><td>death-dying</td><td>781844</td><td>Elisabeth Kübler-Ross</td><td>9</td><td>4.15</td></tr><tr><td>On Death and Dying</td><td>death-and-dying</td><td>781844</td><td>Elisabeth Kübler-Ross</td><td>24</td><td>4.15</td></tr><tr><td>Portrait in Death (In Death, #16)</td><td>in-death-series</td><td>268604</td><td>J.D. Robb</td><td>178</td><td>4.37</td></tr><tr><td>Portrait in Death (In Death, #16)</td><td>in-death</td><td>268604</td><td>J.D. Robb</td><td>189</td><td>4.37</td></tr><tr><td>Please Ignore Vera Dietz</td><td>death</td><td>6665671</td><td>A.S. King</td><td>93</td><td>3.91</td></tr><tr><td>Dragon Wing (The Death Gate Cycle, #1)</td><td>deathgate-cycle</td><td>28481</td><td>Margaret Weis, Tracy Hickman</td><td>6</td><td>3.93</td></tr><tr><td>Dragon Wing (The Death Gate Cycle, #1)</td><td>death</td><td>28481</td><td>Margaret Weis, Tracy Hickman</td><td>6</td><td>3.93</td></tr><tr><td>Dragon Wing (The Death Gate Cycle, #1)</td><td>deathgate</td><td>28481</td><td>Margaret Weis, Tracy Hickman</td><td>7</td><td>3.93</td></tr><tr><td>Dragon Wing (The Death Gate Cycle, #1)</td><td>death-gate</td><td>28481</td><td>Margaret Weis, Tracy Hickman</td><td>12</td><td>3.93</td></tr><tr><td>Dragon Wing (The Death Gate Cycle, #1)</td><td>the-death-gate-cycle</td><td>28481</td><td>Margaret Weis, Tracy Hickman</td><td>18</td><td>3.93</td></tr><tr><td>Vengeance in Death (In Death, #6)</td><td>series-in-death</td><td>132778</td><td>J.D. Robb</td><td>22</td><td>4.34</td></tr><tr><td>Vengeance in Death (In Death, #6)</td><td>in-death</td><td>132778</td><td>J.D. Robb</td><td>201</td><td>4.34</td></tr><tr><td>The Tibetan Book of Living and Dying</td><td>grief</td><td>206731</td><td>Sogyal Rinpoche, Andrew Harvey</td><td>6</td><td>4.22</td></tr><tr><td>The Tibetan Book of Living and Dying</td><td>death-dying</td><td>206731</td><td>Sogyal Rinpoche, Andrew Harvey</td><td>9</td><td>4.22</td></tr><tr><td>The Tibetan Book of Living and Dying</td><td>death</td><td>206731</td><td>Sogyal Rinpoche, Andrew Harvey</td><td>23</td><td>4.22</td></tr><tr><td>The Crossover</td><td>death</td><td>18263725</td><td>Kwame Alexander</td><td>50</td><td>4.22</td></tr><tr><td>Holiday in Death (In Death, #7)</td><td>in-death-series</td><td>238125</td><td>J.D. Robb</td><td>205</td><td>4.31</td></tr><tr><td>Holiday in Death (In Death, #7)</td><td>in-death</td><td>238125</td><td>J.D. Robb</td><td>206</td><td>4.31</td></tr><tr><td>Bleach, Volume 15</td><td>death</td><td>2879</td><td>Tite Kubo</td><td>3</td><td>4.41</td></tr><tr><td>Drums, Girls &amp; Dangerous Pie (Drums, Girls &amp; Dangerous Pie, #1)</td><td>death</td><td>318404</td><td>Jordan Sonnenblick</td><td>11</td><td>4.25</td></tr><tr><td>The Sea</td><td>grief</td><td>3656</td><td>John Banville</td><td>18</td><td>3.49</td></tr><tr><td>Revolution</td><td>death</td><td>7558747</td><td>Jennifer Donnelly</td><td>39</td><td>4.02</td></tr><tr><td>Conspiracy in Death (In Death, #8)</td><td>in-death-series</td><td>172691</td><td>J.D. Robb</td><td>80</td><td>4.35</td></tr><tr><td>Conspiracy in Death (In Death, #8)</td><td>in-death</td><td>172691</td><td>J.D. Robb</td><td>206</td><td>4.35</td></tr><tr><td>Mortality</td><td>death</td><td>13529055</td><td>Christopher Hitchens</td><td>14</td><td>4.12</td></tr><tr><td>A Mango-Shaped Space</td><td>death</td><td>171020</td><td>Wendy Mass</td><td>15</td><td>4.22</td></tr><tr><td>The Impossible Knife of Memory</td><td>death</td><td>18079527</td><td>Laurie Halse Anderson</td><td>13</td><td>3.93</td></tr><tr><td>The Wednesday Letters</td><td>death</td><td>1316382</td><td>Jason F. Wright</td><td>6</td><td>3.61</td></tr><tr><td>My Best Friend's Girl</td><td>death</td><td>1617875</td><td>Dorothy Koomson</td><td>4</td><td>4.02</td></tr><tr><td>One Summer</td><td>death</td><td>9509289</td><td>David Baldacci</td><td>7</td><td>3.72</td></tr><tr><td>Hold Still</td><td>death</td><td>6373717</td><td>Nina LaCour</td><td>58</td><td>3.99</td></tr><tr><td>New York to Dallas (In Death, #33)</td><td>in-death-series</td><td>10402992</td><td>J.D. Robb, Susan Ericksen</td><td>101</td><td>4.42</td></tr><tr><td>New York to Dallas (In Death, #33)</td><td>in-death</td><td>10402992</td><td>J.D. Robb, Susan Ericksen</td><td>104</td><td>4.42</td></tr><tr><td>Blue Nights</td><td>grief</td><td>10252302</td><td>Joan Didion</td><td>45</td><td>3.75</td></tr><tr><td>Blue Nights</td><td>daughter-s-death</td><td>10252302</td><td>Joan Didion</td><td>6</td><td>3.75</td></tr><tr><td>Blue Nights</td><td>death-dying</td><td>10252302</td><td>Joan Didion</td><td>9</td><td>3.75</td></tr><tr><td>Blue Nights</td><td>death-and-dying</td><td>10252302</td><td>Joan Didion</td><td>13</td><td>3.75</td></tr><tr><td>Serpent Mage (The Death Gate Cycle, #4)</td><td>death-gate</td><td>28507</td><td>Margaret Weis, Tracy Hickman</td><td>12</td><td>4.06</td></tr><tr><td>Serpent Mage (The Death Gate Cycle, #4)</td><td>the-death-gate-cycle</td><td>28507</td><td>Margaret Weis, Tracy Hickman</td><td>18</td><td>4.06</td></tr><tr><td>Serpent Mage (The Death Gate Cycle, #4)</td><td>death-gate-cycle</td><td>28507</td><td>Margaret Weis, Tracy Hickman</td><td>28</td><td>4.06</td></tr><tr><td>Serpent Mage (The Death Gate Cycle, #4)</td><td>deathgate</td><td>28507</td><td>Margaret Weis, Tracy Hickman</td><td>7</td><td>4.06</td></tr><tr><td>Serpent Mage (The Death Gate Cycle, #4)</td><td>deathgate-cycle</td><td>28507</td><td>Margaret Weis, Tracy Hickman</td><td>7</td><td>4.06</td></tr><tr><td>The Descendants</td><td>death</td><td>968403</td><td>Kaui Hart Hemmings</td><td>12</td><td>3.82</td></tr><tr><td>The Descendants</td><td>grief</td><td>968403</td><td>Kaui Hart Hemmings</td><td>5</td><td>3.82</td></tr><tr><td>Memory in Death (In Death, #22)</td><td>series-in-death</td><td>238141</td><td>J.D. Robb</td><td>15</td><td>4.31</td></tr><tr><td>Memory in Death (In Death, #22)</td><td>in-death-series</td><td>238141</td><td>J.D. Robb</td><td>164</td><td>4.31</td></tr><tr><td>Memory in Death (In Death, #22)</td><td>in-death</td><td>238141</td><td>J.D. Robb</td><td>176</td><td>4.31</td></tr><tr><td>Death Note, Vol. 2: Confluence (Death Note, #2)</td><td>death</td><td>13619</td><td>Tsugumi Ohba, Takeshi Obata</td><td>20</td><td>4.42</td></tr><tr><td>Death Note, Vol. 2: Confluence (Death Note, #2)</td><td>death-note</td><td>13619</td><td>Tsugumi Ohba, Takeshi Obata</td><td>136</td><td>4.42</td></tr><tr><td>Into the Labyrinth (The Death Gate Cycle, #6)</td><td>death-gate</td><td>28484</td><td>Margaret Weis, Tracy Hickman</td><td>13</td><td>4.09</td></tr><tr><td>Into the Labyrinth (The Death Gate Cycle, #6)</td><td>the-death-gate-cycle</td><td>28484</td><td>Margaret Weis, Tracy Hickman</td><td>13</td><td>4.09</td></tr><tr><td>Into the Labyrinth (The Death Gate Cycle, #6)</td><td>death-gate-cycle</td><td>28484</td><td>Margaret Weis, Tracy Hickman</td><td>32</td><td>4.09</td></tr><tr><td>Into the Labyrinth (The Death Gate Cycle, #6)</td><td>deathgate</td><td>28484</td><td>Margaret Weis, Tracy Hickman</td><td>5</td><td>4.09</td></tr><tr><td>Where Things Come Back</td><td>grief</td><td>8563789</td><td>John Corey Whaley</td><td>18</td><td>3.81</td></tr><tr><td>Survivor In Death (In Death, #20)</td><td>in-death</td><td>109367</td><td>J.D. Robb</td><td>120</td><td>4.38</td></tr><tr><td>Survivor In Death (In Death, #20)</td><td>in-death-series</td><td>109367</td><td>J.D. Robb</td><td>170</td><td>4.38</td></tr><tr><td>The Gathering</td><td>death</td><td>998133</td><td>Anne Enright</td><td>16</td><td>3.04</td></tr><tr><td>Ordinary People</td><td>death</td><td>160251</td><td>Judith Guest</td><td>10</td><td>3.9</td></tr><tr><td>Judgment in Death (In Death, #11)</td><td>in-death-series</td><td>89160</td><td>J.D. Robb, Nora Roberts</td><td>188</td><td>4.33</td></tr><tr><td>Judgment in Death (In Death, #11)</td><td>in-death</td><td>89160</td><td>J.D. Robb, Nora Roberts</td><td>193</td><td>4.33</td></tr><tr><td>Innocent in Death (In Death, #24)</td><td>in-death-series</td><td>74033</td><td>J.D. Robb</td><td>164</td><td>4.36</td></tr><tr><td>Innocent in Death (In Death, #24)</td><td>in-death</td><td>74033</td><td>J.D. Robb</td><td>179</td><td>4.36</td></tr><tr><td>The Dead in Their Vaulted Arches (Flavia de Luce, #6)</td><td>grief</td><td>17834904</td><td>Alan Bradley</td><td>11</td><td>4.16</td></tr><tr><td>The Dogs of Babel</td><td>death</td><td>89691</td><td>Carolyn  Parkhurst</td><td>18</td><td>3.56</td></tr><tr><td>The Dogs of Babel</td><td>grief</td><td>89691</td><td>Carolyn  Parkhurst</td><td>25</td><td>3.56</td></tr><tr><td>Kira-Kira</td><td>death</td><td>89731</td><td>Cynthia Kadohata</td><td>50</td><td>3.9</td></tr><tr><td>The Seventh Gate (The Death Gate Cycle, #7)</td><td>death-gate</td><td>28483</td><td>Margaret Weis, Tracy Hickman</td><td>12</td><td>4.09</td></tr><tr><td>The Seventh Gate (The Death Gate Cycle, #7)</td><td>the-death-gate-cycle</td><td>28483</td><td>Margaret Weis, Tracy Hickman</td><td>18</td><td>4.09</td></tr><tr><td>The Seventh Gate (The Death Gate Cycle, #7)</td><td>death-gate-cycle</td><td>28483</td><td>Margaret Weis, Tracy Hickman</td><td>28</td><td>4.09</td></tr><tr><td>The Seventh Gate (The Death Gate Cycle, #7)</td><td>deathgate</td><td>28483</td><td>Margaret Weis, Tracy Hickman</td><td>5</td><td>4.09</td></tr><tr><td>The Seventh Gate (The Death Gate Cycle, #7)</td><td>death</td><td>28483</td><td>Margaret Weis, Tracy Hickman</td><td>6</td><td>4.09</td></tr><tr><td>Witness in Death (In Death, #10)</td><td>in-death-series</td><td>213975</td><td>J.D. Robb, Susan Ericksen</td><td>188</td><td>4.3</td></tr><tr><td>Witness in Death (In Death, #10)</td><td>in-death</td><td>213975</td><td>J.D. Robb, Susan Ericksen</td><td>194</td><td>4.3</td></tr><tr><td>I'd Know You Anywhere</td><td>death-penalty</td><td>7636774</td><td>Laura Lippman</td><td>8</td><td>3.47</td></tr><tr><td>Don't Die, My Love</td><td>death</td><td>127451</td><td>Lurlene McDaniel</td><td>5</td><td>4.12</td></tr><tr><td>Loyalty in Death (In Death, #9)</td><td>in-death-series</td><td>268598</td><td>J.D. Robb, Susan Ericksen</td><td>193</td><td>4.3</td></tr><tr><td>Loyalty in Death (In Death, #9)</td><td>in-death</td><td>268598</td><td>J.D. Robb, Susan Ericksen</td><td>204</td><td>4.3</td></tr><tr><td>Loyalty in Death (In Death, #9)</td><td>series-in-death</td><td>268598</td><td>J.D. Robb, Susan Ericksen</td><td>11</td><td>4.3</td></tr><tr><td>The Good Luck of Right Now</td><td>grief</td><td>18054175</td><td>Matthew Quick</td><td>17</td><td>3.61</td></tr><tr><td>Treachery in Death (In Death, #32)</td><td>series-in-death</td><td>8315872</td><td>J.D. Robb, Nora Roberts</td><td>17</td><td>4.43</td></tr><tr><td>Treachery in Death (In Death, #32)</td><td>in-death</td><td>8315872</td><td>J.D. Robb, Nora Roberts</td><td>154</td><td>4.43</td></tr><tr><td>Treachery in Death (In Death, #32)</td><td>in-death-series</td><td>8315872</td><td>J.D. Robb, Nora Roberts</td><td>155</td><td>4.43</td></tr><tr><td>All My Puny Sorrows</td><td>death</td><td>18339630</td><td>Miriam Toews</td><td>14</td><td>3.93</td></tr><tr><td>Betrayal in Death (In Death, #12)</td><td>death</td><td>762064</td><td>J.D. Robb, Nora Roberts</td><td>10</td><td>4.31</td></tr><tr><td>Betrayal in Death (In Death, #12)</td><td>in-death-series</td><td>762064</td><td>J.D. Robb, Nora Roberts</td><td>185</td><td>4.31</td></tr><tr><td>Betrayal in Death (In Death, #12)</td><td>in-death</td><td>762064</td><td>J.D. Robb, Nora Roberts</td><td>188</td><td>4.31</td></tr><tr><td>Lily and the Octopus</td><td>grief</td><td>27276262</td><td>Steven  Rowley</td><td>15</td><td>3.74</td></tr><tr><td>Death Note, Vol. 3: Hard Run (Death Note, #3)</td><td>deathnote</td><td>13618</td><td>Tsugumi Ohba, Takeshi Obata</td><td>17</td><td>4.42</td></tr><tr><td>Death Note, Vol. 3: Hard Run (Death Note, #3)</td><td>death-note</td><td>13618</td><td>Tsugumi Ohba, Takeshi Obata</td><td>127</td><td>4.42</td></tr><tr><td>Saving June</td><td>death</td><td>10947600</td><td>Hannah Harrington</td><td>61</td><td>3.97</td></tr><tr><td>Wave</td><td>death</td><td>15771862</td><td>Sonali Deraniyagala</td><td>16</td><td>3.7</td></tr><tr><td>Wave</td><td>grief</td><td>15771862</td><td>Sonali Deraniyagala</td><td>42</td><td>3.7</td></tr><tr><td>Fire Sea (The Death Gate Cycle, #3)</td><td>death-gate</td><td>1307</td><td>Margaret Weis, Tracy Hickman</td><td>12</td><td>4.05</td></tr><tr><td>Fire Sea (The Death Gate Cycle, #3)</td><td>the-death-gate-cycle</td><td>1307</td><td>Margaret Weis, Tracy Hickman</td><td>16</td><td>4.05</td></tr><tr><td>Fire Sea (The Death Gate Cycle, #3)</td><td>death-gate-cycle</td><td>1307</td><td>Margaret Weis, Tracy Hickman</td><td>18</td><td>4.05</td></tr><tr><td>Fire Sea (The Death Gate Cycle, #3)</td><td>death</td><td>1307</td><td>Margaret Weis, Tracy Hickman</td><td>4</td><td>4.05</td></tr><tr><td>Fire Sea (The Death Gate Cycle, #3)</td><td>deathgate</td><td>1307</td><td>Margaret Weis, Tracy Hickman</td><td>5</td><td>4.05</td></tr><tr><td>Indulgence in Death (In Death, #31)</td><td>in-death-series</td><td>7685763</td><td>J.D. Robb</td><td>152</td><td>4.32</td></tr><tr><td>Indulgence in Death (In Death, #31)</td><td>in-death</td><td>7685763</td><td>J.D. Robb</td><td>155</td><td>4.32</td></tr><tr><td>Indulgence in Death (In Death, #31)</td><td>series-in-death</td><td>7685763</td><td>J.D. Robb</td><td>11</td><td>4.32</td></tr><tr><td>The Hand of Chaos (The Death Gate Cycle, #5)</td><td>death-gate</td><td>28482</td><td>Margaret Weis, Tracy Hickman</td><td>13</td><td>4.05</td></tr><tr><td>The Hand of Chaos (The Death Gate Cycle, #5)</td><td>the-death-gate-cycle</td><td>28482</td><td>Margaret Weis, Tracy Hickman</td><td>14</td><td>4.05</td></tr><tr><td>The Hand of Chaos (The Death Gate Cycle, #5)</td><td>death-gate-cycle</td><td>28482</td><td>Margaret Weis, Tracy Hickman</td><td>31</td><td>4.05</td></tr><tr><td>The Hand of Chaos (The Death Gate Cycle, #5)</td><td>death</td><td>28482</td><td>Margaret Weis, Tracy Hickman</td><td>4</td><td>4.05</td></tr><tr><td>The Hand of Chaos (The Death Gate Cycle, #5)</td><td>deathgate</td><td>28482</td><td>Margaret Weis, Tracy Hickman</td><td>6</td><td>4.05</td></tr><tr><td>A Mother's Reckoning: Living in the Aftermath of Tragedy</td><td>death</td><td>25937671</td><td>Sue Klebold</td><td>18</td><td>4.13</td></tr><tr><td>When Bad Things Happen to Good People</td><td>death-and-dying</td><td>46676</td><td>Harold S. Kushner</td><td>4</td><td>4.02</td></tr><tr><td>When Bad Things Happen to Good People</td><td>grief</td><td>46676</td><td>Harold S. Kushner</td><td>17</td><td>4.02</td></tr><tr><td>When Bad Things Happen to Good People</td><td>grief-books</td><td>46676</td><td>Harold S. Kushner</td><td>3</td><td>4.02</td></tr><tr><td>Purity in Death (In Death, #15)</td><td>in-death-series</td><td>238137</td><td>J.D. Robb</td><td>168</td><td>4.33</td></tr><tr><td>Purity in Death (In Death, #15)</td><td>in-death</td><td>238137</td><td>J.D. Robb</td><td>175</td><td>4.33</td></tr><tr><td>Can't Wait to Get to Heaven</td><td>death-and-dying</td><td>199530</td><td>Fannie Flagg</td><td>9</td><td>3.89</td></tr><tr><td>Seduction in Death (In Death, #13)</td><td>in-death-series</td><td>238127</td><td>J.D. Robb</td><td>176</td><td>4.3</td></tr><tr><td>Seduction in Death (In Death, #13)</td><td>in-death</td><td>238127</td><td>J.D. Robb</td><td>182</td><td>4.3</td></tr><tr><td>Born in Death (In Death, #23)</td><td>series-in-death</td><td>102857</td><td>J.D. Robb, Susan Ericksen</td><td>13</td><td>4.33</td></tr><tr><td>Born in Death (In Death, #23)</td><td>in-death-series</td><td>102857</td><td>J.D. Robb, Susan Ericksen</td><td>161</td><td>4.33</td></tr><tr><td>Born in Death (In Death, #23)</td><td>in-death</td><td>102857</td><td>J.D. Robb, Susan Ericksen</td><td>173</td><td>4.33</td></tr><tr><td>Everyman</td><td>death</td><td>50695</td><td>Philip Roth</td><td>11</td><td>3.54</td></tr><tr><td>Sadako and the Thousand Paper Cranes</td><td>death</td><td>181077</td><td>Eleanor Coerr, Ronald Himler</td><td>14</td><td>4.09</td></tr><tr><td>Death Note, Vol. 4: Love (Death Note, #4)</td><td>death</td><td>13616</td><td>Tsugumi Ohba, Takeshi Obata</td><td>13</td><td>4.38</td></tr><tr><td>Death Note, Vol. 4: Love (Death Note, #4)</td><td>deathnote</td><td>13616</td><td>Tsugumi Ohba, Takeshi Obata</td><td>14</td><td>4.38</td></tr><tr><td>The Beginner's Goodbye</td><td>death</td><td>12482658</td><td>Anne Tyler</td><td>19</td><td>3.58</td></tr><tr><td>The Beginner's Goodbye</td><td>grief</td><td>12482658</td><td>Anne Tyler</td><td>42</td><td>3.58</td></tr><tr><td>What Remains: A Memoir of Fate, Friendship, and Love</td><td>death-and-dying</td><td>851678</td><td>Carole Radziwill</td><td>5</td><td>4.16</td></tr><tr><td>What Remains: A Memoir of Fate, Friendship, and Love</td><td>death</td><td>851678</td><td>Carole Radziwill</td><td>5</td><td>4.16</td></tr><tr><td>The Curious Charms of Arthur Pepper</td><td>grief</td><td>26722820</td><td>Phaedra Patrick</td><td>15</td><td>3.91</td></tr><tr><td>Divided in Death (In Death, #18)</td><td>in-death-series</td><td>129523</td><td>J.D. Robb</td><td>174</td><td>4.32</td></tr><tr><td>Divided in Death (In Death, #18)</td><td>in-death</td><td>129523</td><td>J.D. Robb</td><td>178</td><td>4.32</td></tr><tr><td>Reunion in Death (In Death, #14)</td><td>in-death-series</td><td>238140</td><td>J.D. Robb</td><td>176</td><td>4.33</td></tr><tr><td>Reunion in Death (In Death, #14)</td><td>in-death</td><td>238140</td><td>J.D. Robb</td><td>183</td><td>4.33</td></tr><tr><td>Visions in Death (In Death, #19)</td><td>in-death-series</td><td>238142</td><td>J.D. Robb</td><td>174</td><td>4.33</td></tr><tr><td>Visions in Death (In Death, #19)</td><td>in-death</td><td>238142</td><td>J.D. Robb</td><td>177</td><td>4.33</td></tr><tr><td>Imitation in Death (In Death, #17)</td><td>in-death-series</td><td>238139</td><td>J.D. Robb</td><td>170</td><td>4.34</td></tr><tr><td>Imitation in Death (In Death, #17)</td><td>in-death</td><td>238139</td><td>J.D. Robb</td><td>179</td><td>4.34</td></tr><tr><td>Another Brooklyn</td><td>grief</td><td>27213163</td><td>Jacqueline Woodson</td><td>13</td><td>3.87</td></tr><tr><td>How to Save a Life</td><td>grief</td><td>10757806</td><td>Sara Zarr</td><td>39</td><td>3.89</td></tr><tr><td>Brotherhood in Death (In Death, #42)</td><td>in-death</td><td>25337081</td><td>J.D. Robb</td><td>66</td><td>4.35</td></tr><tr><td>Brotherhood in Death (In Death, #42)</td><td>in-death-series</td><td>25337081</td><td>J.D. Robb</td><td>73</td><td>4.35</td></tr><tr><td>Brotherhood in Death (In Death, #42)</td><td>j-d-robb-in-death-series</td><td>25337081</td><td>J.D. Robb</td><td>6</td><td>4.35</td></tr><tr><td>Brotherhood in Death (In Death, #42)</td><td>death</td><td>25337081</td><td>J.D. Robb</td><td>7</td><td>4.35</td></tr><tr><td>A Severe Mercy: A Story of Faith, Tragedy and Triumph</td><td>grief</td><td>56594</td><td>Sheldon Vanauken, C.S. Lewis</td><td>12</td><td>4.32</td></tr><tr><td>The Tiger Rising</td><td>death</td><td>37187</td><td>Kate DiCamillo</td><td>21</td><td>3.78</td></tr><tr><td>Death Note, Vol. 8: Target (Death Note, #8)</td><td>death</td><td>13614</td><td>Tsugumi Ohba, Takeshi Obata</td><td>10</td><td>4.27</td></tr><tr><td>Death Note, Vol. 8: Target (Death Note, #8)</td><td>death-note</td><td>13614</td><td>Tsugumi Ohba, Takeshi Obata</td><td>106</td><td>4.27</td></tr><tr><td>The Love Song of Miss Queenie Hennessy (Harold Fry, #2)</td><td>death</td><td>20890479</td><td>Rachel Joyce</td><td>13</td><td>4.04</td></tr><tr><td>Creation in Death (In Death, #25)</td><td>series-in-death</td><td>1566705</td><td>J.D. Robb</td><td>15</td><td>4.34</td></tr><tr><td>Creation in Death (In Death, #25)</td><td>in-death</td><td>1566705</td><td>J.D. Robb</td><td>161</td><td>4.34</td></tr><tr><td>Creation in Death (In Death, #25)</td><td>in-death-series</td><td>1566705</td><td>J.D. Robb</td><td>162</td><td>4.34</td></tr><tr><td>Creation in Death (In Death, #25)</td><td>j-d-robb-in-death-series</td><td>1566705</td><td>J.D. Robb</td><td>8</td><td>4.34</td></tr><tr><td>Delusion in Death (In Death, #35)</td><td>j-d-robb-in-death-series</td><td>13252406</td><td>J.D. Robb</td><td>7</td><td>4.31</td></tr><tr><td>Delusion in Death (In Death, #35)</td><td>series-in-death</td><td>13252406</td><td>J.D. Robb</td><td>14</td><td>4.31</td></tr><tr><td>Delusion in Death (In Death, #35)</td><td>in-death-series</td><td>13252406</td><td>J.D. Robb</td><td>128</td><td>4.31</td></tr><tr><td>Death Note, Vol. 5: Whiteout (Death Note, #5)</td><td>death-note</td><td>13617</td><td>Tsugumi Ohba, Takeshi Obata</td><td>113</td><td>4.35</td></tr><tr><td>Death Note, Vol. 5: Whiteout (Death Note, #5)</td><td>death</td><td>13617</td><td>Tsugumi Ohba, Takeshi Obata</td><td>11</td><td>4.35</td></tr><tr><td>Elven Star (The Death Gate Cycle, #2)</td><td>death-gate-cycle</td><td>28485</td><td>Margaret Weis, Tracy Hickman</td><td>35</td><td>3.98</td></tr><tr><td>Elven Star (The Death Gate Cycle, #2)</td><td>deathgate</td><td>28485</td><td>Margaret Weis, Tracy Hickman</td><td>5</td><td>3.98</td></tr><tr><td>Elven Star (The Death Gate Cycle, #2)</td><td>deathgate-cycle</td><td>28485</td><td>Margaret Weis, Tracy Hickman</td><td>6</td><td>3.98</td></tr><tr><td>Elven Star (The Death Gate Cycle, #2)</td><td>death</td><td>28485</td><td>Margaret Weis, Tracy Hickman</td><td>7</td><td>3.98</td></tr><tr><td>Elven Star (The Death Gate Cycle, #2)</td><td>death-gate</td><td>28485</td><td>Margaret Weis, Tracy Hickman</td><td>12</td><td>3.98</td></tr><tr><td>How to Talk to a Widower</td><td>grief</td><td>242157</td><td>Jonathan Tropper</td><td>12</td><td>3.97</td></tr><tr><td>Origin in Death (In Death, #21)</td><td>death</td><td>210243</td><td>J.D. Robb</td><td>10</td><td>4.34</td></tr><tr><td>Origin in Death (In Death, #21)</td><td>in-death</td><td>210243</td><td>J.D. Robb</td><td>111</td><td>4.34</td></tr><tr><td>Origin in Death (In Death, #21)</td><td>in-death-series</td><td>210243</td><td>J.D. Robb</td><td>170</td><td>4.34</td></tr><tr><td>Death Note, Vol. 7: Zero (Death Note, #7)</td><td>deathnote</td><td>13621</td><td>Tsugumi Ohba, Takeshi Obata</td><td>11</td><td>4.41</td></tr><tr><td>Death Note, Vol. 7: Zero (Death Note, #7)</td><td>death-note</td><td>13621</td><td>Tsugumi Ohba, Takeshi Obata</td><td>107</td><td>4.41</td></tr><tr><td>Calculated in Death (In Death, #36)</td><td>in-death</td><td>15806231</td><td>J.D. Robb</td><td>114</td><td>4.23</td></tr><tr><td>Calculated in Death (In Death, #36)</td><td>in-death-series</td><td>15806231</td><td>J.D. Robb</td><td>133</td><td>4.23</td></tr><tr><td>Calculated in Death (In Death, #36)</td><td>death</td><td>15806231</td><td>J.D. Robb</td><td>9</td><td>4.23</td></tr><tr><td>Celebrity in Death (In Death, #34)</td><td>in-death-series</td><td>13007638</td><td>J.D. Robb</td><td>138</td><td>4.28</td></tr><tr><td>Celebrity in Death (In Death, #34)</td><td>death</td><td>13007638</td><td>J.D. Robb</td><td>7</td><td>4.28</td></tr><tr><td>Celebrity in Death (In Death, #34)</td><td>j-d-robb-in-death-series</td><td>13007638</td><td>J.D. Robb</td><td>8</td><td>4.28</td></tr><tr><td>Celebrity in Death (In Death, #34)</td><td>series-in-death</td><td>13007638</td><td>J.D. Robb</td><td>16</td><td>4.28</td></tr><tr><td>Strangers in Death (In Death, #26)</td><td>death</td><td>1158706</td><td>J.D. Robb</td><td>12</td><td>4.29</td></tr><tr><td>Strangers in Death (In Death, #26)</td><td>in-death</td><td>1158706</td><td>J.D. Robb</td><td>167</td><td>4.29</td></tr><tr><td>Strangers in Death (In Death, #26)</td><td>in-death-series</td><td>1158706</td><td>J.D. Robb</td><td>168</td><td>4.29</td></tr><tr><td>LaRose</td><td>grief</td><td>26116430</td><td>Louise Erdrich</td><td>17</td><td>3.86</td></tr><tr><td>Thankless in Death (In Death, #37)</td><td>in-death</td><td>16299341</td><td>J.D. Robb</td><td>116</td><td>4.28</td></tr><tr><td>Thankless in Death (In Death, #37)</td><td>in-death-series</td><td>16299341</td><td>J.D. Robb</td><td>122</td><td>4.28</td></tr><tr><td>Thankless in Death (In Death, #37)</td><td>death</td><td>16299341</td><td>J.D. Robb</td><td>8</td><td>4.28</td></tr><tr><td>Afterwards</td><td>death</td><td>12598982</td><td>Rosamund Lupton</td><td>6</td><td>3.79</td></tr><tr><td>Concealed in Death (In Death, #38)</td><td>in-death</td><td>18079757</td><td>J.D. Robb</td><td>101</td><td>4.25</td></tr><tr><td>Concealed in Death (In Death, #38)</td><td>in-death-series</td><td>18079757</td><td>J.D. Robb</td><td>106</td><td>4.25</td></tr><tr><td>Concealed in Death (In Death, #38)</td><td>death</td><td>18079757</td><td>J.D. Robb</td><td>9</td><td>4.25</td></tr><tr><td>Benediction (Plainsong, #3)</td><td>death</td><td>15762186</td><td>Kent Haruf</td><td>12</td><td>3.97</td></tr><tr><td>Benediction (Plainsong, #3)</td><td>death-and-dying</td><td>15762186</td><td>Kent Haruf</td><td>10</td><td>3.97</td></tr><tr><td>My Life with the Walter Boys (My Life with the Walter Boys #1)</td><td>grief</td><td>13580846</td><td>Ali Novak, Fallzswimmer</td><td>10</td><td>3.93</td></tr><tr><td>The Ice Queen</td><td>death</td><td>177515</td><td>Alice Hoffman</td><td>12</td><td>3.51</td></tr><tr><td>Death Note, Vol. 6: Give-and-Take (Death Note, #6)</td><td>deathnote</td><td>13620</td><td>Tsugumi Ohba, Takeshi Obata</td><td>13</td><td>4.39</td></tr><tr><td>Death Note, Vol. 6: Give-and-Take (Death Note, #6)</td><td>death-note</td><td>13620</td><td>Tsugumi Ohba, Takeshi Obata</td><td>109</td><td>4.39</td></tr><tr><td>A Vintage Affair</td><td>grief</td><td>5556595</td><td>Isabel Wolff</td><td>8</td><td>3.8</td></tr><tr><td>Lost &amp; Found (Rocky Pelligrino, #1)</td><td>grief</td><td>697210</td><td>Jacqueline Sheehan</td><td>13</td><td>3.71</td></tr><tr><td>Tell Me Three Things</td><td>grief</td><td>25893582</td><td>Julie Buxbaum</td><td>30</td><td>4.1</td></tr><tr><td>My Brother Sam Is Dead</td><td>death</td><td>122756</td><td>James Lincoln Collier, Christopher Collier</td><td>10</td><td>3.39</td></tr><tr><td>Catalyst</td><td>death</td><td>170171</td><td>Laurie Halse Anderson</td><td>37</td><td>3.62</td></tr><tr><td>Lincoln in the Bardo</td><td>death</td><td>29906980</td><td>George Saunders</td><td>37</td><td>3.93</td></tr><tr><td>The Boy Who Came Back from Heaven: A Remarkable Account of Miracles, Angels, and Life beyond This World</td><td>near-death-experience</td><td>8100288</td><td>Kevin Malarkey, Alex Malarkey</td><td>2</td><td>3.89</td></tr><tr><td>The Boy Who Came Back from Heaven: A Remarkable Account of Miracles, Angels, and Life beyond This World</td><td>grief</td><td>8100288</td><td>Kevin Malarkey, Alex Malarkey</td><td>3</td><td>3.89</td></tr><tr><td>The Boy Who Came Back from Heaven: A Remarkable Account of Miracles, Angels, and Life beyond This World</td><td>death</td><td>8100288</td><td>Kevin Malarkey, Alex Malarkey</td><td>3</td><td>3.89</td></tr><tr><td>The Boy Who Came Back from Heaven: A Remarkable Account of Miracles, Angels, and Life beyond This World</td><td>near-death-experiences</td><td>8100288</td><td>Kevin Malarkey, Alex Malarkey</td><td>4</td><td>3.89</td></tr><tr><td>The Obituary Writer</td><td>grief</td><td>17573684</td><td>Ann Hood</td><td>10</td><td>3.7</td></tr><tr><td>Festive in Death (In Death, #39)</td><td>series-in-death</td><td>20821249</td><td>J.D. Robb</td><td>10</td><td>4.26</td></tr><tr><td>Festive in Death (In Death, #39)</td><td>in-death</td><td>20821249</td><td>J.D. Robb</td><td>87</td><td>4.26</td></tr><tr><td>Festive in Death (In Death, #39)</td><td>in-death-series</td><td>20821249</td><td>J.D. Robb</td><td>109</td><td>4.26</td></tr><tr><td>The Last Time We Say Goodbye</td><td>death</td><td>17285330</td><td>Cynthia Hand</td><td>51</td><td>4.11</td></tr><tr><td>Obsession in Death (In Death, #40)</td><td>in-death</td><td>22571696</td><td>J.D. Robb</td><td>73</td><td>4.33</td></tr><tr><td>Obsession in Death (In Death, #40)</td><td>in-death-series</td><td>22571696</td><td>J.D. Robb</td><td>89</td><td>4.33</td></tr><tr><td>Obsession in Death (In Death, #40)</td><td>j-d-robb-in-death-series</td><td>22571696</td><td>J.D. Robb</td><td>7</td><td>4.33</td></tr><tr><td>The Hate U Give</td><td>death</td><td>32075671</td><td>Angie Thomas</td><td>58</td><td>4.62</td></tr><tr><td>Fantasy in Death (In Death, #30)</td><td>series-in-death</td><td>6542645</td><td>J.D. Robb</td><td>13</td><td>4.25</td></tr><tr><td>Fantasy in Death (In Death, #30)</td><td>in-death</td><td>6542645</td><td>J.D. Robb</td><td>159</td><td>4.25</td></tr><tr><td>Fantasy in Death (In Death, #30)</td><td>in-death-series</td><td>6542645</td><td>J.D. Robb</td><td>162</td><td>4.25</td></tr><tr><td>A Death in the Family</td><td>death-and-dying</td><td>113091</td><td>James Agee</td><td>10</td><td>3.92</td></tr><tr><td>A Death in the Family</td><td>death</td><td>113091</td><td>James Agee</td><td>22</td><td>3.92</td></tr><tr><td>Wit</td><td>death</td><td>171201</td><td>Margaret Edson</td><td>14</td><td>4.2</td></tr><tr><td>Incendiary</td><td>death</td><td>701738</td><td>Chris Cleave</td><td>5</td><td>3.59</td></tr><tr><td>Incendiary</td><td>grief</td><td>701738</td><td>Chris Cleave</td><td>11</td><td>3.59</td></tr><tr><td>Kindred in Death (In Death, #29)</td><td>series-in-death</td><td>5943970</td><td>J.D. Robb</td><td>14</td><td>4.31</td></tr><tr><td>Kindred in Death (In Death, #29)</td><td>in-death</td><td>5943970</td><td>J.D. Robb</td><td>158</td><td>4.31</td></tr><tr><td>Kindred in Death (In Death, #29)</td><td>in-death-series</td><td>5943970</td><td>J.D. Robb</td><td>161</td><td>4.31</td></tr><tr><td>Belzhar</td><td>grief</td><td>20821376</td><td>Meg Wolitzer</td><td>27</td><td>3.46</td></tr><tr><td>Perfect</td><td>grief</td><td>97408</td><td>Natasha Friend</td><td>5</td><td>3.77</td></tr><tr><td>Perfect</td><td>death</td><td>97408</td><td>Natasha Friend</td><td>12</td><td>3.77</td></tr><tr><td>Salvation in Death (In Death, #27)</td><td>death</td><td>2494204</td><td>J.D. Robb</td><td>11</td><td>4.26</td></tr><tr><td>Salvation in Death (In Death, #27)</td><td>in-death</td><td>2494204</td><td>J.D. Robb</td><td>96</td><td>4.26</td></tr><tr><td>Salvation in Death (In Death, #27)</td><td>in-death-series</td><td>2494204</td><td>J.D. Robb</td><td>162</td><td>4.26</td></tr></table>"
                    },
                    "metadata": {}
                }
            ],
            "execution_count": 2
        },
        {
            "cell_type": "code",
            "source": [
                "select distinct tag_name\r\n",
                "from BooksDB.dbo.tags\r\n",
                "where tag_name like '%grief%'\r\n",
                " or tag_name like '%death%'\r\n",
                " or tag_name like '%loss%'\r\n",
                "\r\n",
                ""
            ],
            "metadata": {
                "azdata_cell_guid": "5606f7f2-c46b-42d3-ac64-7ae21c3394f8",
                "language": "sql"
            },
            "outputs": [
                {
                    "output_type": "display_data",
                    "data": {
                        "text/html": "(51 rows affected)"
                    },
                    "metadata": {}
                },
                {
                    "output_type": "display_data",
                    "data": {
                        "text/html": "Total execution time: 00:00:00.175"
                    },
                    "metadata": {}
                },
                {
                    "output_type": "execute_result",
                    "execution_count": 9,
                    "data": {
                        "application/vnd.dataresource+json": {
                            "schema": {
                                "fields": [
                                    {
                                        "name": "tag_name"
                                    }
                                ]
                            },
                            "data": [
                                {
                                    "0": "australian-fiction-memory-loss"
                                },
                                {
                                    "0": "baatan-death-march"
                                },
                                {
                                    "0": "black-death"
                                },
                                {
                                    "0": "blossom-street"
                                },
                                {
                                    "0": "blossom-street-series"
                                },
                                {
                                    "0": "coping-with-loss"
                                },
                                {
                                    "0": "daughter-s-death"
                                },
                                {
                                    "0": "dealing-with-death"
                                },
                                {
                                    "0": "dealing-with-grief-and-loss"
                                },
                                {
                                    "0": "death"
                                },
                                {
                                    "0": "death-and-dying"
                                },
                                {
                                    "0": "death-dying"
                                },
                                {
                                    "0": "death-dying-grief"
                                },
                                {
                                    "0": "deathgate"
                                },
                                {
                                    "0": "death-gate"
                                },
                                {
                                    "0": "death-gate-cycle"
                                },
                                {
                                    "0": "deathgate-cycle"
                                },
                                {
                                    "0": "death-gods"
                                },
                                {
                                    "0": "death-grief"
                                },
                                {
                                    "0": "death-in-the-family"
                                },
                                {
                                    "0": "deathnote"
                                },
                                {
                                    "0": "death-note"
                                },
                                {
                                    "0": "death-of-a-parent"
                                },
                                {
                                    "0": "death-of-mother"
                                },
                                {
                                    "0": "death-penalty"
                                },
                                {
                                    "0": "debbie-macomber-blossom-street"
                                },
                                {
                                    "0": "decline-and-death-of-parents"
                                },
                                {
                                    "0": "discworld-death"
                                },
                                {
                                    "0": "grief"
                                },
                                {
                                    "0": "grief-and-loss"
                                },
                                {
                                    "0": "grief-books"
                                },
                                {
                                    "0": "grief-loss"
                                },
                                {
                                    "0": "in-death"
                                },
                                {
                                    "0": "in-death-series"
                                },
                                {
                                    "0": "j-d-robb-in-death-series"
                                },
                                {
                                    "0": "life-after-death"
                                },
                                {
                                    "0": "loss"
                                },
                                {
                                    "0": "loss-and-recovery"
                                },
                                {
                                    "0": "lots-of-death"
                                },
                                {
                                    "0": "love-you-to-death"
                                },
                                {
                                    "0": "meaning-of-life-and-death"
                                },
                                {
                                    "0": "memory-loss"
                                },
                                {
                                    "0": "near-death"
                                },
                                {
                                    "0": "near-death-experience"
                                },
                                {
                                    "0": "near-death-experiences"
                                },
                                {
                                    "0": "series-in-death"
                                },
                                {
                                    "0": "the-death-gate-cycle"
                                },
                                {
                                    "0": "the-deathless-man"
                                },
                                {
                                    "0": "tragic-loss-of-a-child"
                                },
                                {
                                    "0": "weight-loss"
                                },
                                {
                                    "0": "world-fantasy-loss"
                                }
                            ]
                        },
                        "text/html": "<table><tr><th>tag_name</th></tr><tr><td>australian-fiction-memory-loss</td></tr><tr><td>baatan-death-march</td></tr><tr><td>black-death</td></tr><tr><td>blossom-street</td></tr><tr><td>blossom-street-series</td></tr><tr><td>coping-with-loss</td></tr><tr><td>daughter-s-death</td></tr><tr><td>dealing-with-death</td></tr><tr><td>dealing-with-grief-and-loss</td></tr><tr><td>death</td></tr><tr><td>death-and-dying</td></tr><tr><td>death-dying</td></tr><tr><td>death-dying-grief</td></tr><tr><td>deathgate</td></tr><tr><td>death-gate</td></tr><tr><td>death-gate-cycle</td></tr><tr><td>deathgate-cycle</td></tr><tr><td>death-gods</td></tr><tr><td>death-grief</td></tr><tr><td>death-in-the-family</td></tr><tr><td>deathnote</td></tr><tr><td>death-note</td></tr><tr><td>death-of-a-parent</td></tr><tr><td>death-of-mother</td></tr><tr><td>death-penalty</td></tr><tr><td>debbie-macomber-blossom-street</td></tr><tr><td>decline-and-death-of-parents</td></tr><tr><td>discworld-death</td></tr><tr><td>grief</td></tr><tr><td>grief-and-loss</td></tr><tr><td>grief-books</td></tr><tr><td>grief-loss</td></tr><tr><td>in-death</td></tr><tr><td>in-death-series</td></tr><tr><td>j-d-robb-in-death-series</td></tr><tr><td>life-after-death</td></tr><tr><td>loss</td></tr><tr><td>loss-and-recovery</td></tr><tr><td>lots-of-death</td></tr><tr><td>love-you-to-death</td></tr><tr><td>meaning-of-life-and-death</td></tr><tr><td>memory-loss</td></tr><tr><td>near-death</td></tr><tr><td>near-death-experience</td></tr><tr><td>near-death-experiences</td></tr><tr><td>series-in-death</td></tr><tr><td>the-death-gate-cycle</td></tr><tr><td>the-deathless-man</td></tr><tr><td>tragic-loss-of-a-child</td></tr><tr><td>weight-loss</td></tr><tr><td>world-fantasy-loss</td></tr></table>"
                    },
                    "metadata": {}
                }
            ],
            "execution_count": 9
        },
        {
            "cell_type": "markdown",
            "source": [
                "### **Summary of event 1:**\n",
                "\n",
                "Double Click to edit."
            ],
            "metadata": {
                "azdata_cell_guid": "3bc72d4c-077b-42d3-9528-9aff8e7b6cf3"
            },
            "attachments": {}
        },
        {
            "cell_type": "code",
            "source": [
                "-- Event 2 Query\r\n",
                "select b.title, t.tag_name, b.book_id, b.authors, bt.count, b.average_rating\r\n",
                "from BooksDB.dbo.books as b\r\n",
                "inner join BooksDB.dbo.book_tags as bt \r\n",
                "on b.book_id = bt.goodreads_book_id\r\n",
                "inner join BooksDB.dbo.tags as t \r\n",
                "on bt.tag_id = t.tag_id\r\n",
                "where t.tag_name like '%veteran%'\r\n",
                "or t.tag_name like '%war history%'\r\n",
                ""
            ],
            "metadata": {
                "azdata_cell_guid": "dca0a98f-065f-4b0e-9d93-fcb01cad668c",
                "language": "sql",
                "tags": []
            },
            "outputs": [
                {
                    "output_type": "display_data",
                    "data": {
                        "text/html": "(10 rows affected)"
                    },
                    "metadata": {}
                },
                {
                    "output_type": "display_data",
                    "data": {
                        "text/html": "Total execution time: 00:00:00.404"
                    },
                    "metadata": {}
                },
                {
                    "output_type": "execute_result",
                    "execution_count": 1,
                    "data": {
                        "application/vnd.dataresource+json": {
                            "schema": {
                                "fields": [
                                    {
                                        "name": "title"
                                    },
                                    {
                                        "name": "tag_name"
                                    },
                                    {
                                        "name": "book_id"
                                    },
                                    {
                                        "name": "authors"
                                    },
                                    {
                                        "name": "count"
                                    },
                                    {
                                        "name": "average_rating"
                                    }
                                ]
                            },
                            "data": [
                                {
                                    "0": "Tripwire  (Jack Reacher, #3)",
                                    "1": "veterans",
                                    "2": "220970",
                                    "3": "Lee Child",
                                    "4": "20",
                                    "5": "4.07"
                                },
                                {
                                    "0": "Running Blind (Jack Reacher, #4)",
                                    "1": "veterans",
                                    "2": "455925",
                                    "3": "Lee Child",
                                    "4": "18",
                                    "5": "4.08"
                                },
                                {
                                    "0": "With the Old Breed: At Peleliu and Okinawa",
                                    "1": "veterans",
                                    "2": "771332",
                                    "3": "Eugene B. Sledge, Paul Fussell",
                                    "4": "6",
                                    "5": "4.4"
                                },
                                {
                                    "0": "The Impossible Knife of Memory",
                                    "1": "veterans",
                                    "2": "18079527",
                                    "3": "Laurie Halse Anderson",
                                    "4": "13",
                                    "5": "3.93"
                                },
                                {
                                    "0": "V.",
                                    "1": "veterans",
                                    "2": "5809",
                                    "3": "Thomas Pynchon",
                                    "4": "6",
                                    "5": "3.97"
                                },
                                {
                                    "0": "Heat Lightning (Virgil Flowers, #2)",
                                    "1": "veterans",
                                    "2": "3080212",
                                    "3": "John Sandford",
                                    "4": "4",
                                    "5": "4.16"
                                },
                                {
                                    "0": "The Honk and Holler Opening Soon",
                                    "1": "veteran",
                                    "2": "48183",
                                    "3": "Billie Letts",
                                    "4": "2",
                                    "5": "3.93"
                                },
                                {
                                    "0": "Don't Go",
                                    "1": "afghanistan-veteran",
                                    "2": "15793165",
                                    "3": "Lisa Scottoline",
                                    "4": "11",
                                    "5": "3.72"
                                },
                                {
                                    "0": "Helmet for My Pillow",
                                    "1": "veterans",
                                    "2": "1207980",
                                    "3": "Robert Leckie",
                                    "4": "16",
                                    "5": "4.13"
                                },
                                {
                                    "0": "The Honk and Holler Opening Soon",
                                    "1": "veterans",
                                    "2": "48183",
                                    "3": "Billie Letts",
                                    "4": "3",
                                    "5": "3.93"
                                }
                            ]
                        },
                        "text/html": "<table><tr><th>title</th><th>tag_name</th><th>book_id</th><th>authors</th><th>count</th><th>average_rating</th></tr><tr><td>Tripwire  (Jack Reacher, #3)</td><td>veterans</td><td>220970</td><td>Lee Child</td><td>20</td><td>4.07</td></tr><tr><td>Running Blind (Jack Reacher, #4)</td><td>veterans</td><td>455925</td><td>Lee Child</td><td>18</td><td>4.08</td></tr><tr><td>With the Old Breed: At Peleliu and Okinawa</td><td>veterans</td><td>771332</td><td>Eugene B. Sledge, Paul Fussell</td><td>6</td><td>4.4</td></tr><tr><td>The Impossible Knife of Memory</td><td>veterans</td><td>18079527</td><td>Laurie Halse Anderson</td><td>13</td><td>3.93</td></tr><tr><td>V.</td><td>veterans</td><td>5809</td><td>Thomas Pynchon</td><td>6</td><td>3.97</td></tr><tr><td>Heat Lightning (Virgil Flowers, #2)</td><td>veterans</td><td>3080212</td><td>John Sandford</td><td>4</td><td>4.16</td></tr><tr><td>The Honk and Holler Opening Soon</td><td>veteran</td><td>48183</td><td>Billie Letts</td><td>2</td><td>3.93</td></tr><tr><td>Don't Go</td><td>afghanistan-veteran</td><td>15793165</td><td>Lisa Scottoline</td><td>11</td><td>3.72</td></tr><tr><td>Helmet for My Pillow</td><td>veterans</td><td>1207980</td><td>Robert Leckie</td><td>16</td><td>4.13</td></tr><tr><td>The Honk and Holler Opening Soon</td><td>veterans</td><td>48183</td><td>Billie Letts</td><td>3</td><td>3.93</td></tr></table>"
                    },
                    "metadata": {}
                }
            ],
            "execution_count": 1
        },
        {
            "cell_type": "code",
            "source": [
                "select tag_name \r\n",
                "from tags \r\n",
                "where tag_name like '%Veteran%'"
            ],
            "metadata": {
                "azdata_cell_guid": "3aaae3a8-eff7-4b37-8970-2d913a67239b",
                "language": "sql"
            },
            "outputs": [
                {
                    "output_type": "display_data",
                    "data": {
                        "text/html": "(3 rows affected)"
                    },
                    "metadata": {}
                },
                {
                    "output_type": "display_data",
                    "data": {
                        "text/html": "Total execution time: 00:00:00.094"
                    },
                    "metadata": {}
                },
                {
                    "output_type": "execute_result",
                    "execution_count": 6,
                    "data": {
                        "application/vnd.dataresource+json": {
                            "schema": {
                                "fields": [
                                    {
                                        "name": "tag_name"
                                    }
                                ]
                            },
                            "data": [
                                {
                                    "0": "afghanistan-veteran"
                                },
                                {
                                    "0": "veteran"
                                },
                                {
                                    "0": "veterans"
                                }
                            ]
                        },
                        "text/html": "<table><tr><th>tag_name</th></tr><tr><td>afghanistan-veteran</td></tr><tr><td>veteran</td></tr><tr><td>veterans</td></tr></table>"
                    },
                    "metadata": {}
                }
            ],
            "execution_count": 6
        },
        {
            "cell_type": "markdown",
            "source": [
                "### **Summary of event 2:**\n",
                "\n",
                "Double Click to edit."
            ],
            "metadata": {
                "azdata_cell_guid": "99d518dc-cd8b-42d6-9a9d-708771c9aa99"
            },
            "attachments": {}
        }
    ]
}